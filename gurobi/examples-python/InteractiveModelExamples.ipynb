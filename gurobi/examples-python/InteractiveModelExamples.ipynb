{
 "cells": [
  {
   "cell_type": "markdown",
   "metadata": {},
   "source": [
    "## Interactive Model Examples\n",
    "Source: http://www.gurobi.com/resources/examples/mining\n",
    "\n",
    "\n",
    "Below is a range of interactive example models covering different types of commonly faced business problems.\n",
    "\n",
    "While the context of your problem may not be listed below, odds are your underlying problem is listed. For example, you may not be optimizing work done in an open-pit mine. However, perhaps your problem involves the underlying problem being represented — choosing from among a range of projects.\n",
    "\n",
    "Each example includes an overview of the problem, the resulting mathematical model, an implementation of that model in python, and a live demo of that implementation that you can interact with.\n",
    "\n",
    "\n",
    "\n",
    "## 交互式模型  \n",
    "  Model Name |\tModel Description\n",
    "  -----------|-----------------\n",
    "  Open-Pit Mining\t| This example shows how Gurobi can be used to select the order of blocks removed from an open-pit mine. This example includes the more general problem of project selection that can be applied to a broad range of industries. http://examples.gurobi.com/open-pit-mining/\n",
    "  Offshore Wind Farming\t| This example shows how Gurobi can be used to connect offshore wind turbines. This example includes the more general fixed charge network flow model that is used in a broad range of industries.\n",
    "  The Traveling Salesman Problem\t| This example shows how Gurobi can be used to solve the famous traveling salesman: finding the shortest tour of a set of cities. The Traveling Salesman Problem has applications in other industries such as vehicle routing, circuit design and DNA sequencing.\n",
    "  Cell Tower Coverage\t| This example shows how Gurobi can be used to determine the best place to build cell towers to provide signal to largest number of people. This example includes the more general covering problem, which is used in a broad number of models outside the telecommunication industry.\n",
    "  Facility Location\t| This example shows how Gurobi can be used to determine where to build warehouse to supply a large number of supermarkets. Facility location is used in a broad range of industries.\n",
    "  Production Scheduling\t| This examples shows how Gurobi can be used to schedule the production of a pulp and paper factory with many different products. This examples also covers piecewise-linear objectives, which appear in many different optimization models.\n",
    "  Kidney Exchange\t| This example shows how Gurobi can be used to match donors with transplant patients in a kidney exchange."
   ]
  },
  {
   "cell_type": "markdown",
   "metadata": {},
   "source": [
    "## Problem Description\n",
    "\n",
    "TOOD"
   ]
  },
  {
   "cell_type": "markdown",
   "metadata": {},
   "source": [
    "### Step 1: Import the Gurobi Python Modue and initalize the datastructures."
   ]
  },
  {
   "cell_type": "code",
   "execution_count": 1,
   "metadata": {
    "collapsed": false
   },
   "outputs": [],
   "source": [
    "from gurobipy import *\n",
    "\n",
    "# tested with\n",
    "#  Python 2.7.13 :: Anaconda 4.3.1 (x86_64) Gurobi 7.0.2\n",
    "#  Python 3.5.2 & Gurobi 7.0.1\n",
    "\n",
    "\n",
    "crude_numbers = range(1,2+1)\n",
    "petrols = [\"Premium_fuel\", \"Regular_fuel\"]\n",
    "end_product_names = [\"Premium_fuel\", \"Regular_fuel\", \"Jet_fuel\", \"Fuel_oil\", \"Lube_oil\"]\n",
    "distillation_products_names = [\"Light_naphtha\", \"Medium_naphtha\", \"Heavy_naphtha\",\n",
    "                               \"Light_oil\", \"Heavy_oil\", \"Residuum\"]\n",
    "naphthas = [\"Light_naphtha\", \"Medium_naphtha\", \"Heavy_naphtha\"]\n",
    "intermediate_oils = [\"Light_oil\", \"Heavy_oil\"]\n",
    "cracking_products_names = [\"Cracked_gasoline\", \"Cracked_oil\"]\n",
    "used_for_motor_fuel_names = [\"Light_naphtha\", \"Medium_naphtha\", \"Heavy_naphtha\",\n",
    "                             \"Reformed_gasoline\", \"Cracked_gasoline\"]\n",
    "used_for_jet_fuel_names = [\"Light_oil\", \"Heavy_oil\", \"Residuum\", \"Cracked_oil\"]\n",
    "\n",
    "crude_bounds = {1:20000, 2:30000}\n",
    "lb_lube_oil = 500\n",
    "ub_lube_oil = 1000\n",
    "\n",
    "max_crude = 45000\n",
    "max_reform = 10000\n",
    "max_cracking = 8000\n",
    "\n",
    "distillation_splitting_coefficients = {\"Light_naphtha\": (0.1, 0.15),\n",
    "                          \"Medium_naphtha\": (0.2, 0.25),\n",
    "                         \"Heavy_naphtha\": (0.2, 0.18),\n",
    "                         \"Light_oil\": (0.12, 0.08),\n",
    "                         \"Heavy_oil\": (0.2, 0.19),\n",
    "                         \"Residuum\": (0.13, 0.12)}\n",
    "\n",
    "cracking_splitting_coefficients = {(\"Light_oil\",\"Cracked_oil\"): 0.68,\n",
    "                                   (\"Heavy_oil\",\"Cracked_oil\"): 0.75,\n",
    "                                   (\"Light_oil\",\"Cracked_gasoline\"): 0.28,\n",
    "                                   (\"Heavy_oil\",\"Cracked_gasoline\"): 0.2}\n",
    "\n",
    "reforming_splitting_coefficients = {\"Light_naphtha\": 0.6, \"Medium_naphtha\":0.52, \"Heavy_naphtha\":0.45}\n",
    "end_product_profit = {\"Premium_fuel\":7, \"Regular_fuel\":6, \"Jet_fuel\":4, \"Fuel_oil\":3.5, \"Lube_oil\":1.5}\n",
    "blending_coefficients = {\"Light_oil\": 0.55, \"Heavy_oil\": 0.17, \"Cracked_oil\": 0.22, \"Residuum\": 0.055}\n",
    "\n",
    "lube_oil_factor = 0.5\n",
    "pmf_rmf_ratio = 0.4\n",
    "\n",
    "octance_number_coefficients = {\n",
    "    \"Light_naphtha\":90,\n",
    "    \"Medium_naphtha\":80,\n",
    "    \"Heavy_naphtha\":70,\n",
    "    \"Reformed_gasoline\":115,\n",
    "    \"Cracked_gasoline\":105,\n",
    "}\n",
    "octance_number_fuel = {\"Premium_fuel\": 94,\"Regular_fuel\": 84}\n",
    "\n",
    "vapor_pressure_constants = [0.6, 1.5, 0.05]"
   ]
  },
  {
   "cell_type": "markdown",
   "metadata": {},
   "source": [
    "\n",
    "### Step 2: Create a model and the variables"
   ]
  },
  {
   "cell_type": "code",
   "execution_count": 2,
   "metadata": {
    "collapsed": false
   },
   "outputs": [],
   "source": [
    "model = Model('Refinery_Optimization')\n",
    "\n",
    "# Variables\n",
    "crudes = model.addVars(crude_numbers, ub=crude_bounds, name=\"cr\")    \n",
    "end_products = model.addVars(end_product_names, name=\"end_prod\")\n",
    "end_products[\"Lube_oil\"].lb= lb_lube_oil\n",
    "end_products[\"Lube_oil\"].ub= ub_lube_oil\n",
    "distillation_products = model.addVars(distillation_products_names, name=\"dist_prod\")\n",
    "reform_usage = model.addVars(naphthas, name=\"napthas_to_reformed_gasoline\")\n",
    "reformed_gasoline = model.addVar(name=\"reformed_gasoline\")\n",
    "cracking_usage = model.addVars(intermediate_oils,name=\"intermediate_oils_to_cracked_gasoline\")\n",
    "cracking_products = model.addVars(cracking_products_names,  name=\"cracking_prods\")\n",
    "used_for_regular_motor_fuel = model.addVars(used_for_motor_fuel_names, name=\"motor_fuel_to_regular_motor_fuel\")\n",
    "used_for_premium_motor_fuel = model.addVars(used_for_motor_fuel_names, name=\"motot_fuel_to_premium_motor_fuel\")\n",
    "used_for_jet_fuel = model.addVars(used_for_jet_fuel_names, name=\"jet_fuel\")\n",
    "used_for_lube_oil = model.addVar(vtype=GRB.CONTINUOUS,name=\"residuum_used_for_lube_oil\")"
   ]
  },
  {
   "cell_type": "markdown",
   "metadata": {},
   "source": [
    "### Step 3: Add constraints"
   ]
  },
  {
   "cell_type": "code",
   "execution_count": 3,
   "metadata": {
    "collapsed": false
   },
   "outputs": [
    {
     "data": {
      "text/plain": [
       "<gurobi.Constr *Awaiting Model Update*>"
      ]
     },
     "execution_count": 3,
     "metadata": {},
     "output_type": "execute_result"
    }
   ],
   "source": [
    "\n",
    "# Constraints\n",
    "\n",
    "# Max Crude\n",
    "model.addConstr(crudes.sum() <= max_crude, \"max_crude\")\n",
    "\n",
    "# Reforming Capacity\n",
    "model.addConstr(reform_usage.sum() <= max_reform, \"max_reform\")\n",
    "model.addConstr(cracking_usage.sum() <= max_cracking, \"max_cracking\")\n",
    "\n",
    "\n",
    "# Splitting\n",
    "model.addConstrs((quicksum(distillation_splitting_coefficients[dpn][crude-1]*crudes[crude] for crude in crudes) ==\n",
    "                    distillation_products[dpn] for dpn in distillation_products_names),\n",
    "                    \"splitting_distillation\")\n",
    "\n",
    "# Reforming\n",
    "model.addConstr(reform_usage.prod(reforming_splitting_coefficients) == reformed_gasoline,\n",
    "                    \"splitting_reforming\")\n",
    "\n",
    "# Cracking\n",
    "model.addConstrs((quicksum(cracking_splitting_coefficients[oil, crack_prod]*cracking_usage[oil] for oil in intermediate_oils) ==\n",
    "                    cracking_products[crack_prod] for crack_prod in cracking_products_names),\n",
    "                    name=\"splitting_cracking\")\n",
    "\n",
    "# Continuity\n",
    "model.addConstrs((reform_usage[naphtha] +\n",
    "                    used_for_regular_motor_fuel[naphtha] +\n",
    "                    used_for_premium_motor_fuel[naphtha] ==\n",
    "                    distillation_products[naphtha] for naphtha in naphthas), \"continuity\")\n",
    "\n",
    "\n",
    "model.addConstr(used_for_regular_motor_fuel[\"Cracked_gasoline\"] +\n",
    "                used_for_premium_motor_fuel[\"Cracked_gasoline\"] ==\n",
    "                cracking_products[\"Cracked_gasoline\"], \"continuity_cracked_gasoline\")\n",
    "\n",
    "model.addConstr(used_for_regular_motor_fuel[\"Reformed_gasoline\"] +\n",
    "                used_for_premium_motor_fuel[\"Reformed_gasoline\"] ==\n",
    "                reformed_gasoline, \"continuity_reformed_gasoline\")\n",
    "\n",
    "model.addConstr(used_for_premium_motor_fuel.sum() == end_products[\"Premium_fuel\"], \"continuity_premium_fuel\")\n",
    "\n",
    "model.addConstr(used_for_regular_motor_fuel.sum() == end_products[\"Regular_fuel\"], \"continuity_regular_fuel\")\n",
    "\n",
    "model.addConstr(used_for_jet_fuel.sum() == end_products[\"Jet_fuel\"], \"continuity_jet_fuel\")\n",
    "\n",
    "# Blending\n",
    "\n",
    "model.addConstr(cracking_usage[\"Light_oil\"]+\n",
    "                used_for_jet_fuel[\"Light_oil\"]+\n",
    "                blending_coefficients[\"Light_oil\"]*end_products[\"Fuel_oil\"] ==\n",
    "                distillation_products[\"Light_oil\"], \"fixed_proportion_light_oil_for_blending\")\n",
    "\n",
    "model.addConstr(cracking_usage[\"Heavy_oil\"]+\n",
    "                used_for_jet_fuel[\"Heavy_oil\"]+\n",
    "                blending_coefficients[\"Heavy_oil\"]*end_products[\"Fuel_oil\"] ==\n",
    "                distillation_products[\"Heavy_oil\"], \"fixed_proportion_heavy_oil_for_blending\")\n",
    "\n",
    "model.addConstr(used_for_jet_fuel[\"Cracked_oil\"]+\n",
    "                blending_coefficients[\"Cracked_oil\"]*end_products[\"Fuel_oil\"] ==\n",
    "                cracking_products[\"Cracked_oil\"], \"fixed_proportion_cracked_oil_for_blending\")\n",
    "\n",
    "model.addConstr(used_for_lube_oil +\n",
    "                used_for_jet_fuel[\"Residuum\"]+\n",
    "                blending_coefficients[\"Residuum\"]*end_products[\"Fuel_oil\"] ==\n",
    "                distillation_products[\"Residuum\"], \"fixed_proportion_residuum_for_blending\")\n",
    "\n",
    "\n",
    "\n",
    "#  lube-oil is 0.5 of residuum used\n",
    "model.addConstr(lube_oil_factor*used_for_lube_oil == end_products[\"Lube_oil\"],\"lube-oil_is_0.5_of_residuum_used\")\n",
    "\n",
    "# pmf/rmf must be 40%\n",
    "model.addConstr(end_products[\"Premium_fuel\"] >= pmf_rmf_ratio*end_products[\"Regular_fuel\"], \"pmf/rmf_must_be_40%\")\n",
    "\n",
    "\n",
    "# octane numbers\n",
    "model.addConstr(used_for_regular_motor_fuel.prod(octance_number_coefficients) >=\n",
    "                octance_number_fuel[\"Regular_fuel\"] * end_products[\"Regular_fuel\"],\n",
    "                \"Octane_number_regular_fuel\")\n",
    "\n",
    "model.addConstr(used_for_premium_motor_fuel.prod(octance_number_coefficients) >=\n",
    "                octance_number_fuel[\"Premium_fuel\"] * end_products[\"Premium_fuel\"],\n",
    "                \"Octane_number_premium_fuel\")\n",
    "\n",
    "# Vapour pressure\n",
    "model.addConstr(used_for_jet_fuel[\"Light_oil\"] + \n",
    "                vapor_pressure_constants[0]*used_for_jet_fuel[\"Heavy_oil\"] + \n",
    "                vapor_pressure_constants[1]*used_for_jet_fuel[\"Cracked_oil\"] + \n",
    "                vapor_pressure_constants[2]*used_for_jet_fuel[\"Residuum\"] <= end_products[\"Jet_fuel\"],\"vapour_pressure\")\n"
   ]
  },
  {
   "cell_type": "markdown",
   "metadata": {},
   "source": [
    "### Step 4: Set objective function"
   ]
  },
  {
   "cell_type": "code",
   "execution_count": 4,
   "metadata": {
    "collapsed": false
   },
   "outputs": [],
   "source": [
    "# Profit\n",
    "model.setObjective(end_products.prod(end_product_profit), GRB.MAXIMIZE)"
   ]
  },
  {
   "cell_type": "markdown",
   "metadata": {},
   "source": [
    "### Step 6: Solve model and Print result"
   ]
  },
  {
   "cell_type": "code",
   "execution_count": 5,
   "metadata": {
    "collapsed": false,
    "scrolled": true
   },
   "outputs": [
    {
     "name": "stdout",
     "output_type": "stream",
     "text": [
      "Optimize a model with 29 rows, 36 columns and 106 nonzeros\n",
      "Coefficient statistics:\n",
      "  Matrix range     [5e-02, 1e+02]\n",
      "  Objective range  [2e+00, 7e+00]\n",
      "  Bounds range     [5e+02, 3e+04]\n",
      "  RHS range        [8e+03, 4e+04]\n",
      "Presolve removed 13 rows and 14 columns\n",
      "Presolve time: 0.02s\n",
      "Presolved: 16 rows, 22 columns, 72 nonzeros\n",
      "\n",
      "Iteration    Objective       Primal Inf.    Dual Inf.      Time\n",
      "       0    7.5812816e+05   2.301700e+05   0.000000e+00      0s\n",
      "      15    2.1136513e+05   0.000000e+00   0.000000e+00      0s\n",
      "\n",
      "Solved in 15 iterations and 0.03 seconds\n",
      "Optimal objective  2.113651348e+05\n",
      "cr[1] 15000.000000\n",
      "cr[2] 30000.000000\n",
      "end_prod[Premium_fuel] 6817.778853\n",
      "end_prod[Regular_fuel] 17044.447133\n",
      "end_prod[Jet_fuel] 15156.000000\n",
      "end_prod[Lube_oil] 500.000000\n",
      "dist_prod[Light_naphtha] 6000.000000\n",
      "dist_prod[Medium_naphtha] 10500.000000\n",
      "dist_prod[Heavy_naphtha] 8400.000000\n",
      "dist_prod[Light_oil] 4200.000000\n",
      "dist_prod[Heavy_oil] 8700.000000\n",
      "dist_prod[Residuum] 5550.000000\n",
      "napthas_to_reformed_gasoline[Heavy_naphtha] 5406.861844\n",
      "reformed_gasoline 2433.087830\n",
      "intermediate_oils_to_cracked_gasoline[Light_oil] 4200.000000\n",
      "intermediate_oils_to_cracked_gasoline[Heavy_oil] 3800.000000\n",
      "cracking_prods[Cracked_gasoline] 1936.000000\n",
      "cracking_prods[Cracked_oil] 5706.000000\n",
      "motor_fuel_to_regular_motor_fuel[Light_naphtha] 6000.000000\n",
      "motor_fuel_to_regular_motor_fuel[Medium_naphtha] 10500.000000\n",
      "motor_fuel_to_regular_motor_fuel[Heavy_naphtha] 241.730247\n",
      "motor_fuel_to_regular_motor_fuel[Reformed_gasoline] 302.716886\n",
      "motot_fuel_to_premium_motor_fuel[Heavy_naphtha] 2751.407909\n",
      "motot_fuel_to_premium_motor_fuel[Reformed_gasoline] 2130.370944\n",
      "motot_fuel_to_premium_motor_fuel[Cracked_gasoline] 1936.000000\n",
      "jet_fuel[Heavy_oil] 4900.000000\n",
      "jet_fuel[Residuum] 4550.000000\n",
      "jet_fuel[Cracked_oil] 5706.000000\n",
      "residuum_used_for_lube_oil 1000.000000\n"
     ]
    }
   ],
   "source": [
    "model.optimize()\n",
    "for v in model.getVars():\n",
    "    if v.X != 0:\n",
    "        print(\"%s %f\" % (v.Varname, v.X))"
   ]
  },
  {
   "cell_type": "markdown",
   "metadata": {},
   "source": [
    "## Optimal result\n",
    "\n",
    "Optimal objective  2.113651348e+05"
   ]
  }
 ],
 "metadata": {
  "anaconda-cloud": {},
  "kernelspec": {
   "display_name": "Python 2",
   "language": "python",
   "name": "python2"
  },
  "language_info": {
   "codemirror_mode": {
    "name": "ipython",
    "version": 2
   },
   "file_extension": ".py",
   "mimetype": "text/x-python",
   "name": "python",
   "nbconvert_exporter": "python",
   "pygments_lexer": "ipython2",
   "version": "2.7.13"
  }
 },
 "nbformat": 4,
 "nbformat_minor": 0
}
