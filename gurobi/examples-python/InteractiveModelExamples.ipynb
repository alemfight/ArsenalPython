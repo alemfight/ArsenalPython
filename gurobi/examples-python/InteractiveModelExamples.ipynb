{
 "cells": [
  {
   "cell_type": "markdown",
   "metadata": {},
   "source": [
    "## Interactive Model Examples\n",
    "Source: http://www.gurobi.com/resources/examples/example-models-overview -> Interactive Model Examples\n",
    "\n",
    "\n",
    "Below is a range of interactive example models covering different types of commonly faced business problems.\n",
    "\n",
    "While the context of your problem may not be listed below, odds are your underlying problem is listed. For example, you may not be optimizing work done in an open-pit mine. However, perhaps your problem involves the underlying problem being represented — choosing from among a range of projects.\n",
    "\n",
    "Each example includes an overview of the problem, the resulting mathematical model, an implementation of that model in python, and a live demo of that implementation that you can interact with.\n",
    "\n",
    "\n",
    "\n",
    "## 交互式模型  \n",
    "  Model Name |\tModel Description\n",
    "  -----------|-----------------\n",
    "  Open-Pit Mining\t| 一个 more general problem known as project selection.（一个项目选择问题，项目之间存在依赖关系）  This example shows how Gurobi can be used to select the order of blocks removed from an open-pit mine. This example includes the more general problem of project selection that can be applied to a broad range of industries. http://examples.gurobi.com/open-pit-mining/ <br> 4层28个块。 As an example we consider a mine where 28 blocks on 4 levels have been identified. 不同颜色代表不同浓度的矿产 The colors of the blocks correspond to different concentrations(浓度） of ore (and hence different values of the blocks) and extraction costs increase with depth. <br> 你可以点击改变矿的浓度 You can change the ore concentration of each block by clicking them. You can click the buttons on the top to change the type of concentration you want to add. Click the Mine away! button to compute the optimal block removing order using Gurobi. To restart, click on any block.\n",
    "  Offshore Wind Farming\t| This example shows how Gurobi can be used to connect offshore wind turbines. This example includes the more general fixed charge network flow model that is used in a broad range of industries.\n",
    "  The Traveling Salesman Problem\t| This example shows how Gurobi can be used to solve the famous traveling salesman: finding the shortest tour of a set of cities. The Traveling Salesman Problem has applications in other industries such as vehicle routing, circuit design and DNA sequencing.\n",
    "  Cell Tower Coverage\t| This example shows how Gurobi can be used to determine the best place to build cell towers to provide signal to largest number of people. This example includes the more general covering problem, which is used in a broad number of models outside the telecommunication industry.\n",
    "  Facility Location\t| This example shows how Gurobi can be used to determine where to build warehouse to supply a large number of supermarkets. Facility location is used in a broad range of industries.\n",
    "  Production Scheduling\t| This examples shows how Gurobi can be used to schedule the production of a pulp and paper factory with many different products. This examples also covers piecewise-linear objectives, which appear in many different optimization models.\n",
    "  Kidney Exchange\t| This example shows how Gurobi can be used to match donors with transplant patients in a kidney exchange."
   ]
  },
  {
   "cell_type": "markdown",
   "metadata": {},
   "source": [
    "## Problem Description\n",
    "\n",
    "TOOD"
   ]
  },
  {
   "cell_type": "markdown",
   "metadata": {},
   "source": [
    "### Step 1: Import the Gurobi Python Modue and initalize the datastructures."
   ]
  },
  {
   "cell_type": "markdown",
   "metadata": {},
   "source": [
    "\n",
    "### Step 2: Create a model and the variables"
   ]
  },
  {
   "cell_type": "markdown",
   "metadata": {},
   "source": [
    "### Step 3: Add constraints"
   ]
  },
  {
   "cell_type": "markdown",
   "metadata": {},
   "source": [
    "### Step 4: Set objective function"
   ]
  },
  {
   "cell_type": "markdown",
   "metadata": {},
   "source": [
    "### Step 5: Solve model and Print result"
   ]
  },
  {
   "cell_type": "markdown",
   "metadata": {},
   "source": [
    "## Optimal result\n",
    "\n",
    "Optimal objective  2.113651348e+05"
   ]
  }
 ],
 "metadata": {
  "anaconda-cloud": {},
  "kernelspec": {
   "display_name": "Python 2",
   "language": "python",
   "name": "python2"
  },
  "language_info": {
   "codemirror_mode": {
    "name": "ipython",
    "version": 2
   },
   "file_extension": ".py",
   "mimetype": "text/x-python",
   "name": "python",
   "nbconvert_exporter": "python",
   "pygments_lexer": "ipython2",
   "version": "2.7.13"
  }
 },
 "nbformat": 4,
 "nbformat_minor": 0
}
