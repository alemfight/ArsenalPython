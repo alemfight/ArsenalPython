{
 "cells": [
  {
   "cell_type": "markdown",
   "metadata": {},
   "source": [
    "# diet.py\n",
    "\n",
    "notebook 版本\n",
    "\n",
    "Solve the classic diet model, showing how to add constraints\n",
    "to an existing model."
   ]
  },
  {
   "cell_type": "markdown",
   "metadata": {},
   "source": [
    " Nutrition guidelines, based on\n",
    " USDA Dietary Guidelines for Americans, 2005\n",
    " http://www.health.gov/DietaryGuidelines/dga2005/\n"
   ]
  },
  {
   "cell_type": "markdown",
   "metadata": {},
   "source": [
    "### Step 1: Import functions from the gurobipy module"
   ]
  },
  {
   "cell_type": "code",
   "execution_count": 1,
   "metadata": {
    "collapsed": false
   },
   "outputs": [
    {
     "name": "stdout",
     "output_type": "stream",
     "text": [
      "['protein', 'calories', 'fat', 'sodium']\n",
      "{'protein': 91, 'calories': 1800, 'fat': 0, 'sodium': 0}\n",
      "{'protein': 1e+100, 'calories': 2200, 'fat': 65, 'sodium': 1779}\n"
     ]
    }
   ],
   "source": [
    "from gurobipy import *\n",
    "\n",
    "categories, minNutrition, maxNutrition = multidict({\n",
    "  'calories': [1800, 2200],\n",
    "  'protein':  [91, GRB.INFINITY],\n",
    "  'fat':      [0, 65],\n",
    "  'sodium':   [0, 1779] })\n",
    "print categories\n",
    "print minNutrition\n",
    "print maxNutrition"
   ]
  },
  {
   "cell_type": "code",
   "execution_count": 2,
   "metadata": {
    "collapsed": false
   },
   "outputs": [
    {
     "name": "stdout",
     "output_type": "stream",
     "text": [
      "['hamburger', 'salad', 'hot dog', 'fries', 'macaroni', 'chicken', 'milk', 'ice cream', 'pizza']\n",
      "{'hamburger': 2.49, 'salad': 2.49, 'hot dog': 1.5, 'fries': 1.89, 'macaroni': 2.09, 'chicken': 2.89, 'milk': 0.89, 'ice cream': 1.59, 'pizza': 1.99}\n"
     ]
    }
   ],
   "source": [
    "foods, cost = multidict({\n",
    "  'hamburger': 2.49,\n",
    "  'chicken':   2.89,\n",
    "  'hot dog':   1.50,\n",
    "  'fries':     1.89,\n",
    "  'macaroni':  2.09,\n",
    "  'pizza':     1.99,\n",
    "  'salad':     2.49,\n",
    "  'milk':      0.89,\n",
    "  'ice cream': 1.59 })\n",
    "print foods\n",
    "print cost"
   ]
  },
  {
   "cell_type": "code",
   "execution_count": 3,
   "metadata": {
    "collapsed": false
   },
   "outputs": [
    {
     "data": {
      "text/plain": [
       "{('chicken', 'calories'): 420,\n",
       " ('chicken', 'fat'): 10,\n",
       " ('chicken', 'protein'): 32,\n",
       " ('chicken', 'sodium'): 1190,\n",
       " ('fries', 'calories'): 380,\n",
       " ('fries', 'fat'): 19,\n",
       " ('fries', 'protein'): 4,\n",
       " ('fries', 'sodium'): 270,\n",
       " ('hamburger', 'calories'): 410,\n",
       " ('hamburger', 'fat'): 26,\n",
       " ('hamburger', 'protein'): 24,\n",
       " ('hamburger', 'sodium'): 730,\n",
       " ('hot dog', 'calories'): 560,\n",
       " ('hot dog', 'fat'): 32,\n",
       " ('hot dog', 'protein'): 20,\n",
       " ('hot dog', 'sodium'): 1800,\n",
       " ('ice cream', 'calories'): 330,\n",
       " ('ice cream', 'fat'): 10,\n",
       " ('ice cream', 'protein'): 8,\n",
       " ('ice cream', 'sodium'): 180,\n",
       " ('macaroni', 'calories'): 320,\n",
       " ('macaroni', 'fat'): 10,\n",
       " ('macaroni', 'protein'): 12,\n",
       " ('macaroni', 'sodium'): 930,\n",
       " ('milk', 'calories'): 100,\n",
       " ('milk', 'fat'): 2.5,\n",
       " ('milk', 'protein'): 8,\n",
       " ('milk', 'sodium'): 125,\n",
       " ('pizza', 'calories'): 320,\n",
       " ('pizza', 'fat'): 12,\n",
       " ('pizza', 'protein'): 15,\n",
       " ('pizza', 'sodium'): 820,\n",
       " ('salad', 'calories'): 320,\n",
       " ('salad', 'fat'): 12,\n",
       " ('salad', 'protein'): 31,\n",
       " ('salad', 'sodium'): 1230}"
      ]
     },
     "execution_count": 3,
     "metadata": {},
     "output_type": "execute_result"
    }
   ],
   "source": [
    "nutritionValues = {\n",
    "  ('hamburger', 'calories'): 410,\n",
    "  ('hamburger', 'protein'):  24,\n",
    "  ('hamburger', 'fat'):      26,\n",
    "  ('hamburger', 'sodium'):   730,\n",
    "  ('chicken',   'calories'): 420,\n",
    "  ('chicken',   'protein'):  32,\n",
    "  ('chicken',   'fat'):      10,\n",
    "  ('chicken',   'sodium'):   1190,\n",
    "  ('hot dog',   'calories'): 560,\n",
    "  ('hot dog',   'protein'):  20,\n",
    "  ('hot dog',   'fat'):      32,\n",
    "  ('hot dog',   'sodium'):   1800,\n",
    "  ('fries',     'calories'): 380,\n",
    "  ('fries',     'protein'):  4,\n",
    "  ('fries',     'fat'):      19,\n",
    "  ('fries',     'sodium'):   270,\n",
    "  ('macaroni',  'calories'): 320,\n",
    "  ('macaroni',  'protein'):  12,\n",
    "  ('macaroni',  'fat'):      10,\n",
    "  ('macaroni',  'sodium'):   930,\n",
    "  ('pizza',     'calories'): 320,\n",
    "  ('pizza',     'protein'):  15,\n",
    "  ('pizza',     'fat'):      12,\n",
    "  ('pizza',     'sodium'):   820,\n",
    "  ('salad',     'calories'): 320,\n",
    "  ('salad',     'protein'):  31,\n",
    "  ('salad',     'fat'):      12,\n",
    "  ('salad',     'sodium'):   1230,\n",
    "  ('milk',      'calories'): 100,\n",
    "  ('milk',      'protein'):  8,\n",
    "  ('milk',      'fat'):      2.5,\n",
    "  ('milk',      'sodium'):   125,\n",
    "  ('ice cream', 'calories'): 330,\n",
    "  ('ice cream', 'protein'):  8,\n",
    "  ('ice cream', 'fat'):      10,\n",
    "  ('ice cream', 'sodium'):   180 }\n",
    "\n",
    "nutritionValues"
   ]
  },
  {
   "cell_type": "markdown",
   "metadata": {},
   "source": [
    "\n",
    "### Step 2: Create empty model"
   ]
  },
  {
   "cell_type": "code",
   "execution_count": 4,
   "metadata": {
    "collapsed": false
   },
   "outputs": [],
   "source": [
    "m = Model()"
   ]
  },
  {
   "cell_type": "markdown",
   "metadata": {},
   "source": [
    "### Step 3: Create activitiy variables"
   ]
  },
  {
   "cell_type": "code",
   "execution_count": 5,
   "metadata": {
    "collapsed": false
   },
   "outputs": [],
   "source": [
    "# Create decision variables for the nutrition information,\n",
    "# which we limit via bounds\n",
    "nutrition = m.addVars(categories, lb=minNutrition, ub=maxNutrition, name=\"nutrition\")\n",
    "\n",
    "# Create decision variables for the foods to buy\n",
    "buy = m.addVars(foods, name=\"buy\")\n",
    "\n",
    "# You could use Python looping constructs and m.addVar() to create\n",
    "# these decision variables instead.  The following would be equivalent\n",
    "# to the preceding two statements...\n",
    "#\n",
    "# nutrition = {}\n",
    "# for c in categories:\n",
    "#   nutrition[c] = m.addVar(lb=minNutrition[c], ub=maxNutrition[c], name=c)\n",
    "#\n",
    "# buy = {}\n",
    "# for f in foods:\n",
    "#   buy[f] = m.addVar(name=f)"
   ]
  },
  {
   "cell_type": "markdown",
   "metadata": {},
   "source": [
    "### Step 4: Set objective function"
   ]
  },
  {
   "cell_type": "code",
   "execution_count": 6,
   "metadata": {
    "collapsed": true
   },
   "outputs": [],
   "source": [
    "# The objective is to minimize the costs\n",
    "m.setObjective(buy.prod(cost), GRB.MINIMIZE)"
   ]
  },
  {
   "cell_type": "markdown",
   "metadata": {},
   "source": [
    "### Step 5: Add constraints"
   ]
  },
  {
   "cell_type": "code",
   "execution_count": 7,
   "metadata": {
    "collapsed": false
   },
   "outputs": [
    {
     "data": {
      "text/plain": [
       "{'calories': <gurobi.Constr *Awaiting Model Update*>,\n",
       " 'fat': <gurobi.Constr *Awaiting Model Update*>,\n",
       " 'protein': <gurobi.Constr *Awaiting Model Update*>,\n",
       " 'sodium': <gurobi.Constr *Awaiting Model Update*>}"
      ]
     },
     "execution_count": 7,
     "metadata": {},
     "output_type": "execute_result"
    }
   ],
   "source": [
    "m.addConstrs(\n",
    "    (quicksum(nutritionValues[f,c] * buy[f] for f in foods) == nutrition[c]\n",
    "     for c in categories), \"_\")"
   ]
  },
  {
   "cell_type": "code",
   "execution_count": 8,
   "metadata": {
    "collapsed": false
   },
   "outputs": [],
   "source": [
    "def printSolution():\n",
    "    if m.status == GRB.Status.OPTIMAL:\n",
    "        print('\\nCost: %g' % m.objVal)\n",
    "        print('\\nBuy:')\n",
    "        buyx = m.getAttr('x', buy)\n",
    "        nutritionx = m.getAttr('x', nutrition)\n",
    "        for f in foods:\n",
    "            if buy[f].x > 0.0001:\n",
    "                print('%s %g' % (f, buyx[f]))\n",
    "        print('\\nNutrition:')\n",
    "        for c in categories:\n",
    "            print('%s %g' % (c, nutritionx[c]))\n",
    "    else:\n",
    "        print('No solution')"
   ]
  },
  {
   "cell_type": "markdown",
   "metadata": {},
   "source": [
    "### Step 6: Solve model"
   ]
  },
  {
   "cell_type": "code",
   "execution_count": 9,
   "metadata": {
    "collapsed": false,
    "scrolled": true
   },
   "outputs": [
    {
     "name": "stdout",
     "output_type": "stream",
     "text": [
      "Optimize a model with 4 rows, 13 columns and 40 nonzeros\n",
      "Coefficient statistics:\n",
      "  Matrix range     [1e+00, 2e+03]\n",
      "  Objective range  [9e-01, 3e+00]\n",
      "  Bounds range     [6e+01, 2e+03]\n",
      "  RHS range        [0e+00, 0e+00]\n",
      "Presolve removed 0 rows and 3 columns\n",
      "Presolve time: 0.02s\n",
      "Presolved: 4 rows, 10 columns, 37 nonzeros\n",
      "\n",
      "Iteration    Objective       Primal Inf.    Dual Inf.      Time\n",
      "       0    0.0000000e+00   4.601562e+00   0.000000e+00      0s\n",
      "       4    1.1828861e+01   0.000000e+00   0.000000e+00      0s\n",
      "\n",
      "Solved in 4 iterations and 0.03 seconds\n",
      "Optimal objective  1.182886111e+01\n"
     ]
    }
   ],
   "source": [
    "m.optimize()"
   ]
  },
  {
   "cell_type": "markdown",
   "metadata": {},
   "source": [
    "### Step 8: Print variable values for optimal solution"
   ]
  },
  {
   "cell_type": "code",
   "execution_count": 10,
   "metadata": {
    "collapsed": false
   },
   "outputs": [
    {
     "name": "stdout",
     "output_type": "stream",
     "text": [
      "\n",
      "    Variable            X \n",
      "-------------------------\n",
      "nutrition[protein]           91 \n",
      "nutrition[calories]         1800 \n",
      "nutrition[fat]      59.0559 \n",
      "nutrition[sodium]         1779 \n",
      "buy[hamburger]     0.604514 \n",
      "   buy[milk]      6.97014 \n",
      "buy[ice cream]      2.59132 \n"
     ]
    }
   ],
   "source": [
    "m.printAttr('X')"
   ]
  },
  {
   "cell_type": "code",
   "execution_count": 11,
   "metadata": {
    "collapsed": false
   },
   "outputs": [
    {
     "data": {
      "text/plain": [
       "[<gurobi.Var nutrition[protein] (value 91.0)>,\n",
       " <gurobi.Var nutrition[calories] (value 1800.0)>,\n",
       " <gurobi.Var nutrition[fat] (value 59.0559027778)>,\n",
       " <gurobi.Var nutrition[sodium] (value 1779.0)>,\n",
       " <gurobi.Var buy[hamburger] (value 0.604513888889)>,\n",
       " <gurobi.Var buy[salad] (value 0.0)>,\n",
       " <gurobi.Var buy[hot dog] (value 0.0)>,\n",
       " <gurobi.Var buy[fries] (value 0.0)>,\n",
       " <gurobi.Var buy[macaroni] (value 0.0)>,\n",
       " <gurobi.Var buy[chicken] (value 0.0)>,\n",
       " <gurobi.Var buy[milk] (value 6.97013888889)>,\n",
       " <gurobi.Var buy[ice cream] (value 2.59131944444)>,\n",
       " <gurobi.Var buy[pizza] (value 0.0)>]"
      ]
     },
     "execution_count": 11,
     "metadata": {},
     "output_type": "execute_result"
    }
   ],
   "source": [
    "m.getVars()"
   ]
  },
  {
   "cell_type": "code",
   "execution_count": 12,
   "metadata": {
    "collapsed": false
   },
   "outputs": [
    {
     "data": {
      "text/plain": [
       "[<gurobi.Constr protein>,\n",
       " <gurobi.Constr calories>,\n",
       " <gurobi.Constr fat>,\n",
       " <gurobi.Constr sodium>]"
      ]
     },
     "execution_count": 12,
     "metadata": {},
     "output_type": "execute_result"
    }
   ],
   "source": [
    "m.getConstrs()"
   ]
  },
  {
   "cell_type": "code",
   "execution_count": 14,
   "metadata": {
    "collapsed": false
   },
   "outputs": [
    {
     "name": "stdout",
     "output_type": "stream",
     "text": [
      "\n",
      "Cost: 11.8289\n",
      "\n",
      "Buy:\n",
      "hamburger 0.604514\n",
      "milk 6.97014\n",
      "ice cream 2.59132\n",
      "\n",
      "Nutrition:\n",
      "protein 91\n",
      "calories 1800\n",
      "fat 59.0559\n",
      "sodium 1779\n"
     ]
    }
   ],
   "source": [
    "printSolution()"
   ]
  }
 ],
 "metadata": {
  "anaconda-cloud": {},
  "kernelspec": {
   "display_name": "Python 2",
   "language": "python",
   "name": "python2"
  },
  "language_info": {
   "codemirror_mode": {
    "name": "ipython",
    "version": 2
   },
   "file_extension": ".py",
   "mimetype": "text/x-python",
   "name": "python",
   "nbconvert_exporter": "python",
   "pygments_lexer": "ipython2",
   "version": "2.7.13"
  }
 },
 "nbformat": 4,
 "nbformat_minor": 0
}
