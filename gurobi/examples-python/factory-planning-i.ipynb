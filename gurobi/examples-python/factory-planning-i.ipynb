{
 "cells": [
  {
   "cell_type": "markdown",
   "metadata": {},
   "source": [
    "# factory-planning-i.py\n",
    "\n",
    "notebook 版本\n",
    "\n",
    "## Factory Planning I Example\n",
    "Source: http://www.gurobi.com/resources/examples/factory-planning-I\n",
    "\n",
    "version 1"
   ]
  },
  {
   "cell_type": "markdown",
   "metadata": {},
   "source": [
    "### Step 1: Import functions and create Constants"
   ]
  },
  {
   "cell_type": "code",
   "execution_count": 1,
   "metadata": {
    "collapsed": false
   },
   "outputs": [],
   "source": [
    "from gurobipy import *\n"
   ]
  },
  {
   "cell_type": "code",
   "execution_count": 2,
   "metadata": {
    "collapsed": false
   },
   "outputs": [],
   "source": [
    "# tested with Python 3.5.2 & Gurobi 7.0.1\n",
    "\n",
    "products = [\"Prod1\", \"Prod2\", \"Prod3\", \"Prod4\", \"Prod5\", \"Prod6\", \"Prod7\"]\n",
    "machines = [\"grinder\", \"vertDrill\", \"horiDrill\", \"borer\", \"planer\"]\n",
    "time_periods = [\"January\", \"February\", \"March\", \"April\", \"May\", \"June\"]\n",
    "\n",
    "# 获利表\n",
    "profit_contribution = {\"Prod1\":10, \"Prod2\":6, \"Prod3\":8, \"Prod4\":4, \"Prod5\":11, \"Prod6\":9, \"Prod7\":3}\n",
    "\n",
    "# 生产用时表(为何不以  Prod 为坐标)\n",
    "time_table = {\n",
    "    \"grinder\": {    \"Prod1\": 0.5, \"Prod2\": 0.7, \"Prod5\": 0.3,\n",
    "                    \"Prod6\": 0.2, \"Prod7\": 0.5 },\n",
    "    \"vertDrill\": {  \"Prod1\": 0.1, \"Prod2\": 0.2, \"Prod4\": 0.3,\n",
    "                    \"Prod6\": 0.6 },\n",
    "    \"horiDrill\": {  \"Prod1\": 0.2, \"Prod3\": 0.8, \"Prod7\": 0.6 },\n",
    "    \"borer\": {      \"Prod1\": 0.05,\"Prod2\": 0.03,\"Prod4\": 0.07,\n",
    "                    \"Prod5\": 0.1, \"Prod7\": 0.08 },\n",
    "    \"planer\": {     \"Prod3\": 0.01,\"Prod5\": 0.05,\"Prod7\": 0.05 }\n",
    "}\n",
    "\n",
    "\n",
    "# number of machines down\n",
    "down = {(\"January\",\"grinder\"): 1, (\"February\", \"horiDrill\"): 2, (\"March\", \"borer\"): 1,\n",
    "        (\"April\", \"vertDrill\"): 1, (\"May\", \"grinder\"): 1, (\"May\", \"vertDrill\"): 1,\n",
    "        (\"June\", \"planer\"): 1, (\"June\", \"horiDrill\"): 1}\n",
    "\n",
    "# number of each machine available\n",
    "qMachine = {\"grinder\":4, \"vertDrill\":2, \"horiDrill\":3, \"borer\":1, \"planer\":1} \n",
    "\n",
    "# market limitation of sells\n",
    "upper = {\n",
    "    (\"January\", \"Prod1\") : 500,\n",
    "    (\"January\", \"Prod2\") : 1000,\n",
    "    (\"January\", \"Prod3\") : 300,\n",
    "    (\"January\", \"Prod4\") : 300,\n",
    "    (\"January\", \"Prod5\") : 800,\n",
    "    (\"January\", \"Prod6\") : 200,\n",
    "    (\"January\", \"Prod7\") : 100,\n",
    "    (\"February\", \"Prod1\") : 600,\n",
    "    (\"February\", \"Prod2\") : 500,\n",
    "    (\"February\", \"Prod3\") : 200,\n",
    "    (\"February\", \"Prod4\") : 0,\n",
    "    (\"February\", \"Prod5\") : 400,\n",
    "    (\"February\", \"Prod6\") : 300,\n",
    "    (\"February\", \"Prod7\") : 150,\n",
    "    (\"March\", \"Prod1\") : 300,\n",
    "    (\"March\", \"Prod2\") : 600,\n",
    "    (\"March\", \"Prod3\") : 0,\n",
    "    (\"March\", \"Prod4\") : 0,\n",
    "    (\"March\", \"Prod5\") : 500,\n",
    "    (\"March\", \"Prod6\") : 400,\n",
    "    (\"March\", \"Prod7\") : 100,\n",
    "    (\"April\", \"Prod1\") : 200,\n",
    "    (\"April\", \"Prod2\") : 300,\n",
    "    (\"April\", \"Prod3\") : 400,\n",
    "    (\"April\", \"Prod4\") : 500,\n",
    "    (\"April\", \"Prod5\") : 200,\n",
    "    (\"April\", \"Prod6\") : 0,\n",
    "    (\"April\", \"Prod7\") : 100,\n",
    "    (\"May\", \"Prod1\") : 0,\n",
    "    (\"May\", \"Prod2\") : 100,\n",
    "    (\"May\", \"Prod3\") : 500,\n",
    "    (\"May\", \"Prod4\") : 100,\n",
    "    (\"May\", \"Prod5\") : 1000,\n",
    "    (\"May\", \"Prod6\") : 300,\n",
    "    (\"May\", \"Prod7\") : 0,\n",
    "    (\"June\", \"Prod1\") : 500,\n",
    "    (\"June\", \"Prod2\") : 500,\n",
    "    (\"June\", \"Prod3\") : 100,\n",
    "    (\"June\", \"Prod4\") : 300,\n",
    "    (\"June\", \"Prod5\") : 1100,\n",
    "    (\"June\", \"Prod6\") : 500,\n",
    "    (\"June\", \"Prod7\") : 60,\n",
    "}\n"
   ]
  },
  {
   "cell_type": "markdown",
   "metadata": {},
   "source": [
    "\n",
    "### Step 2: Create  model"
   ]
  },
  {
   "cell_type": "code",
   "execution_count": 3,
   "metadata": {
    "collapsed": false
   },
   "outputs": [],
   "source": [
    "storeCost = 0.5\n",
    "storeCapacity = 100\n",
    "endStock = 50\n",
    "hoursPerMonth = 2*8*24\n",
    "\n",
    "model = Model('Factory Planning I')\n",
    "\n"
   ]
  },
  {
   "cell_type": "markdown",
   "metadata": {},
   "source": [
    "### Step 3: Create activitiy variables"
   ]
  },
  {
   "cell_type": "code",
   "execution_count": 4,
   "metadata": {
    "collapsed": false
   },
   "outputs": [],
   "source": [
    "manu = model.addVars(time_periods, products, vtype=GRB.CONTINUOUS, name=\"Manu\")\n",
    "held = model.addVars(time_periods, products , ub=storeCapacity, vtype=GRB.CONTINUOUS, name=\"held\")\n",
    "sell = model.addVars(time_periods, products, ub=upper, name=\"Sell\") # quantity\n",
    "\n",
    "# machine_hours = model.addVars(time_periods, machines, vtype=GRB.INTEGER, name=\"machine_hours\")\n",
    "# machine_num = model.addVars(time_periods, machines, vtype=GRB.INTEGER, name=\"machine_num\")"
   ]
  },
  {
   "cell_type": "markdown",
   "metadata": {},
   "source": [
    "### Step 4: Set objective function"
   ]
  },
  {
   "cell_type": "code",
   "execution_count": 5,
   "metadata": {
    "collapsed": false
   },
   "outputs": [],
   "source": [
    "# Objective\n",
    "obj = quicksum(profit_contribution[product] * sell[time_period, product] -  storeCost * held[time_period, product]  for time_period in time_periods    \n",
    "                    for product in products)\n",
    "\n",
    "model.setObjective(obj, GRB.MAXIMIZE)"
   ]
  },
  {
   "cell_type": "markdown",
   "metadata": {},
   "source": [
    "### Step 5: Add constraints"
   ]
  },
  {
   "cell_type": "code",
   "execution_count": 6,
   "metadata": {
    "collapsed": false
   },
   "outputs": [],
   "source": [
    "# 这些源代码默认的约束条件改在 在下一格自助添加\n",
    "\n",
    "# 初始,每月以及最终库存\n",
    "# Initial Balance\n",
    "# model.addConstrs((manu[time_periods[0], product] == sell[time_periods[0], product] \n",
    "#                   + held[time_periods[0], product] for product in products), name=\"Initial_Balance\")\n",
    "    \n",
    "#Balance\n",
    "# model.addConstrs((held[time_periods[time_periods.index(time_period) -1], product] + manu[time_period, product] ==\n",
    "#                     sell[time_period, product] + held[time_period, product] \n",
    "#                     for product in products for time_period in time_periods if time_period != time_periods[0]), name=\"Balance\")\n",
    "\n",
    "# End store\n",
    "# model.addConstrs((held[time_periods[-1], product] == endStock for product in products),  name=\"End_Balance\")\n",
    "\n",
    "# 设备 down 的时间约束\n",
    "# Capacity\n",
    "# model.addConstrs((quicksum(time_table[machine][product] * manu[time_period, product] for product in time_table[machine])\n",
    "#                            <= hoursPerMonth * (qMachine[machine] - down[time_period, machine]) \n",
    "#                             for machine in machines for time_period in time_periods if (time_period, machine) in down), name = \"Capacity\")\n",
    "\n",
    "# 设备 不 down 的时间约束\n",
    "# model.addConstrs((quicksum(time_table[machine][product] * manu[time_period, product] for product in time_table[machine])\n",
    "#                             <= hoursPerMonth * qMachine[machine] \n",
    "#                             for machine in machines for time_period in time_periods if (time_period, machine) not in down), name = \"Capacity\")\n"
   ]
  },
  {
   "cell_type": "markdown",
   "metadata": {},
   "source": [
    "### Step 6:  Add Our Constrains & Solve model"
   ]
  },
  {
   "cell_type": "code",
   "execution_count": 7,
   "metadata": {
    "collapsed": false,
    "scrolled": false
   },
   "outputs": [
    {
     "name": "stdout",
     "output_type": "stream",
     "text": [
      "Optimize a model with 57 rows, 126 columns and 200 nonzeros\n",
      "Coefficient statistics:\n",
      "  Matrix range     [1e-02, 1e+00]\n",
      "  Objective range  [5e-01, 1e+01]\n",
      "  Bounds range     [6e+01, 1e+03]\n",
      "  RHS range        [5e+01, 1e+03]\n",
      "Presolve removed 51 rows and 109 columns\n",
      "Presolve time: 0.01s\n",
      "Presolved: 6 rows, 17 columns, 23 nonzeros\n",
      "\n",
      "Iteration    Objective       Primal Inf.    Dual Inf.      Time\n",
      "       0    9.4476010e+04   2.241010e+02   0.000000e+00      0s\n",
      "       3    9.3715179e+04   0.000000e+00   0.000000e+00      0s\n",
      "\n",
      "Solved in 3 iterations and 0.02 seconds\n",
      "Optimal objective  9.371517857e+04\n",
      "最佳值应为: # obj = Best objective 9.371517857e+04\n",
      "\n",
      "最佳值 93715.1785714 与答案一致.\n"
     ]
    }
   ],
   "source": [
    "## 3 个库存条件; 条件2采用了类似差分方程的写法\n",
    "# At the start of January there is no product inventory\n",
    "# Init + Manu = Sell + Hold \n",
    "# 注意:如果使用错 addConstr 而不是 addConstr[s]\n",
    "# 会报错误: TypeError: unsupported operand type(s) for -: 'generator' and 'NoneType'\n",
    "#  或是 NameError: name 'p' is not defined\n",
    "# init month\n",
    "model.addConstrs( (manu[time_periods[0],p] == sell[time_periods[0],p] \n",
    "                  + held[time_periods[0],p] for p in products), name=\"held_init_Jan_\")\n",
    "\n",
    "# Hold[-1] + Manu = Sell + Hold \n",
    "model.addConstrs( (held[time_periods[time_periods.index(t)-1],p] + manu[t,p] == sell[t,p] \n",
    "                  + held[t,p] for p in products for t in time_periods if t != time_periods[0]), name=\"held_init_Jan_\")\n",
    "\n",
    "# last month:  by the end of June there should be 50 units of each product in inventory.\n",
    "model.addConstrs( (held[time_periods[-1],p] == endStock for p in products), name=\"held_last_month_\")\n",
    "\n",
    "## 两个设备时间约束; 采用了 线性相乘取和的写法  \n",
    "# time_table[m] = {    \"Prod1\": 0.5, \"Prod2\": 0.7, \"Prod5\": 0.3, \"Prod6\": 0.2, \"Prod7\": 0.5 }\n",
    "# manu[t,p] = \"Prod1\": 20 , ...\n",
    "# quicksum( manu[t,p] * time_table[m][p] )\n",
    "# 设备 down 的时间约束\n",
    "# # Capacity\n",
    "model.addConstrs(  (quicksum( manu[t,p] * time_table[m][p] for p in time_table[m] )\n",
    "                    <= (qMachine[m]-down[t,m]) * hoursPerMonth for t in time_periods for m in machines \n",
    "                             if (t,m) in down), name=\"machine_not_down\") \n",
    "\n",
    "# 设备 不 down 的时间约束: (这个约束条件是可以不加的, 最优值一样)\n",
    "# 比 for p in products if time_table[m].has_key(p))\n",
    "# 更好的写法: for product in time_table[m]\n",
    "# model.addConstrs(  (quicksum(( manu[t,p] * time_table[m][p] for p in products if time_table[m].has_key(p)))\n",
    "#                     <= qMachine[m] * hoursPerMonth for t in time_periods for m in machines \n",
    "#                     if (t,m) not in down), name=\"machine_not_down\") \n",
    "\n",
    "model.optimize()\n",
    "\n",
    "print \"最佳值应为: # obj = Best objective 9.371517857e+04\"\n",
    "if int(model.ObjVal) == int(9.371517857e+04):\n",
    "    print \"\\n最佳值 {} 与答案一致.\".format(model.ObjVal)\n",
    "else:\n",
    "    print \"\\n而不是 {} ....\".format(model.ObjVal)\n"
   ]
  },
  {
   "cell_type": "markdown",
   "metadata": {},
   "source": [
    "### Step 8: Print variable values for optimal solution"
   ]
  },
  {
   "cell_type": "code",
   "execution_count": 8,
   "metadata": {
    "collapsed": false
   },
   "outputs": [
    {
     "name": "stdout",
     "output_type": "stream",
     "text": [
      "\tB:    [January]  [February]  [March]  [April]  [May]  [June]\n",
      "\t[A_Prod1] \t500 \t700 \t0 \t200 \t0 \t550\n",
      "\t[A_Prod2] \t888 \t600 \t0 \t300 \t100 \t550\n",
      "\t[A_Prod3] \t382 \t117 \t0 \t400 \t600 \t0\n",
      "\t[A_Prod4] \t300 \t0 \t0 \t500 \t100 \t350\n",
      "\t[A_Prod5] \t800 \t500 \t0 \t200 \t1100 \t0\n",
      "\t[A_Prod6] \t200 \t300 \t400 \t0 \t300 \t550\n",
      "\t[A_Prod7] \t0 \t250 \t0 \t100 \t100 \t0\n"
     ]
    }
   ],
   "source": [
    "# Display solution (print the name of each variable and the solution value)\n",
    "\n",
    "def printAllVars():\n",
    "    \"\"\"\n",
    "    打印所有变量\n",
    "    \"\"\"\n",
    "    for v in model.getVars():\n",
    "        if v.X != 0:\n",
    "            print(\"%s %f\" % (v.Varname, v.X))\n",
    "# printAllVars()\n",
    "print \"\\tB:  \",\n",
    "for w in time_periods:\n",
    "    print \" [{0}]\".format(w),\n",
    "print \n",
    "for p in products:\n",
    "    print \"\\t[A_{0}]\".format(p), \n",
    "    # print('Plant %s open' % p)\n",
    "    for w in time_periods:\n",
    "        #if transport[w,p].x > 0:\n",
    "        #    print('  Transport %g units to warehouse %s' % \\\n",
    "        #          (transport[w,p].x, w))\n",
    "        print \"\\t{}\".format(int(manu[w, p].x)), \n",
    "    print\n",
    "        \n"
   ]
  }
 ],
 "metadata": {
  "anaconda-cloud": {},
  "kernelspec": {
   "display_name": "Python 2",
   "language": "python",
   "name": "python2"
  },
  "language_info": {
   "codemirror_mode": {
    "name": "ipython",
    "version": 2
   },
   "file_extension": ".py",
   "mimetype": "text/x-python",
   "name": "python",
   "nbconvert_exporter": "python",
   "pygments_lexer": "ipython2",
   "version": "2.7.13"
  }
 },
 "nbformat": 4,
 "nbformat_minor": 0
}
