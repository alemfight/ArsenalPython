{
 "cells": [
  {
   "cell_type": "markdown",
   "metadata": {},
   "source": [
    "# factory-planning-ii.py\n",
    "\n",
    "notebook 版本\n",
    "\n",
    "## Factory Planning II Example\n",
    "Source: http://www.gurobi.com/resources/examples/factory-planning-II\n",
    "\n",
    "### version 2\n",
    "\n",
    "区别在于不再指定维护计划, \n",
    "Instead of pre-defining a maintenance schedule for the machines, as was done in Factory Planning I, in this version of the model we will also optimize for the maintenance schedule.\n",
    "\n",
    "维护计划修改为必须6个月维护一次\n",
    "The maintenance requirements are as follows:\n",
    "* Each machine must be down for maintenance in one month of the six.\n",
    "* The exception to the above are the grinding machines where only two of them need to be down during the six months."
   ]
  },
  {
   "cell_type": "markdown",
   "metadata": {},
   "source": [
    "### Step 1: Import functions and create Constants"
   ]
  },
  {
   "cell_type": "code",
   "execution_count": 1,
   "metadata": {
    "collapsed": false
   },
   "outputs": [],
   "source": [
    "from gurobipy import *\n"
   ]
  },
  {
   "cell_type": "code",
   "execution_count": 2,
   "metadata": {
    "collapsed": false
   },
   "outputs": [],
   "source": [
    "# tested with Python 3.5.2 & Gurobi 7.0.1\n",
    "\n",
    "products = [\"Prod1\", \"Prod2\", \"Prod3\", \"Prod4\", \"Prod5\", \"Prod6\", \"Prod7\"]\n",
    "machines = [\"grinder\", \"vertDrill\", \"horiDrill\", \"borer\", \"planer\"]\n",
    "time_periods = [\"January\", \"February\", \"March\", \"April\", \"May\", \"June\"]\n",
    "\n",
    "# 获利表\n",
    "profit_contribution = {\"Prod1\":10, \"Prod2\":6, \"Prod3\":8, \"Prod4\":4, \"Prod5\":11, \"Prod6\":9, \"Prod7\":3}\n",
    "\n",
    "# 生产用时表(为何不以  Prod 为坐标)\n",
    "time_table = {\n",
    "    \"grinder\": {    \"Prod1\": 0.5, \"Prod2\": 0.7, \"Prod5\": 0.3,\n",
    "                    \"Prod6\": 0.2, \"Prod7\": 0.5 },\n",
    "    \"vertDrill\": {  \"Prod1\": 0.1, \"Prod2\": 0.2, \"Prod4\": 0.3,\n",
    "                    \"Prod6\": 0.6 },\n",
    "    \"horiDrill\": {  \"Prod1\": 0.2, \"Prod3\": 0.8, \"Prod7\": 0.6 },\n",
    "    \"borer\": {      \"Prod1\": 0.05,\"Prod2\": 0.03,\"Prod4\": 0.07,\n",
    "                    \"Prod5\": 0.1, \"Prod7\": 0.08 },\n",
    "    \"planer\": {     \"Prod3\": 0.01,\"Prod5\": 0.05,\"Prod7\": 0.05 }\n",
    "}\n",
    "\n",
    "\n",
    "# number of machines down\n",
    "# down = {(\"January\",\"grinder\"): 1, (\"February\", \"horiDrill\"): 2, (\"March\", \"borer\"): 1,\n",
    "#         (\"April\", \"vertDrill\"): 1, (\"May\", \"grinder\"): 1, (\"May\", \"vertDrill\"): 1,\n",
    "#         (\"June\", \"planer\"): 1, (\"June\", \"horiDrill\"): 1}\n",
    "# change down to qMaintenance\n",
    "qMaintenance = {\"grinder\":2, \"vertDrill\":2, \"horiDrill\":3, \"borer\":1, \"planer\":1} # number of machines that need to be under maintenance\n",
    "\n",
    "# number of each machine available\n",
    "qMachine = {\"grinder\":4, \"vertDrill\":2, \"horiDrill\":3, \"borer\":1, \"planer\":1} \n",
    "\n",
    "\n",
    "# market limitation of sells\n",
    "upper = {\n",
    "    (\"January\", \"Prod1\") : 500,\n",
    "    (\"January\", \"Prod2\") : 1000,\n",
    "    (\"January\", \"Prod3\") : 300,\n",
    "    (\"January\", \"Prod4\") : 300,\n",
    "    (\"January\", \"Prod5\") : 800,\n",
    "    (\"January\", \"Prod6\") : 200,\n",
    "    (\"January\", \"Prod7\") : 100,\n",
    "    (\"February\", \"Prod1\") : 600,\n",
    "    (\"February\", \"Prod2\") : 500,\n",
    "    (\"February\", \"Prod3\") : 200,\n",
    "    (\"February\", \"Prod4\") : 0,\n",
    "    (\"February\", \"Prod5\") : 400,\n",
    "    (\"February\", \"Prod6\") : 300,\n",
    "    (\"February\", \"Prod7\") : 150,\n",
    "    (\"March\", \"Prod1\") : 300,\n",
    "    (\"March\", \"Prod2\") : 600,\n",
    "    (\"March\", \"Prod3\") : 0,\n",
    "    (\"March\", \"Prod4\") : 0,\n",
    "    (\"March\", \"Prod5\") : 500,\n",
    "    (\"March\", \"Prod6\") : 400,\n",
    "    (\"March\", \"Prod7\") : 100,\n",
    "    (\"April\", \"Prod1\") : 200,\n",
    "    (\"April\", \"Prod2\") : 300,\n",
    "    (\"April\", \"Prod3\") : 400,\n",
    "    (\"April\", \"Prod4\") : 500,\n",
    "    (\"April\", \"Prod5\") : 200,\n",
    "    (\"April\", \"Prod6\") : 0,\n",
    "    (\"April\", \"Prod7\") : 100,\n",
    "    (\"May\", \"Prod1\") : 0,\n",
    "    (\"May\", \"Prod2\") : 100,\n",
    "    (\"May\", \"Prod3\") : 500,\n",
    "    (\"May\", \"Prod4\") : 100,\n",
    "    (\"May\", \"Prod5\") : 1000,\n",
    "    (\"May\", \"Prod6\") : 300,\n",
    "    (\"May\", \"Prod7\") : 0,\n",
    "    (\"June\", \"Prod1\") : 500,\n",
    "    (\"June\", \"Prod2\") : 500,\n",
    "    (\"June\", \"Prod3\") : 100,\n",
    "    (\"June\", \"Prod4\") : 300,\n",
    "    (\"June\", \"Prod5\") : 1100,\n",
    "    (\"June\", \"Prod6\") : 500,\n",
    "    (\"June\", \"Prod7\") : 60,\n",
    "}\n"
   ]
  },
  {
   "cell_type": "markdown",
   "metadata": {},
   "source": [
    "\n",
    "### Step 2: Create  model"
   ]
  },
  {
   "cell_type": "code",
   "execution_count": 3,
   "metadata": {
    "collapsed": false
   },
   "outputs": [],
   "source": [
    "storeCost = 0.5\n",
    "storeCapacity = 100\n",
    "endStock = 50\n",
    "hoursPerMonth = 2*8*24\n",
    "\n",
    "model = Model('Factory Planning I')\n",
    "\n"
   ]
  },
  {
   "cell_type": "markdown",
   "metadata": {},
   "source": [
    "### Step 3: Create activitiy variables"
   ]
  },
  {
   "cell_type": "code",
   "execution_count": 4,
   "metadata": {
    "collapsed": false
   },
   "outputs": [],
   "source": [
    "manu = model.addVars(time_periods, products, vtype=GRB.CONTINUOUS, name=\"Manu\")\n",
    "held = model.addVars(time_periods, products , ub=storeCapacity, vtype=GRB.CONTINUOUS, name=\"held\")\n",
    "sell = model.addVars(time_periods, products, ub=upper, name=\"Sell\") # quantity\n",
    "\n",
    "down_vars = model.addVars(time_periods, machines, vtype=GRB.INTEGER, name=\"down_vars\")"
   ]
  },
  {
   "cell_type": "markdown",
   "metadata": {},
   "source": [
    "### Step 4: Set objective function"
   ]
  },
  {
   "cell_type": "code",
   "execution_count": 5,
   "metadata": {
    "collapsed": false
   },
   "outputs": [],
   "source": [
    "# Objective\n",
    "obj = quicksum(profit_contribution[product] * sell[time_period, product] -  storeCost * held[time_period, product]  for time_period in time_periods    \n",
    "                    for product in products)\n",
    "\n",
    "model.setObjective(obj, GRB.MAXIMIZE)"
   ]
  },
  {
   "cell_type": "markdown",
   "metadata": {},
   "source": [
    "### Step 5: Add constraints"
   ]
  },
  {
   "cell_type": "code",
   "execution_count": 6,
   "metadata": {
    "collapsed": false
   },
   "outputs": [
    {
     "data": {
      "text/plain": [
       "{'borer': <gurobi.Constr *Awaiting Model Update*>,\n",
       " 'grinder': <gurobi.Constr *Awaiting Model Update*>,\n",
       " 'horiDrill': <gurobi.Constr *Awaiting Model Update*>,\n",
       " 'planer': <gurobi.Constr *Awaiting Model Update*>,\n",
       " 'vertDrill': <gurobi.Constr *Awaiting Model Update*>}"
      ]
     },
     "execution_count": 6,
     "metadata": {},
     "output_type": "execute_result"
    }
   ],
   "source": [
    "## 3 个库存条件; 条件2采用了类似差分方程的写法\n",
    "# At the start of January there is no product inventory\n",
    "# Init + Manu = Sell + Hold \n",
    "# 注意:如果使用错 addConstr 而不是 addConstr[s]\n",
    "# 会报错误: TypeError: unsupported operand type(s) for -: 'generator' and 'NoneType'\n",
    "#  或是 NameError: name 'p' is not defined\n",
    "# init month\n",
    "model.addConstrs( (manu[time_periods[0],p] == sell[time_periods[0],p] \n",
    "                  + held[time_periods[0],p] for p in products), name=\"held_init_Jan_\")\n",
    "\n",
    "# Hold[-1] + Manu = Sell + Hold \n",
    "model.addConstrs( (held[time_periods[time_periods.index(t)-1],p] + manu[t,p] == sell[t,p] \n",
    "                  + held[t,p] for p in products for t in time_periods if t != time_periods[0]), name=\"held_init_Jan_\")\n",
    "\n",
    "# last month:  by the end of June there should be 50 units of each product in inventory.\n",
    "model.addConstrs( (held[time_periods[-1],p] == endStock for p in products), name=\"held_last_month_\")\n",
    "\n",
    "## 两个设备时间约束; 采用了 线性相乘取和的写法  \n",
    "# time_table[m] = {    \"Prod1\": 0.5, \"Prod2\": 0.7, \"Prod5\": 0.3, \"Prod6\": 0.2, \"Prod7\": 0.5 }\n",
    "# manu[t,p] = \"Prod1\": 20 , ...\n",
    "# quicksum( manu[t,p] * time_table[m][p] )\n",
    "# 设备 down 的时间约束\n",
    "# # Capacity\n",
    "\n",
    "# -ii version 将  down 修改为 down_vars\n",
    "model.addConstrs(  (quicksum( manu[t,p] * time_table[m][p] for p in time_table[m] )\n",
    "                    <= (qMachine[m] -  down_vars[t,m] ) * hoursPerMonth for t in time_periods for m in machines \n",
    "                             ), name=\"machine_has_down\") \n",
    "\n",
    "\n",
    "# model.addConstrs( (down_vars.sum('*', m) == qMaintenance[m]  for m in machines ), \"Maintenance\")\n",
    "# 这两种写法效果一样\n",
    "model.addConstrs( down_vars.sum('*', m) == qMaintenance[m]  for m in machines )\n",
    "\n",
    "\n",
    "\n",
    "# 设备 不 down 的时间约束: (这个约束条件是可以不加的, 最优值一样)\n",
    "# 比 for p in products if time_table[m].has_key(p))\n",
    "# 更好的写法: for product in time_table[m]\n",
    "# model.addConstrs(  (quicksum(( manu[t,p] * time_table[m][p] for p in products if time_table[m].has_key(p)))\n",
    "#                     <= qMachine[m] * hoursPerMonth for t in time_periods for m in machines \n",
    "#                     if (t,m) not in down), name=\"machine_not_down\") "
   ]
  },
  {
   "cell_type": "markdown",
   "metadata": {},
   "source": [
    "### Step 6:  Add Our Constrains & Solve model"
   ]
  },
  {
   "cell_type": "code",
   "execution_count": 7,
   "metadata": {
    "collapsed": false,
    "scrolled": false
   },
   "outputs": [
    {
     "name": "stdout",
     "output_type": "stream",
     "text": [
      "Optimize a model with 84 rows, 156 columns and 348 nonzeros\n",
      "Variable types: 126 continuous, 30 integer (0 binary)\n",
      "Coefficient statistics:\n",
      "  Matrix range     [1e-02, 4e+02]\n",
      "  Objective range  [5e-01, 1e+01]\n",
      "  Bounds range     [6e+01, 1e+03]\n",
      "  RHS range        [1e+00, 2e+03]\n",
      "Found heuristic solution: objective -175\n",
      "Presolve removed 22 rows and 27 columns\n",
      "Presolve time: 0.00s\n",
      "Presolved: 62 rows, 129 columns, 278 nonzeros\n",
      "Variable types: 105 continuous, 24 integer (12 binary)\n",
      "\n",
      "Root relaxation: objective 1.164550e+05, 15 iterations, 0.00 seconds\n",
      "\n",
      "    Nodes    |    Current Node    |     Objective Bounds      |     Work\n",
      " Expl Unexpl |  Obj  Depth IntInf | Incumbent    BestBd   Gap | It/Node Time\n",
      "\n",
      "     0     0 116455.000    0   13 -175.00000 116455.000      -     -    0s\n",
      "H    0     0                    92755.000000 116455.000  25.6%     -    0s\n",
      "H    0     0                    95895.000000 116455.000  21.4%     -    0s\n",
      "H    0     0                    101825.00000 116455.000  14.4%     -    0s\n",
      "     0     0 112464.892    0    7 101825.000 112464.892  10.4%     -    0s\n",
      "H    0     0                    108855.00000 112464.892  3.32%     -    0s\n",
      "     0     0 109908.977    0    6 108855.000 109908.977  0.97%     -    0s\n",
      "     0     0     cutoff    0      108855.000 108855.000  0.00%     -    0s\n",
      "\n",
      "Cutting planes:\n",
      "  Gomory: 2\n",
      "  Implied bound: 15\n",
      "  MIR: 1\n",
      "\n",
      "Explored 0 nodes (88 simplex iterations) in 0.10 seconds\n",
      "Thread count was 4 (of 4 available processors)\n",
      "\n",
      "Solution count 5: 108855 101825 95895 ... -175\n",
      "Pool objective bound 108855\n",
      "\n",
      "Optimal solution found (tolerance 1.00e-04)\n",
      "Best objective 1.088550000000e+05, best bound 1.088550000000e+05, gap 0.0000%\n",
      "无任何机器下线最佳值为: obj = 116455\n",
      "有机器下线的最佳值应为: # obj = Best objective 1.088550000000e+05\n",
      "\n",
      "最佳值 108855.0 与答案一致.\n"
     ]
    }
   ],
   "source": [
    "#model.addConstrs (  name=\"down\")\n",
    "\n",
    "model.optimize()\n",
    "\n",
    "print \"无任何机器下线最佳值为: obj = 116455\"\n",
    "print \"有机器下线的最佳值应为: # obj = Best objective 1.088550000000e+05\"\n",
    "if int(model.ObjVal) == int(1.088550000000e+05):\n",
    "    print \"\\n最佳值 {} 与答案一致.\".format(model.ObjVal)\n",
    "else:\n",
    "    print \"\\n而不是 {} ....\".format(model.ObjVal)\n"
   ]
  },
  {
   "cell_type": "markdown",
   "metadata": {},
   "source": [
    "### Step 8: Print variable values for optimal solution"
   ]
  },
  {
   "cell_type": "code",
   "execution_count": 8,
   "metadata": {
    "collapsed": false
   },
   "outputs": [
    {
     "name": "stdout",
     "output_type": "stream",
     "text": [
      "\tB:    [January]  [February]  [March]  [April]  [May]  [June]\n",
      "\t[A_Prod1] \t500 \t600 \t400 \t0 \t0 \t550\n",
      "\t[A_Prod2] \t1000 \t500 \t700 \t0 \t100 \t550\n",
      "\t[A_Prod3] \t300 \t200 \t100 \t0 \t500 \t150\n",
      "\t[A_Prod4] \t300 \t0 \t100 \t0 \t100 \t350\n",
      "\t[A_Prod5] \t800 \t400 \t600 \t0 \t1000 \t1150\n",
      "\t[A_Prod6] \t200 \t300 \t400 \t0 \t300 \t550\n",
      "\t[A_Prod7] \t100 \t150 \t200 \t0 \t0 \t110\n"
     ]
    }
   ],
   "source": [
    "# Display solution (print the name of each variable and the solution value)\n",
    "\n",
    "def printAllVars():\n",
    "    \"\"\"\n",
    "    打印所有变量\n",
    "    \"\"\"\n",
    "    for v in model.getVars():\n",
    "        if v.X != 0:\n",
    "            print(\"%s %f\" % (v.Varname, v.X))\n",
    "# printAllVars()\n",
    "print \"\\tB:  \",\n",
    "for w in time_periods:\n",
    "    print \" [{0}]\".format(w),\n",
    "print \n",
    "for p in products:\n",
    "    print \"\\t[A_{0}]\".format(p), \n",
    "    # print('Plant %s open' % p)\n",
    "    for w in time_periods:\n",
    "        #if transport[w,p].x > 0:\n",
    "        #    print('  Transport %g units to warehouse %s' % \\\n",
    "        #          (transport[w,p].x, w))\n",
    "        print \"\\t{}\".format(int(manu[w, p].x)), \n",
    "    print\n",
    "        \n"
   ]
  }
 ],
 "metadata": {
  "anaconda-cloud": {},
  "kernelspec": {
   "display_name": "Python 2",
   "language": "python",
   "name": "python2"
  },
  "language_info": {
   "codemirror_mode": {
    "name": "ipython",
    "version": 2
   },
   "file_extension": ".py",
   "mimetype": "text/x-python",
   "name": "python",
   "nbconvert_exporter": "python",
   "pygments_lexer": "ipython2",
   "version": "2.7.13"
  }
 },
 "nbformat": 4,
 "nbformat_minor": 0
}
