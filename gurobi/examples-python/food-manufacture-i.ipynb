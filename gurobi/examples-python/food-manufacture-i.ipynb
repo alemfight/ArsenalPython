{
 "cells": [
  {
   "cell_type": "markdown",
   "metadata": {},
   "source": [
    "# food-manufacture-i.py\n",
    "\n",
    "notebook 版本\n",
    "\n",
    "## Food Manufacture I Example\n",
    "Source: http://www.gurobi.com/resources/examples/food-manufacture-I\n",
    "\n",
    "Both this model and Food Manufacture II are examples of a blending problem. In blending optimization problems, multiple raw materials are combined in a way the meets the stated constraints for the lowest cost. These problems are common in numerous industries including, for example, the oil industry (blending different types of crude oil at a refinery) and agriculture (manufacturing feed that meets the different nutritional requirements of different animals).\n",
    "\n",
    "In this particular example, we’ll model and solve a production planning problem where we must create a final product from a number of ingredients, each of which has different costs, restrictions and features. The aim is to create an optimal multi-period production plan that maximizes profit. More details can be found on the Problem Description and Model Formulation tabs below.\n",
    "\n",
    "In Food Manufacture II, we'll extend this example with additional constraints that change the problem type from a linear program (LP) to a mixed integer program (MIP), which makes it harder to solve.\n",
    "\n",
    "Note: you can download the model, implemented in Python, here. More information on this type of model can be found in the fifth edition of Model Building in Mathematical Programming, by H. Paul Williams.\n",
    "\n",
    "Reference: H. Paul Williams, Model Building in Mathematical Programming, fifth edition (Page 253-254, 296-298, 349-350)\n",
    "\n",
    "version 1"
   ]
  },
  {
   "cell_type": "code",
   "execution_count": null,
   "metadata": {
    "collapsed": true
   },
   "outputs": [],
   "source": []
  },
  {
   "cell_type": "markdown",
   "metadata": {},
   "source": [
    "## Problem Description\n",
    "A manufacturer needs to refine (提炼) several raw oils and blend (混合) them together to produce a given food product that can be sold. The raw oils needed can be divided into two categories:\n",
    "\n",
    "Category|\tOil|\n",
    "--------|------|-----\n",
    "Vegetable oils:\t|VEG 1\n",
    " \t|VEG 2\n",
    "Non-vegetable oils:\t|OIL 1\n",
    " \t|OIL2\n",
    " \t|OIL 3\n",
    "    \n",
    "The manufacturer can choose to buy raw oils for the current month and/or buy them on the futures market for delivery in a subsequent month. Prices for immediate deliver and in the futures market are given below in $/ton: 生产商每月购买原料的价格表\n",
    "\n",
    "Month|\tVEG 1|\tVEG 2|\tOIL 1|\tOIL 2|\tOIL 3|\n",
    "-----|--------|------|-------|-------|-------|\n",
    "January|\t110|\t120|\t130|\t110|\t115\n",
    "February|\t130|\t130|\t110|\t90|\t115\n",
    "March\t|110\t|140\t|130\t|100\t|95\n",
    "April\t|120\t|110\t|120\t|120\t|125\n",
    "May    |100\t|120\t|150\t|110\t|105\n",
    "June   |90\t    |100\t|140\t|80\t    |135\n",
    "\n",
    "There are a number of additional factors that must be taken into account. These include:\n",
    "\n",
    "1. The final food product sells for \\$150 per ton.  最终产品售价150元/吨\n",
    "1. Each category of oil (vegetable and non-vegetable) needs to be refined on a different production line.  不同类型油在不同生产线生产\n",
    "1. There is limited refinement capacity such that in any given month a maximum of 200 tons of vegetable oils and 250 tons of non-vegetable oils can be refined.  有200(negetable) /250 (non-vegetable) 吨的生产限额\n",
    "1. Also, there is no waste in the refinement process, so the sum of the raw oils refined will equal the amount of refined oils available.  提炼没有损失(理想化)\n",
    "1. The cost of refining the oils may be ignored.  提炼不需要额外花费(理想化)\n",
    "\n",
    "In addition to the refining limits above, there are limits to the amount of raw oils that can be stored for future use, and there is a cost associated with each ton of oil stored. The limit is 1000 tons of each raw oil and the storage cost is \\$5 per ton per month. The manufacturer can not store the produced food product or the refined oils.   每种油存量不能超过 1000吨,并且有 \\$5/每吨的仓储费用.\n",
    "\n",
    "The final food product must have a hardness between three and six on a given hardness scale. For the purposes of the model, hardness blends linearly and the hardness of each raw oil is: 混合之后的 Hardness 在 3-6之间\n",
    "\n",
    "Oils|\tHardness\n",
    "----|-----------\n",
    "VEG 1|\t8.8\n",
    "VEG 2|\t6.1\n",
    "OIL 1|\t2.0\n",
    "OIL 2 |\t4.2\n",
    "OIL 3|\t5.0\n",
    "\n",
    "At the start of January there are 500 tons of each type of raw oil in storage. For the purpose of the model, this should also be the level of raw oils in storage at the end of June. 1月初和6月末有500吨油在仓库中\n",
    "\n",
    "Given the above information, what monthly buying and manufacturing decisions should be made in order to maximize profit? 给出每月的购买和生产计划\n",
    "\n",
    "This problem is based on a larger model built for the margarine producer Van den Bergs and Jurgens and discussed in Williams and Redwood (1974)."
   ]
  },
  {
   "cell_type": "markdown",
   "metadata": {},
   "source": [
    "### Step 1: Import functions and create Constants"
   ]
  },
  {
   "cell_type": "code",
   "execution_count": 1,
   "metadata": {
    "collapsed": false
   },
   "outputs": [],
   "source": [
    "from gurobipy import *\n"
   ]
  },
  {
   "cell_type": "code",
   "execution_count": 2,
   "metadata": {
    "collapsed": false
   },
   "outputs": [],
   "source": [
    "\n",
    "\n",
    "\n",
    "time_periods = [\"January\", \"February\", \"March\", \"April\", \"May\", \"June\"]\n",
    "\n",
    "oils = [\"VEG1\", \"VEG2\", \"OIL1\", \"OIL2\", \"OIL3\"]\n",
    "\n",
    "prices = tupledict({\n",
    "\t('January', 'VEG1'): 110,\n",
    "\t('January', 'VEG2'): 120,\n",
    "\t('January', 'OIL1'): 130,\n",
    "\t('January', 'OIL2'): 110,\n",
    "\t('January', 'OIL3'): 115,\n",
    "\t('February', 'VEG1'): 130,\n",
    "\t('February', 'VEG2'): 130,\n",
    "\t('February', 'OIL1'): 110,\n",
    "\t('February', 'OIL2'): 90,\n",
    "\t('February', 'OIL3'): 115,\n",
    "\t('March', 'VEG1'): 110,\n",
    "\t('March', 'VEG2'): 140,\n",
    "\t('March', 'OIL1'): 130,\n",
    "\t('March', 'OIL2'): 100,\n",
    "\t('March', 'OIL3'): 95,\n",
    "\t('April', 'VEG1'): 120,\n",
    "\t('April', 'VEG2'): 110,\n",
    "\t('April', 'OIL1'): 120,\n",
    "\t('April', 'OIL2'): 120,\n",
    "\t('April', 'OIL3'): 125,\n",
    "\t('May', 'VEG1'): 100,\n",
    "\t('May', 'VEG2'): 120,\n",
    "\t('May', 'OIL1'): 150,\n",
    "\t('May', 'OIL2'): 110,\n",
    "\t('May', 'OIL3'): 105,\n",
    "\t('June', 'VEG1'): 90,\n",
    "\t('June', 'VEG2'): 100,\n",
    "\t('June', 'OIL1'): 140,\n",
    "\t('June', 'OIL2'): 80,\n",
    "\t('June', 'OIL3'): 135\n",
    "})\n",
    "\n",
    "\n",
    "hardness = {\"VEG1\": 8.8, \"VEG2\": 6.1, \"OIL1\": 2.0, \"OIL2\": 4.2, \"OIL3\": 5.0}\n",
    "\n",
    "price = 150\n",
    "IStore = 500\n",
    "vegCapa = 200\n",
    "oilCapa = 250\n",
    "\n",
    "hardness_lb = 3\n",
    "hardness_ub = 6\n",
    "store_pricing = 5\n"
   ]
  },
  {
   "cell_type": "markdown",
   "metadata": {},
   "source": [
    "\n",
    "### Step 2: Create  model"
   ]
  },
  {
   "cell_type": "code",
   "execution_count": 3,
   "metadata": {
    "collapsed": false
   },
   "outputs": [],
   "source": [
    "model = Model('Food Manufacture I')"
   ]
  },
  {
   "cell_type": "markdown",
   "metadata": {},
   "source": [
    "### Step 3: Create activitiy variables"
   ]
  },
  {
   "cell_type": "code",
   "execution_count": 4,
   "metadata": {
    "collapsed": false
   },
   "outputs": [],
   "source": [
    "# 生产数量 Quantity of food produced in each period # 简单数值的 vars 可以使用  food.sum()\n",
    "food = model.addVars(time_periods, name = \"Food\")\n",
    "# 提炼refine 数量 Quantity used of each product  in each period  \n",
    "use = model.addVars(time_periods, oils, name = \"Use\")\n",
    "# Quantity stored of each product  in each period  # 简单数值的 vars 可以使用  store.sum()\n",
    "store = model.addVars(time_periods, oils, name = \"Store\")\n",
    "\n",
    "# 购买原材料 Quantity bought of each product in each period # 生产 Buy 矩阵, 预备和 prices 进行矩阵相乘 buy.prodct(prices)\n",
    "buy = model.addVars( time_periods, oils , name = \"Buy\")\n",
    "\n"
   ]
  },
  {
   "cell_type": "markdown",
   "metadata": {},
   "source": [
    "### Step 4: Set objective function"
   ]
  },
  {
   "cell_type": "code",
   "execution_count": 5,
   "metadata": {
    "collapsed": false
   },
   "outputs": [],
   "source": [
    "\n",
    "# Objective\n",
    "obj = price*food.sum() - buy.prod(prices) - store_pricing*store.sum()\n",
    "model.setObjective(obj, GRB.MAXIMIZE) # maximize profit\n",
    "\n",
    "# 我们的写法\n",
    "# 设定约束: capa 限制 200/250\n",
    "# for t in time_periods:\n",
    "#     model.addConstr(quicksum([store[t, o] for o in oils if (o == \"VEG1\" or o == \"VEG2\")] ) ==vegCapa)\n",
    "#     model.addConstr(quicksum([store[t, o] for o in oils if (o == \"OIL1\" or o == \"OIL2\" or o == \"OIL3\")] ) ==oilCapa)\n",
    "\n",
    "# 设定约束: Buy - Use == Store\n",
    "#model.addConstrs(buy[t, o] - use[t, o] == store[t, o] for t in time_periods for o in oils)"
   ]
  },
  {
   "cell_type": "markdown",
   "metadata": {},
   "source": [
    "### Step 5: Add constraints"
   ]
  },
  {
   "cell_type": "code",
   "execution_count": 6,
   "metadata": {
    "collapsed": false
   },
   "outputs": [
    {
     "data": {
      "text/plain": [
       "{'April': <gurobi.Constr *Awaiting Model Update*>,\n",
       " 'February': <gurobi.Constr *Awaiting Model Update*>,\n",
       " 'January': <gurobi.Constr *Awaiting Model Update*>,\n",
       " 'June': <gurobi.Constr *Awaiting Model Update*>,\n",
       " 'March': <gurobi.Constr *Awaiting Model Update*>,\n",
       " 'May': <gurobi.Constr *Awaiting Model Update*>}"
      ]
     },
     "execution_count": 6,
     "metadata": {},
     "output_type": "execute_result"
    }
   ],
   "source": [
    "\n",
    "#Initial Balance\n",
    "model.addConstrs((IStore + buy[time_periods[0], oil] ==\n",
    "     use[time_periods[0], oil] + store[time_periods[0], oil] for oil in oils), \"Initial_Balance\")\n",
    "\n",
    "#Balance\n",
    "model.addConstrs(\n",
    "\t(store[time_periods[time_periods.index(time_period)-1], oil] + buy[time_period, oil] ==\n",
    "     use[time_period, oil] + store[time_period, oil]\n",
    "     for oil in oils for time_period in time_periods if time_period != time_periods[0]), \"Balance\")\n",
    "\n",
    "#End Store\n",
    "model.addConstrs((store[time_periods[-1], oil] == IStore for oil in oils),\n",
    "\t\t\t\t \"End_Balance\")\n",
    "\n",
    "# Capacity1 & Capacity2\n",
    "model.addConstrs(\n",
    "\t(quicksum(use[time_period, oil] for oil in oils if \"VEG\" in oil) <= vegCapa\n",
    "\t for time_period in time_periods), \"Capacity_Veg\")\n",
    "model.addConstrs(\n",
    "\t(quicksum(use[time_period, oil] for oil in oils if \"OIL\" in oil) <= oilCapa\n",
    "\t for time_period in time_periods), \"Capacity_Oil\")\n",
    "\n",
    "# Hardness\n",
    "model.addConstrs(\n",
    "\t(quicksum(hardness[oil] * use[time_period, oil] for oil in oils)\n",
    "\t >= hardness_lb * food[time_period] for time_period in time_periods),\n",
    "\t\"Hardness_lower\")\n",
    "model.addConstrs(\n",
    "\t(quicksum(hardness[oil] * use[time_period, oil] for oil in oils)\n",
    "\t <= hardness_ub * food[time_period] for time_period in time_periods),\n",
    "\t\"Hardness_upper\")\n",
    "\n",
    "# Conserve\n",
    "model.addConstrs((use.sum(time_period) == food[time_period]\n",
    "\t\t\t\t  for time_period in time_periods), \"Conserve\")\n"
   ]
  },
  {
   "cell_type": "markdown",
   "metadata": {},
   "source": [
    "### Step 6: Solve model"
   ]
  },
  {
   "cell_type": "code",
   "execution_count": 7,
   "metadata": {
    "collapsed": true
   },
   "outputs": [],
   "source": [
    "# The objective is to max the profit\n",
    "obj = price * food.sum() - buy.prod(prices) - store_pricing * store.sum()\n",
    "model.setObjective(obj)"
   ]
  },
  {
   "cell_type": "code",
   "execution_count": 8,
   "metadata": {
    "collapsed": false,
    "scrolled": true
   },
   "outputs": [
    {
     "name": "stdout",
     "output_type": "stream",
     "text": [
      "Optimize a model with 65 rows, 96 columns and 258 nonzeros\n",
      "Coefficient statistics:\n",
      "  Matrix range     [1e+00, 9e+00]\n",
      "  Objective range  [5e+00, 2e+02]\n",
      "  Bounds range     [0e+00, 0e+00]\n",
      "  RHS range        [2e+02, 5e+02]\n",
      "Presolve removed 28 rows and 45 columns\n",
      "Presolve time: 0.02s\n",
      "Presolved: 37 rows, 51 columns, 149 nonzeros\n",
      "\n",
      "Iteration    Objective       Primal Inf.    Dual Inf.      Time\n",
      "       0    5.5261281e+05   9.097405e+03   0.000000e+00      0s\n",
      "      36    1.0784259e+05   0.000000e+00   0.000000e+00      0s\n",
      "\n",
      "Solved in 36 iterations and 0.03 seconds\n",
      "Optimal objective  1.078425926e+05\n"
     ]
    }
   ],
   "source": [
    "model.optimize()"
   ]
  },
  {
   "cell_type": "markdown",
   "metadata": {},
   "source": [
    "### Step 8: Print variable values for optimal solution"
   ]
  },
  {
   "cell_type": "code",
   "execution_count": 9,
   "metadata": {
    "collapsed": false
   },
   "outputs": [
    {
     "name": "stdout",
     "output_type": "stream",
     "text": [
      "Food[January] 450.000000\n",
      "Food[February] 450.000000\n",
      "Food[March] 450.000000\n",
      "Food[April] 450.000000\n",
      "Food[May] 450.000000\n",
      "Food[June] 450.000000\n",
      "Use[January,VEG2] 200.000000\n",
      "Use[January,OIL3] 250.000000\n",
      "Use[February,VEG1] 159.259259\n",
      "Use[February,VEG2] 40.740741\n",
      "Use[February,OIL2] 250.000000\n",
      "Use[March,VEG1] 159.259259\n",
      "Use[March,VEG2] 40.740741\n",
      "Use[March,OIL2] 250.000000\n",
      "Use[April,VEG1] 159.259259\n",
      "Use[April,VEG2] 40.740741\n",
      "Use[April,OIL2] 250.000000\n",
      "Use[May,VEG1] 22.222222\n",
      "Use[May,VEG2] 177.777778\n",
      "Use[May,OIL2] 250.000000\n",
      "Use[June,VEG1] 159.259259\n",
      "Use[June,VEG2] 40.740741\n",
      "Use[June,OIL2] 250.000000\n",
      "Store[January,VEG1] 500.000000\n",
      "Store[January,VEG2] 300.000000\n",
      "Store[January,OIL1] 500.000000\n",
      "Store[January,OIL2] 500.000000\n",
      "Store[January,OIL3] 250.000000\n",
      "Store[February,VEG1] 340.740741\n",
      "Store[February,VEG2] 259.259259\n",
      "Store[February,OIL1] 500.000000\n",
      "Store[February,OIL2] 750.000000\n",
      "Store[February,OIL3] 250.000000\n",
      "Store[March,VEG1] 181.481481\n",
      "Store[March,VEG2] 218.518519\n",
      "Store[March,OIL1] 500.000000\n",
      "Store[March,OIL2] 500.000000\n",
      "Store[March,OIL3] 250.000000\n",
      "Store[April,VEG1] 22.222222\n",
      "Store[April,VEG2] 177.777778\n",
      "Store[April,OIL1] 500.000000\n",
      "Store[April,OIL2] 250.000000\n",
      "Store[April,OIL3] 250.000000\n",
      "Store[May,OIL1] 500.000000\n",
      "Store[May,OIL3] 500.000000\n",
      "Store[June,VEG1] 500.000000\n",
      "Store[June,VEG2] 500.000000\n",
      "Store[June,OIL1] 500.000000\n",
      "Store[June,OIL2] 500.000000\n",
      "Store[June,OIL3] 500.000000\n",
      "Buy[February,OIL2] 500.000000\n",
      "Buy[May,OIL3] 250.000000\n",
      "Buy[June,VEG1] 659.259259\n",
      "Buy[June,VEG2] 540.740741\n",
      "Buy[June,OIL2] 750.000000\n"
     ]
    }
   ],
   "source": [
    "# Display solution (print the name of each variable and the solution value)\n",
    "for v in model.getVars():\n",
    "    if v.X != 0:\n",
    "        print(\"%s %f\" % (v.Varname, v.X))"
   ]
  }
 ],
 "metadata": {
  "anaconda-cloud": {},
  "kernelspec": {
   "display_name": "Python 2",
   "language": "python",
   "name": "python2"
  },
  "language_info": {
   "codemirror_mode": {
    "name": "ipython",
    "version": 2
   },
   "file_extension": ".py",
   "mimetype": "text/x-python",
   "name": "python",
   "nbconvert_exporter": "python",
   "pygments_lexer": "ipython2",
   "version": "2.7.13"
  }
 },
 "nbformat": 4,
 "nbformat_minor": 0
}
