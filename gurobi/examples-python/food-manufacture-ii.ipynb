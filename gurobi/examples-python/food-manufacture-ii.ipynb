{
 "cells": [
  {
   "cell_type": "markdown",
   "metadata": {},
   "source": [
    "# food-manufacture-ii.py\n",
    "\n",
    "notebook 版本\n",
    "\n",
    "## Food Manufacture II Example\n",
    "Source: http://www.gurobi.com/resources/examples/food-manufacture-I\n",
    "\n",
    "Both this model and Food Manufacture II are examples of a blending problem. In blending optimization problems, multiple raw materials are combined in a way the meets the stated constraints for the lowest cost. These problems are common in numerous industries including, for example, the oil industry (blending different types of crude oil at a refinery) and agriculture (manufacturing feed that meets the different nutritional requirements of different animals).\n",
    "\n",
    "In this particular example, we’ll model and solve a production planning problem where we must create a final product from a number of ingredients, each of which has different costs, restrictions and features. The aim is to create an optimal multi-period production plan that maximizes profit. More details can be found on the Problem Description and Model Formulation tabs below.\n",
    "\n",
    "In Food Manufacture II, we'll extend this example with additional constraints that change the problem type from a linear program (LP) to a mixed integer program (MIP), which makes it harder to solve.\n",
    "\n",
    "Note: you can download the model, implemented in Python, here. More information on this type of model can be found in the fifth edition of Model Building in Mathematical Programming, by H. Paul Williams.\n",
    "\n",
    "Reference: H. Paul Williams, Model Building in Mathematical Programming, fifth edition (Page 253-254, 296-298, 349-350)\n",
    "\n",
    "version 1"
   ]
  },
  {
   "cell_type": "markdown",
   "metadata": {},
   "source": [
    "## Problem Description\n",
    "A manufacturer needs to refine (提炼) several raw oils and blend (混合) them together to produce a given food product that can be sold. The raw oils needed can be divided into two categories:\n",
    "\n",
    "Category|\tOil|\n",
    "--------|------|-----\n",
    "Vegetable oils:\t|VEG 1\n",
    " \t|VEG 2\n",
    "Non-vegetable oils:\t|OIL 1\n",
    " \t|OIL2\n",
    " \t|OIL 3\n",
    "    \n",
    "The manufacturer can choose to buy raw oils for the current month and/or buy them on the futures market for delivery in a subsequent month. Prices for immediate deliver and in the futures market are given below in $/ton: 生产商每月购买原料的价格表\n",
    "\n",
    "Month|\tVEG 1|\tVEG 2|\tOIL 1|\tOIL 2|\tOIL 3|\n",
    "-----|--------|------|-------|-------|-------|\n",
    "January|\t110|\t120|\t130|\t110|\t115\n",
    "February|\t130|\t130|\t110|\t90|\t115\n",
    "March\t|110\t|140\t|130\t|100\t|95\n",
    "April\t|120\t|110\t|120\t|120\t|125\n",
    "May    |100\t|120\t|150\t|110\t|105\n",
    "June   |90\t    |100\t|140\t|80\t    |135\n",
    "\n",
    "There are a number of additional factors that must be taken into account. These include:\n",
    "\n",
    "1. The final food product sells for \\$150 per ton.  最终产品售价150元/吨\n",
    "1. Each category of oil (vegetable and non-vegetable) needs to be refined on a different production line.  不同类型油在不同生产线生产\n",
    "1. There is limited refinement capacity such that in any given month a maximum of 200 tons of vegetable oils and 250 tons of non-vegetable oils can be refined.  有200(negetable) /250 (non-vegetable) 吨的生产限额\n",
    "1. Also, there is no waste in the refinement process, so the sum of the raw oils refined will equal the amount of refined oils available.  提炼没有损失(理想化)\n",
    "1. The cost of refining the oils may be ignored.  提炼不需要额外花费(理想化)\n",
    "\n",
    "In addition to the refining limits above, there are limits to the amount of raw oils that can be stored for future use, and there is a cost associated with each ton of oil stored. The limit is 1000 tons of each raw oil and the storage cost is \\$5 per ton per month. The manufacturer can not store the produced food product or the refined oils.   每种油存量不能超过 1000吨,并且有 \\$5/每吨的仓储费用. ( 1000 tons 这个约束变量没用上? Why?) \n",
    "\n",
    "The final food product must have a hardness between three and six on a given hardness scale. For the purposes of the model, hardness blends linearly and the hardness of each raw oil is: 混合之后的 Hardness 在 3-6之间\n",
    "\n",
    "Oils|\tHardness\n",
    "----|-----------\n",
    "VEG 1|\t8.8\n",
    "VEG 2|\t6.1\n",
    "OIL 1|\t2.0\n",
    "OIL 2 |\t4.2\n",
    "OIL 3|\t5.0\n",
    "\n",
    "At the start of January there are 500 tons of each type of raw oil in storage. For the purpose of the model, this should also be the level of raw oils in storage at the end of June. 1月初和6月末有500吨油在仓库中\n",
    "\n",
    "Given the above information, what monthly buying and manufacturing decisions should be made in order to maximize profit? 给出每月的购买和生产计划\n",
    "\n",
    "This problem is based on a larger model built for the margarine producer Van den Bergs and Jurgens and discussed in Williams and Redwood (1974)."
   ]
  },
  {
   "cell_type": "markdown",
   "metadata": {},
   "source": [
    "## Food Manufacture II Example\n",
    "\n",
    "此版本新加的约束信息 \n",
    "\n",
    "This version of the Food Manufacturing problem adds the following additional constraints to the first version:\n",
    "\n",
    "The maximum number of oils used in a month is three.\n",
    "If an oil is used during a month, the minimum quantity used must be 20 tons.\n",
    "The use of VEG1 or VEG2 in a given month requires the use of OIL3 in that same month."
   ]
  },
  {
   "cell_type": "markdown",
   "metadata": {},
   "source": [
    "### Step 1: Import functions and create Constants"
   ]
  },
  {
   "cell_type": "code",
   "execution_count": 270,
   "metadata": {
    "collapsed": false
   },
   "outputs": [],
   "source": [
    "from gurobipy import *\n"
   ]
  },
  {
   "cell_type": "code",
   "execution_count": 271,
   "metadata": {
    "collapsed": false
   },
   "outputs": [],
   "source": [
    "\n",
    "\n",
    "\n",
    "time_periods = [\"January\", \"February\", \"March\", \"April\", \"May\", \"June\"]\n",
    "\n",
    "oils = [\"VEG1\", \"VEG2\", \"OIL1\", \"OIL2\", \"OIL3\"]\n",
    "\n",
    "prices = tupledict({\n",
    "\t('January', 'VEG1'): 110,\n",
    "\t('January', 'VEG2'): 120,\n",
    "\t('January', 'OIL1'): 130,\n",
    "\t('January', 'OIL2'): 110,\n",
    "\t('January', 'OIL3'): 115,\n",
    "\t('February', 'VEG1'): 130,\n",
    "\t('February', 'VEG2'): 130,\n",
    "\t('February', 'OIL1'): 110,\n",
    "\t('February', 'OIL2'): 90,\n",
    "\t('February', 'OIL3'): 115,\n",
    "\t('March', 'VEG1'): 110,\n",
    "\t('March', 'VEG2'): 140,\n",
    "\t('March', 'OIL1'): 130,\n",
    "\t('March', 'OIL2'): 100,\n",
    "\t('March', 'OIL3'): 95,\n",
    "\t('April', 'VEG1'): 120,\n",
    "\t('April', 'VEG2'): 110,\n",
    "\t('April', 'OIL1'): 120,\n",
    "\t('April', 'OIL2'): 120,\n",
    "\t('April', 'OIL3'): 125,\n",
    "\t('May', 'VEG1'): 100,\n",
    "\t('May', 'VEG2'): 120,\n",
    "\t('May', 'OIL1'): 150,\n",
    "\t('May', 'OIL2'): 110,\n",
    "\t('May', 'OIL3'): 105,\n",
    "\t('June', 'VEG1'): 90,\n",
    "\t('June', 'VEG2'): 100,\n",
    "\t('June', 'OIL1'): 140,\n",
    "\t('June', 'OIL2'): 80,\n",
    "\t('June', 'OIL3'): 135\n",
    "})\n",
    "\n",
    "\n",
    "hardness = {\"VEG1\": 8.8, \"VEG2\": 6.1, \"OIL1\": 2.0, \"OIL2\": 4.2, \"OIL3\": 5.0}\n",
    "\n",
    "price = 150\n",
    "IStore = 500\n",
    "vegCapa = 200\n",
    "oilCapa = 250\n",
    "\n",
    "hardness_lb = 3\n",
    "hardness_ub = 6\n",
    "store_pricing = 5\n",
    "\n",
    "# II Example settings\n",
    "min_oil_used = 20"
   ]
  },
  {
   "cell_type": "markdown",
   "metadata": {},
   "source": [
    "\n",
    "### Step 2: Create  model"
   ]
  },
  {
   "cell_type": "code",
   "execution_count": 272,
   "metadata": {
    "collapsed": false
   },
   "outputs": [],
   "source": [
    "model = Model('Food Manufacture I')"
   ]
  },
  {
   "cell_type": "markdown",
   "metadata": {},
   "source": [
    "### Step 3: Create activitiy variables"
   ]
  },
  {
   "cell_type": "code",
   "execution_count": 273,
   "metadata": {
    "collapsed": false
   },
   "outputs": [],
   "source": [
    "# 生产数量 Quantity of food produced in each period # 简单数值的 vars 可以使用  food.sum()\n",
    "food = model.addVars(time_periods, name = \"Food\")\n",
    "# 提炼refine 数量 Quantity used of each product  in each period  \n",
    "use = model.addVars(time_periods, oils, name = \"Use\")\n",
    "# Quantity stored of each product  in each period  # 简单数值的 vars 可以使用  store.sum()\n",
    "store = model.addVars(time_periods, oils, name = \"Store\")\n",
    "\n",
    "# 购买原材料 Quantity bought of each product in each period # 生产 Buy 矩阵, 预备和 prices 进行矩阵相乘 buy.prodct(prices)\n",
    "buy = model.addVars( time_periods, oils , name = \"Buy\")\n",
    "\n",
    "# ii add vars\n",
    "oils_used = model.addVars(time_periods, oils, vtype=GRB.BINARY, name = \"oils_used\")"
   ]
  },
  {
   "cell_type": "markdown",
   "metadata": {},
   "source": [
    "### Step 4: Set objective function"
   ]
  },
  {
   "cell_type": "code",
   "execution_count": 274,
   "metadata": {
    "collapsed": false
   },
   "outputs": [],
   "source": [
    "\n",
    "# Objective\n",
    "obj = price*food.sum() - buy.prod(prices) - store_pricing*store.sum()\n",
    "model.setObjective(obj, GRB.MAXIMIZE) # maximize profit\n",
    "\n",
    "# 我们的写法\n",
    "# 设定约束: capa 限制 200/250\n",
    "# for t in time_periods:\n",
    "#     model.addConstr(quicksum([store[t, o] for o in oils if (o == \"VEG1\" or o == \"VEG2\")] ) ==vegCapa)\n",
    "#     model.addConstr(quicksum([store[t, o] for o in oils if (o == \"OIL1\" or o == \"OIL2\" or o == \"OIL3\")] ) ==oilCapa)\n",
    "\n",
    "# 设定约束: Buy - Use == Store\n",
    "#model.addConstrs(buy[t, o] - use[t, o] == store[t, o] for t in time_periods for o in oils)"
   ]
  },
  {
   "cell_type": "markdown",
   "metadata": {},
   "source": [
    "### Step 5: Add constraints"
   ]
  },
  {
   "cell_type": "code",
   "execution_count": 275,
   "metadata": {
    "collapsed": false
   },
   "outputs": [
    {
     "data": {
      "text/plain": [
       "{'April': <gurobi.Constr *Awaiting Model Update*>,\n",
       " 'February': <gurobi.Constr *Awaiting Model Update*>,\n",
       " 'January': <gurobi.Constr *Awaiting Model Update*>,\n",
       " 'June': <gurobi.Constr *Awaiting Model Update*>,\n",
       " 'March': <gurobi.Constr *Awaiting Model Update*>,\n",
       " 'May': <gurobi.Constr *Awaiting Model Update*>}"
      ]
     },
     "execution_count": 275,
     "metadata": {},
     "output_type": "execute_result"
    }
   ],
   "source": [
    "\n",
    "#Initial Balance \n",
    "# 第一个月的仓储平衡 IStore + Buy = Use + Store\n",
    "model.addConstrs((IStore + buy[time_periods[0], oil] ==\n",
    "     use[time_periods[0], oil] + store[time_periods[0], oil] for oil in oils), \"Initial_Balance\")\n",
    "\n",
    "#Balance\n",
    "# 中间各个月(除第一个月 != time_periods[0] 以外) 的仓储平衡 Store[last_month] + Buy = Use + Store\n",
    "model.addConstrs(\n",
    "\t(store[time_periods[time_periods.index(time_period)-1], oil] + buy[time_period, oil] ==\n",
    "     use[time_period, oil] + store[time_period, oil]\n",
    "     for oil in oils for time_period in time_periods if time_period != time_periods[0]), \"Balance\")\n",
    "\n",
    "#End Store\n",
    "# 最后一个月的仓储平衡\n",
    "model.addConstrs((store[time_periods[-1], oil] == IStore for oil in oils),\n",
    "\t\t\t\t \"End_Balance\")\n",
    "\n",
    "# Capacity1 & Capacity2\n",
    "# 每个月的仓储限制 VEG < vegCap 200; OIL < oilCap 250\n",
    "model.addConstrs(\n",
    "\t(quicksum(use[time_period, oil] for oil in oils if \"VEG\" in oil) <= vegCapa\n",
    "\t for time_period in time_periods), \"Capacity_Veg\")\n",
    "model.addConstrs(\n",
    "\t(quicksum(use[time_period, oil] for oil in oils if \"OIL\" in oil) <= oilCapa\n",
    "\t for time_period in time_periods), \"Capacity_Oil\")\n",
    "\n",
    "# Hardness\n",
    "# 每月最终产品 Food 的 Hardness 区间限制  hardness_lb < [hardness]*[oils]/food < hardness_ub\n",
    "model.addConstrs(\n",
    "\t(quicksum(hardness[oil] * use[time_period, oil] for oil in oils)\n",
    "\t >= hardness_lb * food[time_period] for time_period in time_periods),\n",
    "\t\"Hardness_lower\")\n",
    "model.addConstrs(\n",
    "\t(quicksum(hardness[oil] * use[time_period, oil] for oil in oils)\n",
    "\t <= hardness_ub * food[time_period] for time_period in time_periods),\n",
    "\t\"Hardness_upper\")\n",
    "\n",
    "# Conserve\n",
    "model.addConstrs((use.sum(time_period) == food[time_period]\n",
    "\t\t\t\t  for time_period in time_periods), name=\"Conserve_use[{}]_eq_food[{}]\".format(time_period, time_period))\n"
   ]
  },
  {
   "cell_type": "code",
   "execution_count": 281,
   "metadata": {
    "collapsed": false
   },
   "outputs": [
    {
     "name": "stdout",
     "output_type": "stream",
     "text": [
      "selected constr: <gurobi.Constr Conserve_use[June]_eq_food[June][January]>\n",
      "selected constr: <gurobi.Constr Conserve_use[June]_eq_food[June][February]>\n",
      "selected constr: <gurobi.Constr Conserve_use[June]_eq_food[June][March]>\n",
      "selected constr: <gurobi.Constr Conserve_use[June]_eq_food[June][April]>\n",
      "selected constr: <gurobi.Constr Conserve_use[June]_eq_food[June][May]>\n",
      "selected constr: <gurobi.Constr Conserve_use[June]_eq_food[June][June]>\n"
     ]
    }
   ],
   "source": [
    "### 问题2 新增约束 ii add constrains\n",
    "# The use of VEG1 or VEG2 in a given month requires the use of OIL3 in that same month.\n",
    "# model.addConstrs( (oils_used[t,\"OIL3\"] == 1 \n",
    "# \t\t\t\t  for t in time_periods if oils_used[t,\"VEG1\"] == 1) , \"oids_used1\")\n",
    "# model.addConstrs( (oils_used[t,\"OIL3\"] == 1 \n",
    "# \t\t\t\t  for t in time_periods if oils_used[t,\"VEG2\"] == 1) , \"oids_used2\")\n",
    "\n",
    "\n",
    "# Cond 1 (force condition: d=1 -> use>0)\n",
    "# model.addConstrs((oils_used.sum(time_period) <= 3 for time_period in time_periods), \"Cond1\")\n",
    "# 我们的写法也是对的 \n",
    "# The maximum number of oils used in a month is three.\n",
    "model.addConstrs( (quicksum ( [oils_used[t, o] for o in oils] ) <=3 \n",
    "                 for t in time_periods) , \"Cond1\")\n",
    "\n",
    "# Cond 2\n",
    "##### Using Gurobi's General Constraints\n",
    "# 这里的 name = \"Cond2a_\" 在后面的 print 中不能被查看到\n",
    "# for time_period in time_periods:\n",
    "#     for oil in oils:\n",
    "#         model. addGenConstrIndicator(oils_used[time_period, oil], 0,  use[time_period, oil] == 0,\n",
    "#                         name = \"Cond2a_{}_{}\".format(oil, time_period))\n",
    "#         model. addGenConstrIndicator(oils_used[time_period, oil], 1,  use[time_period, oil] >=  20,\n",
    "#                         name = \"Cond2b_{}_{}\".format(oil, time_period))\n",
    "\n",
    "# Cond 2 (MIP不正确)\n",
    "# 我们的if写法不成功, 因为if 写法在 constrs 中不被支持, 会生成过多的constrs 导致不可行; \n",
    "# If an oil is used during a month, the minimum quantity used must be 20 tons\n",
    "# for t in time_periods:    \n",
    "#         model.addConstrs( ( use[t, o] >=20\n",
    "# \t\t\t\t   for o in oils if oils_used[t, o] == 1) , \"Cond2b_use[t,o]_gt20_if_oils_used[t,o]_{}_{}\".format(oil, time_period))\n",
    "#         model.addConstrs( ( use[t, o] ==0\n",
    "# \t\t\t\t  for o in oils if oils_used[t, o] == 0) , \"Cond2a_eq0_{}_{}\".format(oil, time_period))\n",
    "\n",
    "# Cond 2: (MIP正确)\n",
    "# 需要使用上面 2个 addGenConstrIndicator (更容易理解) \n",
    "# 改写为下面的 3个 表达式 (更不容易理解, 需要区分不同的使用油); \n",
    "#  if 1 > min_oil_used\n",
    "model.addConstrs(\n",
    "\t(use[time_period, oil] - min_oil_used * oils_used[time_period, oil] >= 0\n",
    "\t for time_period in time_periods\n",
    "\t for oil in oils), \"Cond2\")\n",
    "#下面的表达式要包含两种可能性\n",
    "#  0 - vegCapa * 0 = 0\n",
    "#  use - vegCapa(Max) * 1 < 0\n",
    "model.addConstrs(\n",
    "\t(use[time_period, oil] - vegCapa * oils_used[time_period, oil] <= 0\n",
    "\t for time_period in time_periods\n",
    "\t for oil in oils if \"VEG\" in oil), \"Cond2a\")\n",
    "model.addConstrs(\n",
    "\t(use[time_period, oil] - oilCapa * oils_used[time_period, oil] <= 0\n",
    "\t for time_period in time_periods\n",
    "\t for oil in oils if \"OIL\" in oil), \"Cond2a\")\n",
    "\n",
    "\n",
    "# Cond 3 If Veg1 or Veg2 are used then Oil3 must also be used in this month\n",
    "##### Using Gurobi General Constraints\n",
    "# for time_period in time_periods:\n",
    "#     model. addGenConstrIndicator(oils_used[time_period, \"VEG1\"], 1,  oils_used[time_period, \"OIL3\"] == 1, name = \"Cond3a_{}\".format(time_period))\n",
    "#     model. addGenConstrIndicator(oils_used[time_period, \"VEG2\"], 1,  oils_used[time_period, \"OIL3\"] == 1, name = \"Cond3b_{}\".format(time_period))\n",
    "# Cond 3 替换成 MIP 的写法    \n",
    "model.addConstrs((oils_used[time_period, \"VEG1\"] <= oils_used[time_period, \"OIL3\"] for time_period in time_periods),\"Cond3a\")\n",
    "model.addConstrs((oils_used[time_period, \"VEG2\"] <= oils_used[time_period, \"OIL3\"] for time_period in time_periods), \"Cond3b\")\n",
    "\n",
    "# [[oils_used[t, o] for o in oils] for t in time_periods]\n",
    "for x in model.getConstrs():\n",
    "    # print \"all constr:\", str(x)\n",
    "    # print x.getConstrs\n",
    "    if \"Cond2b_\" in str(x) or \"Conserve_use\" in str(x):\n",
    "        print \"selected constr:\" , x"
   ]
  },
  {
   "cell_type": "code",
   "execution_count": null,
   "metadata": {
    "collapsed": true
   },
   "outputs": [],
   "source": []
  },
  {
   "cell_type": "code",
   "execution_count": 277,
   "metadata": {
    "collapsed": false
   },
   "outputs": [],
   "source": [
    "# 补充缺失的约束条件\n",
    "# 缺失的的 1000 仓储平衡 Store , \n",
    "# 因为 obj 中 - store_pricing * store.sum()  的存在, 包括初始库存和最终库存的限制\n",
    "# 这个约束条件实际不起作用, 即使调节 store_pricing = -50 为负值时也变化不大\n",
    "#   \n",
    "# store_pricing = 0 #  obj = 1.640925926e+05\n",
    "store_pricing = 5 # obj = 1.078425926e+05\n",
    "cons = model.addConstrs(\n",
    "\t(store[time_period, oil] <= 1000000\n",
    "     for oil in oils for time_period in time_periods ), \"Storage_limit\")"
   ]
  },
  {
   "cell_type": "markdown",
   "metadata": {},
   "source": [
    "### Step 6: Solve model"
   ]
  },
  {
   "cell_type": "code",
   "execution_count": 278,
   "metadata": {
    "collapsed": true
   },
   "outputs": [],
   "source": [
    "# The objective is to max the profit\n",
    "obj = price * food.sum() - buy.prod(prices) - store_pricing * store.sum()\n",
    "model.setObjective(obj)"
   ]
  },
  {
   "cell_type": "code",
   "execution_count": 279,
   "metadata": {
    "collapsed": false,
    "scrolled": true
   },
   "outputs": [
    {
     "name": "stdout",
     "output_type": "stream",
     "text": [
      "Optimize a model with 161 rows, 126 columns and 438 nonzeros\n",
      "Model has 12 general constraints\n",
      "Variable types: 96 continuous, 30 integer (30 binary)\n",
      "Coefficient statistics:\n",
      "  Matrix range     [1e+00, 2e+02]\n",
      "  Objective range  [5e+00, 2e+02]\n",
      "  Bounds range     [1e+00, 1e+00]\n",
      "  RHS range        [3e+00, 1e+06]\n",
      "Presolve removed 60 rows and 55 columns\n",
      "Presolve time: 0.00s\n",
      "Presolved: 113 rows, 83 columns, 322 nonzeros\n",
      "Presolved model has 12 SOS constraint(s)\n",
      "Variable types: 41 continuous, 42 integer (30 binary)\n",
      "Found heuristic solution: objective -75000.00000\n",
      "\n",
      "Root relaxation: objective 1.078426e+05, 47 iterations, 0.00 seconds\n",
      "\n",
      "    Nodes    |    Current Node    |     Objective Bounds      |     Work\n",
      " Expl Unexpl |  Obj  Depth IntInf | Incumbent    BestBd   Gap | It/Node Time\n",
      "\n",
      "     0     0 107842.593    0    6 -75000.000 107842.593   244%     -    0s\n",
      "H    0     0                    66805.555556 107842.593  61.4%     -    0s\n",
      "H    0     0                    76205.555556 107842.593  41.5%     -    0s\n",
      "     0     0 105650.000    0    4 76205.5556 105650.000  38.6%     -    0s\n",
      "     0     2 105650.000    0    4 76205.5556 105650.000  38.6%     -    0s\n",
      "H   16    17                    86426.851852 105650.000  22.2%   5.2    0s\n",
      "H   16    17                    99078.703704 105650.000  6.63%   5.2    0s\n",
      "H   29    25                    99966.666667 105650.000  5.69%   6.0    0s\n",
      "H   32    26                    100191.66667 105650.000  5.45%   5.5    0s\n",
      "*   77    43              14    100213.88889 105650.000  5.42%   5.3    0s\n",
      "*  372    83              14    100278.70370 104650.000  4.36%   4.4    0s\n",
      "\n",
      "Cutting planes:\n",
      "  Cover: 1\n",
      "  Implied bound: 2\n",
      "  Inf proof: 6\n",
      "\n",
      "Explored 1329 nodes (5717 simplex iterations) in 0.18 seconds\n",
      "Thread count was 4 (of 4 available processors)\n",
      "\n",
      "Solution count 9: 100279 100214 100192 ... -75000\n",
      "Pool objective bound 100279\n",
      "\n",
      "Optimal solution found (tolerance 1.00e-04)\n",
      "Best objective 1.002787037037e+05, best bound 1.002787037037e+05, gap 0.0000%\n"
     ]
    }
   ],
   "source": [
    "model.optimize()\n",
    "\n",
    "# obj = Best objective 1.002787037037e+05"
   ]
  },
  {
   "cell_type": "markdown",
   "metadata": {},
   "source": [
    "### Step 8: Print variable values for optimal solution"
   ]
  },
  {
   "cell_type": "code",
   "execution_count": 280,
   "metadata": {
    "collapsed": false
   },
   "outputs": [
    {
     "name": "stdout",
     "output_type": "stream",
     "text": [
      "Food[January] 450.000000\n",
      "Food[February] 450.000000\n",
      "Food[March] 450.000000\n",
      "Food[April] 405.000000\n",
      "Food[May] 405.000000\n",
      "Food[June] 450.000000\n",
      "Use[January,VEG2] 200.000000\n",
      "Use[January,OIL2] 40.000000\n",
      "Use[January,OIL3] 210.000000\n",
      "Use[February,VEG1] 85.185185\n",
      "Use[February,VEG2] 114.814815\n",
      "Use[February,OIL3] 250.000000\n",
      "Use[March,VEG1] 85.185185\n",
      "Use[March,VEG2] 114.814815\n",
      "Use[March,OIL3] 250.000000\n",
      "Use[April,VEG1] 155.000000\n",
      "Use[April,OIL2] 230.000000\n",
      "Use[April,OIL3] 20.000000\n",
      "Use[May,VEG1] 155.000000\n",
      "Use[May,OIL2] 230.000000\n",
      "Use[May,OIL3] 20.000000\n",
      "Use[June,VEG2] 200.000000\n",
      "Use[June,OIL2] 230.000000\n",
      "Use[June,OIL3] 20.000000\n",
      "Store[January,VEG1] 500.000000\n",
      "Store[January,VEG2] 300.000000\n",
      "Store[January,OIL1] 500.000000\n",
      "Store[January,OIL2] 460.000000\n",
      "Store[January,OIL3] 290.000000\n",
      "Store[February,VEG1] 414.814815\n",
      "Store[February,VEG2] 185.185185\n",
      "Store[February,OIL1] 500.000000\n",
      "Store[February,OIL2] 460.000000\n",
      "Store[February,OIL3] 40.000000\n",
      "Store[March,VEG1] 329.629630\n",
      "Store[March,VEG2] 70.370370\n",
      "Store[March,OIL1] 500.000000\n",
      "Store[March,OIL2] 460.000000\n",
      "Store[March,OIL3] 520.000000\n",
      "Store[April,VEG1] 174.629630\n",
      "Store[April,VEG2] 70.370370\n",
      "Store[April,OIL1] 500.000000\n",
      "Store[April,OIL2] 230.000000\n",
      "Store[April,OIL3] 500.000000\n",
      "Store[May,VEG1] 19.629630\n",
      "Store[May,VEG2] 70.370370\n",
      "Store[May,OIL1] 500.000000\n",
      "Store[May,OIL3] 520.000000\n",
      "Store[June,VEG1] 500.000000\n",
      "Store[June,VEG2] 500.000000\n",
      "Store[June,OIL1] 500.000000\n",
      "Store[June,OIL2] 500.000000\n",
      "Store[June,OIL3] 500.000000\n",
      "Buy[February,OIL1] -0.000000\n",
      "Buy[March,OIL3] 730.000000\n",
      "Buy[April,OIL1] 0.000000\n",
      "Buy[May,OIL3] 40.000000\n",
      "Buy[June,VEG1] 480.370370\n",
      "Buy[June,VEG2] 629.629630\n",
      "Buy[June,OIL2] 730.000000\n",
      "oils_used[January,VEG2] 1.000000\n",
      "oils_used[January,OIL2] 1.000000\n",
      "oils_used[January,OIL3] 1.000000\n",
      "oils_used[February,VEG1] 1.000000\n",
      "oils_used[February,VEG2] 1.000000\n",
      "oils_used[February,OIL3] 1.000000\n",
      "oils_used[March,VEG1] 1.000000\n",
      "oils_used[March,VEG2] 1.000000\n",
      "oils_used[March,OIL3] 1.000000\n",
      "oils_used[April,VEG1] 1.000000\n",
      "oils_used[April,OIL2] 1.000000\n",
      "oils_used[April,OIL3] 1.000000\n",
      "oils_used[May,VEG1] 1.000000\n",
      "oils_used[May,OIL2] 1.000000\n",
      "oils_used[May,OIL3] 1.000000\n",
      "oils_used[June,VEG2] 1.000000\n",
      "oils_used[June,OIL2] 1.000000\n",
      "oils_used[June,OIL3] 1.000000\n"
     ]
    }
   ],
   "source": [
    "# Display solution (print the name of each variable and the solution value)\n",
    "for v in model.getVars():\n",
    "    if v.X != 0:\n",
    "        print(\"%s %f\" % (v.Varname, v.X))"
   ]
  }
 ],
 "metadata": {
  "anaconda-cloud": {},
  "kernelspec": {
   "display_name": "Python 2",
   "language": "python",
   "name": "python2"
  },
  "language_info": {
   "codemirror_mode": {
    "name": "ipython",
    "version": 2
   },
   "file_extension": ".py",
   "mimetype": "text/x-python",
   "name": "python",
   "nbconvert_exporter": "python",
   "pygments_lexer": "ipython2",
   "version": "2.7.13"
  }
 },
 "nbformat": 4,
 "nbformat_minor": 0
}
