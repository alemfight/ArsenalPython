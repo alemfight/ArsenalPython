{
 "cells": [
  {
   "cell_type": "markdown",
   "metadata": {},
   "source": [
    "## Open-Pit Mining\n",
    "Source: http://examples.gurobi.com/open-pit-mining/"
   ]
  },
  {
   "cell_type": "markdown",
   "metadata": {},
   "source": [
    "## Problem Description\n",
    "\n",
    "通用 project selection 项目选择问题，项目之间存在依赖关系。 对挖矿问题进行求解，不同采矿点存在依赖关系。\n",
    "\n",
    "一个 more general problem known as project selection. \n",
    "\n",
    "This example shows how Gurobi can be used to select the order of blocks removed from an open-pit mine. This example includes the more general problem of project selection that can be applied to a broad range of industries. http://examples.gurobi.com/open-pit-mining/ <br> \n",
    "\n",
    "4层(越深层挖矿难度越大 100k\\$-500k\\$ ) 28个块。 As an example we consider a mine where 28 blocks on 4 levels have been identified. \n",
    "\n",
    "不同颜色代表不同浓度的矿产, 价格也不同 0k-700k$ The colors of the blocks correspond to different concentrations(浓度） of ore (and hence different values of the blocks) and extraction costs increase with depth. <br> \n",
    "\n",
    "你可以点击改变矿的浓度 You can change the ore concentration of each block by clicking them. You can click the buttons on the top to change the type of concentration you want to add. Click the Mine away! button to compute the optimal block removing order using Gurobi. To restart, click on any block.\n"
   ]
  },
  {
   "cell_type": "markdown",
   "metadata": {},
   "source": [
    "### SourceCode"
   ]
  },
  {
   "cell_type": "code",
   "execution_count": 1,
   "metadata": {
    "collapsed": false
   },
   "outputs": [
    {
     "name": "stdout",
     "output_type": "stream",
     "text": [
      "Optimize a model with 6 rows, 6 columns and 12 nonzeros\n",
      "Variable types: 0 continuous, 6 integer (6 binary)\n",
      "Coefficient statistics:\n",
      "  Matrix range     [1e+00, 1e+00]\n",
      "  Objective range  [5e+01, 2e+02]\n",
      "  Bounds range     [1e+00, 1e+00]\n",
      "  RHS range        [0e+00, 0e+00]\n",
      "Found heuristic solution: objective 150\n",
      "Presolve removed 6 rows and 6 columns\n",
      "Presolve time: 0.00s\n",
      "Presolve: All rows and columns removed\n",
      "\n",
      "Explored 0 nodes (0 simplex iterations) in 0.03 seconds\n",
      "Thread count was 1 (of 4 available processors)\n",
      "\n",
      "Solution count 1: 200 \n",
      "Pool objective bound 200\n",
      "\n",
      "Optimal solution found (tolerance 1.00e-04)\n",
      "Best objective 2.000000000000e+02, best bound 2.000000000000e+02, gap 0.0000%\n"
     ]
    }
   ],
   "source": [
    "from gurobipy import *\n",
    "\n",
    "# Example data for problem\n",
    "cost = [100, 100, 100, 100, 200, 200];\n",
    "value = [50, 150, 150, 150, 300, 50];\n",
    "edges = [[4,0], [4,1], [4,2], [5,1], [5,2], [5,3]];\n",
    "\n",
    "m = Model()\n",
    "n = len(cost) # number of blocks\n",
    "\n",
    "# Indicator variable for each block\n",
    "x = {}\n",
    "for i in range(n):\n",
    "   x[i] = m.addVar(vtype=GRB.BINARY, name=\"x%d\" % i)\n",
    "\n",
    "m.update()\n",
    "\n",
    "# Set objective\n",
    "m.setObjective(quicksum((value[i] - cost[i])*x[i] for i in range(n)), GRB.MAXIMIZE)\n",
    "\n",
    "# Add constraints\n",
    "for edge in edges:\n",
    "   u = edge[0]\n",
    "   v = edge[1]\n",
    "   m.addConstr(x[u] <= x[v])\n",
    "\n",
    "m.optimize()"
   ]
  },
  {
   "cell_type": "markdown",
   "metadata": {},
   "source": [
    "## Optimal Result\n",
    "\n",
    "x5 价值 50 但需要 200 进行开采； 不值得挖，所以 x5=0\n",
    "```\n",
    "x0 1.000000\n",
    "x1 1.000000\n",
    "x2 1.000000\n",
    "x3 1.000000\n",
    "x4 1.000000\n",
    "x5 0.000000\n",
    "```"
   ]
  },
  {
   "cell_type": "code",
   "execution_count": 2,
   "metadata": {
    "collapsed": false
   },
   "outputs": [
    {
     "name": "stdout",
     "output_type": "stream",
     "text": [
      "x0 1.000000\n",
      "x1 1.000000\n",
      "x2 1.000000\n",
      "x3 1.000000\n",
      "x4 1.000000\n",
      "x5 0.000000\n"
     ]
    }
   ],
   "source": [
    "for v in m.getVars():\n",
    "    #if v.X != 0:\n",
    "        print(\"%s %f\" % (v.Varname, v.X))"
   ]
  }
 ],
 "metadata": {
  "anaconda-cloud": {},
  "kernelspec": {
   "display_name": "Python 2",
   "language": "python",
   "name": "python2"
  },
  "language_info": {
   "codemirror_mode": {
    "name": "ipython",
    "version": 2
   },
   "file_extension": ".py",
   "mimetype": "text/x-python",
   "name": "python",
   "nbconvert_exporter": "python",
   "pygments_lexer": "ipython2",
   "version": "2.7.13"
  }
 },
 "nbformat": 4,
 "nbformat_minor": 0
}
