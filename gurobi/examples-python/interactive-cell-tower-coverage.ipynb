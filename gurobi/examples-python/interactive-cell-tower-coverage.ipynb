{
 "cells": [
  {
   "cell_type": "markdown",
   "metadata": {},
   "source": [
    "## Cell Tower Coverage\n",
    "\n",
    "with integer programming and Gurobi\n",
    "\n",
    "Source: http://examples.gurobi.com/cell-tower-coverage/\n",
    "\n",
    "通用的 covering problem 覆盖问题; 在预算受限的情况下规划蜂窝电话塔的位置以完成最大人群覆盖。\n",
    "\n",
    "in this example we'll solve a simple covering problem: how to build cell towers to provide signal to the largest number of people.\n",
    "\n",
    "We'll construct a mathematical model of the business problem, implement this model in Gurobi's Python interface, and compute and visualize an optimal solution.\n",
    "\n",
    "Although your own business may not involve operating a telecommunications network, the same basic techniques used in this example can be used for many other applications.\n",
    "\n",
    "<img height=400 width=600 src=http://examples.gurobi.com/cell-tower-coverage/screenshot.png>\n"
   ]
  },
  {
   "cell_type": "markdown",
   "metadata": {},
   "source": [
    "## Problem Description\n",
    "\n",
    "\n",
    "A cell tower is a site where antennae and electronic equipment for communications are placed.\n",
    "\n",
    "In this example, a telecom company needs to build a set of cell towers to provide signal for inhabitants on Cape Cod. A number of potential locations for building the towers have been determined. The choice of these locations is based on several factors, including how well the tower blends in to the surrounding environment and the height of the terrain.\n",
    "\n",
    "塔覆盖的范围有限，建筑预算有限。\n",
    "\n",
    "The towers have a fixed range, and due to budget constraints only a limited number of them can be built. Given these restrictions, the company wishes to provide coverage to as large a fraction of the population as possible.\n",
    "\n",
    "To simplify the problem, the company has split the area it wishes to cover into a set of regions, each of which has a known population.\n",
    "\n",
    "A typical cell phone tower. Source: Joe Ravi - CC BY-SA 3.0\n",
    "The goal is then to choose at which of the potential locations the company should build cell towers to provide coverage to as many people as possible.\n"
   ]
  },
  {
   "cell_type": "markdown",
   "metadata": {},
   "source": [
    "## Implementation"
   ]
  },
  {
   "cell_type": "code",
   "execution_count": 1,
   "metadata": {
    "collapsed": false
   },
   "outputs": [
    {
     "name": "stdout",
     "output_type": "stream",
     "text": [
      "Optimize a model with 10 rows, 15 columns and 36 nonzeros\n",
      "Variable types: 0 continuous, 15 integer (15 binary)\n",
      "Coefficient statistics:\n",
      "  Matrix range     [1e+00, 9e+00]\n",
      "  Objective range  [4e+02, 1e+03]\n",
      "  Bounds range     [1e+00, 1e+00]\n",
      "  RHS range        [2e+01, 2e+01]\n",
      "Found heuristic solution: objective -0\n",
      "Presolve removed 4 rows and 5 columns\n",
      "Presolve time: 0.00s\n",
      "Presolved: 6 rows, 10 columns, 21 nonzeros\n",
      "Variable types: 0 continuous, 10 integer (10 binary)\n",
      "\n",
      "Root relaxation: objective 7.051000e+03, 1 iterations, 0.00 seconds\n",
      "\n",
      "    Nodes    |    Current Node    |     Objective Bounds      |     Work\n",
      " Expl Unexpl |  Obj  Depth IntInf | Incumbent    BestBd   Gap | It/Node Time\n",
      "\n",
      "*    0     0               0    7051.0000000 7051.00000  0.00%     -    0s\n",
      "\n",
      "Explored 0 nodes (1 simplex iterations) in 0.03 seconds\n",
      "Thread count was 4 (of 4 available processors)\n",
      "\n",
      "Solution count 2: 7051 -0 \n",
      "Pool objective bound 7051\n",
      "\n",
      "Optimal solution found (tolerance 1.00e-04)\n",
      "Best objective 7.051000000000e+03, best bound 7.051000000000e+03, gap 0.0000%\n"
     ]
    }
   ],
   "source": [
    "from gurobipy import *\n",
    "\n",
    "# Problem Data\n",
    "# Population in each region\n",
    "pop = [523, 690, 420, 1010, 1200, 850, 400, 1008, 950]\n",
    "# Regions covered by each tower\n",
    "sites = [[0,1,5], [0,7,8], [2,3,4,6], [2,5,6],\n",
    "         [0,2,6,7,8], [3,4,8]]\n",
    "# Cost to build tower (in millions of dollars)\n",
    "cost = [4.2, 6.1, 5.2, 5.5, 4.8, 9.2]\n",
    "# Allocated budget (in millions of dollars)\n",
    "budget = 20\n",
    "\n",
    "numR = len(pop) # Number of regions\n",
    "numT = len(sites) # Number of sites for towers\n",
    "\n",
    "m = Model()\n",
    "\n",
    "t = {} # Binary variables for each tower\n",
    "r = {} # Binary variable for each region\n",
    "\n",
    "for i in range(numT):\n",
    "  t[i] = m.addVar(vtype=GRB.BINARY, name=\"t%d\" % i)\n",
    "\n",
    "for j in range(numR):\n",
    "  r[j] = m.addVar(vtype=GRB.BINARY, name=\"r%d\" % j)\n",
    "\n",
    "m.update()\n",
    "\n",
    "for j in range(numR):\n",
    "  m.addConstr(quicksum(t[i] for i in range(numT) if j in sites[i]) >= r[j])\n",
    "\n",
    "m.addConstr(quicksum( cost[i]*t[i] for i in range(numT) ) <= budget)\n",
    "\n",
    "m.setObjective(quicksum( pop[j]*r[j] for j in range(numR) ), GRB.MAXIMIZE)\n",
    "\n",
    "m.optimize()"
   ]
  },
  {
   "cell_type": "markdown",
   "metadata": {},
   "source": [
    "## Optimal Result\n"
   ]
  },
  {
   "cell_type": "code",
   "execution_count": 2,
   "metadata": {
    "collapsed": false
   },
   "outputs": [
    {
     "name": "stdout",
     "output_type": "stream",
     "text": [
      "t0 1.000000\n",
      "t1 0.000000\n",
      "t2 1.000000\n",
      "t3 -0.000000\n",
      "t4 1.000000\n",
      "t5 -0.000000\n",
      "r0 1.000000\n",
      "r1 1.000000\n",
      "r2 1.000000\n",
      "r3 1.000000\n",
      "r4 1.000000\n",
      "r5 1.000000\n",
      "r6 1.000000\n",
      "r7 1.000000\n",
      "r8 1.000000\n"
     ]
    }
   ],
   "source": [
    "for v in m.getVars():\n",
    "    #if v.X != 0:\n",
    "        print(\"%s %f\" % (v.Varname, v.X))"
   ]
  }
 ],
 "metadata": {
  "anaconda-cloud": {},
  "kernelspec": {
   "display_name": "Python 2",
   "language": "python",
   "name": "python2"
  },
  "language_info": {
   "codemirror_mode": {
    "name": "ipython",
    "version": 2
   },
   "file_extension": ".py",
   "mimetype": "text/x-python",
   "name": "python",
   "nbconvert_exporter": "python",
   "pygments_lexer": "ipython2",
   "version": "2.7.13"
  }
 },
 "nbformat": 4,
 "nbformat_minor": 0
}
