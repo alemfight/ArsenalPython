{
 "cells": [
  {
   "cell_type": "markdown",
   "metadata": {},
   "source": [
    "## Facility Location\n",
    "\n",
    "with integer programming and Gurobi\n",
    "\n",
    "Source: http://examples.gurobi.com/facility-location/\n",
    "\n",
    "通用 facility location problem 生产问题，包括供应链，物流，运输问题等。 交互式例子为英国通过库房供应超级市场的选址问题。\n",
    "\n",
    "In this example we'll solve a simple facility location problem: where to build warehouses to supply a large number of supermarkets.\n",
    "\n",
    "We'll construct a mathematical model of the business problem, implement this model in Gurobi's Python interface, and compute and visualize an optimal solution.\n",
    "\n",
    "Although your own business may not involve supermarkets, the same basic techniques used in this example can be used for many other applications in supply chain, logistics and transportation.\n",
    "\n",
    "<img height=400 width=600 src=http://examples.gurobi.com/facility-location/screenshot.png>\n"
   ]
  },
  {
   "cell_type": "markdown",
   "metadata": {},
   "source": [
    "## Problem Description\n",
    "\n",
    "\n",
    "超市位置已经决定， 但是仓储位置还待选择。\n",
    "\n",
    "A large supermarket chain in the UK needs to build warehouses for a set of supermarkets it is opening in Northern England. The locations of the supermarkets have been decided, but the locations of the warehouses are yet to be chosen.\n",
    "\n",
    "有些候选位置待考虑。\n",
    "\n",
    "Several good candidate locations for the warehouses have been determined, but it remains to decide how many warehouses to open and at which candidate locations to build them.\n",
    "\n",
    "A typical warehouse. Source: Axisadman - CC BY-SA 3.0\n",
    "Opening many warehouses would be advantageous as this would reduce the average distance a truck has to drive from warehouse to supermarket, and hence reduce the delivery cost. However, opening a warehouse is costly.\n",
    "\n",
    "We will use Gurobi to find the optimal tradeoff between delivery cost and the cost of building new facilities.\n"
   ]
  },
  {
   "cell_type": "markdown",
   "metadata": {},
   "source": [
    "## Implementation"
   ]
  },
  {
   "cell_type": "code",
   "execution_count": 1,
   "metadata": {
    "collapsed": false
   },
   "outputs": [
    {
     "name": "stdout",
     "output_type": "stream",
     "text": [
      "Optimize a model with 20 rows, 27 columns and 54 nonzeros\n",
      "Variable types: 18 continuous, 9 integer (9 binary)\n",
      "Coefficient statistics:\n",
      "  Matrix range     [1e+00, 1e+00]\n",
      "  Objective range  [5e-01, 4e+00]\n",
      "  Bounds range     [1e+00, 1e+00]\n",
      "  RHS range        [1e+00, 1e+00]\n",
      "Presolve time: 0.00s\n",
      "Presolved: 20 rows, 27 columns, 54 nonzeros\n",
      "Variable types: 18 continuous, 9 integer (9 binary)\n",
      "\n",
      "Root relaxation: objective 4.723713e+00, 15 iterations, 0.00 seconds\n",
      "\n",
      "    Nodes    |    Current Node    |     Objective Bounds      |     Work\n",
      " Expl Unexpl |  Obj  Depth IntInf | Incumbent    BestBd   Gap | It/Node Time\n",
      "\n",
      "*    0     0               0       4.7237129    4.72371  0.00%     -    0s\n",
      "\n",
      "Explored 0 nodes (15 simplex iterations) in 0.03 seconds\n",
      "Thread count was 4 (of 4 available processors)\n",
      "\n",
      "Solution count 1: 4.72371 \n",
      "Pool objective bound 4.72371\n",
      "\n",
      "Optimal solution found (tolerance 1.00e-04)\n",
      "Best objective 4.723712908962e+00, best bound 4.723712908962e+00, gap 0.0000%\n"
     ]
    }
   ],
   "source": [
    "from gurobipy import *\n",
    "import math\n",
    "\n",
    "def distance(a,b):\n",
    "  dx = a[0] - b[0]\n",
    "  dy = a[1] - b[1]\n",
    "  return math.sqrt(dx*dx + dy*dy)\n",
    "\n",
    "# Problem data\n",
    "clients = [[0, 1.5],[2.5, 1.2]]\n",
    "facilities = [[0,0],[0,1],[0,1],\n",
    "              [1,0],[1,1],[1,2],\n",
    "              [2,0],[2,1],[2,2]]\n",
    "charge = [3,2,3,1,3,3,4,3,2]\n",
    "\n",
    "numFacilities = len(facilities)\n",
    "numClients = len(clients)\n",
    "\n",
    "m = Model()\n",
    "\n",
    "# Add variables\n",
    "x = {}\n",
    "y = {}\n",
    "d = {} # Distance matrix (not a variable)\n",
    "alpha = 1\n",
    "\n",
    "for j in range(numFacilities):\n",
    "  x[j] = m.addVar(vtype=GRB.BINARY, name=\"x%d\" % j)\n",
    "\n",
    "for i in range(numClients):\n",
    "  for j in range(numFacilities):\n",
    "    y[(i,j)] = m.addVar(lb=0, vtype=GRB.CONTINUOUS, name=\"t%d,%d\" % (i,j))\n",
    "    d[(i,j)] = distance(clients[i], facilities[j])\n",
    "\n",
    "m.update()\n",
    "\n",
    "# Add constraints\n",
    "for i in range(numClients):\n",
    "  for j in range(numFacilities):\n",
    "    m.addConstr(y[(i,j)] <= x[j])\n",
    "\n",
    "for i in range(numClients):\n",
    "  m.addConstr(quicksum(y[(i,j)] for j in range(numFacilities)) == 1)\n",
    "\n",
    "m.setObjective( quicksum(charge[j]*x[j] + quicksum(alpha*d[(i,j)]*y[(i,j)]\n",
    "                for i in range(numClients)) for j in range(numFacilities)) )\n",
    "\n",
    "m.optimize()"
   ]
  },
  {
   "cell_type": "markdown",
   "metadata": {},
   "source": [
    "## Optimal Result\n"
   ]
  },
  {
   "cell_type": "code",
   "execution_count": 2,
   "metadata": {
    "collapsed": false
   },
   "outputs": [
    {
     "name": "stdout",
     "output_type": "stream",
     "text": [
      "x3 1.000000\n",
      "t0,3 1.000000\n",
      "t1,3 1.000000\n"
     ]
    }
   ],
   "source": [
    "for v in m.getVars():\n",
    "    if v.X != 0:\n",
    "        print(\"%s %f\" % (v.Varname, v.X))"
   ]
  },
  {
   "cell_type": "markdown",
   "metadata": {},
   "source": [
    "## Live Demo\n",
    "\n",
    "UK英国 GeoLytix 公司的供应链数据。\n",
    "\n",
    "Below is a visualization of our example. We are using the location data from GeoLytix for a large supermarket chain in the UK, and visualizing its outlets in Northern England.\n",
    "\n",
    "有些仓库地址已经在候选当中。\n",
    "\n",
    "The supermarkets are represented by: \n",
    "\n",
    "By clicking the map you can add potential warehouse locations. These are represented by: \n",
    "\n",
    "点击以可追加新的仓库地址。\n",
    "\n",
    "Click \"Compute Warehouse Locations\" to find the locations where warehouses will be built using Gurobi. These will be represented by: \n",
    "\n",
    "A few potential warehouse locations have already been set up, but you can add more by clicking the screen.\n",
    "\n",
    "运输费用为 3 pounds/mile。\n",
    "\n",
    "The cost of transportation is 3 pounds/mile. You can use the slider to vary the cost of building a warehouse. When the cost is low, many facilities will be built. When the cost is high, it will dominate the transportation cost and there will be fewer facilities with greater driving distances.\n",
    "\n",
    "\n",
    "构建仓库的费用从 0.5-3 million pounds；所以直觉上来说就是仓库费用越高，建的数量越少。\n",
    "\n",
    "Cost to build warehouse:\n"
   ]
  }
 ],
 "metadata": {
  "anaconda-cloud": {},
  "kernelspec": {
   "display_name": "Python 2",
   "language": "python",
   "name": "python2"
  },
  "language_info": {
   "codemirror_mode": {
    "name": "ipython",
    "version": 2
   },
   "file_extension": ".py",
   "mimetype": "text/x-python",
   "name": "python",
   "nbconvert_exporter": "python",
   "pygments_lexer": "ipython2",
   "version": "2.7.13"
  }
 },
 "nbformat": 4,
 "nbformat_minor": 0
}
