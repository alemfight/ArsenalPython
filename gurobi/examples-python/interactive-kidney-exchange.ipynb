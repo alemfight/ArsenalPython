{
 "cells": [
  {
   "cell_type": "markdown",
   "metadata": {},
   "source": [
    "## Facility Location\n",
    "\n",
    "with integer programming and Gurobi\n",
    "\n",
    "Source: http://examples.gurobi.com/kidney-exchange/\n",
    "\n",
    "简单的生产规划问题，采用 piecewise-linear 目标函数。\n",
    "\n",
    "in this example we'll solve a simple production scheduling problem and demonstrate the use of piecewise-linear objectives in Gurobi.\n",
    "\n",
    "\n",
    "<img height=400 width=600 src=http://examples.gurobi.com/kidney-exchange/screenshot.png>\n"
   ]
  },
  {
   "cell_type": "markdown",
   "metadata": {},
   "source": [
    "## Problem Description\n",
    "\n",
    "piecewise-linear 函数用于进行函数。可选取 n 个点来模拟目标函数，n 越大模拟越精确。\n",
    "\n",
    "Before presenting the example, we briefly review piecewise-linear functions. Piecewise-linear functions can be used to approximate arbitrary (nonlinear) functions. As an example, the function\n",
    " \n",
    "$$\n",
    "f(x)=−(x−2.5)^2+sin(kx)+3 \n",
    "$$\n",
    " \n",
    " \n",
    "and its piecewise-linear approximation are shown on the visualization below. You can vary the number of sample points $n$ and the parameter $k$ to see how the piecewise-linear approximation changes.\n",
    "\n",
    "如果函数非凸，此问题可以用 piecewise-linear 目标函数作为MIP求解； 如果是凸问题，则直接可以用LP求解。\n",
    "\n",
    "The function $f(x)$ is not convex. But $f(x)$ can still be minimized/maximized with Gurobi by invoking piecewise-linear objectives. The problem will be transformed to a MIP and solved. If $f(x)$ is convex, the model is directly solved as an LP.\n",
    "\n",
    "Piecewise-linear objectives arise naturally in many different applications. In this example, we will see how piecewise-linear objectives are used to solve problems that include soft constraints.\n",
    "\n",
    "We consider a pulp and paper factory which uses wood as a raw material to produce different types of paper, cardboard and pulp. Each product has a cost and can be produced at a certain rate. The goal is then to decide, given the demand, the amount of each item to produce to maximize the profit.\n",
    "\n",
    "The factory can only run for a limited number of hours. To model this, we could add a hard constraint. For example, limiting the number of work hours in a week to 50. In reality, it is often the case that we can go beyond the time limit, but only if we pay overtime costs. So if 55 hours of work were done in a week, the first 50 would incur no extra cost, but we would pay a penalty of 100 $/hour for the final 5 hours. This is a soft constraint, because it can be violated if a penalty is payed.\n",
    "\n",
    "Piecewise-linear objectives also arise in other contexts, for example in modelling reversible activites, piecewise-linear costs, approximating nonlinear functions, and many more."
   ]
  },
  {
   "cell_type": "markdown",
   "metadata": {},
   "source": [
    "## Implementation"
   ]
  },
  {
   "cell_type": "code",
   "execution_count": 1,
   "metadata": {
    "collapsed": false
   },
   "outputs": [
    {
     "name": "stdout",
     "output_type": "stream",
     "text": [
      "Optimize a model with 2 rows, 3 columns and 4 nonzeros\n",
      "Model has 1 piecewise-linear objective term\n",
      "Variable types: 3 continuous, 0 integer (0 binary)\n",
      "Coefficient statistics:\n",
      "  Matrix range     [2e-02, 1e+00]\n",
      "  Objective range  [2e+01, 3e+01]\n",
      "  Bounds range     [9e+02, 1e+03]\n",
      "  RHS range        [4e+01, 4e+01]\n",
      "Found heuristic solution: objective -500\n",
      "Presolve removed 1 rows and 0 columns\n",
      "Presolve time: 0.00s\n",
      "Presolved: 2 rows, 43 columns, 44 nonzeros\n",
      "Variable types: 43 continuous, 0 integer (0 binary)\n",
      "\n",
      "Root relaxation: objective 4.819000e+04, 1 iterations, 0.00 seconds\n",
      "\n",
      "    Nodes    |    Current Node    |     Objective Bounds      |     Work\n",
      " Expl Unexpl |  Obj  Depth IntInf | Incumbent    BestBd   Gap | It/Node Time\n",
      "\n",
      "*    0     0               0    48190.000000 48190.0000  0.00%     -    0s\n",
      "\n",
      "Explored 0 nodes (1 simplex iterations) in 0.02 seconds\n",
      "Thread count was 4 (of 4 available processors)\n",
      "\n",
      "Solution count 2: 48190 -500 \n",
      "Pool objective bound 48190\n",
      "\n",
      "Optimal solution found (tolerance 1.00e-04)\n",
      "Best objective 4.819000000000e+04, best bound 4.819000000000e+04, gap 0.0000%\n"
     ]
    }
   ],
   "source": [
    "from gurobipy import *\n",
    "\n",
    "def cost(x, limithours, penalty):\n",
    "    if x < limithours:\n",
    "        return basecost\n",
    "    else:\n",
    "        return basecost + (x-limithours)*penalty\n",
    "\n",
    "# Example data\n",
    "rate = [50,40]; revenue = [25,32]; limit = [1200,920];\n",
    "limithours = 20; maxhours = 40; penalty = 100; basecost = 500;\n",
    "\n",
    "n = len(rate) # number of products\n",
    "\n",
    "m = Model()\n",
    "\n",
    "# Add variables\n",
    "x = {}\n",
    "\n",
    "for i in range(n):\n",
    "    x[i] = m.addVar(ub = limit[i], vtype=GRB.CONTINUOUS, name=\"x%d\" % i)\n",
    "\n",
    "t = m.addVar(vtype=GRB.CONTINUOUS, name=\"t\")\n",
    "\n",
    "m.update()\n",
    "\n",
    "# Add constraints\n",
    "m.addConstr(t == quicksum( x[j]/rate[j] for j in range(n)))\n",
    "\n",
    "m.addConstr(t <= maxhours)\n",
    "\n",
    "# 使用 传统 setObjective\n",
    "# Set objective\n",
    "# 由于使用了下面setPWLObj，所以这句应该是无效的\n",
    "m.setObjective( quicksum(revenue[i]*x[i] for i in range(n)), GRB.MAXIMIZE)\n",
    "\n",
    "# 附加 setPWLObj \n",
    "# Set piecewise linear objective\n",
    "nPts = 101\n",
    "ti = []\n",
    "costi = []\n",
    "lb = 0\n",
    "ub = maxhours;\n",
    "\n",
    "for i in range(nPts):\n",
    "    ti.append(lb + (ub - lb) * i / (nPts - 1))\n",
    "    costi.append(-cost(ti[i], limithours, penalty))\n",
    "\n",
    "m.setPWLObj(t, ti, costi)\n",
    "\n",
    "m.optimize()"
   ]
  },
  {
   "cell_type": "markdown",
   "metadata": {},
   "source": [
    "## Optimal Result\n",
    "\n",
    "TOOD：objVal变化了。但是为什么Vars没有变化，还都是850, 920？ \n",
    "\n",
    "``` \n",
    "使用 传统 setObjective\n",
    "最优值为: 50690.0\n",
    "x0 850.000000\n",
    "x1 920.000000\n",
    "t 40.000000\n",
    "\n",
    "附加 setPWLObj\n",
    "最优值为: 48190.0\n",
    "x0 850.000000\n",
    "x1 920.000000\n",
    "t 40.000000\n",
    "```"
   ]
  },
  {
   "cell_type": "code",
   "execution_count": 2,
   "metadata": {
    "collapsed": false
   },
   "outputs": [
    {
     "name": "stdout",
     "output_type": "stream",
     "text": [
      "最优值为: 48190.0\n",
      "x0 850.000000\n",
      "x1 920.000000\n",
      "t 40.000000\n"
     ]
    }
   ],
   "source": [
    "print \"最优值为:\", m.objVal\n",
    "for v in m.getVars():\n",
    "    if v.X != 0:\n",
    "        print(\"%s %f\" % (v.Varname, v.X))"
   ]
  },
  {
   "cell_type": "markdown",
   "metadata": {},
   "source": [
    "## Live Demo\n",
    "\n",
    "Below is a visualization of our problem.\n",
    "\n",
    "每个圆圈代表一个产品，下方是生产率、预算和生产限制。\n",
    "\n",
    "Each product is represented by a circle, with the given production rate, revenue and production limit written below.\n",
    "\n",
    "piecewise阈值(piecewise-linear penalty )函数是可以修改的。\n",
    "\n",
    "You can modify the piecewise-linear penalty function by dragging the points on the graph.\n",
    "\n",
    "Click \"Compute\" to find the optimal production schedule. If a product is built, the circle representing it will be filled.\n"
   ]
  }
 ],
 "metadata": {
  "anaconda-cloud": {},
  "kernelspec": {
   "display_name": "Python 2",
   "language": "python",
   "name": "python2"
  },
  "language_info": {
   "codemirror_mode": {
    "name": "ipython",
    "version": 2
   },
   "file_extension": ".py",
   "mimetype": "text/x-python",
   "name": "python",
   "nbconvert_exporter": "python",
   "pygments_lexer": "ipython2",
   "version": "2.7.13"
  }
 },
 "nbformat": 4,
 "nbformat_minor": 0
}
