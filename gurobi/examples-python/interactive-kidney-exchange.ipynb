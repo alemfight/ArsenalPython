{
 "cells": [
  {
   "cell_type": "markdown",
   "metadata": {},
   "source": [
    "## Kidney Exchange\n",
    "\n",
    "with integer programming and Gurobi\n",
    "\n",
    "Source: http://examples.gurobi.com/kidney-exchange/\n",
    "\n",
    "器官移植问题, 在捐助者和病人之间进行配型. \n",
    "\n",
    "In this example we'll solve the Kidney Exchange Problem: how to exchange kidneys between donors and patients in need of a transplant.\n",
    "\n",
    "<img height=200 width=400 src=http://examples.gurobi.com/kidney-exchange/screenshot.png>\n"
   ]
  },
  {
   "cell_type": "markdown",
   "metadata": {},
   "source": [
    "## Problem Description\n",
    "\n",
    "\n",
    "在美国, 有10万人在等候移植列表. 病人要等候4-5年时间. 4000人在等候时死亡.\n",
    "\n",
    "According to the New York Times, in the United States there are more than 100,000 people, on the transplant list, waiting for a kidney. Patients typically wait four to five years before a transplant. In 2014, more than 4,000 people died while waiting on the transplant list.\n",
    "\n",
    "New software and algorithms, many of them based on integer programming, have recently been developed to better match patients with donors. In this example, we will see how an integer programming model based on exchanging kidneys can help more transplants happen.\n",
    "\n",
    "Often a patient in need of a transplant has a friend or family member who is willing to donate their kidney. However, because of differences in blood types and proteins in the blood, the potential donor may be incompatiable with the patient. Thus a transplant cannot be made, or if the transplant were to occur, the recipient would have a high chance of rejecting the donor's kidney.\n",
    "\n",
    "In this example we consider four types of patients (donors and recipients) categorized by blood type and proteins. Each patient type is represented by a color: blue, orange, green, or red. The different compatibility factors between the different types are shown in the table below:\n",
    "\n",
    "\n",
    "最多支持3对. 避免不可控的事情发生. \n",
    "\n",
    "However, there are issues with longer cycles. In a longer cycle more people are affected if an exchange fails. In addition, if all transplants are done simultaneously (to avoid donors backing out once their partner has received a kidney), more medical staff and operating rooms are required with longer cycles. Therefore, in this example, we restrict the number of donor/recipient pairs in a cycle to be at most 3.\n"
   ]
  },
  {
   "cell_type": "markdown",
   "metadata": {},
   "source": [
    "## Implementation"
   ]
  },
  {
   "cell_type": "code",
   "execution_count": 1,
   "metadata": {
    "collapsed": false
   },
   "outputs": [
    {
     "name": "stdout",
     "output_type": "stream",
     "text": [
      "Optimize a model with 5 rows, 11 columns and 26 nonzeros\n",
      "Variable types: 0 continuous, 11 integer (11 binary)\n",
      "Coefficient statistics:\n",
      "  Matrix range     [1e+00, 1e+00]\n",
      "  Objective range  [2e+00, 3e+00]\n",
      "  Bounds range     [1e+00, 1e+00]\n",
      "  RHS range        [1e+00, 1e+00]\n",
      "Found heuristic solution: objective 4\n",
      "Presolve removed 0 rows and 2 columns\n",
      "Presolve time: 0.02s\n",
      "Presolved: 5 rows, 9 columns, 20 nonzeros\n",
      "Variable types: 0 continuous, 9 integer (9 binary)\n",
      "\n",
      "Root relaxation: objective 5.000000e+00, 7 iterations, 0.01 seconds\n",
      "\n",
      "    Nodes    |    Current Node    |     Objective Bounds      |     Work\n",
      " Expl Unexpl |  Obj  Depth IntInf | Incumbent    BestBd   Gap | It/Node Time\n",
      "\n",
      "     0     0    5.00000    0    3    4.00000    5.00000  25.0%     -    0s\n",
      "H    0     0                       5.0000000    5.00000  0.00%     -    0s\n",
      "\n",
      "Explored 0 nodes (8 simplex iterations) in 0.17 seconds\n",
      "Thread count was 4 (of 4 available processors)\n",
      "\n",
      "Solution count 2: 5 4 \n",
      "Pool objective bound 5\n",
      "\n",
      "Optimal solution found (tolerance 1.00e-04)\n",
      "Best objective 5.000000000000e+00, best bound 5.000000000000e+00, gap 0.0000%\n"
     ]
    }
   ],
   "source": [
    "from gurobipy import *\n",
    "\n",
    "vertices  = range(5)\n",
    "edges = { (0,1) : 1, (1,0) : 1, (0,2) : 1, (2,0) : 1,\n",
    "          (0,4) : 1, (4,0) : 1, (1,4) : 1, (4,1) : 1,\n",
    "          (1,3) : 1, (3,1) : 1, (2,3) : 1, (3,2) : 1,\n",
    "          (3,4) : 1, (4,3) : 1 }\n",
    "\n",
    "def twoCycle(vertices, edges):\n",
    "    '''\n",
    "    Returns a dictionary of 2 cycles. Keys: (u,v), Value: weight of cycle\n",
    "    Note that u < v to not double count cycles.\n",
    "    '''\n",
    "    twoCycles = {}\n",
    "    for edge in edges:\n",
    "        u = edge[0]\n",
    "        v = edge[1]\n",
    "        if (u < v and (v,u) in edges):\n",
    "            twoCycles[(u,v)] = edges[(u,v)] + edges[(v,u)]\n",
    "    return twoCycles\n",
    "\n",
    "def threeCycle(vertices, edges):\n",
    "    '''\n",
    "    Returns a dictionary of 3 cycles. Keys: (u,w,v), Value: weight of cycle\n",
    "    Note that w is always the lowest numbered vertex to not double\n",
    "    (or triple) count cycles.\n",
    "    '''\n",
    "    threeCycles = {}\n",
    "    for edge in edges:\n",
    "        u = edge[0]\n",
    "        v = edge[1]\n",
    "        for w in vertices:\n",
    "            if (w >= u or w >= v ):\n",
    "                break\n",
    "            if ( (u,w) in edges and (w,v) in edges ):\n",
    "                threeCycles[(u,w,v)] = edges[(u,v)] + edges[(u,w)] + edges[(w,v)]\n",
    "    return threeCycles\n",
    "\n",
    "twoCycles = twoCycle(vertices, edges)\n",
    "threeCycles = threeCycle(vertices, edges)\n",
    "\n",
    "m = Model()\n",
    "\n",
    "c = {}\n",
    "\n",
    "for cycle in twoCycles:\n",
    "    c[cycle] = m.addVar(vtype=GRB.BINARY, name=\"c_%s\" % str(cycle))\n",
    "\n",
    "for cycle in threeCycles:\n",
    "    c[cycle] = m.addVar(vtype=GRB.BINARY, name=\"c_%s\" % str(cycle))\n",
    "\n",
    "m.update()\n",
    "\n",
    "for v in vertices:\n",
    "  constraint = []\n",
    "  for cycle in c:\n",
    "      if (v in cycle):\n",
    "          constraint.append(c[cycle])\n",
    "  if constraint:\n",
    "      m.addConstr( quicksum( constraint[i] for i in range(len(constraint)) ) <= 1 , name=\"v%d\" % v)\n",
    "\n",
    "m.setObjective( quicksum( c[cycle] * twoCycles[cycle] for cycle in twoCycles ) +\n",
    "                quicksum( c[cycle] * threeCycles[cycle] for cycle in threeCycles ),\n",
    "                GRB.MAXIMIZE )\n",
    "\n",
    "m.optimize()\n",
    "      "
   ]
  },
  {
   "cell_type": "markdown",
   "metadata": {},
   "source": [
    "## Optimal Result\n",
    "\n",
    "```\n",
    "生成2对, 或3对的 配型组合\n",
    "c_(2, 3) 1.000000\n",
    "c_(4, 0, 1) 1.000000\n",
    "```"
   ]
  },
  {
   "cell_type": "code",
   "execution_count": 2,
   "metadata": {
    "collapsed": false
   },
   "outputs": [
    {
     "name": "stdout",
     "output_type": "stream",
     "text": [
      "c_(2, 3) 1.000000\n",
      "c_(4, 0, 1) 1.000000\n"
     ]
    }
   ],
   "source": [
    "for v in m.getVars():\n",
    "    if v.X != 0:\n",
    "        print(\"%s %f\" % (v.Varname, v.X))"
   ]
  }
 ],
 "metadata": {
  "anaconda-cloud": {},
  "kernelspec": {
   "display_name": "Python 2",
   "language": "python",
   "name": "python2"
  },
  "language_info": {
   "codemirror_mode": {
    "name": "ipython",
    "version": 2
   },
   "file_extension": ".py",
   "mimetype": "text/x-python",
   "name": "python",
   "nbconvert_exporter": "python",
   "pygments_lexer": "ipython2",
   "version": "2.7.13"
  }
 },
 "nbformat": 4,
 "nbformat_minor": 0
}
