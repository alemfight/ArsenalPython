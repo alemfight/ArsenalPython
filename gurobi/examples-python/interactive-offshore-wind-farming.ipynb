{
 "cells": [
  {
   "cell_type": "markdown",
   "metadata": {},
   "source": [
    "## Offshore Wind Farming\n",
    "\n",
    "with integer programming and Gurobi\n",
    "\n",
    "Source: http://examples.gurobi.com/offshore-wind-farming/#demo\n",
    "\n",
    "通用问题 <a href=https://books.google.co.uk/books?id=Idd9CAAAQBAJ> fixed charge network flow </a> 通信网络或运输网络的规划问题；解决水下电缆的安置问题；从风车收集电力\n",
    "\n",
    "In this example we'll solve the problem of how to minimize the cost of laying underwater cables to collect electricity produced by an offshore wind farm.\n",
    "\n",
    "构建数学模型，并可视化方案\n",
    "\n",
    "We'll construct a mathematical model of the business problem, implement this model in Gurobi's Python interface, and compute and visualize an optimal solution.\n",
    "\n",
    "\n",
    "Although your own business may not involve operating a wind farm, the same basic techniques used in this example can be used for other applications like the planning of communication and transportation networks.\n",
    "\n",
    "<img height=400 width=600 src=http://examples.gurobi.com/offshore-wind-farming/screenshot.png>\n",
    "\n",
    "* 白圈 - 风车 (必选生产节点） Turbines are represented by white circles: \n",
    "* 黑圈 - 转换站 （可选节点） Transfer stations are represented by black circles: \n",
    "* 绿圈 - 电站 （必选消耗节点）The power station is represented by a green circle: \n",
    "\n",
    "如果转换站的路由不是很理想，并且敷设电缆的固定费用较低（<=3500\\$）的话，有些转换站将不被使用。\n",
    "\n",
    "如果转换站的路由很好（围绕一圈都是电站），并且敷设电缆的固定费用较高（>=2500\\$）的话，该转换站被使用。"
   ]
  },
  {
   "cell_type": "markdown",
   "metadata": {},
   "source": [
    "## Problem Description\n",
    "\n",
    "<img height=200 width=300 src=http://examples.gurobi.com/offshore-wind-farming/windfarm.jpg>"
   ]
  },
  {
   "cell_type": "markdown",
   "metadata": {},
   "source": [
    "### Implementation"
   ]
  },
  {
   "cell_type": "code",
   "execution_count": 1,
   "metadata": {
    "collapsed": false
   },
   "outputs": [
    {
     "name": "stdout",
     "output_type": "stream",
     "text": [
      "Optimize a model with 12 rows, 12 columns and 24 nonzeros\n",
      "Variable types: 6 continuous, 6 integer (6 binary)\n",
      "Coefficient statistics:\n",
      "  Matrix range     [1e+00, 4e+00]\n",
      "  Objective range  [1e+00, 1e+00]\n",
      "  Bounds range     [1e+00, 1e+00]\n",
      "  RHS range        [2e+00, 6e+00]\n",
      "Presolve removed 12 rows and 12 columns\n",
      "Presolve time: 0.00s\n",
      "Presolve: All rows and columns removed\n",
      "\n",
      "Explored 0 nodes (0 simplex iterations) in 0.01 seconds\n",
      "Thread count was 1 (of 4 available processors)\n",
      "\n",
      "Solution count 1: 17 \n",
      "Pool objective bound 17\n",
      "\n",
      "Optimal solution found (tolerance 1.00e-04)\n",
      "Best objective 1.700000000000e+01, best bound 1.700000000000e+01, gap 0.0000%\n"
     ]
    }
   ],
   "source": [
    "from gurobipy import *\n",
    "\n",
    "# Vertices and associated supply\n",
    "vertices = {0: 4, 1: 3, 2: 2, 3: 0, 4: -6, 5: -3}\n",
    "\n",
    "# Dict key: edge, value: (capacity, cost per flow, fixed cost)\n",
    "edges = {(0,4): (4,1,1),\n",
    "         (0,3): (2,1,1),\n",
    "         (1,3): (3,1,1),\n",
    "         (2,5): (2,1,1),\n",
    "         (3,4): (2,1,1),\n",
    "         (3,5): (1,1,1)}\n",
    "\n",
    "m = Model()\n",
    "\n",
    "x = {} # Flow on each edge\n",
    "y = {} # Binary variable for each edge\n",
    "\n",
    "# key: vertex, value: list of edges entering/leaving the vertex\n",
    "edgeIn   = { v:[] for v in vertices }\n",
    "edgeOut  = { v:[] for v in vertices }\n",
    "\n",
    "# Add variables\n",
    "for edge in edges:\n",
    "  u = edge[0]\n",
    "  v = edge[1]\n",
    "  y[edge] = m.addVar(vtype=GRB.BINARY, name=\"y\" + str(edge))\n",
    "  x[edge] = m.addVar(lb=0, vtype=GRB.CONTINUOUS, name=\"x\" + str(edge) )\n",
    "  edgeIn[v] = edgeIn[v] + [x[edge]]\n",
    "  edgeOut[u] = edgeOut[u] + [x[edge]]\n",
    "\n",
    "m.update()\n",
    "\n",
    "# Add constraints\n",
    "for v in vertices:\n",
    "  m.addConstr(quicksum(edgeOut[v]) - quicksum(edgeIn[v]) == vertices[v], name=\"v%d\" % v)\n",
    "\n",
    "for edge in edges:\n",
    "  m.addConstr(x[edge] <= edges[edge][0]*y[edge], name=str(edge))\n",
    "\n",
    "# Set objective\n",
    "m.setObjective(quicksum((edges[edge][1]*x[edge] + edges[edge][2]*y[edge]) for edge in edges))\n",
    "m.optimize()"
   ]
  },
  {
   "cell_type": "markdown",
   "metadata": {},
   "source": [
    "## Optimal Result\n"
   ]
  },
  {
   "cell_type": "code",
   "execution_count": 2,
   "metadata": {
    "collapsed": false
   },
   "outputs": [
    {
     "name": "stdout",
     "output_type": "stream",
     "text": [
      "y(1, 3) 1.000000\n",
      "x(1, 3) 3.000000\n",
      "y(0, 4) 1.000000\n",
      "x(0, 4) 4.000000\n",
      "y(0, 3) 0.000000\n",
      "x(0, 3) 0.000000\n",
      "y(3, 4) 1.000000\n",
      "x(3, 4) 2.000000\n",
      "y(2, 5) 1.000000\n",
      "x(2, 5) 2.000000\n",
      "y(3, 5) 1.000000\n",
      "x(3, 5) 1.000000\n"
     ]
    }
   ],
   "source": [
    "for v in m.getVars():\n",
    "    #if v.X != 0:\n",
    "        print(\"%s %f\" % (v.Varname, v.X))"
   ]
  }
 ],
 "metadata": {
  "anaconda-cloud": {},
  "kernelspec": {
   "display_name": "Python 2",
   "language": "python",
   "name": "python2"
  },
  "language_info": {
   "codemirror_mode": {
    "name": "ipython",
    "version": 2
   },
   "file_extension": ".py",
   "mimetype": "text/x-python",
   "name": "python",
   "nbconvert_exporter": "python",
   "pygments_lexer": "ipython2",
   "version": "2.7.13"
  }
 },
 "nbformat": 4,
 "nbformat_minor": 0
}
