{
 "cells": [
  {
   "cell_type": "markdown",
   "metadata": {},
   "source": [
    "# manpower-planning.py\n",
    "\n",
    "notebook 版本\n",
    "\n",
    "## Manpower Planning Example\n",
    "Source: http://www.gurobi.com/resources/examples/manpower-planning\n",
    "\n",
    "This model is an example of a staffing problem. In staffing planning problems, choices must be made regarding the recruitment, training, layoffs (redundancy) and scheduling of staff. These problems are common across a broad range of both manufacturing and service industries.\n",
    "\n",
    "此问题为 Staffing Problem。 需要选择雇佣、训练、冗余和调度员工。\n",
    "\n",
    "In this example we’ll model and solve a manpower planning problem. We have three type of workers with different skills levels. For each year in the planning horizon the predicted number of required workers of each skill is given. It is possible to recruit new people, train workers to improve/decrease their skills or put them into part-time (short-time). The aim is to create an optimal multi-period operation plan to minimize the total number of layoffs over the whole horizon. An alternative aim is to minimize the total costs.\n",
    "\n",
    "此例子中，我们有三种工人（不同技能）。每年预测需要不同级别的员工。可以雇佣新人，训练工人，或是作为兼职员工。目标是建立一个最优化最小代价的排班计划。\n",
    "\n",
    "相关图书：\n",
    "\n",
    "Note: you can download the model, implemented in Python, here. More information on this type of model can be found in the fifth edition of Model Building in Mathematical Programming, by H. Paul Williams.\n",
    "\n",
    "H. Paul Williams, Model Building in Mathematical Programming, fifth edition (Page 255-256, 354-356)"
   ]
  },
  {
   "cell_type": "markdown",
   "metadata": {},
   "source": [
    "## Implementation with comments\n",
    "\n",
    "First, we import the Gurobi Python Module and initialize the data structures with the given data."
   ]
  },
  {
   "cell_type": "code",
   "execution_count": 1,
   "metadata": {
    "collapsed": false
   },
   "outputs": [],
   "source": [
    "from gurobipy import *\n",
    "\n",
    "# tested with\n",
    "#  Python 2.7.13 :: Anaconda 4.3.1 (x86_64) Gurobi 7.0.2\n",
    "#  Python 2.7.6 & Gurobi 7.0.1\n",
    "\n",
    "years = tuplelist(range(2+1))\n",
    "skill_levels = [0, 1, 2]  # 0 = Unskilled, 1 = Semiskilled, 2 = Skilled\n",
    "Unskilled = 0\n",
    "Semiskilled = 1\n",
    "Skilled = 2\n",
    "\n",
    "CurrentStrength = [2000, 1500, 1000]\n",
    "Requirement = [[1000, 1400, 1000],\n",
    "               [500, 2000, 1500],\n",
    "               [0, 2500, 2000]]\n",
    "LeaveFirstYear = [0.25, 0.20, 0.10]\n",
    "LeaveEachYear = [0.10, 0.05, 0.05]\n",
    "ContinueFirstYear = [1 - a for a in LeaveFirstYear]\n",
    "ContinueEachYear = [1 - a for a in LeaveEachYear]\n",
    "LeaveDownGraded = 0.50\n",
    "ContinueDownGraded = 1 - LeaveDownGraded\n",
    "MaxRecruit = [500, 800, 500]\n",
    "MaxRetrainUnskilled = 200\n",
    "MaxOverManning = 150\n",
    "MaxShortTimeWorking = 50\n",
    "RetrainSemiSkilled = 0.25\n",
    "ShortTimeUsage = 0.50\n",
    "\n",
    "RetrainCost = [400, 500, 0]\n",
    "RedundantCost = [200, 500, 500]\n",
    "ShortTimeCost = [500, 400, 400]\n",
    "OverManningCost = [1500, 2000, 3000]"
   ]
  },
  {
   "cell_type": "markdown",
   "metadata": {},
   "source": [
    "\n",
    "### Create the recruit vars upper bound dictionary."
   ]
  },
  {
   "cell_type": "code",
   "execution_count": 2,
   "metadata": {
    "collapsed": false
   },
   "outputs": [],
   "source": [
    "MaxRecruit2 = {(level, year) : MaxRecruit[level] for level in skill_levels for year in years}"
   ]
  },
  {
   "cell_type": "markdown",
   "metadata": {},
   "source": [
    "### Next, we create a model and the variables. \n",
    "\n",
    "For each of the three skill levels and for each year we will create variables for the amount of workers that get recruited, put into part-time work, are available as workers, are redundant, are overmanned. For each pair of skill levels and each year we have a variable for the amount of workers that get retrained to a higher/lower skill level. The amount of people which are in part-time and can be recruited is limited."
   ]
  },
  {
   "cell_type": "code",
   "execution_count": 3,
   "metadata": {
    "collapsed": false
   },
   "outputs": [],
   "source": [
    "model = Model('Manpower planning')\n",
    "\n",
    "Recruit = model.addVars(skill_levels, years, ub= MaxRecruit2, name=\"Recruit\")\n",
    "ShortTime = model.addVars(skill_levels, years, ub=MaxShortTimeWorking,\n",
    "                          name=\"ShortTime\")\n",
    "LaborForce = model.addVars(skill_levels, years, name=\"LaborForce\")\n",
    "Redundant = model.addVars(skill_levels, years, name=\"Redundant\")\n",
    "OverManned = model.addVars(skill_levels, years, name=\"OverManned\")\n",
    "Retrain = model.addVars(skill_levels, skill_levels, years, name=\"Retrain\")"
   ]
  },
  {
   "cell_type": "markdown",
   "metadata": {},
   "source": [
    "### Step 5: Add constraints\n",
    "\n",
    "Next, we insert the constraints. The continuity constraints ensure that per skill level and per year the current needed workers (LaborForce) and the laidoff people and the people who gets retrained to the current level, minus the people who gets retrained from the current level to a different skills, equals the LaborForce of the last year (or the CurrentStrength in the first year) plus the recruited people. A certain amount of people leave the company each year, so this is also considered with a factor. This constraint describes the change in the total amount of employed workers."
   ]
  },
  {
   "cell_type": "code",
   "execution_count": 4,
   "metadata": {
    "collapsed": false
   },
   "outputs": [
    {
     "data": {
      "text/plain": [
       "{(0, 0): <gurobi.Constr *Awaiting Model Update*>,\n",
       " (0, 1): <gurobi.Constr *Awaiting Model Update*>,\n",
       " (0, 2): <gurobi.Constr *Awaiting Model Update*>,\n",
       " (1, 0): <gurobi.Constr *Awaiting Model Update*>,\n",
       " (1, 1): <gurobi.Constr *Awaiting Model Update*>,\n",
       " (1, 2): <gurobi.Constr *Awaiting Model Update*>,\n",
       " (2, 0): <gurobi.Constr *Awaiting Model Update*>,\n",
       " (2, 1): <gurobi.Constr *Awaiting Model Update*>,\n",
       " (2, 2): <gurobi.Constr *Awaiting Model Update*>}"
      ]
     },
     "execution_count": 4,
     "metadata": {},
     "output_type": "execute_result"
    }
   ],
   "source": [
    "model.addConstrs(\n",
    "    (LaborForce[level, year] + Redundant[level, year] \n",
    "    - ContinueFirstYear[level] * Recruit[level, year]\n",
    "    + quicksum(Retrain[level, level2, year]\n",
    "               - ContinueEachYear[level] * Retrain[level2, level, year]\n",
    "               for level2 in skill_levels if level2 < level)\n",
    "    + quicksum(Retrain[level, level2, year]\n",
    "               - 0.5 * Retrain[level2, level, year]\n",
    "               for level2 in skill_levels if level2 > level)\n",
    "    == ContinueEachYear[level] * (\n",
    "        CurrentStrength[level] if year == years[0]\n",
    "        else LaborForce[level, years[years.index(year)-1]])\n",
    "    for year in years for level in skill_levels),\n",
    "    \"Continuity\")\n",
    "\n",
    "# RetainMaxUnskilled\n",
    "model.addConstrs(\n",
    "    (Retrain[Unskilled, Semiskilled, year] <= MaxRetrainUnskilled\n",
    "    for year in years), \"RetrainMaxUnskilled\")\n",
    "model.addConstrs(\n",
    "    (Retrain[Unskilled, Skilled, year] <= 0 for year in years), \"ForbidRetrainUnskilledToSkilled\")\n",
    "\n",
    "# RetrainingSemiSkilled\n",
    "model.addConstrs(\n",
    "    (Retrain[Semiskilled, Skilled, year] <=\n",
    "     RetrainSemiSkilled * LaborForce[Skilled, year] for year in years), \"RetrainingSemiSkilled\")\n",
    "\n",
    "## Overmanning\n",
    "model.addConstrs(\n",
    "    (OverManned.sum('*', year) <= MaxOverManning for year in years), \"Overmanning\")\n",
    "\n",
    "# Requirements\n",
    "model.addConstrs(\n",
    "    (LaborForce[level, year] ==\n",
    "     Requirement[year][level] +\n",
    "     OverManned[level, year] +\n",
    "     ShortTimeUsage * ShortTime[level, year]\n",
    "    for year in years for level in skill_levels), \"Requirements\")"
   ]
  },
  {
   "cell_type": "markdown",
   "metadata": {},
   "source": [
    "### The first objective is to minimze the total number of laidoff workers. This can be stated as:"
   ]
  },
  {
   "cell_type": "code",
   "execution_count": 5,
   "metadata": {
    "collapsed": false
   },
   "outputs": [],
   "source": [
    "# Minimize TotalRedundantMen\n",
    "obj = Redundant.sum()\n",
    "\n",
    "# Minimize TotalCost\n",
    "# obj = quicksum(\n",
    "#     RetrainCost[level]*(Retrain[level, level+1, year] if level < 2 else 0)\n",
    "#     + RedundantCost[level] * Redundant[level, year]\n",
    "#     + ShortTimeCost[level] * ShortTime[level, year]\n",
    "#     + OverManningCost[level] * OverManned[level, year]\n",
    "#     for year in years\n",
    "#     for level in skill_levels)\n",
    "\n",
    "model.setObjective(obj)"
   ]
  },
  {
   "cell_type": "markdown",
   "metadata": {},
   "source": [
    "### Step 6: Solve model"
   ]
  },
  {
   "cell_type": "code",
   "execution_count": 6,
   "metadata": {
    "collapsed": false
   },
   "outputs": [
    {
     "name": "stdout",
     "output_type": "stream",
     "text": [
      "Optimize a model with 30 rows, 72 columns and 117 nonzeros\n",
      "Coefficient statistics:\n",
      "  Matrix range     [2e-01, 1e+00]\n",
      "  Objective range  [1e+00, 1e+00]\n",
      "  Bounds range     [5e+01, 8e+02]\n",
      "  RHS range        [2e+02, 2e+03]\n",
      "Presolve removed 18 rows and 44 columns\n",
      "Presolve time: 0.01s\n",
      "Presolved: 12 rows, 28 columns, 56 nonzeros\n",
      "\n",
      "Iteration    Objective       Primal Inf.    Dual Inf.      Time\n",
      "       0    8.4000000e+02   5.187500e+02   0.000000e+00      0s\n",
      "       8    8.4179688e+02   0.000000e+00   0.000000e+00      0s\n",
      "\n",
      "Solved in 8 iterations and 0.02 seconds\n",
      "Optimal objective  8.417968750e+02\n"
     ]
    }
   ],
   "source": [
    "model.optimize()"
   ]
  },
  {
   "cell_type": "markdown",
   "metadata": {},
   "source": [
    "### Print variable values for optimal solution"
   ]
  },
  {
   "cell_type": "code",
   "execution_count": 7,
   "metadata": {
    "collapsed": false
   },
   "outputs": [
    {
     "name": "stdout",
     "output_type": "stream",
     "text": [
      "Recruit[1,1] 649.303557\n",
      "Recruit[1,2] 676.973684\n",
      "Recruit[2,1] 500.000000\n",
      "Recruit[2,2] 500.000000\n",
      "ShortTime[0,0] 50.000000\n",
      "ShortTime[0,1] 50.000000\n",
      "ShortTime[0,2] 50.000000\n",
      "ShortTime[1,0] 50.000000\n",
      "ShortTime[2,0] 50.000000\n",
      "LaborForce[0,0] 1157.031250\n",
      "LaborForce[0,1] 675.000000\n",
      "LaborForce[0,2] 175.000000\n",
      "LaborForce[1,0] 1442.968750\n",
      "LaborForce[1,1] 2000.000000\n",
      "LaborForce[1,2] 2500.000000\n",
      "LaborForce[2,0] 1025.000000\n",
      "LaborForce[2,1] 1500.000000\n",
      "LaborForce[2,2] 2000.000000\n",
      "Redundant[0,0] 442.968750\n",
      "Redundant[0,1] 166.328125\n",
      "Redundant[0,2] 232.500000\n",
      "OverManned[0,0] 132.031250\n",
      "OverManned[0,1] 150.000000\n",
      "OverManned[0,2] 150.000000\n",
      "OverManned[1,0] 17.968750\n",
      "Retrain[0,1,0] 200.000000\n",
      "Retrain[0,1,1] 200.000000\n",
      "Retrain[0,1,2] 200.000000\n",
      "Retrain[1,2,0] 256.250000\n",
      "Retrain[1,2,1] 80.263158\n",
      "Retrain[1,2,2] 131.578947\n",
      "Retrain[2,1,0] 168.437500\n"
     ]
    }
   ],
   "source": [
    "# Display solution (print the name of each variable and the solution value)\n",
    "for v in model.getVars():\n",
    "    if v.X != 0:\n",
    "        print(\"%s %f\" % (v.Varname, v.X))"
   ]
  }
 ],
 "metadata": {
  "anaconda-cloud": {},
  "kernelspec": {
   "display_name": "Python 2",
   "language": "python",
   "name": "python2"
  },
  "language_info": {
   "codemirror_mode": {
    "name": "ipython",
    "version": 2
   },
   "file_extension": ".py",
   "mimetype": "text/x-python",
   "name": "python",
   "nbconvert_exporter": "python",
   "pygments_lexer": "ipython2",
   "version": "2.7.13"
  }
 },
 "nbformat": 4,
 "nbformat_minor": 0
}
