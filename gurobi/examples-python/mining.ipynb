{
 "cells": [
  {
   "cell_type": "markdown",
   "metadata": {},
   "source": [
    "# mining.py\n",
    "\n",
    "notebook 版本\n",
    "\n",
    "## Mining Example\n",
    "Source: http://www.gurobi.com/resources/examples/mining\n",
    "\n",
    "一个生产问题，生产哪些产品\n",
    "\n",
    "This model is an example of a production problem. In production planning problems, choices must be made regarding what resources to use to produce what products. These problems are common across a broad range of manufacturing and mining industries.\n",
    "\n",
    "使用多周期生产规划5年挖矿计划。公司拥有不同的矿产，生产的数量不同。目标是创建最优化的生产计划，以最大化收益。\n",
    "\n",
    "In this example we’ll model and solve a multi-period production planning problem. In this case, the application is to optimize mine production across a number of mines over a five year period. The company has different mines, which can be opened, working, or closed. Each mine varies in the quality of its ore and the amount of ore that can be extracted. The quality of ore required to meet production goals varies each year. The aim is to create an optimal production plan for the next 5 years to maximize the total profit, while considering all production capacity, mine restrictions and mine costs.\n",
    "\n",
    "Note: you can download the model, implemented in Python, here. More information on this type of model can be found in the fifth edition of Model Building in Mathematical Programming, by H. Paul Williams.\n",
    "\n",
    "H. Paul Williams, Model Building in Mathematical Programming, fifth edition (Page 261-262, 357)\n",
    "\n",
    "version 1"
   ]
  },
  {
   "cell_type": "markdown",
   "metadata": {},
   "source": [
    "## Problem Description\n",
    "\n",
    "TOOD"
   ]
  },
  {
   "cell_type": "markdown",
   "metadata": {},
   "source": [
    "### Step 1: Import the Gurobi Python Modue and initalize the datastructures."
   ]
  },
  {
   "cell_type": "code",
   "execution_count": 1,
   "metadata": {
    "collapsed": false
   },
   "outputs": [],
   "source": [
    "from gurobipy import *\n",
    "\n",
    "# tested with\n",
    "#  Python 2.7.13 :: Anaconda 4.3.1 (x86_64) Gurobi 7.0.2\n",
    "#  Python 3.5.2 & Gurobi 7.0.1\n",
    "\n",
    "mines = range(3+1)\n",
    "years = range(4+1)\n",
    "\n",
    "Royalties = [5e6, 4e6, 4e6, 5e6]\n",
    "ExtractLimit = [2e6, 2.5e6, 1.3e6, 3e6]\n",
    "OreQuality  = [1, .7, 1.5, .5]\n",
    "BlendedQuality = [0.9, 0.8, 1.2, 0.6, 1.0]\n",
    "discount = [(1/(1+1/10.0)) ** year for year in years]\n",
    "\n",
    "mines_limit = 3\n",
    "sell_price = 10"
   ]
  },
  {
   "cell_type": "markdown",
   "metadata": {},
   "source": [
    "\n",
    "### Step 2: Create a model and the variables"
   ]
  },
  {
   "cell_type": "code",
   "execution_count": 2,
   "metadata": {
    "collapsed": false
   },
   "outputs": [],
   "source": [
    "model = Model('Mining')\n",
    "\n",
    "out = model.addVars(mines, years, name=\"output\")\n",
    "quan = model.addVars(years, name=\"quantity\")\n",
    "work = model.addVars(mines, years, vtype=GRB.BINARY, name=\"working\")\n",
    "open = model.addVars(mines, years, vtype=GRB.BINARY, name=\"open\")"
   ]
  },
  {
   "cell_type": "markdown",
   "metadata": {},
   "source": [
    "### Step 3: Add constraints"
   ]
  },
  {
   "cell_type": "code",
   "execution_count": 3,
   "metadata": {
    "collapsed": false
   },
   "outputs": [],
   "source": [
    "# At most three mines open\n",
    "model.addConstrs((work.sum('*',year) <= mines_limit for year in years), \"AtMost3Mines\")\n",
    "\n",
    "# Maintain Quality\n",
    "model.addConstrs(\n",
    "    (quicksum(OreQuality[mine]*out[mine, year] for mine in mines) == BlendedQuality[year]*quan[year]\n",
    "     \tfor year in years), \"Quality\")\n",
    "\n",
    "# Quantity produced equals output\n",
    "model.addConstrs((out.sum('*',year) == quan[year] for year in years), \"OutQty\")\n",
    "\n",
    "\n",
    "# Alternatively, this constraint can also be modeled using Gurobi 7.0's new general constraints\n",
    "\n",
    "for year in years:\n",
    "    for mine in mines:\n",
    "        out[mine, year].ub= ExtractLimit[mine]\n",
    "        model. addGenConstrIndicator(work[mine, year], 0, out[mine, year] == 0, name=\"ExtractLimit\" ) \n",
    "        \n",
    "#Modeled using Gurobi General Constraints\n",
    "for year in years:\n",
    "    for mine in mines:\n",
    "        model. addGenConstrIndicator(work[mine, year], 1, open[mine, year] == 1, name=\"ExtractLimit\" ) \n",
    "        \n",
    "        \n",
    "years2 = (year for year in years if year < years[-1])\n",
    "for year in years2:\n",
    "    for mine in mines:\n",
    "        model. addGenConstrIndicator(open[mine, year + 1], 1, open[mine, year] == 1, name=\"SubsequentOpen\" ) "
   ]
  },
  {
   "cell_type": "markdown",
   "metadata": {},
   "source": [
    "### Step 4: Set objective function"
   ]
  },
  {
   "cell_type": "code",
   "execution_count": 4,
   "metadata": {
    "collapsed": false
   },
   "outputs": [],
   "source": [
    "# Maximize Profit\n",
    "obj = quicksum(sell_price*discount[year]*quan[year] for year in years) \\\n",
    "      - quicksum(Royalties[mine] * discount[year] * open[mine, year]\n",
    "                 for mine, year in open)\n",
    "model.setObjective(obj, GRB.MAXIMIZE)"
   ]
  },
  {
   "cell_type": "markdown",
   "metadata": {},
   "source": [
    "### Step 6: Solve model and Print result"
   ]
  },
  {
   "cell_type": "code",
   "execution_count": 5,
   "metadata": {
    "collapsed": false,
    "scrolled": true
   },
   "outputs": [
    {
     "name": "stdout",
     "output_type": "stream",
     "text": [
      "Optimize a model with 15 rows, 65 columns and 70 nonzeros\n",
      "Model has 56 general constraints\n",
      "Variable types: 25 continuous, 40 integer (40 binary)\n",
      "Coefficient statistics:\n",
      "  Matrix range     [5e-01, 2e+00]\n",
      "  Objective range  [7e+00, 5e+06]\n",
      "  Bounds range     [1e+00, 3e+06]\n",
      "  RHS range        [3e+00, 3e+00]\n",
      "Found heuristic solution: objective -7.50576e+07\n",
      "Presolve removed 25 rows and 25 columns\n",
      "Presolve time: 0.01s\n",
      "Presolved: 66 rows, 116 columns, 151 nonzeros\n",
      "Presolved model has 56 SOS constraint(s)\n",
      "Variable types: 20 continuous, 96 integer (60 binary)\n",
      "\n",
      "Root relaxation: objective 2.543811e+08, 23 iterations, 0.00 seconds\n",
      "\n",
      "    Nodes    |    Current Node    |     Objective Bounds      |     Work\n",
      " Expl Unexpl |  Obj  Depth IntInf | Incumbent    BestBd   Gap | It/Node Time\n",
      "\n",
      "     0     0 2.5438e+08    0   16 -7.506e+07 2.5438e+08   439%     -    0s\n",
      "H    0     0                      -0.0000000 2.5438e+08      -     -    0s\n",
      "H    0     0                    6.290909e+07 2.5438e+08   304%     -    0s\n",
      "H    0     0                    6.681632e+07 2.5438e+08   281%     -    0s\n",
      "     0     2 2.5438e+08    0   16 6.6816e+07 2.5438e+08   281%     -    0s\n",
      "*   56    48              16    1.297493e+08 2.3688e+08  82.6%   0.2    0s\n",
      "*  129    80              16    1.306469e+08 2.0971e+08  60.5%   0.2    0s\n",
      "*  131    74              17    1.372493e+08 2.0971e+08  52.8%   0.2    0s\n",
      "*  340    98              16    1.397378e+08 1.9736e+08  41.2%   0.1    0s\n",
      "*  342    90              17    1.463402e+08 1.9736e+08  34.9%   0.1    0s\n",
      "*  730    48              15    1.468620e+08 1.6573e+08  12.8%   0.1    0s\n",
      "\n",
      "Explored 799 nodes (140 simplex iterations) in 0.15 seconds\n",
      "Thread count was 4 (of 4 available processors)\n",
      "\n",
      "Solution count 10: 1.46862e+08 1.4634e+08 1.39738e+08 ... -7.50576e+07\n",
      "Pool objective bound 1.46862e+08\n",
      "\n",
      "Optimal solution found (tolerance 1.00e-04)\n",
      "Best objective 1.468619743642e+08, best bound 1.468619743642e+08, gap 0.0000%\n",
      "output[0,0] 2000000.000000\n",
      "output[0,2] 1950000.000000\n",
      "output[0,3] 125000.000000\n",
      "output[0,4] 2000000.000000\n",
      "output[1,1] 2500000.000000\n",
      "output[1,3] 2500000.000000\n",
      "output[1,4] 2166666.666667\n",
      "output[2,0] 1300000.000000\n",
      "output[2,1] 1300000.000000\n",
      "output[2,2] 1300000.000000\n",
      "output[2,4] 1300000.000000\n",
      "output[3,0] 2450000.000000\n",
      "output[3,1] 2200000.000000\n",
      "output[3,3] 3000000.000000\n",
      "output[3,4] -0.000000\n",
      "quantity[0] 5750000.000000\n",
      "quantity[1] 6000000.000000\n",
      "quantity[2] 3250000.000000\n",
      "quantity[3] 5625000.000000\n",
      "quantity[4] 5466666.666667\n",
      "working[0,0] 1.000000\n",
      "working[0,2] 1.000000\n",
      "working[0,3] 1.000000\n",
      "working[0,4] 1.000000\n",
      "working[1,1] 1.000000\n",
      "working[1,3] 1.000000\n",
      "working[1,4] 1.000000\n",
      "working[2,0] 1.000000\n",
      "working[2,1] 1.000000\n",
      "working[2,2] 1.000000\n",
      "working[2,4] 1.000000\n",
      "working[3,0] 1.000000\n",
      "working[3,1] 1.000000\n",
      "working[3,3] 1.000000\n",
      "open[0,0] 1.000000\n",
      "open[0,1] 1.000000\n",
      "open[0,2] 1.000000\n",
      "open[0,3] 1.000000\n",
      "open[0,4] 1.000000\n",
      "open[1,0] 1.000000\n",
      "open[1,1] 1.000000\n",
      "open[1,2] 1.000000\n",
      "open[1,3] 1.000000\n",
      "open[1,4] 1.000000\n",
      "open[2,0] 1.000000\n",
      "open[2,1] 1.000000\n",
      "open[2,2] 1.000000\n",
      "open[2,3] 1.000000\n",
      "open[2,4] 1.000000\n",
      "open[3,0] 1.000000\n",
      "open[3,1] 1.000000\n",
      "open[3,2] 1.000000\n",
      "open[3,3] 1.000000\n"
     ]
    }
   ],
   "source": [
    "model.optimize()\n",
    "for v in model.getVars():\n",
    "    if v.X != 0:\n",
    "        print(\"%s %f\" % (v.Varname, v.X))"
   ]
  },
  {
   "cell_type": "markdown",
   "metadata": {},
   "source": [
    "## Result\n",
    "Optimal solution found (tolerance 1.00e-04)\n",
    "\n",
    "Best objective 1.468619743642e+08, best bound 1.468619743642e+08, gap 0.0000%"
   ]
  }
 ],
 "metadata": {
  "anaconda-cloud": {},
  "kernelspec": {
   "display_name": "Python 2",
   "language": "python",
   "name": "python2"
  },
  "language_info": {
   "codemirror_mode": {
    "name": "ipython",
    "version": 2
   },
   "file_extension": ".py",
   "mimetype": "text/x-python",
   "name": "python",
   "nbconvert_exporter": "python",
   "pygments_lexer": "ipython2",
   "version": "2.7.13"
  }
 },
 "nbformat": 4,
 "nbformat_minor": 0
}
