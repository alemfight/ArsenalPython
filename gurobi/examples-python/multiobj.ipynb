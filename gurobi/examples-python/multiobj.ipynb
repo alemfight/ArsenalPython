{
 "cells": [
  {
   "cell_type": "markdown",
   "metadata": {},
   "source": [
    "# multiobj.py\n",
    "\n",
    "notebook 版本\n",
    "\n",
    "source: https://www.gurobi.com/documentation/7.0/examples/multiobj_py.html\n",
    "\n",
    "这个多目标优化的文档太少\n",
    "\n",
    "want to cover three different sets but subject to a common budget of\n",
    "elements allowed to be used. However, the sets have different priorities to\n",
    "be covered; and we tackle this by using multi-objective optimization.\n",
    "\n",
    "覆盖 3 种 set，目标是通用的预算控制\n",
    "\n",
    "Example| \tDescription| \tAvailable Languages\n",
    "------|----------------|---------------------------\n",
    "multiobj |\tDemonstrates the use of multi-objective optimization.\t| C, C++, C#, Java, Python, VB\n",
    "\n",
    "Other Examples: http://www.gurobi.com/resources/examples/example-models-overview"
   ]
  },
  {
   "cell_type": "markdown",
   "metadata": {},
   "source": [
    "## Gurobi mutiobj reference \n",
    "\n",
    "https://www.gurobi.com/documentation/7.0/refman/multiple_objectives.html\n",
    "\n",
    "Gurobi 支持两种模式\n",
    "* In a blended approach, you optimize a weighted combination of the individual objectives.  `SetObjWeight`?\n",
    "* In a hierarchical or lexicographic approach, you set a priority for each objective, and optimize in priority order.  `SetObjPriority`?"
   ]
  },
  {
   "cell_type": "markdown",
   "metadata": {},
   "source": [
    "### Step 1: Import functions from the gurobipy module"
   ]
  },
  {
   "cell_type": "code",
   "execution_count": 23,
   "metadata": {
    "collapsed": false
   },
   "outputs": [],
   "source": [
    "from __future__ import print_function\n",
    "from gurobipy import *\n",
    "\n",
    "\n",
    "# Sample data\n",
    "\n",
    "# 4 组 suset, 长度 20\n",
    "Groundset = range(20)\n",
    "Subsets   = range(4)\n",
    "\n",
    "# 预算 < 12\n",
    "Budget    = 12;\n",
    "\n",
    "Set = [ [ 1, 1, 1, 1, 1, 1, 1, 1, 1, 1, 0, 0, 0, 0, 0, 0, 0, 0, 0, 0 ],\n",
    "        [ 0, 0, 0, 0, 0, 1, 1, 1, 1, 1, 0, 0, 0, 0, 0, 1, 1, 1, 1, 1 ],\n",
    "        [ 0, 0, 0, 1, 1, 0, 1, 1, 0, 0, 0, 0, 0, 1, 1, 0, 1, 1, 0, 0 ],\n",
    "        [ 0, 0, 0, 1, 1, 1, 0, 0, 0, 1, 1, 1, 0, 0, 0, 1, 1, 1, 0, 0 ] ]\n",
    "SetObjPriority = [  3,    2,    2,   1]\n",
    "SetObjWeight   = [1.0, 0.25, 1.25, 1.0]\n",
    "\n",
    "# Create initial model\n",
    "model = Model('multiobj')\n"
   ]
  },
  {
   "cell_type": "markdown",
   "metadata": {},
   "source": [
    "\n",
    "### Step 2: Create empty model"
   ]
  },
  {
   "cell_type": "code",
   "execution_count": 24,
   "metadata": {
    "collapsed": false
   },
   "outputs": [],
   "source": [
    "# Create initial model\n",
    "model = Model('multiobj')"
   ]
  },
  {
   "cell_type": "markdown",
   "metadata": {},
   "source": [
    "### Step 3: Create activitiy variables"
   ]
  },
  {
   "cell_type": "code",
   "execution_count": 25,
   "metadata": {
    "collapsed": false
   },
   "outputs": [],
   "source": [
    "# Initialize decision variables for ground set:\n",
    "# x[e] == 1 if element e is chosen for the covering.\n",
    "Elem = model.addVars(Groundset, vtype=GRB.BINARY, name='El')\n"
   ]
  },
  {
   "cell_type": "markdown",
   "metadata": {},
   "source": [
    "### Step 4: Set objective function"
   ]
  },
  {
   "cell_type": "markdown",
   "metadata": {},
   "source": [
    "Source： https://www.gurobi.com/documentation/7.0/refman/working_with_multiple_obje.html\n",
    "\n",
    "## Blended Objectives \n",
    "`model.ObjNWeight   = SetObjWeight[i]` 权值定义的优化, 相当于混合不同的目标。例如\n",
    "if your model has two objectives, $1 + x + 2y$ and $y\n",
    "+ 2z$, and if you give weights of $-1$ and $2$ to them, respectively, then Gurobi would solve your model with a blended objective of $-1 \\cdot (1 + x + 2y) + 2 \\cdot (y + 2z) = -1 - x + 4z$. \n",
    "\n",
    "## Hierarchical Objectives\n",
    "\n",
    "` model.ObjNPriority = SetObjPriority[i]` 通过设定整数（如 [  3,    2,    2,   1] ） 的优先级来完成\n",
    "\n",
    "## Combining Blended and Hierarchical Objectives\n",
    "二者混合\n",
    "\n",
    "When you specify a different priority for each of $n$ objectives, the solver performs $n$ separate optimization steps. In each step, in decreasing priority order, it optimizes for the current objective, while imposing constraints that ensure that the quality of higher-priority objectives isn't degraded by more than the specified tolerances\n",
    "\n",
    "One subtle point when blending multiple objectives within a single level in a hierarchical approach relates to the handling of degradations from lower-priority levels. The objective degradation allowed after a blended optimization step is the maximum absolute and relative degradations allowed by each of the participating objectives. For example, \n",
    "\n",
    "\n",
    "通过设定不同的优先级， 可以计算最大对最高优先级的最大容忍度\n",
    "\n",
    "if we have three objectives with ObjNPriority equal to $\\{2, 2, 1\\}$, and ObjNRelTol equal to  $\\{0.10, 0.05, 0.00\\}$ and ObjNAbsTol equal to $\\{0,\n",
    "1, 2\\}$; and the best solution for the first priority objective is $10$; then the allowed degradation for the first priority objective is $\\max\\{10 \\cdot 0.10, 10 \\cdot 0.05, 0, 1\\} = 1$.\n"
   ]
  },
  {
   "cell_type": "code",
   "execution_count": 34,
   "metadata": {
    "collapsed": false
   },
   "outputs": [],
   "source": [
    "# Set global sense for ALL objectives\n",
    "model.ModelSense = GRB.MAXIMIZE\n",
    "\n",
    "# Limit how many solutions to collect\n",
    "model.setParam(GRB.Param.PoolSolutions, 100)\n",
    "\n",
    "# 计划优化的目标数  Objectives are numbered 0 through NumObj-1.\n",
    "# Set number of objectives \n",
    "model.NumObj = 4\n",
    "\n",
    "# Set and configure i-th objective\n",
    "# 这里的目标是什么呢？\n",
    "for i in Subsets:\n",
    "    model.setParam(GRB.Param.ObjNumber, i)\n",
    "    # 指定 优先级 和 权值\n",
    "    model.ObjNPriority = SetObjPriority[i]\n",
    "    model.ObjNWeight   = SetObjWeight[i]\n",
    "\n",
    "    model.ObjNName = 'Set' + str(i)\n",
    "    # 相对容忍度 和绝对容忍度\n",
    "    model.ObjNRelTol = 0.01\n",
    "    model.ObjNAbsTol = 1.0 + i\n",
    "    model.setAttr(GRB.Attr.ObjN, Elem, Set[i])\n",
    "\n",
    "# Save problem\n",
    "# model.write('multiobj.lp')\n"
   ]
  },
  {
   "cell_type": "markdown",
   "metadata": {},
   "source": [
    "### Step 5: Add constraints"
   ]
  },
  {
   "cell_type": "code",
   "execution_count": 27,
   "metadata": {
    "collapsed": false
   },
   "outputs": [
    {
     "data": {
      "text/plain": [
       "<gurobi.Constr *Awaiting Model Update*>"
      ]
     },
     "execution_count": 27,
     "metadata": {},
     "output_type": "execute_result"
    }
   ],
   "source": [
    "# Constraint: limit total number of elements to be picked to be at most\n",
    "# Budget\n",
    "model.addConstr(Elem.sum() <= Budget, name='Budget')"
   ]
  },
  {
   "cell_type": "markdown",
   "metadata": {},
   "source": [
    "### Step 6: Solve model\n",
    "\n",
    "solve logging: https://www.gurobi.com/documentation/7.0/refman/multi_objective_logging.html#sec:MultiObjectiveLogging"
   ]
  },
  {
   "cell_type": "code",
   "execution_count": 28,
   "metadata": {
    "collapsed": false,
    "scrolled": true
   },
   "outputs": [
    {
     "name": "stdout",
     "output_type": "stream",
     "text": [
      "Optimize a model with 1 rows, 20 columns and 20 nonzeros\n",
      "Variable types: 0 continuous, 20 integer (20 binary)\n",
      "Coefficient statistics:\n",
      "  Matrix range     [1e+00, 1e+00]\n",
      "  Objective range  [1e+00, 1e+00]\n",
      "  Bounds range     [1e+00, 1e+00]\n",
      "  RHS range        [1e+01, 1e+01]\n",
      "\n",
      "---------------------------------------------------------------------------\n",
      "Multi-objectives: starting optimization with 4 objectives (3 combined) ...\n",
      "---------------------------------------------------------------------------\n",
      "\n",
      "Multi-objectives: applying initial presolve ...\n",
      "---------------------------------------------------------------------------\n",
      "\n",
      "Presolve time: 0.00s\n",
      "Presolved: 1 rows and 20 columns\n",
      "---------------------------------------------------------------------------\n",
      "\n",
      "Multi-objectives: optimize objective 1 (Set0) ...\n",
      "---------------------------------------------------------------------------\n",
      "\n",
      "Found heuristic solution: objective 10\n",
      "\n",
      "Explored 0 nodes (0 simplex iterations) in 0.03 seconds\n",
      "Thread count was 1 (of 4 available processors)\n",
      "\n",
      "Solution count 1: 10 \n",
      "Pool objective bound 10\n",
      "\n",
      "Optimal solution found (tolerance 1.00e-04)\n",
      "Best objective 1.000000000000e+01, best bound 1.000000000000e+01, gap 0.0000%\n",
      "---------------------------------------------------------------------------\n",
      "\n",
      "Multi-objectives: optimize objective 2 (weighted) ...\n",
      "---------------------------------------------------------------------------\n",
      "\n",
      "Found heuristic solution: objective 8.75\n",
      "Presolve removed 1 rows and 17 columns\n",
      "Presolve time: 0.00s\n",
      "Presolved: 1 rows, 3 columns, 3 nonzeros\n",
      "\n",
      "MIP start did not produce a new incumbent solution\n",
      "\n",
      "Variable types: 0 continuous, 3 integer (0 binary)\n",
      "\n",
      "Root relaxation: objective 1.050000e+01, 1 iterations, 0.00 seconds\n",
      "\n",
      "    Nodes    |    Current Node    |     Objective Bounds      |     Work\n",
      " Expl Unexpl |  Obj  Depth IntInf | Incumbent    BestBd   Gap | It/Node Time\n",
      "\n",
      "*    0     0               0      10.5000000   10.50000  0.00%     -    0s\n",
      "\n",
      "Explored 0 nodes (1 simplex iterations) in 0.06 seconds\n",
      "Thread count was 4 (of 4 available processors)\n",
      "\n",
      "Solution count 2: 10.5 8.75 \n",
      "Pool objective bound 10.5\n",
      "\n",
      "Optimal solution found (tolerance 1.00e-04)\n",
      "Best objective 1.050000000000e+01, best bound 1.050000000000e+01, gap 0.0000%\n",
      "---------------------------------------------------------------------------\n",
      "\n",
      "Multi-objectives: optimize objective 3 (Set3) ...\n",
      "---------------------------------------------------------------------------\n",
      "\n",
      "Found heuristic solution: objective 5\n",
      "Presolve removed 3 rows and 20 columns\n",
      "Presolve time: 0.00s\n",
      "Presolve: All rows and columns removed\n",
      "\n",
      "Explored 0 nodes (0 simplex iterations) in 0.09 seconds\n",
      "Thread count was 1 (of 4 available processors)\n",
      "\n",
      "Solution count 1: 7 \n",
      "Pool objective bound 7\n",
      "\n",
      "Optimal solution found (tolerance 1.00e-04)\n",
      "Best objective 7.000000000000e+00, best bound 7.000000000000e+00, gap 0.0000%\n",
      "\n",
      "---------------------------------------------------------------------------\n",
      "Multi-objectives: solved in 0.10 seconds, solution count 4\n",
      "\n"
     ]
    }
   ],
   "source": [
    "# Optimize\n",
    "model.optimize()\n",
    "\n",
    "model.setParam(GRB.Param.OutputFlag, 0)\n",
    "\n"
   ]
  },
  {
   "cell_type": "code",
   "execution_count": 29,
   "metadata": {
    "collapsed": false
   },
   "outputs": [
    {
     "name": "stdout",
     "output_type": "stream",
     "text": [
      "Selected elements in best solution:\n",
      " El1 El2 El3 El4 El5 El6 El7 El8 El9 El10 El16 El17\n",
      "Number of solutions found: 4\n",
      "Objective values for first 4 solutions:\n",
      "\tSet0      9      9     10     10\n",
      "\tSet1      7      7      5      5\n",
      "\tSet2      6      7      6      4\n",
      "\tSet3      7      6      4      4\n"
     ]
    }
   ],
   "source": [
    "# Status checking\n",
    "status = model.Status\n",
    "if status == GRB.Status.INF_OR_UNBD or \\\n",
    "   status == GRB.Status.INFEASIBLE  or \\\n",
    "   status == GRB.Status.UNBOUNDED:\n",
    "    print('The model cannot be solved because it is infeasible or unbounded')\n",
    "    sys.exit(1)\n",
    "\n",
    "if status != GRB.Status.OPTIMAL:\n",
    "    print('Optimization was stopped with status ' + str(status))\n",
    "    sys.exit(1)\n",
    "\n",
    "# Print best selected set\n",
    "print('Selected elements in best solution:')\n",
    "for e in Groundset:\n",
    "    if Elem[e].X > 0.9:\n",
    "        print(' El%d' % e, end='')\n",
    "print('')\n",
    "\n",
    "# Print number of solutions stored\n",
    "nSolutions = model.SolCount\n",
    "print('Number of solutions found: ' + str(nSolutions))\n",
    "\n",
    "# Print objective values of solutions\n",
    "if nSolutions > 10:\n",
    "    nSolutions = 10\n",
    "print('Objective values for first ' + str(nSolutions) + ' solutions:')\n",
    "for i in Subsets:\n",
    "    model.setParam(GRB.Param.ObjNumber, i)\n",
    "    print('\\tSet%d' % i, end='')\n",
    "    for e in range(nSolutions):\n",
    "        model.setParam(GRB.Param.SolutionNumber, e)\n",
    "        print(' %6g' % model.ObjNVal, end='')\n",
    "    print('')"
   ]
  },
  {
   "cell_type": "markdown",
   "metadata": {},
   "source": [
    "### Step 8: Print variable values for optimal solution"
   ]
  },
  {
   "cell_type": "code",
   "execution_count": 36,
   "metadata": {
    "collapsed": false
   },
   "outputs": [],
   "source": [
    "model.printAttr('X')"
   ]
  },
  {
   "cell_type": "code",
   "execution_count": 31,
   "metadata": {
    "collapsed": false
   },
   "outputs": [
    {
     "data": {
      "text/plain": [
       "[<gurobi.Var El[0] (value -0.0)>,\n",
       " <gurobi.Var El[1] (value 1.0)>,\n",
       " <gurobi.Var El[2] (value 1.0)>,\n",
       " <gurobi.Var El[3] (value 1.0)>,\n",
       " <gurobi.Var El[4] (value 1.0)>,\n",
       " <gurobi.Var El[5] (value 1.0)>,\n",
       " <gurobi.Var El[6] (value 1.0)>,\n",
       " <gurobi.Var El[7] (value 1.0)>,\n",
       " <gurobi.Var El[8] (value 1.0)>,\n",
       " <gurobi.Var El[9] (value 1.0)>,\n",
       " <gurobi.Var El[10] (value 1.0)>,\n",
       " <gurobi.Var El[11] (value 0.0)>,\n",
       " <gurobi.Var El[12] (value 0.0)>,\n",
       " <gurobi.Var El[13] (value 0.0)>,\n",
       " <gurobi.Var El[14] (value 0.0)>,\n",
       " <gurobi.Var El[15] (value 0.0)>,\n",
       " <gurobi.Var El[16] (value 1.0)>,\n",
       " <gurobi.Var El[17] (value 1.0)>,\n",
       " <gurobi.Var El[18] (value -0.0)>,\n",
       " <gurobi.Var El[19] (value 0.0)>]"
      ]
     },
     "execution_count": 31,
     "metadata": {},
     "output_type": "execute_result"
    }
   ],
   "source": [
    "model.getVars()"
   ]
  },
  {
   "cell_type": "code",
   "execution_count": 32,
   "metadata": {
    "collapsed": false
   },
   "outputs": [
    {
     "data": {
      "text/plain": [
       "[<gurobi.Constr Budget>]"
      ]
     },
     "execution_count": 32,
     "metadata": {},
     "output_type": "execute_result"
    }
   ],
   "source": [
    "model.getConstrs()"
   ]
  },
  {
   "cell_type": "code",
   "execution_count": null,
   "metadata": {
    "collapsed": false
   },
   "outputs": [],
   "source": [
    "printSolution()"
   ]
  },
  {
   "cell_type": "markdown",
   "metadata": {},
   "source": [
    "# # 增加不可行条件\n"
   ]
  }
 ],
 "metadata": {
  "anaconda-cloud": {},
  "kernelspec": {
   "display_name": "Python 2",
   "language": "python",
   "name": "python2"
  },
  "language_info": {
   "codemirror_mode": {
    "name": "ipython",
    "version": 2
   },
   "file_extension": ".py",
   "mimetype": "text/x-python",
   "name": "python",
   "nbconvert_exporter": "python",
   "pygments_lexer": "ipython2",
   "version": "2.7.13"
  }
 },
 "nbformat": 4,
 "nbformat_minor": 0
}
