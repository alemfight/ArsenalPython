{
 "cells": [
  {
   "cell_type": "markdown",
   "metadata": {},
   "source": [
    "# 运输问题 例1\n",
    "\n",
    "例1 某公司经销甲产品。它下设三个加工厂。每日的产量分别是: A1 为 7 吨, A2\n",
    "为 4 吨, A3 为 9 吨。该公司把这些产品分别运往四个销售点。各销售点每日销量为: B1 为3吨,B2 为6吨,B3 为5吨,B4 为6吨。已知从各工厂到各销售点的单位产品的运价 为表 3 -3 所示。问该公司应如何调运产品 , 在满足各销点的需要量的前提下 , 使总运费为 最少。\n"
   ]
  },
  {
   "cell_type": "markdown",
   "metadata": {},
   "source": [
    "参考：`facility.py` http://www.gurobi.com/documentation/7.0/examples/facility_py.html"
   ]
  },
  {
   "cell_type": "markdown",
   "metadata": {},
   "source": []
  },
  {
   "cell_type": "markdown",
   "metadata": {},
   "source": [
    "### Step 1: Import functions from the gurobipy module"
   ]
  },
  {
   "cell_type": "code",
   "execution_count": 1,
   "metadata": {
    "collapsed": true
   },
   "outputs": [],
   "source": [
    "from gurobipy import *"
   ]
  },
  {
   "cell_type": "markdown",
   "metadata": {},
   "source": [
    "\n",
    "### Step 2: Create empty model"
   ]
  },
  {
   "cell_type": "code",
   "execution_count": 2,
   "metadata": {
    "collapsed": false
   },
   "outputs": [],
   "source": [
    "m = Model(\"facility\")\n",
    "\n",
    "# Warehouse demand in thousands of units\n",
    "# 销量\n",
    "demand = [3, 6, 5, 6]\n",
    "\n",
    "# Plant capacity in thousands of units\n",
    "# 产量\n",
    "capacity = [7, 4, 9]\n",
    "\n",
    "# Fixed costs for each plant\n",
    "# 无固定支出\n",
    "fixedCosts = [0, 0, 0, 0]\n",
    "\n",
    "# Transportation costs per thousand units\n",
    "transCosts = [[3, 11, 3 , 10],\n",
    "              [1, 9 , 2 ,  8],\n",
    "              [7, 4 , 10,  5],\n",
    "             ]\n",
    "\n",
    "transCostsDict = {}"
   ]
  },
  {
   "cell_type": "markdown",
   "metadata": {},
   "source": [
    "\n",
    "### Step 3: Create activitiy variables"
   ]
  },
  {
   "cell_type": "code",
   "execution_count": 3,
   "metadata": {
    "collapsed": false
   },
   "outputs": [
    {
     "name": "stdout",
     "output_type": "stream",
     "text": [
      "cost矩阵 [[3, 11, 3, 10], [1, 9, 2, 8], [7, 4, 10, 5]]\n",
      "cost字典() {(0, 1): 11, (1, 2): 2, (0, 0): 3, (2, 1): 4, (0, 2): 3, (2, 0): 7, (1, 3): 8, (2, 3): 5, (2, 2): 10, (1, 0): 1, (0, 3): 10, (1, 1): 9}\n"
     ]
    },
    {
     "data": {
      "text/plain": [
       "{(0, 0): <gurobi.Var trans[0,0]>,\n",
       " (0, 1): <gurobi.Var trans[0,1]>,\n",
       " (0, 2): <gurobi.Var trans[0,2]>,\n",
       " (0, 3): <gurobi.Var trans[0,3]>,\n",
       " (1, 0): <gurobi.Var trans[1,0]>,\n",
       " (1, 1): <gurobi.Var trans[1,1]>,\n",
       " (1, 2): <gurobi.Var trans[1,2]>,\n",
       " (1, 3): <gurobi.Var trans[1,3]>,\n",
       " (2, 0): <gurobi.Var trans[2,0]>,\n",
       " (2, 1): <gurobi.Var trans[2,1]>,\n",
       " (2, 2): <gurobi.Var trans[2,2]>,\n",
       " (2, 3): <gurobi.Var trans[2,3]>}"
      ]
     },
     "execution_count": 3,
     "metadata": {},
     "output_type": "execute_result"
    }
   ],
   "source": [
    "# Range of plants and warehouses\n",
    "plants = range(len(capacity))\n",
    "warehouses = range(len(demand))\n",
    "\n",
    "# 将cost矩阵转为字典，预备计算代价\n",
    "for i in range(len(capacity)):\n",
    "    for j in range(len(demand)):\n",
    "        transCostsDict[(i,j)] = transCosts[i][j]\n",
    "print \"cost矩阵\", transCosts\n",
    "print \"cost字典()\", transCostsDict\n",
    "##\n",
    "# facility.py 中 考虑工厂开放存在cost，增加关闭变量\n",
    "# Plant open decision variables: open[p] == 1 if plant p is open.\n",
    "# open = m.addVars(plants,\n",
    "#                  vtype=GRB.BINARY,\n",
    "#                  obj=fixedCosts,\n",
    "#                  name=\"open\")\n",
    "# \n",
    "## 我们这里假设所有工厂都在开放状态\n",
    "open = [1] * len(plants)\n",
    "\n",
    "# Transportation decision variables: transport[w,p] captures the\n",
    "# optimal quantity to transport to warehouse w from plant p\n",
    "# transport = m.addVars(warehouses, plants, obj=transport name=\"trans\")\n",
    "# 将原有的 obj=transport 修改为 obj 函数； \n",
    "# 按原有的写法 obj 不起作用; 与答案第一行一致，但是二三行不一样。 参答案 p. 83 表 3-13\n",
    "transport = m.addVars(plants, warehouses, name=\"trans\")\n",
    "transport"
   ]
  },
  {
   "cell_type": "markdown",
   "metadata": {},
   "source": [
    "### Step 4: Set objective function"
   ]
  },
  {
   "cell_type": "code",
   "execution_count": 4,
   "metadata": {
    "collapsed": false
   },
   "outputs": [
    {
     "name": "stdout",
     "output_type": "stream",
     "text": [
      "目标函数 obj: <gurobi.LinExpr: 3.0 trans[0,0] + 11.0 trans[0,1] + 3.0 trans[0,2] + 10.0 trans[0,3] + trans[1,0] + 9.0 trans[1,1] + 2.0 trans[1,2] + 8.0 trans[1,3] + 7.0 trans[2,0] + 4.0 trans[2,1] + 10.0 trans[2,2] + 5.0 trans[2,3]>\n"
     ]
    }
   ],
   "source": [
    "# 为何这里的 obj=transCosts ?\n",
    "# transport = m.addVars(warehouses, plants, name=\"trans\")\n",
    "obj = transport.prod(transCostsDict)\n",
    "m.setObjective( obj , GRB.MINIMIZE )\n",
    "# m.modelSense = GRB.MINIMIZE\n",
    "# m.setObjective(quicksum(transport.prod(transCosts)), GRB.MINIMIZE)\n",
    "print \"目标函数 obj:\", obj"
   ]
  },
  {
   "cell_type": "markdown",
   "metadata": {},
   "source": [
    "### Step 5: Add constraints"
   ]
  },
  {
   "cell_type": "code",
   "execution_count": 5,
   "metadata": {
    "collapsed": false
   },
   "outputs": [
    {
     "data": {
      "text/plain": [
       "{0: <gurobi.Constr *Awaiting Model Update*>,\n",
       " 1: <gurobi.Constr *Awaiting Model Update*>,\n",
       " 2: <gurobi.Constr *Awaiting Model Update*>,\n",
       " 3: <gurobi.Constr *Awaiting Model Update*>}"
      ]
     },
     "execution_count": 5,
     "metadata": {},
     "output_type": "execute_result"
    }
   ],
   "source": [
    "# Production constraints\n",
    "# Note that the right-hand limit sets the production to zero if the plant\n",
    "# is closed\n",
    "# <= 修改为 ==\n",
    "m.addConstrs(\n",
    "    (transport.sum(p, '*') == capacity[p] for p in plants),\n",
    "    \"Capacity\")\n",
    "\n",
    "# Demand constraints\n",
    "m.addConstrs(\n",
    "    (transport.sum('*', w) == demand[w] for w in warehouses),\n",
    "    \"Demand\")"
   ]
  },
  {
   "cell_type": "markdown",
   "metadata": {},
   "source": [
    "### Step 6: Solve model"
   ]
  },
  {
   "cell_type": "code",
   "execution_count": 6,
   "metadata": {
    "collapsed": false,
    "scrolled": false
   },
   "outputs": [
    {
     "name": "stdout",
     "output_type": "stream",
     "text": [
      "Optimize a model with 7 rows, 12 columns and 24 nonzeros\n",
      "Coefficient statistics:\n",
      "  Matrix range     [1e+00, 1e+00]\n",
      "  Objective range  [1e+00, 1e+01]\n",
      "  Bounds range     [0e+00, 0e+00]\n",
      "  RHS range        [3e+00, 9e+00]\n",
      "Presolve time: 0.01s\n",
      "Presolved: 7 rows, 12 columns, 24 nonzeros\n",
      "\n",
      "Iteration    Objective       Primal Inf.    Dual Inf.      Time\n",
      "       0    6.7000000e+01   1.400000e+01   0.000000e+00      0s\n",
      "       3    8.5000000e+01   0.000000e+00   0.000000e+00      0s\n",
      "\n",
      "Solved in 3 iterations and 0.01 seconds\n",
      "Optimal objective  8.500000000e+01\n"
     ]
    }
   ],
   "source": [
    "m.optimize()"
   ]
  },
  {
   "cell_type": "markdown",
   "metadata": {},
   "source": [
    "### Step 8: Print variable values for optimal solution"
   ]
  },
  {
   "cell_type": "code",
   "execution_count": 7,
   "metadata": {
    "collapsed": false,
    "scrolled": true
   },
   "outputs": [
    {
     "name": "stdout",
     "output_type": "stream",
     "text": [
      "\n",
      "TOTAL COSTS: 85\n",
      "SOLUTION: 运输矩阵解为\n",
      "    [B0] [B1] [B2] [B3]\n",
      "[A0] 2.0 0.0 5.0 0.0\n",
      "[A1] 1.0 0.0 0.0 3.0\n",
      "[A2] 0.0 6.0 0.0 3.0\n",
      "5.0\n"
     ]
    }
   ],
   "source": [
    "# Print solution\n",
    "print('\\nTOTAL COSTS: %g' % m.objVal)\n",
    "print('SOLUTION: 运输矩阵解为')\n",
    "print \"   \",\n",
    "for w in warehouses:\n",
    "    print \"[B{0}]\".format(w),\n",
    "print \n",
    "for p in plants:\n",
    "    print \"[A{0}]\".format(p), \n",
    "    if open[p] > 0.99:\n",
    "        # print('Plant %s open' % p)\n",
    "        for w in warehouses:\n",
    "            #if transport[w,p].x > 0:\n",
    "            #    print('  Transport %g units to warehouse %s' % \\\n",
    "            #          (transport[w,p].x, w))\n",
    "            print transport[p,w].x, \n",
    "        print\n",
    "    else:\n",
    "        print('Plant %s closed!' % p)\n",
    "        \n",
    "# print transport[0,1].x\n",
    "# print transport[1,0].x\n",
    "# print transport[3,0].x\n",
    "print transport[0,2].x"
   ]
  },
  {
   "cell_type": "markdown",
   "metadata": {},
   "source": [
    "```\n",
    "# 解出的最优解满足生产运输约束, 与答案一致\n",
    "  [B0] [B1] [B2] [B3]\n",
    "[A0] 2.0 0.0 5.0 0.0\n",
    "[A1] 1.0 0.0 0.0 3.0\n",
    "[A2] 0.0 6.0 0.0 3.0\n",
    "```"
   ]
  },
  {
   "cell_type": "code",
   "execution_count": 8,
   "metadata": {
    "collapsed": false
   },
   "outputs": [
    {
     "name": "stdout",
     "output_type": "stream",
     "text": [
      "运输代价\n",
      "[[ 3 11  3 10]\n",
      " [ 1  9  2  8]\n",
      " [ 7  4 10  5]]\n",
      "\n",
      "cost_our 我们计算 \n",
      "[[2, 0, 5, 0], [1, 0, 0, 3], [0, 6, 0, 3]]\n",
      "代价相乘后 \n",
      "[[ 6  0 15  0]\n",
      " [ 1  0  0 24]\n",
      " [ 0 24  0 15]]\n",
      "最优值  85\n",
      "\n",
      "cout_book 书本计算\n",
      "[[0, 0, 5, 2], [3, 0, 0, 1], [0, 6, 0, 3]]\n",
      "代价相乘后\n",
      "[[ 0  0 15 20]\n",
      " [ 3  0  0  8]\n",
      " [ 0 24  0 15]]\n",
      "最优值  85\n",
      "\n",
      "Congraturations! 最优值一致\n"
     ]
    }
   ],
   "source": [
    "from numpy import array, dot\n",
    "\n",
    "ar_cost = array(transCosts)\n",
    "print \"运输代价\\n\", ar_cost\n",
    "             \n",
    "# 虽然两个矩阵的结果不一样， 但是计算出来的最优值是一样的，都是 85\n",
    "ourResult = [[2, 0, 5 , 0],\n",
    "              [1, 0 , 0 , 3],\n",
    "              [0, 6 , 0,  3],\n",
    "             ]\n",
    "bookResult= [[0, 0, 5 , 2],\n",
    "              [3, 0 , 0 ,  1],\n",
    "              [0, 6 , 0,  3],\n",
    "             ]\n",
    "\n",
    "ar_our = array(ourResult)\n",
    "ar_book = array(bookResult)\n",
    "# reduce(lambda ourResult, transCosts:  ourResult * transCosts, list, 1)  \n",
    "cost_our=(ar_cost * ar_our)\n",
    "print \"\\ncost_our 我们计算 \\n\", ourResult\n",
    "print \"代价相乘后 \\n\", cost_our\n",
    "print \"最优值 \", cost_our.sum()\n",
    "cout_book = ar_cost * ar_book\n",
    "print\n",
    "print \"cout_book 书本计算\\n\", bookResult\n",
    "print \"代价相乘后\\n\", cout_book\n",
    "print \"最优值 \",cout_book.sum()\n",
    "\n",
    "if cost_our.sum() == cout_book.sum():\n",
    "    print \"\\nCongraturations! 最优值一致\""
   ]
  }
 ],
 "metadata": {
  "anaconda-cloud": {},
  "kernelspec": {
   "display_name": "Python 2",
   "language": "python",
   "name": "python2"
  },
  "language_info": {
   "codemirror_mode": {
    "name": "ipython",
    "version": 2
   },
   "file_extension": ".py",
   "mimetype": "text/x-python",
   "name": "python",
   "nbconvert_exporter": "python",
   "pygments_lexer": "ipython2",
   "version": "2.7.13"
  }
 },
 "nbformat": 4,
 "nbformat_minor": 0
}
