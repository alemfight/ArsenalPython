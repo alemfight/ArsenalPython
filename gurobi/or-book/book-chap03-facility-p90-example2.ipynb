{
 "cells": [
  {
   "cell_type": "markdown",
   "metadata": {},
   "source": [
    "# 运输问题 例2 p. 90\n",
    "\n",
    "例 2 设有三个化肥厂( A, B, C)供应四个地区(I,II,III,IV)的农用化肥。假定等 量的化肥在这些地区使用效果相同。各化肥厂年 产量 , 各 地区 年需要 量及 从各化 肥厂 到 各地区运送单位化肥的运价如表 3 -25 所示。试求出总的运费最节省的化肥调拨方案。"
   ]
  },
  {
   "cell_type": "markdown",
   "metadata": {},
   "source": [
    "参考：`facility.py` http://www.gurobi.com/documentation/7.0/examples/facility_py.html"
   ]
  },
  {
   "cell_type": "markdown",
   "metadata": {},
   "source": []
  },
  {
   "cell_type": "markdown",
   "metadata": {},
   "source": [
    "### Step 1: Import functions from the gurobipy module"
   ]
  },
  {
   "cell_type": "code",
   "execution_count": 9,
   "metadata": {
    "collapsed": true
   },
   "outputs": [],
   "source": [
    "from gurobipy import *"
   ]
  },
  {
   "cell_type": "markdown",
   "metadata": {},
   "source": [
    "\n",
    "### Step 2: Create empty model"
   ]
  },
  {
   "cell_type": "code",
   "execution_count": 10,
   "metadata": {
    "collapsed": false
   },
   "outputs": [],
   "source": [
    "m = Model(\"facility\")\n",
    "\n",
    "# Warehouse demand in thousands of units\n",
    "# 销量\n",
    "# 最大销量\n",
    "demand_min = [30, 70, 0, 10]\n",
    "# 最小销量\n",
    "demand_max = [50, 70, 30, GRB.INFINITY]\n",
    "demand = demand_min  # 便于 len(demand) 取数组大小\n",
    "\n",
    "# Plant capacity in thousands of units\n",
    "# 产量\n",
    "capacity = [50, 60, 50]\n",
    "\n",
    "# Fixed costs for each plant\n",
    "# 无固定支出\n",
    "fixedCosts = [0, 0, 0, 0]\n",
    "\n",
    "# Transportation costs per thousand units\n",
    "transCosts = [[16, 13, 22 , 17],\n",
    "              [14, 13, 19 , 15],\n",
    "              [19, 20, 23 , GRB.INFINITY],\n",
    "             ]\n",
    "\n",
    "transCostsDict = {}"
   ]
  },
  {
   "cell_type": "markdown",
   "metadata": {},
   "source": [
    "\n",
    "### Step 3: Create activitiy variables"
   ]
  },
  {
   "cell_type": "code",
   "execution_count": 11,
   "metadata": {
    "collapsed": false
   },
   "outputs": [
    {
     "name": "stdout",
     "output_type": "stream",
     "text": [
      "cost矩阵 [[16, 13, 22, 17], [14, 13, 19, 15], [19, 20, 23, 1e+100]]\n",
      "cost字典() {(0, 1): 13, (1, 2): 19, (0, 0): 16, (2, 1): 20, (0, 2): 22, (2, 0): 19, (1, 3): 15, (2, 3): 1e+100, (2, 2): 23, (1, 0): 14, (0, 3): 17, (1, 1): 13}\n"
     ]
    },
    {
     "data": {
      "text/plain": [
       "{(0, 0): <gurobi.Var trans[0,0]>,\n",
       " (0, 1): <gurobi.Var trans[0,1]>,\n",
       " (0, 2): <gurobi.Var trans[0,2]>,\n",
       " (0, 3): <gurobi.Var trans[0,3]>,\n",
       " (1, 0): <gurobi.Var trans[1,0]>,\n",
       " (1, 1): <gurobi.Var trans[1,1]>,\n",
       " (1, 2): <gurobi.Var trans[1,2]>,\n",
       " (1, 3): <gurobi.Var trans[1,3]>,\n",
       " (2, 0): <gurobi.Var trans[2,0]>,\n",
       " (2, 1): <gurobi.Var trans[2,1]>,\n",
       " (2, 2): <gurobi.Var trans[2,2]>,\n",
       " (2, 3): <gurobi.Var trans[2,3]>}"
      ]
     },
     "execution_count": 11,
     "metadata": {},
     "output_type": "execute_result"
    }
   ],
   "source": [
    "# Range of plants and warehouses\n",
    "plants = range(len(capacity))\n",
    "warehouses = range(len(demand))\n",
    "\n",
    "# 将cost矩阵转为字典，预备计算代价\n",
    "for i in range(len(capacity)):\n",
    "    for j in range(len(demand)):\n",
    "        transCostsDict[(i,j)] = transCosts[i][j]\n",
    "print \"cost矩阵\", transCosts\n",
    "print \"cost字典()\", transCostsDict\n",
    "##\n",
    "# facility.py 中 考虑工厂开放存在cost，增加关闭变量\n",
    "# Plant open decision variables: open[p] == 1 if plant p is open.\n",
    "# open = m.addVars(plants,\n",
    "#                  vtype=GRB.BINARY,\n",
    "#                  obj=fixedCosts,\n",
    "#                  name=\"open\")\n",
    "# \n",
    "## 我们这里假设所有工厂都在开放状态\n",
    "open = [1] * len(plants)\n",
    "\n",
    "# Transportation decision variables: transport[w,p] captures the\n",
    "# optimal quantity to transport to warehouse w from plant p\n",
    "# transport = m.addVars(warehouses, plants, obj=transport name=\"trans\")\n",
    "# 将原有的 obj=transport 修改为 obj 函数； \n",
    "# 按原有的写法 obj 不起作用; 与答案第一行一致，但是二三行不一样。 参答案 p. 83 表 3-13\n",
    "transport = m.addVars(plants, warehouses, name=\"trans\")\n",
    "transport"
   ]
  },
  {
   "cell_type": "markdown",
   "metadata": {},
   "source": [
    "### Step 4: Set objective function"
   ]
  },
  {
   "cell_type": "code",
   "execution_count": 12,
   "metadata": {
    "collapsed": false
   },
   "outputs": [
    {
     "name": "stdout",
     "output_type": "stream",
     "text": [
      "目标函数 obj: <gurobi.LinExpr: 16.0 trans[0,0] + 13.0 trans[0,1] + 22.0 trans[0,2] + 17.0 trans[0,3] + 14.0 trans[1,0] + 13.0 trans[1,1] + 19.0 trans[1,2] + 15.0 trans[1,3] + 19.0 trans[2,0] + 20.0 trans[2,1] + 23.0 trans[2,2] + 1e+100 trans[2,3]>\n"
     ]
    }
   ],
   "source": [
    "# 为何这里的 obj=transCosts ?\n",
    "# transport = m.addVars(warehouses, plants, name=\"trans\")\n",
    "obj = transport.prod(transCostsDict)\n",
    "m.setObjective( obj , GRB.MINIMIZE )\n",
    "# m.modelSense = GRB.MINIMIZE\n",
    "# m.setObjective(quicksum(transport.prod(transCosts)), GRB.MINIMIZE)\n",
    "print \"目标函数 obj:\", obj"
   ]
  },
  {
   "cell_type": "markdown",
   "metadata": {},
   "source": [
    "### Step 5: Add constraints"
   ]
  },
  {
   "cell_type": "code",
   "execution_count": 13,
   "metadata": {
    "collapsed": false
   },
   "outputs": [
    {
     "data": {
      "text/plain": [
       "{0: <gurobi.Constr *Awaiting Model Update*>,\n",
       " 1: <gurobi.Constr *Awaiting Model Update*>,\n",
       " 2: <gurobi.Constr *Awaiting Model Update*>,\n",
       " 3: <gurobi.Constr *Awaiting Model Update*>}"
      ]
     },
     "execution_count": 13,
     "metadata": {},
     "output_type": "execute_result"
    }
   ],
   "source": [
    "# Production constraints\n",
    "# Note that the right-hand limit sets the production to zero if the plant\n",
    "# is closed\n",
    "# <= 修改为 ==\n",
    "m.addConstrs(\n",
    "    (transport.sum(p, '*') == capacity[p] for p in plants),\n",
    "    \"Capacity\")\n",
    "\n",
    "# Demand constraints\n",
    "m.addConstrs(\n",
    "    (transport.sum('*', w) <= demand_max[w] for w in warehouses),\n",
    "    \"Demand\")\n",
    "\n",
    "m.addConstrs(\n",
    "    (transport.sum('*', w) >= demand_min[w] for w in warehouses),\n",
    "    \"Demand\")"
   ]
  },
  {
   "cell_type": "markdown",
   "metadata": {},
   "source": [
    "### Step 6: Solve model"
   ]
  },
  {
   "cell_type": "code",
   "execution_count": 14,
   "metadata": {
    "collapsed": false,
    "scrolled": false
   },
   "outputs": [
    {
     "name": "stdout",
     "output_type": "stream",
     "text": [
      "Optimize a model with 11 rows, 12 columns and 36 nonzeros\n",
      "Coefficient statistics:\n",
      "  Matrix range     [1e+00, 1e+00]\n",
      "  Objective range  [1e+01, 1e+100]\n",
      "  Bounds range     [0e+00, 0e+00]\n",
      "  RHS range        [1e+01, 7e+01]\n",
      "Warning: Model contains large objective coefficients\n",
      "         Consider reformulating model or setting NumericFocus parameter\n",
      "         to avoid numerical issues.\n",
      "Presolve removed 5 rows and 2 columns\n",
      "Presolve time: 0.04s\n",
      "Presolved: 6 rows, 11 columns, 20 nonzeros\n",
      "\n",
      "Iteration    Objective       Primal Inf.    Dual Inf.      Time\n",
      "       0    2.3800000e+03   5.000000e+01   0.000000e+00      0s\n",
      "       3    2.4600000e+03   0.000000e+00   0.000000e+00      0s\n",
      "\n",
      "Solved in 3 iterations and 0.08 seconds\n",
      "Optimal objective  2.460000000e+03\n"
     ]
    }
   ],
   "source": [
    "m.optimize()"
   ]
  },
  {
   "cell_type": "markdown",
   "metadata": {},
   "source": [
    "### Step 8: Print variable values for optimal solution"
   ]
  },
  {
   "cell_type": "code",
   "execution_count": 18,
   "metadata": {
    "collapsed": false,
    "scrolled": true
   },
   "outputs": [
    {
     "name": "stdout",
     "output_type": "stream",
     "text": [
      "\n",
      "TOTAL COSTS: 2460\n",
      "SOLUTION: 运输矩阵解为\n",
      "    [B0] [B1] [B2] [B3]\n",
      "[A0] 0.0 50.0 0.0 0.0\n",
      "[A1] 0.0 20.0 0.0 40.0\n",
      "[A2] 50.0 0.0 0.0 0.0\n",
      "\n",
      "最优值为： 2460.0\n"
     ]
    }
   ],
   "source": [
    "# Print solution\n",
    "print('\\nTOTAL COSTS: %g' % m.objVal)\n",
    "print('SOLUTION: 运输矩阵解为')\n",
    "print \"   \",\n",
    "for w in warehouses:\n",
    "    print \"[B{0}]\".format(w),\n",
    "print \n",
    "for p in plants:\n",
    "    print \"[A{0}]\".format(p), \n",
    "    if open[p] > 0.99:\n",
    "        # print('Plant %s open' % p)\n",
    "        for w in warehouses:\n",
    "            #if transport[w,p].x > 0:\n",
    "            #    print('  Transport %g units to warehouse %s' % \\\n",
    "            #          (transport[w,p].x, w))\n",
    "            print transport[p,w].x, \n",
    "        print\n",
    "    else:\n",
    "        print('Plant %s closed!' % p)\n",
    "        \n",
    "# print transport[0,1].x\n",
    "# print transport[1,0].x\n",
    "# print transport[3,0].x\n",
    "print \"\\n最优值为：\", m.ObjVal"
   ]
  },
  {
   "cell_type": "markdown",
   "metadata": {},
   "source": [
    "```\n",
    "# 解出的最优解满足生产运输约束, 与 p.91 表 3-28 答案一致\n",
    "```"
   ]
  }
 ],
 "metadata": {
  "anaconda-cloud": {},
  "kernelspec": {
   "display_name": "Python 2",
   "language": "python",
   "name": "python2"
  },
  "language_info": {
   "codemirror_mode": {
    "name": "ipython",
    "version": 2
   },
   "file_extension": ".py",
   "mimetype": "text/x-python",
   "name": "python",
   "nbconvert_exporter": "python",
   "pygments_lexer": "ipython2",
   "version": "2.7.13"
  }
 },
 "nbformat": 4,
 "nbformat_minor": 0
}
