{
 "cells": [
  {
   "cell_type": "markdown",
   "metadata": {},
   "source": [
    "# 指派问题 例7 p. 126\n",
    "\n",
    "例7 有一份中文说明书,需译成英、日、德、俄四种文字。分别记作E、J、G、R。现 有甲、乙、丙、丁四人。他们将中文说明书翻译成不同语种的说明书所需时间如表 5-7 所 示。问应指派何人去完成何工作 , 使所需总时间最少 ?"
   ]
  },
  {
   "cell_type": "markdown",
   "metadata": {},
   "source": [
    "参考：`facility.py` http://www.gurobi.com/documentation/7.0/examples/facility_py.html"
   ]
  },
  {
   "cell_type": "markdown",
   "metadata": {},
   "source": []
  },
  {
   "cell_type": "markdown",
   "metadata": {},
   "source": [
    "### Step 1: Import functions from the gurobipy module"
   ]
  },
  {
   "cell_type": "code",
   "execution_count": 1,
   "metadata": {
    "collapsed": true
   },
   "outputs": [],
   "source": [
    "from gurobipy import *"
   ]
  },
  {
   "cell_type": "markdown",
   "metadata": {},
   "source": [
    "\n",
    "### Step 2: Create empty model"
   ]
  },
  {
   "cell_type": "code",
   "execution_count": 2,
   "metadata": {
    "collapsed": false
   },
   "outputs": [],
   "source": [
    "m = Model(\"facility\")\n",
    "\n",
    "# Warehouse demand in thousands of units\n",
    "# 销量\n",
    "# 最小销量\n",
    "demand_min = [1, 1, 1, 1] # [0, 0, 0, 0]\n",
    "# 最大销量\n",
    "demand_max = [1, 1, 1, 1]\n",
    "demand = demand_min  # 便于 len(demand) 取数组大小\n",
    "\n",
    "# Plant capacity in thousands of units\n",
    "# 产量\n",
    "capacity = [1, 1, 1, 1]\n",
    "\n",
    "# Fixed costs for each plant\n",
    "# 无固定支出\n",
    "fixedCosts = [0, 0, 0, 0]\n",
    "\n",
    "# Transportation costs per thousand units\n",
    "transCosts = [[2, 15, 13 , 4],\n",
    "              [10, 4, 14 , 15],\n",
    "              [9, 14, 16 , 13],\n",
    "              [7, 8, 11 , 9],\n",
    "             ]\n",
    "\n",
    "transCostsDict = {}\n"
   ]
  },
  {
   "cell_type": "markdown",
   "metadata": {},
   "source": [
    "\n",
    "### Step 3: Create activitiy variables"
   ]
  },
  {
   "cell_type": "code",
   "execution_count": 3,
   "metadata": {
    "collapsed": false
   },
   "outputs": [
    {
     "name": "stdout",
     "output_type": "stream",
     "text": [
      "cost矩阵 [[2, 15, 13, 4], [10, 4, 14, 15], [9, 14, 16, 13], [7, 8, 11, 9]]\n",
      "cost字典() {(0, 1): 15, (1, 2): 14, (3, 2): 11, (0, 0): 2, (3, 3): 9, (3, 0): 7, (3, 1): 8, (2, 1): 14, (0, 2): 13, (2, 0): 9, (1, 3): 15, (2, 3): 13, (2, 2): 16, (1, 0): 10, (0, 3): 4, (1, 1): 4}\n"
     ]
    },
    {
     "data": {
      "text/plain": [
       "{(0, 0): <gurobi.Var trans[0,0]>,\n",
       " (0, 1): <gurobi.Var trans[0,1]>,\n",
       " (0, 2): <gurobi.Var trans[0,2]>,\n",
       " (0, 3): <gurobi.Var trans[0,3]>,\n",
       " (1, 0): <gurobi.Var trans[1,0]>,\n",
       " (1, 1): <gurobi.Var trans[1,1]>,\n",
       " (1, 2): <gurobi.Var trans[1,2]>,\n",
       " (1, 3): <gurobi.Var trans[1,3]>,\n",
       " (2, 0): <gurobi.Var trans[2,0]>,\n",
       " (2, 1): <gurobi.Var trans[2,1]>,\n",
       " (2, 2): <gurobi.Var trans[2,2]>,\n",
       " (2, 3): <gurobi.Var trans[2,3]>,\n",
       " (3, 0): <gurobi.Var trans[3,0]>,\n",
       " (3, 1): <gurobi.Var trans[3,1]>,\n",
       " (3, 2): <gurobi.Var trans[3,2]>,\n",
       " (3, 3): <gurobi.Var trans[3,3]>}"
      ]
     },
     "execution_count": 3,
     "metadata": {},
     "output_type": "execute_result"
    }
   ],
   "source": [
    "# Range of plants and warehouses\n",
    "# 竖轴 提供方：人员\n",
    "plants = range(len(capacity))\n",
    "# 横轴 消费方：任务\n",
    "warehouses = range(len(demand))\n",
    "\n",
    "# 将cost矩阵转为字典，预备计算代价\n",
    "for i in range(len(capacity)):\n",
    "    for j in range(len(demand)):\n",
    "        transCostsDict[(i,j)] = transCosts[i][j]\n",
    "print \"cost矩阵\", transCosts\n",
    "print \"cost字典()\", transCostsDict\n",
    "##\n",
    "# facility.py 中 考虑工厂开放存在cost，增加关闭变量\n",
    "# Plant open decision variables: open[p] == 1 if plant p is open.\n",
    "# open = m.addVars(plants,\n",
    "#                  vtype=GRB.BINARY,\n",
    "#                  obj=fixedCosts,\n",
    "#                  name=\"open\")\n",
    "# \n",
    "## 我们这里假设所有工厂都在开放状态\n",
    "open = [1] * len(plants)\n",
    "\n",
    "\n",
    "# 修改为整形变量 \n",
    "transport = m.addVars(plants, warehouses, vtype=GRB.BINARY, name=\"trans\")\n",
    "transport"
   ]
  },
  {
   "cell_type": "markdown",
   "metadata": {},
   "source": [
    "### Step 4: Set objective function"
   ]
  },
  {
   "cell_type": "code",
   "execution_count": 4,
   "metadata": {
    "collapsed": false
   },
   "outputs": [
    {
     "name": "stdout",
     "output_type": "stream",
     "text": [
      "目标函数 obj: <gurobi.LinExpr: 2.0 trans[0,0] + 15.0 trans[0,1] + 13.0 trans[0,2] + 4.0 trans[0,3] + 10.0 trans[1,0] + 4.0 trans[1,1] + 14.0 trans[1,2] + 15.0 trans[1,3] + 9.0 trans[2,0] + 14.0 trans[2,1] + 16.0 trans[2,2] + 13.0 trans[2,3] + 7.0 trans[3,0] + 8.0 trans[3,1] + 11.0 trans[3,2] + 9.0 trans[3,3]>\n"
     ]
    }
   ],
   "source": [
    "# 为何这里的 obj=transCosts ?\n",
    "# transport = m.addVars(warehouses, plants, name=\"trans\")\n",
    "obj = transport.prod(transCostsDict)\n",
    "m.setObjective( obj , GRB.MINIMIZE )\n",
    "# m.modelSense = GRB.MINIMIZE\n",
    "# m.setObjective(quicksum(transport.prod(transCosts)), GRB.MINIMIZE)\n",
    "print \"目标函数 obj:\", obj"
   ]
  },
  {
   "cell_type": "markdown",
   "metadata": {},
   "source": [
    "### Step 5: Add constraints"
   ]
  },
  {
   "cell_type": "code",
   "execution_count": 5,
   "metadata": {
    "collapsed": false
   },
   "outputs": [
    {
     "data": {
      "text/plain": [
       "{0: <gurobi.Constr *Awaiting Model Update*>,\n",
       " 1: <gurobi.Constr *Awaiting Model Update*>,\n",
       " 2: <gurobi.Constr *Awaiting Model Update*>,\n",
       " 3: <gurobi.Constr *Awaiting Model Update*>}"
      ]
     },
     "execution_count": 5,
     "metadata": {},
     "output_type": "execute_result"
    }
   ],
   "source": [
    "# Production constraints\n",
    "# Note that the right-hand limit sets the production to zero if the plant\n",
    "# is closed\n",
    "# \n",
    "# 关闭此约束条件时：  \n",
    "#  甲（A0）：因为效率高，可以同时完成2个工作。 最优值为较少为： 21.0\n",
    "#\n",
    "# SOLUTION: 矩阵解为\n",
    "#     [B0] [B1] [B2] [B3]\n",
    "# [A0] 1.0 0.0 0.0 1.0\n",
    "# [A1] 0.0 1.0 0.0 0.0\n",
    "# [A2] 0.0 0.0 0.0 0.0\n",
    "# [A3] 0.0 0.0 1.0 0.0\n",
    "# 最优值为： 21.0\n",
    "# \n",
    "# 打开此约束条件时：  甲（A0）：只能完成1个工作。 最优值为： 21.0\n",
    "# \n",
    "m.addConstrs(\n",
    "    (transport.sum(p, '*') == capacity[p] for p in plants),\n",
    "    \"Capacity\")\n",
    "\n",
    "\n",
    "# # Demand constraints\n",
    "# m.addConstrs(\n",
    "#     (transport.sum('*', w) <= demand_max[w] for w in warehouses),\n",
    "#     \"Demand\")\n",
    "#\n",
    "# \n",
    "m.addConstrs(\n",
    "    (transport.sum('*', w) == demand_min[w] for w in warehouses),\n",
    "    \"Demand\")"
   ]
  },
  {
   "cell_type": "markdown",
   "metadata": {},
   "source": [
    "### Step 6: Solve model"
   ]
  },
  {
   "cell_type": "code",
   "execution_count": 6,
   "metadata": {
    "collapsed": false,
    "scrolled": false
   },
   "outputs": [
    {
     "name": "stdout",
     "output_type": "stream",
     "text": [
      "Optimize a model with 8 rows, 16 columns and 32 nonzeros\n",
      "Variable types: 0 continuous, 16 integer (16 binary)\n",
      "Coefficient statistics:\n",
      "  Matrix range     [1e+00, 1e+00]\n",
      "  Objective range  [2e+00, 2e+01]\n",
      "  Bounds range     [1e+00, 1e+00]\n",
      "  RHS range        [1e+00, 1e+00]\n",
      "Found heuristic solution: objective 49\n",
      "Presolve time: 0.00s\n",
      "Presolved: 8 rows, 16 columns, 32 nonzeros\n",
      "Variable types: 0 continuous, 16 integer (16 binary)\n",
      "\n",
      "Root relaxation: objective 2.800000e+01, 7 iterations, 0.00 seconds\n",
      "\n",
      "    Nodes    |    Current Node    |     Objective Bounds      |     Work\n",
      " Expl Unexpl |  Obj  Depth IntInf | Incumbent    BestBd   Gap | It/Node Time\n",
      "\n",
      "*    0     0               0      28.0000000   28.00000  0.00%     -    0s\n",
      "\n",
      "Explored 0 nodes (7 simplex iterations) in 0.02 seconds\n",
      "Thread count was 4 (of 4 available processors)\n",
      "\n",
      "Solution count 2: 28 49 \n",
      "Pool objective bound 28\n",
      "\n",
      "Optimal solution found (tolerance 1.00e-04)\n",
      "Best objective 2.800000000000e+01, best bound 2.800000000000e+01, gap 0.0000%\n"
     ]
    }
   ],
   "source": [
    "m.optimize()"
   ]
  },
  {
   "cell_type": "markdown",
   "metadata": {},
   "source": [
    "### Step 8: Print variable values for optimal solution"
   ]
  },
  {
   "cell_type": "code",
   "execution_count": 7,
   "metadata": {
    "collapsed": false,
    "scrolled": true
   },
   "outputs": [
    {
     "name": "stdout",
     "output_type": "stream",
     "text": [
      "\n",
      "TOTAL COSTS: 28\n",
      "SOLUTION: 矩阵解为\n",
      "    [B0] [B1] [B2] [B3]\n",
      "[A0] 0.0 -0.0 -0.0 1.0\n",
      "[A1] -0.0 1.0 -0.0 -0.0\n",
      "[A2] 1.0 -0.0 -0.0 -0.0\n",
      "[A3] -0.0 0.0 1.0 -0.0\n",
      "\n",
      "最优值为： 28.0\n"
     ]
    }
   ],
   "source": [
    "# Print solution\n",
    "print('\\nTOTAL COSTS: %g' % m.objVal)\n",
    "print('SOLUTION: 矩阵解为')\n",
    "print \"   \",\n",
    "for w in warehouses:\n",
    "    print \"[B{0}]\".format(w),\n",
    "print \n",
    "for p in plants:\n",
    "    print \"[A{0}]\".format(p), \n",
    "    if open[p] > 0.99:\n",
    "        # print('Plant %s open' % p)\n",
    "        for w in warehouses:\n",
    "            #if transport[w,p].x > 0:\n",
    "            #    print('  Transport %g units to warehouse %s' % \\\n",
    "            #          (transport[w,p].x, w))\n",
    "            print transport[p,w].x, \n",
    "        print\n",
    "    else:\n",
    "        print('Plant %s closed!' % p)\n",
    "\n",
    "# print transport[0,1].x\n",
    "# print transport[1,0].x\n",
    "# print transport[3,0].x\n",
    "print \"\\n最优值为：\", m.ObjVal"
   ]
  },
  {
   "cell_type": "markdown",
   "metadata": {},
   "source": [
    "```\n",
    "# 解出的最优解满足生产运输约束, 与 p.128  最优解为  28(小时) 答案一致\n",
    "```"
   ]
  }
 ],
 "metadata": {
  "anaconda-cloud": {},
  "kernelspec": {
   "display_name": "Python 2",
   "language": "python",
   "name": "python2"
  },
  "language_info": {
   "codemirror_mode": {
    "name": "ipython",
    "version": 2
   },
   "file_extension": ".py",
   "mimetype": "text/x-python",
   "name": "python",
   "nbconvert_exporter": "python",
   "pygments_lexer": "ipython2",
   "version": "2.7.13"
  }
 },
 "nbformat": 4,
 "nbformat_minor": 0
}
