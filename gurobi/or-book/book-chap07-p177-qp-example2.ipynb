{
 "cells": [
  {
   "cell_type": "markdown",
   "metadata": {},
   "source": [
    "例 2 求解二次规划\n",
    "\n",
    "m a x f ( X ) = 8 x 1 + 1 0 x 2 - x 21 - x 2 2 \n",
    "\n",
    "3x1 +2x2≤6\n",
    "\n",
    "x1 , x2 ≥0"
   ]
  },
  {
   "cell_type": "markdown",
   "metadata": {},
   "source": [
    "参考：`qp.py` http://www.gurobi.com/documentation/7.0/examples/qp_py.html"
   ]
  },
  {
   "cell_type": "markdown",
   "metadata": {},
   "source": []
  },
  {
   "cell_type": "markdown",
   "metadata": {},
   "source": [
    "### Step 1: Import functions from the gurobipy module"
   ]
  },
  {
   "cell_type": "code",
   "execution_count": 1,
   "metadata": {
    "collapsed": true
   },
   "outputs": [],
   "source": [
    "from gurobipy import *"
   ]
  },
  {
   "cell_type": "markdown",
   "metadata": {},
   "source": [
    "\n",
    "### Step 2: Create empty model"
   ]
  },
  {
   "cell_type": "code",
   "execution_count": 2,
   "metadata": {
    "collapsed": false
   },
   "outputs": [],
   "source": [
    "m = Model(\"qp\")\n"
   ]
  },
  {
   "cell_type": "markdown",
   "metadata": {},
   "source": [
    "\n",
    "### Step 3: Create activitiy variables"
   ]
  },
  {
   "cell_type": "code",
   "execution_count": 3,
   "metadata": {
    "collapsed": false
   },
   "outputs": [],
   "source": [
    "# Create variables\n",
    "x1 = m.addVar(lb=0, name=\"x1\")\n",
    "x2 = m.addVar(lb=0, name=\"x2\")"
   ]
  },
  {
   "cell_type": "markdown",
   "metadata": {},
   "source": [
    "### Step 4: Set objective function"
   ]
  },
  {
   "cell_type": "code",
   "execution_count": 4,
   "metadata": {
    "collapsed": false
   },
   "outputs": [],
   "source": [
    "# Set objective: \n",
    "obj = 8 * x1 + 10 * x2 - x1 * x1 - x2 * x2\n",
    "m.setObjective(obj)\n",
    "m.setObjective( obj , GRB.MAXIMIZE)"
   ]
  },
  {
   "cell_type": "markdown",
   "metadata": {},
   "source": [
    "### Step 5: Add constraints"
   ]
  },
  {
   "cell_type": "code",
   "execution_count": 5,
   "metadata": {
    "collapsed": false
   },
   "outputs": [
    {
     "data": {
      "text/plain": [
       "<gurobi.Constr *Awaiting Model Update*>"
      ]
     },
     "execution_count": 5,
     "metadata": {},
     "output_type": "execute_result"
    }
   ],
   "source": [
    "# Add constraint: \n",
    "m.addConstr(3 * x1 + 2  *x2 <= 6, \"c0\")"
   ]
  },
  {
   "cell_type": "markdown",
   "metadata": {},
   "source": [
    "### Step 6: Solve model"
   ]
  },
  {
   "cell_type": "code",
   "execution_count": 6,
   "metadata": {
    "collapsed": false,
    "scrolled": false
   },
   "outputs": [
    {
     "name": "stdout",
     "output_type": "stream",
     "text": [
      "Optimize a model with 1 rows, 2 columns and 2 nonzeros\n",
      "Model has 2 quadratic objective terms\n",
      "Coefficient statistics:\n",
      "  Matrix range     [2e+00, 3e+00]\n",
      "  Objective range  [8e+00, 1e+01]\n",
      "  QObjective range [2e+00, 2e+00]\n",
      "  Bounds range     [0e+00, 0e+00]\n",
      "  RHS range        [6e+00, 6e+00]\n",
      "Presolve time: 0.01s\n",
      "Presolved: 1 rows, 2 columns, 2 nonzeros\n",
      "Presolved model has 2 quadratic objective terms\n",
      "Ordering time: 0.00s\n",
      "\n",
      "Barrier statistics:\n",
      " AA' NZ     : 0.000e+00\n",
      " Factor NZ  : 1.000e+00\n",
      " Factor Ops : 1.000e+00 (less than 1 second per iteration)\n",
      " Threads    : 1\n",
      "\n",
      "                  Objective                Residual\n",
      "Iter       Primal          Dual         Primal    Dual     Compl     Time\n",
      "   0  -4.92750796e+05  5.01766325e+05  2.50e+03 0.00e+00  9.99e+05     0s\n",
      "   1  -1.22975019e+03  6.50624083e+03  7.65e+01 0.00e+00  4.16e+04     0s\n",
      "   2   1.42628650e+01  4.75342652e+03  0.00e+00 0.00e+00  1.58e+03     0s\n",
      "   3   1.43159507e+01  2.74081917e+01  0.00e+00 0.00e+00  4.36e+00     0s\n",
      "   4   1.96864311e+01  2.21268201e+01  0.00e+00 0.00e+00  8.13e-01     0s\n",
      "   5   2.12479760e+01  2.17269589e+01  0.00e+00 0.00e+00  1.60e-01     0s\n",
      "   6   2.13068291e+01  2.13244559e+01  0.00e+00 6.11e-16  5.88e-03     0s\n",
      "   7   2.13076917e+01  2.13077239e+01  0.00e+00 0.00e+00  1.07e-05     0s\n",
      "   8   2.13076923e+01  2.13076923e+01  0.00e+00 5.55e-16  1.07e-08     0s\n",
      "   9   2.13076923e+01  2.13076923e+01  0.00e+00 4.44e-16  1.07e-11     0s\n",
      "\n",
      "Barrier solved model in 9 iterations and 0.04 seconds\n",
      "Optimal objective 2.13076923e+01\n",
      "\n"
     ]
    }
   ],
   "source": [
    "m.optimize()"
   ]
  },
  {
   "cell_type": "markdown",
   "metadata": {},
   "source": [
    "### Step 8: Print variable values for optimal solution"
   ]
  },
  {
   "cell_type": "code",
   "execution_count": 7,
   "metadata": {
    "collapsed": false,
    "scrolled": true
   },
   "outputs": [
    {
     "name": "stdout",
     "output_type": "stream",
     "text": [
      "x1 0.307692\n",
      "x2 2.53846\n",
      "Obj: 21.3077\n"
     ]
    }
   ],
   "source": [
    "\n",
    "for v in m.getVars():\n",
    "    print('%s %g' % (v.varName, v.x))\n",
    "\n",
    "print('Obj: %g' % obj.getValue())"
   ]
  },
  {
   "cell_type": "code",
   "execution_count": 8,
   "metadata": {
    "collapsed": false
   },
   "outputs": [
    {
     "name": "stdout",
     "output_type": "stream",
     "text": [
      "p.178 标准答案为：\n",
      "x1 0.307692307692\n",
      "x2 2.53846153846\n"
     ]
    }
   ],
   "source": [
    "print \"p.178 标准答案为：\"\n",
    "print \"x1\", 4/13.0\n",
    "print \"x2\", 33/13.0"
   ]
  },
  {
   "cell_type": "markdown",
   "metadata": {},
   "source": [
    "## 变更为整形优化，继续求解"
   ]
  },
  {
   "cell_type": "code",
   "execution_count": 9,
   "metadata": {
    "collapsed": false
   },
   "outputs": [
    {
     "name": "stdout",
     "output_type": "stream",
     "text": [
      "Optimize a model with 1 rows, 2 columns and 2 nonzeros\n",
      "Model has 2 quadratic objective terms\n",
      "Variable types: 0 continuous, 2 integer (0 binary)\n",
      "Coefficient statistics:\n",
      "  Matrix range     [2e+00, 3e+00]\n",
      "  Objective range  [8e+00, 1e+01]\n",
      "  QObjective range [2e+00, 2e+00]\n",
      "  Bounds range     [0e+00, 0e+00]\n",
      "  RHS range        [6e+00, 6e+00]\n",
      "Found heuristic solution: objective -0\n",
      "Presolve time: 0.00s\n",
      "Presolved: 1 rows, 2 columns, 2 nonzeros\n",
      "Presolved model has 2 quadratic objective terms\n",
      "Variable types: 0 continuous, 2 integer (0 binary)\n",
      "\n",
      "Root relaxation: objective 2.130769e+01, 4 iterations, 0.00 seconds\n",
      "\n",
      "    Nodes    |    Current Node    |     Objective Bounds      |     Work\n",
      " Expl Unexpl |  Obj  Depth IntInf | Incumbent    BestBd   Gap | It/Node Time\n",
      "\n",
      "     0     0   21.30769    0    2   -0.00000   21.30769      -     -    0s\n",
      "H    0     0                      21.0000000   21.30769  1.47%     -    0s\n",
      "\n",
      "Explored 0 nodes (4 simplex iterations) in 0.03 seconds\n",
      "Thread count was 4 (of 4 available processors)\n",
      "\n",
      "Solution count 2: 21 -0 \n",
      "Pool objective bound 21\n",
      "\n",
      "Optimal solution found (tolerance 1.00e-04)\n",
      "Best objective 2.100000000000e+01, best bound 2.100000000000e+01, gap 0.0000%\n",
      "x1 0\n",
      "x2 3\n",
      "Obj: 21\n"
     ]
    }
   ],
   "source": [
    "x1.vType = GRB.INTEGER\n",
    "x2.vType = GRB.INTEGER\n",
    "\n",
    "# 变更为整形优化\n",
    "m.optimize()\n",
    "\n",
    "for v in m.getVars():\n",
    "    print('%s %g' % (v.varName, v.x))\n",
    "\n",
    "print('Obj: %g' % obj.getValue())"
   ]
  }
 ],
 "metadata": {
  "anaconda-cloud": {},
  "kernelspec": {
   "display_name": "Python 2",
   "language": "python",
   "name": "python2"
  },
  "language_info": {
   "codemirror_mode": {
    "name": "ipython",
    "version": 2
   },
   "file_extension": ".py",
   "mimetype": "text/x-python",
   "name": "python",
   "nbconvert_exporter": "python",
   "pygments_lexer": "ipython2",
   "version": "2.7.13"
  }
 },
 "nbformat": 4,
 "nbformat_minor": 0
}
