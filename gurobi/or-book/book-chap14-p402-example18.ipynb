{
 "cells": [
  {
   "cell_type": "markdown",
   "metadata": {},
   "source": [
    "## 例 18 利用线性规划方法求解赢得矩阵为 A 的矩阵对策。  p. 402 ·\n",
    "  729 A=290\n",
    "9 0 11\n",
    "解 求解问题可化成两个互为对偶的线性规划问题\n"
   ]
  },
  {
   "cell_type": "markdown",
   "metadata": {},
   "source": [
    "参考：`qp.py` http://www.gurobi.com/documentation/7.0/examples/qp_py.html"
   ]
  },
  {
   "cell_type": "markdown",
   "metadata": {},
   "source": []
  },
  {
   "cell_type": "markdown",
   "metadata": {},
   "source": [
    "### Step 1: Import functions from the gurobipy module"
   ]
  },
  {
   "cell_type": "code",
   "execution_count": 1,
   "metadata": {
    "collapsed": true
   },
   "outputs": [],
   "source": [
    "from gurobipy import *"
   ]
  },
  {
   "cell_type": "markdown",
   "metadata": {},
   "source": [
    "\n",
    "### Step 2: All in one"
   ]
  },
  {
   "cell_type": "code",
   "execution_count": 2,
   "metadata": {
    "collapsed": false
   },
   "outputs": [
    {
     "name": "stdout",
     "output_type": "stream",
     "text": [
      "Optimize a model with 3 rows, 3 columns and 7 nonzeros\n",
      "Coefficient statistics:\n",
      "  Matrix range     [2e+00, 1e+01]\n",
      "  Objective range  [1e+00, 1e+00]\n",
      "  Bounds range     [0e+00, 0e+00]\n",
      "  RHS range        [1e+00, 1e+00]\n",
      "Presolve time: 0.01s\n",
      "Presolved: 3 rows, 3 columns, 7 nonzeros\n",
      "\n",
      "Iteration    Objective       Primal Inf.    Dual Inf.      Time\n",
      "       0    0.0000000e+00   1.875000e-01   0.000000e+00      0s\n",
      "       3    2.0000000e-01   0.000000e+00   0.000000e+00      0s\n",
      "\n",
      "Solved in 3 iterations and 0.05 seconds\n",
      "Optimal objective  2.000000000e-01\n",
      "x1 0.05\n",
      "x2 0.1\n",
      "x3 0.05\n",
      "Obj: 0.2\n"
     ]
    }
   ],
   "source": [
    "# Create empty model\n",
    "m = Model(\"lin1\")\n",
    "# Create variables\n",
    "x1 = m.addVar(lb=0, name=\"x1\")\n",
    "x2 = m.addVar(lb=0, name=\"x2\")\n",
    "x3 = m.addVar(lb=0, name=\"x3\")\n",
    "# Set Obj\n",
    "obj = x1 + x2 + x3\n",
    "m.setObjective(obj)\n",
    "m.setObjective( obj , GRB.MINIMIZE)\n",
    "# Add constraint: \n",
    "m.addConstr(7 * x1 + 2 *x2  + 9 * x3 >= 1, \"c1\")\n",
    "m.addConstr(2 * x1 + 9 *x2  >= 1        ,  \"c2\")\n",
    "m.addConstr(9 * x1         + 11*x3  >= 1,  \"c3\")\n",
    "# Solve model\n",
    "m.optimize()\n",
    "\n",
    "for v in m.getVars():\n",
    "    print('%s %g' % (v.varName, v.x))\n",
    "\n",
    "print('Obj: %g' % obj.getValue())"
   ]
  },
  {
   "cell_type": "markdown",
   "metadata": {},
   "source": [
    "### Step 2: All In One 2"
   ]
  },
  {
   "cell_type": "code",
   "execution_count": 3,
   "metadata": {
    "collapsed": false,
    "scrolled": true
   },
   "outputs": [
    {
     "name": "stdout",
     "output_type": "stream",
     "text": [
      "Optimize a model with 3 rows, 3 columns and 7 nonzeros\n",
      "Coefficient statistics:\n",
      "  Matrix range     [2e+00, 1e+01]\n",
      "  Objective range  [1e+00, 1e+00]\n",
      "  Bounds range     [0e+00, 0e+00]\n",
      "  RHS range        [1e+00, 1e+00]\n",
      "Presolve time: 0.01s\n",
      "Presolved: 3 rows, 3 columns, 7 nonzeros\n",
      "\n",
      "Iteration    Objective       Primal Inf.    Dual Inf.      Time\n",
      "       0    3.0000000e+30   3.062500e+30   3.000000e+00      0s\n",
      "       4    2.0000000e-01   0.000000e+00   0.000000e+00      0s\n",
      "\n",
      "Solved in 4 iterations and 0.01 seconds\n",
      "Optimal objective  2.000000000e-01\n",
      "x1 0.05\n",
      "x2 0.1\n",
      "x3 0.05\n",
      "Obj: 0.2\n"
     ]
    }
   ],
   "source": [
    "# Create empty model\n",
    "m = Model(\"lin2\")\n",
    "# Create variables\n",
    "x1 = m.addVar(lb=0, name=\"x1\")\n",
    "x2 = m.addVar(lb=0, name=\"x2\")\n",
    "x3 = m.addVar(lb=0, name=\"x3\")\n",
    "# Set Obj\n",
    "obj = x1 + x2 + x3\n",
    "m.setObjective(obj)\n",
    "m.setObjective( obj , GRB.MAXIMIZE)\n",
    "# Add constraint: \n",
    "m.addConstr(7 * x1 + 2 *x2  + 9 * x3 <= 1, \"c1\")\n",
    "m.addConstr(2 * x1 + 9 *x2  <= 1        ,  \"c2\")\n",
    "m.addConstr(9 * x1         + 11*x3  <= 1,  \"c3\")\n",
    "# Solve model\n",
    "m.optimize()\n",
    "\n",
    "for v in m.getVars():\n",
    "    print('%s %g' % (v.varName, v.x))\n",
    "\n",
    "print('Obj: %g' % obj.getValue())"
   ]
  },
  {
   "cell_type": "code",
   "execution_count": 4,
   "metadata": {
    "collapsed": false
   },
   "outputs": [
    {
     "name": "stdout",
     "output_type": "stream",
     "text": [
      "p.404 标准答案为：\n",
      "[ 0.25  0.5   0.25]\n"
     ]
    }
   ],
   "source": [
    "from numpy import array\n",
    "print \"p.404 标准答案为：\"\n",
    "print (1/obj.getValue()) * array([0.05, 0.1, 0.05])"
   ]
  }
 ],
 "metadata": {
  "anaconda-cloud": {},
  "kernelspec": {
   "display_name": "Python 2",
   "language": "python",
   "name": "python2"
  },
  "language_info": {
   "codemirror_mode": {
    "name": "ipython",
    "version": 2
   },
   "file_extension": ".py",
   "mimetype": "text/x-python",
   "name": "python",
   "nbconvert_exporter": "python",
   "pygments_lexer": "ipython2",
   "version": "2.7.13"
  }
 },
 "nbformat": 4,
 "nbformat_minor": 0
}
