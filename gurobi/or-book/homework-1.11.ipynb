{
 "cells": [
  {
   "cell_type": "markdown",
   "metadata": {},
   "source": [
    "# Homework 1.1_1\n",
    "\n",
    "pdf 第29页（实际第27页）1.11 某厂生产3种产品\n",
    "\n",
    "产品生产使用 A，B 工序; 已知费用和利润表， 求最优生产计划，利润最大"
   ]
  },
  {
   "cell_type": "markdown",
   "metadata": {},
   "source": [
    "下列表达式不准确，待修订\n",
    "\n",
    "$$\\begin{array}{rll}\n",
    " \\text{max} & x_1+3x_2 \\\\[10pt]\n",
    " \\text{s.t.} & 5x_1+10x_2 \\le 50 \\\\\n",
    " & x_1 + x_2 \\ge 1 \\\\\n",
    " & x_2 \\le 4 \\\\\n",
    " & x_1 \\gt 0 ,  x_2 \\gt 0 \n",
    "\\end{array}\n",
    "$$"
   ]
  },
  {
   "cell_type": "markdown",
   "metadata": {},
   "source": [
    "### Step 1: Import functions from the gurobipy module"
   ]
  },
  {
   "cell_type": "code",
   "execution_count": 1,
   "metadata": {
    "collapsed": true
   },
   "outputs": [],
   "source": [
    "from gurobipy import *"
   ]
  },
  {
   "cell_type": "markdown",
   "metadata": {},
   "source": [
    "\n",
    "### Step 2: Create empty model"
   ]
  },
  {
   "cell_type": "code",
   "execution_count": 2,
   "metadata": {
    "collapsed": false
   },
   "outputs": [],
   "source": [
    "m = Model()"
   ]
  },
  {
   "cell_type": "markdown",
   "metadata": {},
   "source": [
    "\n",
    "### Step 3: Create activitiy variables"
   ]
  },
  {
   "cell_type": "code",
   "execution_count": 3,
   "metadata": {
    "collapsed": false
   },
   "outputs": [],
   "source": [
    "# GRB type: https://www.gurobi.com/documentation/7.0/refman/cs_constants.html\n",
    "\n",
    "x1 = m.addVar(vtype=GRB.INTEGER, name=\"x1\")\n",
    "x2 = m.addVar(vtype=GRB.INTEGER, name=\"x2\")\n",
    "x3 = m.addVar(vtype=GRB.INTEGER, name=\"x3\")\n",
    "x4 = m.addVar(vtype=GRB.INTEGER, name=\"x4\")\n",
    "x5 = m.addVar(vtype=GRB.INTEGER, name=\"x5\")\n",
    "x6 = m.addVar(vtype=GRB.INTEGER, name=\"x6\")\n",
    "x7 = m.addVar(vtype=GRB.INTEGER, name=\"x7\")\n",
    "x8 = m.addVar(vtype=GRB.INTEGER, name=\"x8\")\n",
    "x9 = m.addVar(vtype=GRB.INTEGER, name=\"x9\")"
   ]
  },
  {
   "cell_type": "markdown",
   "metadata": {},
   "source": [
    "### Step 4: Set objective function"
   ]
  },
  {
   "cell_type": "code",
   "execution_count": 4,
   "metadata": {
    "collapsed": false
   },
   "outputs": [],
   "source": [
    "# 调整 obj 系数，或是变量，对最优值有影响。 但对最优解无影响，为什么？ 说明可行区域已经变成唯一点了。\n",
    "m.setObjective((1.25 - 0.25) * (x1 + x2 ) + (2.00 - 0.35 ) * (x6 + x7) + (2.80-0.50) * x9 - 300/6000 *(5*x1+10*x6) - 321/10000 * (7*x2+9*x7+12*x9) - 250/4000*(6*x3+8*x8)-783/7000*(4*x4+11*x9)-200/4000*7*x5, GRB.MAXIMIZE)\n",
    "# m.setObjective(x1 + 3 * x2, GRB.MAXIMIZE)"
   ]
  },
  {
   "cell_type": "markdown",
   "metadata": {},
   "source": [
    "### Step 5: Add constraints"
   ]
  },
  {
   "cell_type": "code",
   "execution_count": 5,
   "metadata": {
    "collapsed": false
   },
   "outputs": [],
   "source": [
    "c1 = m.addConstr(5 * x1 + 10 * x6 <= 6000)\n",
    "c2 = m.addConstr(7 * x2 + 9 * x7 + 12 * x9 <= 10000)\n",
    "c3 = m.addConstr(6*x3 + 8 * x8 <=4000)\n",
    "c4 = m.addConstr(4*x4 + 11*x9 <= 7000)\n",
    "c5 = m.addConstr(7 *x5 <= 4000)\n",
    "c6 = m.addConstr(x1+x2-x3-x4-x5 == 0)\n",
    "c7 = m.addConstr(x6+x7-x8 == 0)\n",
    "c11 = m.addConstr(x1>=0)\n",
    "c12 = m.addConstr(x2>=0)\n",
    "c13 = m.addConstr(x3>=0)\n",
    "c14 = m.addConstr(x4>=0)\n",
    "c15 = m.addConstr(x5>=0)\n",
    "c16 = m.addConstr(x6>=0)\n",
    "c17 = m.addConstr(x7>=0)\n",
    "c18 = m.addConstr(x8>=0)\n",
    "c19 = m.addConstr(x9>=0)\n"
   ]
  },
  {
   "cell_type": "markdown",
   "metadata": {},
   "source": [
    "### Step 6: Solve model"
   ]
  },
  {
   "cell_type": "code",
   "execution_count": 6,
   "metadata": {
    "collapsed": false,
    "scrolled": false
   },
   "outputs": [
    {
     "name": "stdout",
     "output_type": "stream",
     "text": [
      "Optimize a model with 16 rows, 9 columns and 27 nonzeros\n",
      "Variable types: 0 continuous, 9 integer (0 binary)\n",
      "Coefficient statistics:\n",
      "  Matrix range     [1e+00, 1e+01]\n",
      "  Objective range  [1e+00, 2e+00]\n",
      "  Bounds range     [0e+00, 0e+00]\n",
      "  RHS range        [4e+03, 1e+04]\n",
      "Found heuristic solution: objective 1462.8\n",
      "Presolve removed 11 rows and 1 columns\n",
      "Presolve time: 0.00s\n",
      "Presolved: 5 rows, 8 columns, 15 nonzeros\n",
      "Variable types: 0 continuous, 8 integer (0 binary)\n",
      "\n",
      "Root relaxation: objective 3.000324e+03, 8 iterations, 0.00 seconds\n",
      "\n",
      "    Nodes    |    Current Node    |     Objective Bounds      |     Work\n",
      " Expl Unexpl |  Obj  Depth IntInf | Incumbent    BestBd   Gap | It/Node Time\n",
      "\n",
      "     0     0 3000.32414    0    3 1462.80000 3000.32414   105%     -    0s\n",
      "H    0     0                    3000.2000000 3000.32414  0.00%     -    0s\n",
      "\n",
      "Explored 0 nodes (8 simplex iterations) in 0.04 seconds\n",
      "Thread count was 4 (of 4 available processors)\n",
      "\n",
      "Solution count 2: 3000.2 1462.8 \n",
      "Pool objective bound 3000.3\n",
      "\n",
      "Optimal solution found (tolerance 1.00e-04)\n",
      "Best objective 3.000200000000e+03, best bound 3.000300000000e+03, gap 0.0033%\n"
     ]
    }
   ],
   "source": [
    "m.optimize()"
   ]
  },
  {
   "cell_type": "markdown",
   "metadata": {},
   "source": [
    "TODO: 上面的最优值 3000 和答案 1147 不一致，待分析。可能是 obj 未建模好的问题\n",
    "\n",
    "### Step 8: Print variable values for optimal solution\n",
    "\n",
    "```\n",
    "# 解出的最优解与答案一致 \n",
    "          x1          1200 \n",
    "          x2          230 \n",
    "          x4          859 \n",
    "          x5          571 \n",
    "          x7          500 \n",
    "          x8          500 \n",
    "          x9          324 \n",
    "```"
   ]
  },
  {
   "cell_type": "code",
   "execution_count": 7,
   "metadata": {
    "collapsed": false
   },
   "outputs": [
    {
     "name": "stdout",
     "output_type": "stream",
     "text": [
      "\n",
      "    Variable            X \n",
      "-------------------------\n",
      "          x1         1200 \n",
      "          x2          230 \n",
      "          x4          859 \n",
      "          x5          571 \n",
      "          x7          500 \n",
      "          x8          500 \n",
      "          x9          324 \n"
     ]
    }
   ],
   "source": [
    "m.printAttr('X')"
   ]
  },
  {
   "cell_type": "code",
   "execution_count": 8,
   "metadata": {
    "collapsed": false
   },
   "outputs": [],
   "source": [
    "# m.write('demo2.mps') # 输出模型"
   ]
  },
  {
   "cell_type": "code",
   "execution_count": 9,
   "metadata": {
    "collapsed": false
   },
   "outputs": [
    {
     "data": {
      "text/plain": [
       "[<gurobi.Var x1 (value 1200.0)>,\n",
       " <gurobi.Var x2 (value 230.0)>,\n",
       " <gurobi.Var x3 (value 0.0)>,\n",
       " <gurobi.Var x4 (value 859.0)>,\n",
       " <gurobi.Var x5 (value 571.0)>,\n",
       " <gurobi.Var x6 (value 0.0)>,\n",
       " <gurobi.Var x7 (value 500.0)>,\n",
       " <gurobi.Var x8 (value 500.0)>,\n",
       " <gurobi.Var x9 (value 324.0)>]"
      ]
     },
     "execution_count": 9,
     "metadata": {},
     "output_type": "execute_result"
    }
   ],
   "source": [
    "m.getVars()"
   ]
  },
  {
   "cell_type": "code",
   "execution_count": 10,
   "metadata": {
    "collapsed": false
   },
   "outputs": [
    {
     "name": "stdout",
     "output_type": "stream",
     "text": [
      "\n"
     ]
    }
   ],
   "source": [
    "print"
   ]
  }
 ],
 "metadata": {
  "anaconda-cloud": {},
  "kernelspec": {
   "display_name": "Python 2",
   "language": "python",
   "name": "python2"
  },
  "language_info": {
   "codemirror_mode": {
    "name": "ipython",
    "version": 2
   },
   "file_extension": ".py",
   "mimetype": "text/x-python",
   "name": "python",
   "nbconvert_exporter": "python",
   "pygments_lexer": "ipython2",
   "version": "2.7.13"
  }
 },
 "nbformat": 4,
 "nbformat_minor": 0
}
