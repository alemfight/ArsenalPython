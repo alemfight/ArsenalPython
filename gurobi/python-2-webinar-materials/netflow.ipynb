{
 "cells": [
  {
   "cell_type": "markdown",
   "metadata": {
    "deletable": true,
    "editable": true,
    "nbpresent": {
     "id": "9871a869-6285-43e5-b93a-55d4906af818"
    },
    "slideshow": {
     "slide_type": "slide"
    }
   },
   "source": [
    "# netflow.py\n",
    "Solve a multicommodity flow model using Gurobi Optimizer.  使用 LP 解网络货物流问题, 并保存模型\n",
    "\n",
    "\n",
    "## List data\n",
    "  0. Commodities (products) 货物\n",
    "  0. Nodes in the network  节点\n",
    "  0. Arcs in the network  边 Arcs(edges) "
   ]
  },
  {
   "cell_type": "code",
   "execution_count": 1,
   "metadata": {
    "collapsed": true,
    "deletable": true,
    "editable": true
   },
   "outputs": [],
   "source": [
    "from gurobipy import *\n",
    "\n",
    "commodities = ['Pencils', 'Pens']  # 两种货物 \n",
    "nodes = ['Detroit', 'Denver', 'Boston', 'New York', 'Seattle'] # 五个城市\n",
    "arcs = [\n",
    "  ('Detroit', 'Boston'), ('Detroit', 'New York'), ('Detroit', 'Seattle'),\n",
    "  ('Denver',  'Boston'), ('Denver',  'New York'), ('Denver',  'Seattle')]"
   ]
  },
  {
   "cell_type": "markdown",
   "metadata": {
    "deletable": true,
    "editable": true
   },
   "source": [
    "## Indexed data\n",
    "  0. Capacity: indexed by arcs  道路运输(边)容量 \n",
    "  0. Cost: indexed by commodities and arcs  货物在道路上的运输代价 \n",
    "  0. Inflow: indexed by commodities and nodes  节点运输需求"
   ]
  },
  {
   "cell_type": "code",
   "execution_count": 2,
   "metadata": {
    "collapsed": false,
    "deletable": true,
    "editable": true
   },
   "outputs": [],
   "source": [
    "capacity = {\n",
    "  ('Detroit', 'Boston'):   100,\n",
    "  ('Detroit', 'New York'):  80,\n",
    "  ('Detroit', 'Seattle'):  120,\n",
    "  ('Denver',  'Boston'):   120,\n",
    "  ('Denver',  'New York'): 120,\n",
    "  ('Denver',  'Seattle'):  120 }\n",
    "\n",
    "cost = {\n",
    "  ('Pencils', 'Detroit', 'Boston'):   10,  ('Pens', 'Detroit', 'Boston'):   20,\n",
    "  ('Pencils', 'Detroit', 'New York'): 20,  ('Pens', 'Detroit', 'New York'): 20,\n",
    "  ('Pencils', 'Detroit', 'Seattle'):  60,  ('Pens', 'Detroit', 'Seattle'):  80,\n",
    "  ('Pencils', 'Denver',  'Boston'):   40,  ('Pens', 'Denver',  'Boston'):   60,\n",
    "  ('Pencils', 'Denver',  'New York'): 40,  ('Pens', 'Denver',  'New York'): 70,\n",
    "  ('Pencils', 'Denver',  'Seattle'):  30,  ('Pens', 'Denver',  'Seattle'):  30 }\n",
    "\n",
    "inflow = {\n",
    "  ('Pencils', 'Detroit'):   50,  ('Pens', 'Detroit'):   60,\n",
    "  ('Pencils', 'Denver'):    60,  ('Pens', 'Denver'):    40,\n",
    "  ('Pencils', 'Boston'):   -50,  ('Pens', 'Boston'):   -40,\n",
    "  ('Pencils', 'New York'): -50,  ('Pens', 'New York'): -30,\n",
    "  ('Pencils', 'Seattle'):  -10,  ('Pens', 'Seattle'):  -30 }"
   ]
  },
  {
   "cell_type": "markdown",
   "metadata": {},
   "source": [
    "## Plot Network Graph \n",
    "\n",
    "绘制网络图"
   ]
  },
  {
   "cell_type": "code",
   "execution_count": 3,
   "metadata": {
    "collapsed": false
   },
   "outputs": [],
   "source": [
    "import networkx as nx\n",
    "import matplotlib.pyplot as plt\n",
    "# http://networkx.readthedocs.io/en/networkx-1.11/examples/drawing/weighted_graph.html\n",
    "G=nx.Graph()\n",
    "G.add_nodes_from(nodes)\n",
    "G.add_edges_from(arcs)\n",
    "pos=nx.spring_layout(G) # positions for all nodes\n",
    "# nx.draw(G)\n",
    "nx.draw_networkx_nodes(G,pos,node_size=2500)  # 绘制节点\n",
    "nx.draw_networkx_edges(G,pos, width=4, style='dashed') # 绘制边\n",
    "pos = nx.draw_networkx_labels(G,pos,font_size=20,font_family='sans-serif')  #绘制 label\n",
    "\n",
    "# plt.show() # 显示网络绘图"
   ]
  },
  {
   "cell_type": "code",
   "execution_count": 4,
   "metadata": {
    "collapsed": false,
    "deletable": true,
    "editable": true
   },
   "outputs": [
    {
     "name": "stdout",
     "output_type": "stream",
     "text": [
      "Inflow Pencils Detroit: 50\n",
      "Inflow Pencils Denver: 60\n",
      "Inflow Pencils Boston: -50\n",
      "Inflow Pencils New York: -50\n",
      "Inflow Pencils Seattle: -10\n",
      "Inflow Pens Detroit: 60\n",
      "Inflow Pens Denver: 40\n",
      "Inflow Pens Boston: -40\n",
      "Inflow Pens New York: -30\n",
      "Inflow Pens Seattle: -30\n"
     ]
    }
   ],
   "source": [
    "for h in commodities:\n",
    "    for c in nodes:\n",
    "        print(\"Inflow \" + h + \" \" + c + \": \" + str(inflow[h,c]))"
   ]
  },
  {
   "cell_type": "markdown",
   "metadata": {
    "deletable": true,
    "editable": true,
    "nbpresent": {
     "id": "fb882cb5-31d9-4459-8d41-7e588c002d7a"
    }
   },
   "source": [
    "## Create model, decision variables and objective\n",
    "\n",
    "- Use `Model.addVars()` to add the decision variables  添加决策变量\n",
    "- With two arguments, it takes the cross product of the commodities and the arcs  \n",
    "\n"
   ]
  },
  {
   "cell_type": "code",
   "execution_count": 5,
   "metadata": {
    "collapsed": true,
    "deletable": true,
    "editable": true,
    "nbpresent": {
     "id": "316b1245-d440-4399-9067-ed369e9f43d7"
    }
   },
   "outputs": [],
   "source": [
    "m = Model('netflow')\n",
    "\n",
    "# 这样一句话可以添加 Vars (commodities , arcs 的三元组 例如Pencils,Detroit,Boston ) , 并加上三元组决定的 obj (省略了 setObjective())\n",
    "flow = m.addVars(commodities, arcs, obj=cost, name=\"flow\")"
   ]
  },
  {
   "cell_type": "markdown",
   "metadata": {
    "deletable": true,
    "editable": true,
    "nbpresent": {
     "id": "38ecdc9b-5475-4dc9-b629-cf7ae63de1a5"
    }
   },
   "source": [
    "## Create constraints\n",
    "\n",
    "- Use `Model.addConstrs()` to add the constraints\n",
    "- Uses two **Python Generator expressions**\n",
    "    - To generate an arc capacity constraint for every arc _i,j_\n",
    "    - To generate a flow conservation constraint for every commodity _h_ and every node _j_\n",
    "- Inside each constraint, uses the aggregate operator `tupledict.sum()` to compute the sum over only the matching elements"
   ]
  },
  {
   "cell_type": "code",
   "execution_count": 6,
   "metadata": {
    "collapsed": false,
    "deletable": true,
    "editable": true,
    "nbpresent": {
     "id": "7885be96-851c-47d4-a4ca-b89af6fb29fd"
    }
   },
   "outputs": [],
   "source": [
    "# Arc capacities\n",
    "cap = m.addConstrs(\n",
    "    (flow.sum('*',i,j) <= capacity[i,j] for i,j in arcs), \"cap\")  # 所有运输货物不超过道路容量\n",
    "\n",
    "# Flow conservation\n",
    "node = m.addConstrs(\n",
    "    (flow.sum(h,'*',j) + inflow[h,j] == flow.sum(h,j,'*')  # 不丢货物\n",
    "     for h in commodities for j in nodes), \"node\")"
   ]
  },
  {
   "cell_type": "markdown",
   "metadata": {
    "deletable": true,
    "editable": true,
    "nbpresent": {
     "id": "0521bba9-d638-4842-ae9c-a3cf5c54dc98"
    }
   },
   "source": [
    "## Solve and print the flows"
   ]
  },
  {
   "cell_type": "code",
   "execution_count": 7,
   "metadata": {
    "collapsed": false,
    "deletable": true,
    "editable": true,
    "nbpresent": {
     "id": "344eed33-6224-4ba8-9c15-a7914dcc1e1c"
    }
   },
   "outputs": [
    {
     "name": "stdout",
     "output_type": "stream",
     "text": [
      "Optimize a model with 16 rows, 12 columns and 36 nonzeros\n",
      "Coefficient statistics:\n",
      "  Matrix range     [1e+00, 1e+00]\n",
      "  Objective range  [1e+01, 8e+01]\n",
      "  Bounds range     [0e+00, 0e+00]\n",
      "  RHS range        [1e+01, 1e+02]\n",
      "Presolve removed 16 rows and 12 columns\n",
      "Presolve time: 0.01s\n",
      "Presolve: All rows and columns removed\n",
      "Iteration    Objective       Primal Inf.    Dual Inf.      Time\n",
      "       0    5.5000000e+03   0.000000e+00   0.000000e+00      0s\n",
      "\n",
      "Solved in 0 iterations and 0.02 seconds\n",
      "Optimal objective  5.500000000e+03\n",
      "\n",
      "    Variable            X \n",
      "-------------------------\n",
      "flow[Pencils,Detroit,Boston]           50 \n",
      "flow[Pencils,Denver,New York]           50 \n",
      "flow[Pencils,Denver,Seattle]           10 \n",
      "flow[Pens,Detroit,Boston]           30 \n",
      "flow[Pens,Detroit,New York]           30 \n",
      "flow[Pens,Denver,Boston]           10 \n",
      "flow[Pens,Denver,Seattle]           30 \n"
     ]
    }
   ],
   "source": [
    "m.optimize()\n",
    "m.printAttr('X')\n",
    "\n",
    "# Variable: flow[Pencils,Detroit,Boston] 信息来自以下\n",
    "# m.addVars(commodities, arcs, obj=cost, name=\"flow\")"
   ]
  },
  {
   "cell_type": "markdown",
   "metadata": {
    "deletable": true,
    "editable": true
   },
   "source": [
    "## Output\n",
    "Display the solution as a chart and as a table \n",
    "\n",
    "输出柱状图 和 运输表"
   ]
  },
  {
   "cell_type": "code",
   "execution_count": 8,
   "metadata": {
    "collapsed": false,
    "deletable": true,
    "editable": true
   },
   "outputs": [],
   "source": [
    "from bokeh.charts import *\n",
    "\n",
    "# output_notebook() # 嵌入式绘图\n",
    "\n",
    "keys = sorted(flow.keys())\n",
    "data = {\n",
    "    'arcs': [\"%s-%s\"% (i,j) for h,i,j in keys],\n",
    "    'commodities': [h for h,i,j in keys],\n",
    "    'flow': [flow[h,i,j].X for h,i,j in keys],\n",
    "    'use': [flow[h,i,j].X/capacity[i,j] for h,i,j in keys],\n",
    "}\n",
    "bar = Bar(data, values='flow', label='arcs', stack='commodities', title=\"Network flow\")\n",
    "# show(bar) # 绘制柱状图"
   ]
  },
  {
   "cell_type": "code",
   "execution_count": 9,
   "metadata": {
    "collapsed": false,
    "deletable": true,
    "editable": true
   },
   "outputs": [
    {
     "data": {
      "text/html": [
       "<div>\n",
       "<table border=\"1\" class=\"dataframe\">\n",
       "  <thead>\n",
       "    <tr style=\"text-align: right;\">\n",
       "      <th></th>\n",
       "      <th></th>\n",
       "      <th>Pencils</th>\n",
       "      <th>Pens</th>\n",
       "    </tr>\n",
       "    <tr>\n",
       "      <th>origin</th>\n",
       "      <th>destination</th>\n",
       "      <th></th>\n",
       "      <th></th>\n",
       "    </tr>\n",
       "  </thead>\n",
       "  <tbody>\n",
       "    <tr>\n",
       "      <th rowspan=\"3\" valign=\"top\">Denver</th>\n",
       "      <th>Boston</th>\n",
       "      <td>0</td>\n",
       "      <td>10</td>\n",
       "    </tr>\n",
       "    <tr>\n",
       "      <th>New York</th>\n",
       "      <td>50</td>\n",
       "      <td>0</td>\n",
       "    </tr>\n",
       "    <tr>\n",
       "      <th>Seattle</th>\n",
       "      <td>10</td>\n",
       "      <td>30</td>\n",
       "    </tr>\n",
       "    <tr>\n",
       "      <th rowspan=\"3\" valign=\"top\">Detroit</th>\n",
       "      <th>Boston</th>\n",
       "      <td>50</td>\n",
       "      <td>30</td>\n",
       "    </tr>\n",
       "    <tr>\n",
       "      <th>New York</th>\n",
       "      <td>0</td>\n",
       "      <td>30</td>\n",
       "    </tr>\n",
       "    <tr>\n",
       "      <th>Seattle</th>\n",
       "      <td>0</td>\n",
       "      <td>0</td>\n",
       "    </tr>\n",
       "  </tbody>\n",
       "</table>\n",
       "</div>"
      ],
      "text/plain": [
       "                    Pencils Pens\n",
       "origin  destination             \n",
       "Denver  Boston            0   10\n",
       "        New York         50    0\n",
       "        Seattle          10   30\n",
       "Detroit Boston           50   30\n",
       "        New York          0   30\n",
       "        Seattle           0    0"
      ]
     },
     "execution_count": 9,
     "metadata": {},
     "output_type": "execute_result"
    }
   ],
   "source": [
    "import pandas as pd\n",
    "mi = pd.MultiIndex.from_tuples(sorted(list(arcs)), names=('origin','destination'))\n",
    "df = pd.DataFrame(index=mi, columns=commodities)\n",
    "for h in commodities:\n",
    "    for i,j in arcs:\n",
    "        df[h][i,j] = flow[h,i,j].X\n",
    "\n",
    "df"
   ]
  },
  {
   "cell_type": "markdown",
   "metadata": {
    "deletable": true,
    "editable": true
   },
   "source": [
    "## Debugging\n",
    "Write the model as an LP file"
   ]
  },
  {
   "cell_type": "code",
   "execution_count": 11,
   "metadata": {
    "collapsed": false,
    "deletable": true,
    "editable": true
   },
   "outputs": [
    {
     "name": "stdout",
     "output_type": "stream",
     "text": [
      "Warning: variable name \"flow[Pencils,Detroit,New York]\" has a space\n",
      "Warning: constraint name \"cap[Detroit,New York]\" has a space\n",
      "Warning: to let Gurobi read it back, use rlp format\n",
      "Warning: variable name \"flow[Pencils,Detroit,New York]\" has a space\n",
      "Warning: constraint name \"cap[Detroit,New York]\" has a space\n",
      "Warning: default variable names used to write mps file\n",
      "Warning: default constraint names used to write mps file\n"
     ]
    }
   ],
   "source": [
    "# 自动依据后缀名保存为不同的模型 lp - 线性规划 ; mps - 标准模型\n",
    "m.write(\"netflow.lp\")\n",
    "m.write(\"netflow.mps\")"
   ]
  }
 ],
 "metadata": {
  "anaconda-cloud": {
   "attach-environment": false,
   "environment": null,
   "summary": "Sample network flow",
   "url": "https://anaconda.org/gglockner/netflow"
  },
  "kernelspec": {
   "display_name": "Python 2",
   "language": "python",
   "name": "python2"
  },
  "language_info": {
   "codemirror_mode": {
    "name": "ipython",
    "version": 2
   },
   "file_extension": ".py",
   "mimetype": "text/x-python",
   "name": "python",
   "nbconvert_exporter": "python",
   "pygments_lexer": "ipython2",
   "version": "2.7.13"
  },
  "nbpresent": {
   "slides": {
    "622c7359-7d19-4291-a322-1fbcaa288ef0": {
     "id": "622c7359-7d19-4291-a322-1fbcaa288ef0",
     "prev": "e607b445-87c8-42bd-8010-43f04345bcb5",
     "regions": {}
    },
    "814d0cc7-122d-49f6-967a-a4a8f57d383c": {
     "id": "814d0cc7-122d-49f6-967a-a4a8f57d383c",
     "prev": "622c7359-7d19-4291-a322-1fbcaa288ef0",
     "regions": {
      "f14faa71-c001-44c1-be63-0bb67b525a57": {
       "attrs": {
        "height": 1,
        "width": 1,
        "x": 0,
        "y": 0
       },
       "id": "f14faa71-c001-44c1-be63-0bb67b525a57"
      }
     }
    },
    "e607b445-87c8-42bd-8010-43f04345bcb5": {
     "id": "e607b445-87c8-42bd-8010-43f04345bcb5",
     "prev": null,
     "regions": {}
    }
   },
   "themes": {}
  }
 },
 "nbformat": 4,
 "nbformat_minor": 0
}
