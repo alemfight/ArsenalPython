{
 "cells": [
  {
   "cell_type": "markdown",
   "metadata": {
    "deletable": true,
    "editable": true
   },
   "source": [
    "# workforce.py\n",
    "- Solve a classic model to assign workers to shifts  为工人安排值班的经典问题 \n",
    "- This model is infeasible, so we do some tests to determine why 因为模型不可行, 需要做一些特别处理\n",
    "\n",
    "## List data\n",
    "  0. Shifts  轮班\n",
    "  0. Workers  工人 "
   ]
  },
  {
   "cell_type": "code",
   "execution_count": 1,
   "metadata": {
    "collapsed": true,
    "deletable": true,
    "editable": true
   },
   "outputs": [],
   "source": [
    "from gurobipy import *\n",
    "\n",
    "m = Model(\"workforce\")\n",
    "\n",
    "# Number of workers required for each shift  14天2周轮班\n",
    "shifts = [ \"Mon1\",  \"Tue2\", \"Wed3\",  \"Thu4\",  \"Fri5\",  \"Sat6\",  \"Sun7\",\n",
    "           \"Mon8\",  \"Tue9\", \"Wed10\", \"Thu11\", \"Fri12\", \"Sat13\", \"Sun14\" ]\n",
    "\n",
    "# 7个工人\n",
    "workers = [ \"Amy\", \"Bob\", \"Cathy\", \"Dan\", \"Ed\", \"Fred\", \"Gu\" ]"
   ]
  },
  {
   "cell_type": "markdown",
   "metadata": {
    "deletable": true,
    "editable": true,
    "nbpresent": {
     "id": "9871a869-6285-43e5-b93a-55d4906af818"
    },
    "slideshow": {
     "slide_type": "slide"
    }
   },
   "source": [
    "## Indexed data\n",
    "  0. Shift requirements: indexed by shifts\n",
    "  0. Worker pay: indexed by workers"
   ]
  },
  {
   "cell_type": "code",
   "execution_count": 2,
   "metadata": {
    "collapsed": true,
    "deletable": true,
    "editable": true
   },
   "outputs": [],
   "source": [
    "# 每天排班量 \n",
    "shiftRequirements = {\n",
    "\"Mon1\":  3, \"Tue2\":  2, \"Wed3\":  4, \"Thu4\":  4, \"Fri5\":  5, \"Sat6\":  6, \"Sun7\":  5,\n",
    "\"Mon8\":  2, \"Tue9\":  2, \"Wed10\": 3, \"Thu11\": 4, \"Fri12\": 6, \"Sat13\": 7, \"Sun14\": 5 } \n",
    "\n",
    "# Amount each worker is paid to work one shift 每班所付报酬\n",
    "pay = {\n",
    "  \"Amy\":   10,\n",
    "  \"Bob\":   12,\n",
    "  \"Cathy\": 10,\n",
    "  \"Dan\":   8,\n",
    "  \"Ed\":    8,\n",
    "  \"Fred\":  9,\n",
    "  \"Gu\":    11 }"
   ]
  },
  {
   "cell_type": "markdown",
   "metadata": {
    "deletable": true,
    "editable": true
   },
   "source": [
    "## Worker availability\n",
    "We create a list of shifts when workers are available 工人的排班可用性\n",
    "- Much more efficient to list only shifts that are possible\n",
    "- Don't optimize shifts for workers who are unavailable!"
   ]
  },
  {
   "cell_type": "code",
   "execution_count": 3,
   "metadata": {
    "collapsed": false,
    "deletable": true,
    "editable": true,
    "nbpresent": {
     "id": "65915f52-6516-40c3-b5dc-78cbb9946f1d"
    },
    "slideshow": {
     "slide_type": "subslide"
    }
   },
   "outputs": [],
   "source": [
    "# Worker availability\n",
    "availability = tuplelist([\n",
    "('Amy', 'Tue2'), ('Amy', 'Wed3'), ('Amy', 'Fri5'), ('Amy', 'Sun7'),\n",
    "('Amy', 'Tue9'), ('Amy', 'Wed10'), ('Amy', 'Thu11'), ('Amy', 'Fri12'),\n",
    "('Amy', 'Sat13'), ('Amy', 'Sun14'), ('Bob', 'Mon1'), ('Bob', 'Tue2'),\n",
    "('Bob', 'Fri5'), ('Bob', 'Sat6'), ('Bob', 'Mon8'), ('Bob', 'Thu11'),\n",
    "('Bob', 'Sat13'), ('Cathy', 'Wed3'), ('Cathy', 'Thu4'), ('Cathy', 'Fri5'),\n",
    "('Cathy', 'Sun7'), ('Cathy', 'Mon8'), ('Cathy', 'Tue9'), ('Cathy', 'Wed10'),\n",
    "('Cathy', 'Thu11'), ('Cathy', 'Fri12'), ('Cathy', 'Sat13'),\n",
    "('Cathy', 'Sun14'), ('Dan', 'Tue2'), ('Dan', 'Wed3'), ('Dan', 'Fri5'),\n",
    "('Dan', 'Sat6'), ('Dan', 'Mon8'), ('Dan', 'Tue9'), ('Dan', 'Wed10'),\n",
    "('Dan', 'Thu11'), ('Dan', 'Fri12'), ('Dan', 'Sat13'), ('Dan', 'Sun14'),\n",
    "('Ed', 'Mon1'), ('Ed', 'Tue2'), ('Ed', 'Wed3'), ('Ed', 'Thu4'),\n",
    "('Ed', 'Fri5'), ('Ed', 'Sun7'), ('Ed', 'Mon8'), ('Ed', 'Tue9'),\n",
    "('Ed', 'Thu11'), ('Ed', 'Sat13'), ('Ed', 'Sun14'), ('Fred', 'Mon1'),\n",
    "('Fred', 'Tue2'), ('Fred', 'Wed3'), ('Fred', 'Sat6'), ('Fred', 'Mon8'),\n",
    "('Fred', 'Tue9'), ('Fred', 'Fri12'), ('Fred', 'Sat13'), ('Fred', 'Sun14'),\n",
    "('Gu', 'Mon1'), ('Gu', 'Tue2'), ('Gu', 'Wed3'), ('Gu', 'Fri5'),\n",
    "('Gu', 'Sat6'), ('Gu', 'Sun7'), ('Gu', 'Mon8'), ('Gu', 'Tue9'),\n",
    "('Gu', 'Wed10'), ('Gu', 'Thu11'), ('Gu', 'Fri12'), ('Gu', 'Sat13'),\n",
    "('Gu', 'Sun14')\n",
    "])"
   ]
  },
  {
   "cell_type": "markdown",
   "metadata": {
    "deletable": true,
    "editable": true,
    "nbpresent": {
     "id": "fb882cb5-31d9-4459-8d41-7e588c002d7a"
    }
   },
   "source": [
    "## Decision variables\n",
    "The variable `x[w,s] = 1` if worker w is assigned to shift s; x 变量 表示是否排班\n",
    "- Only use variables for _possible_ combinations - not when workers are unavailable\n",
    "- Reduces model size and makes code efficient"
   ]
  },
  {
   "cell_type": "code",
   "execution_count": 4,
   "metadata": {
    "collapsed": false,
    "deletable": true,
    "editable": true,
    "nbpresent": {
     "id": "316b1245-d440-4399-9067-ed369e9f43d7"
    }
   },
   "outputs": [],
   "source": [
    "# Create variables indexed by availability list\n",
    "x = m.addVars(availability, ub=1, name=\"x\")"
   ]
  },
  {
   "cell_type": "markdown",
   "metadata": {
    "deletable": true,
    "editable": true
   },
   "source": [
    "## Objective\n",
    "Minimize total salary cost\n",
    "\n",
    "最小化薪水代价"
   ]
  },
  {
   "cell_type": "code",
   "execution_count": 5,
   "metadata": {
    "collapsed": true,
    "deletable": true,
    "editable": true
   },
   "outputs": [],
   "source": [
    "m.setObjective(sum(pay[w]*x[w,s] for w,s in availability), GRB.MINIMIZE)"
   ]
  },
  {
   "cell_type": "markdown",
   "metadata": {
    "deletable": true,
    "editable": true,
    "nbpresent": {
     "id": "38ecdc9b-5475-4dc9-b629-cf7ae63de1a5"
    }
   },
   "source": [
    "## Shift requirement constraints\n",
    "For every shift, the number of workers must equal the shift requirement\n",
    "\n",
    "约束条件: 每个班的工人需要满足排班量"
   ]
  },
  {
   "cell_type": "code",
   "execution_count": 6,
   "metadata": {
    "collapsed": false,
    "deletable": true,
    "editable": true,
    "nbpresent": {
     "id": "7885be96-851c-47d4-a4ca-b89af6fb29fd"
    }
   },
   "outputs": [],
   "source": [
    "reqCts = m.addConstrs((x.sum('*', s) == shiftRequirements[s] for s in shifts), \"_\")"
   ]
  },
  {
   "cell_type": "markdown",
   "metadata": {
    "deletable": true,
    "editable": true
   },
   "source": [
    "与上面语句同样效果的写法\n",
    "\n",
    "To understand the syntax, here is a less efficient version:\n",
    "\n",
    "    for s in shifts:\n",
    "        m.addConstr(sum(x[w,s] for w in workers\n",
    "                               if (w,s) in availability)\n",
    "                    == shiftRequirements[s])\n",
    "\n",
    "The accompanying presentation explains the efficiency issues"
   ]
  },
  {
   "cell_type": "markdown",
   "metadata": {
    "deletable": true,
    "editable": true,
    "nbpresent": {
     "id": "0521bba9-d638-4842-ae9c-a3cf5c54dc98"
    }
   },
   "source": [
    "## Solve\n",
    "Remember that this model is designed to be infeasible\n",
    "\n",
    "这是一个不可行的模型 (无法有效排班), 输出结果为 Infeasible model 不可行"
   ]
  },
  {
   "cell_type": "code",
   "execution_count": 7,
   "metadata": {
    "collapsed": false,
    "deletable": true,
    "editable": true,
    "nbpresent": {
     "id": "344eed33-6224-4ba8-9c15-a7914dcc1e1c"
    }
   },
   "outputs": [
    {
     "name": "stdout",
     "output_type": "stream",
     "text": [
      "Optimize a model with 14 rows, 72 columns and 72 nonzeros\n",
      "Coefficient statistics:\n",
      "  Matrix range     [1e+00, 1e+00]\n",
      "  Objective range  [8e+00, 1e+01]\n",
      "  Bounds range     [1e+00, 1e+00]\n",
      "  RHS range        [2e+00, 7e+00]\n",
      "Presolve removed 1 rows and 34 columns\n",
      "Presolve time: 0.02s\n",
      "\n",
      "Solved in 0 iterations and 0.02 seconds\n",
      "Infeasible model\n"
     ]
    }
   ],
   "source": [
    "m.optimize()"
   ]
  },
  {
   "cell_type": "markdown",
   "metadata": {
    "deletable": true,
    "editable": true
   },
   "source": [
    "## Relax constraints\n",
    "Call feasRelax to relax constraints\n",
    "\n",
    "调用 feasRelax 放松变量进行求解"
   ]
  },
  {
   "cell_type": "code",
   "execution_count": 8,
   "metadata": {
    "collapsed": false,
    "deletable": true,
    "editable": true
   },
   "outputs": [
    {
     "name": "stdout",
     "output_type": "stream",
     "text": [
      "Optimize a model with 14 rows, 100 columns and 100 nonzeros\n",
      "Coefficient statistics:\n",
      "  Matrix range     [1e+00, 1e+00]\n",
      "  Objective range  [1e+00, 1e+00]\n",
      "  Bounds range     [1e+00, 1e+00]\n",
      "  RHS range        [2e+00, 7e+00]\n",
      "Presolve removed 5 rows and 73 columns\n",
      "Presolve time: 0.02s\n",
      "Presolved: 9 rows, 27 columns, 27 nonzeros\n",
      "\n",
      "Iteration    Objective       Primal Inf.    Dual Inf.      Time\n",
      "       0    6.0000000e+00   0.000000e+00   0.000000e+00      0s\n",
      "       0    6.0000000e+00   0.000000e+00   0.000000e+00      0s\n",
      "\n",
      "Solved in 0 iterations and 0.04 seconds\n",
      "Optimal objective  6.000000000e+00\n",
      "\n",
      "    Variable            X \n",
      "-------------------------\n",
      "   ArtP_Thu4            2 \n",
      "   ArtP_Sat6            2 \n",
      "   ArtP_Sun7            1 \n",
      "  ArtP_Fri12            1 \n"
     ]
    }
   ],
   "source": [
    "orignumvars = m.NumVars\n",
    "m.feasRelaxS(0, False, False, True)\n",
    "m.optimize()\n",
    "\n",
    "m.printAttr('X', \"Art*\") # slack variables"
   ]
  },
  {
   "cell_type": "markdown",
   "metadata": {
    "deletable": true,
    "editable": true
   },
   "source": [
    "## Plot result\n",
    "Show a heatmap of the shifts that cannot be satisfied\n",
    "\n",
    "将上面的结果绘制成热力图; 可以看出 ArtP_Thu4 ArtP_Sat6 ArtP_Sun7 这几周的颜色更深( data['slacks']==0 浅蓝  == 1 中蓝 or == 2 深蓝 ), 没有满足;派克要求"
   ]
  },
  {
   "cell_type": "code",
   "execution_count": 9,
   "metadata": {
    "collapsed": false,
    "deletable": true,
    "editable": true
   },
   "outputs": [
    {
     "name": "stdout",
     "output_type": "stream",
     "text": [
      "{'weeks': [1, 1, 1, 1, 1, 1, 1, 2, 2, 2, 2, 2, 2, 2], 'days': ['Mon', 'Tue', 'Wed', 'Thu', 'Fri', 'Sat', 'Sun', 'Mon', 'Tue', 'Wed', 'Thu', 'Fri', 'Sat', 'Sun'], 'slacks': [0.0, 0.0, 0.0, 2.0, 0.0, 2.0, 1.0, 0.0, 0.0, 0.0, 0.0, 1.0, 0.0, 0.0]}\n"
     ]
    }
   ],
   "source": [
    "from bokeh.charts import *\n",
    "\n",
    "# output_notebook() # 嵌入式绘图\n",
    "\n",
    "slackvars = m.getVars()[orignumvars:]\n",
    "data = {\n",
    "    'days': [s[:3] for s in shifts],\n",
    "    'weeks': [1+i/7 for i in range(len(shifts))],\n",
    "    'slacks': [v.X for v in slackvars if v.VarName.startswith(\"ArtP\")],\n",
    "}\n",
    "\n",
    "show(HeatMap(data, x='days', y='weeks', values='slacks', stat=None, title=\"Shortfall\"))\n",
    "\n",
    "print data"
   ]
  },
  {
   "cell_type": "code",
   "execution_count": null,
   "metadata": {
    "collapsed": true
   },
   "outputs": [],
   "source": []
  }
 ],
 "metadata": {
  "anaconda-cloud": {
   "attach-environment": false,
   "environment": null,
   "summary": "Sample network flow",
   "url": "https://anaconda.org/gglockner/netflow"
  },
  "kernelspec": {
   "display_name": "Python 2",
   "language": "python",
   "name": "python2"
  },
  "language_info": {
   "codemirror_mode": {
    "name": "ipython",
    "version": 2
   },
   "file_extension": ".py",
   "mimetype": "text/x-python",
   "name": "python",
   "nbconvert_exporter": "python",
   "pygments_lexer": "ipython2",
   "version": "2.7.13"
  },
  "nbpresent": {
   "slides": {
    "622c7359-7d19-4291-a322-1fbcaa288ef0": {
     "id": "622c7359-7d19-4291-a322-1fbcaa288ef0",
     "prev": "e607b445-87c8-42bd-8010-43f04345bcb5",
     "regions": {}
    },
    "814d0cc7-122d-49f6-967a-a4a8f57d383c": {
     "id": "814d0cc7-122d-49f6-967a-a4a8f57d383c",
     "prev": "622c7359-7d19-4291-a322-1fbcaa288ef0",
     "regions": {
      "f14faa71-c001-44c1-be63-0bb67b525a57": {
       "attrs": {
        "height": 1,
        "width": 1,
        "x": 0,
        "y": 0
       },
       "id": "f14faa71-c001-44c1-be63-0bb67b525a57"
      }
     }
    },
    "e607b445-87c8-42bd-8010-43f04345bcb5": {
     "id": "e607b445-87c8-42bd-8010-43f04345bcb5",
     "prev": null,
     "regions": {}
    }
   },
   "themes": {}
  }
 },
 "nbformat": 4,
 "nbformat_minor": 0
}
