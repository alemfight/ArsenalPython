{
 "cells": [
  {
   "cell_type": "markdown",
   "metadata": {
    "slideshow": {
     "slide_type": "slide"
    }
   },
   "source": [
    "<html>\n",
    "<body style=\"background-image:url(bkg2.png)\">\n",
    "<h1> Python III: Optimization and Heuristics</h1>\n",
    "\n",
    "<h3> Thank you for joining us. We will be starting shortly.</h3>\n",
    "</body>\n",
    "</html>"
   ]
  },
  {
   "cell_type": "markdown",
   "metadata": {
    "slideshow": {
     "slide_type": "subslide"
    }
   },
   "source": [
    "# Welcome to the webinar\n",
    "\n",
    "## Python III: Optimization and Heuristics"
   ]
  },
  {
   "cell_type": "markdown",
   "metadata": {
    "slideshow": {
     "slide_type": "subslide"
    }
   },
   "source": [
    "<html>\n",
    "\n",
    "<h1>Speaker Introduction</h1>\n",
    "<div id=\"container\" style=\"width:100%; float:left;\">\n",
    "<div id=\"left\" style=\"float:left; width:70%;\">\n",
    "<h3>Dr. Daniel Espinoza</h3>\n",
    "<ul>\n",
    "    <li>Senior Developer at Gurobi Optimization<ul>\n",
    "    <li>Expert in Integer Programming, Cutting planes, Modeling and Software Development</li></ul></li>\n",
    "    <li>Ph.D. in Operations Research, Georgia Institute of Technology</li>\n",
    "    <li>Has published several papers on cutting planes, and applications such as Mining, Routing, and Unit Commitment</li>\n",
    "</ul>\n",
    "</div><div id=\"right\" style=\"float:right; width 25%;\">\n",
    "<img src=\"DE2.jpg\" width=160>\n",
    "</div></div>\n",
    "</html>"
   ]
  },
  {
   "cell_type": "markdown",
   "metadata": {
    "slideshow": {
     "slide_type": "slide"
    }
   },
   "source": [
    "# Python III: Optimization and Heuristics\n",
    "\n",
    "## Getting and Improving Solutions Quickly!"
   ]
  },
  {
   "cell_type": "markdown",
   "metadata": {
    "slideshow": {
     "slide_type": "slide"
    }
   },
   "source": [
    "<html>\n",
    "<body style=\"background-image:url(bkg2.png)\">\n",
    "<h1>Summary</h1>\n",
    "</body>\n",
    "</html>"
   ]
  },
  {
   "cell_type": "markdown",
   "metadata": {
    "slideshow": {
     "slide_type": "fragment"
    }
   },
   "source": [
    "<ul>\n",
    "    <li>The first step</li>\n",
    "    <li>Controlling termination criteria</li>\n",
    "    <li>Using greedy heuristics and MIP Starts</li>\n",
    "    <li>Two simple problems</li>\n",
    "    <li>Thinning out the set of variables</li>\n",
    "    <li>Divide and conquer strategies</li>\n",
    "    <li>Using LP as a guide</li>\n",
    "</ul>"
   ]
  },
  {
   "cell_type": "markdown",
   "metadata": {
    "slideshow": {
     "slide_type": "slide"
    }
   },
   "source": [
    "# The first step\n",
    "\n",
    "### Get a Tight Model\n"
   ]
  },
  {
   "cell_type": "markdown",
   "metadata": {
    "slideshow": {
     "slide_type": "fragment"
    }
   },
   "source": [
    "<ul>\n",
    "    <li>Root LP value as close as possible to optimal MIP</li>\n",
    "    <li>Surprisingly, the best model might not be the smallest one</li>\n",
    "    <li>Consider Cut Callbacks for your problem</li>\n",
    "    <li>If you can not further improve...</li>\n",
    "</ul>"
   ]
  },
  {
   "cell_type": "markdown",
   "metadata": {
    "slideshow": {
     "slide_type": "slide"
    }
   },
   "source": [
    "# Controlling Termination Criteria and MIP Focus"
   ]
  },
  {
   "cell_type": "code",
   "execution_count": 1,
   "metadata": {
    "collapsed": true,
    "slideshow": {
     "slide_type": "fragment"
    }
   },
   "outputs": [],
   "source": [
    "from gurobipy import *\n",
    "m = Model()"
   ]
  },
  {
   "cell_type": "markdown",
   "metadata": {
    "slideshow": {
     "slide_type": "fragment"
    }
   },
   "source": [
    "<ul>\n",
    "    <li>Controlling MIP focus: 几个聚焦目标\n",
    "    <ul>\n",
    "        <li><code>m.setParam('MIPFocus',1)</code>: Focus on finding good solutions 聚焦解</li>  \n",
    "        <li><code>m.setParam('MIPFocus',2)</code>: Focus on proving optimality 聚焦证明 </li>\n",
    "        <li><code>m.setParam('MIPFocus',3)</code>: Focus on improving lower bound 聚焦低下限</li>\n",
    "        <li><code>m.setParam('Heuristics',0.5)</code> Ask Gurobi to spend about 50% of the time looking for improving solutions 花 50% 时间改善结果</li>\n",
    "    </ul></li>\n",
    " </ul>"
   ]
  },
  {
   "cell_type": "markdown",
   "metadata": {
    "slideshow": {
     "slide_type": "fragment"
    }
   },
   "source": [
    "<ul>\n",
    "    <li>Setting an acceptable proven gap: We can set both a maximum relative or absolute <span class=\"blue bold\">gap</span>\n",
    "    <ul>\n",
    "        <li><code>m.setParam('MIPGap',0.1)</code>: Stop if <span class=\"blue bold\">proven</span> gap is under 10% </li>\n",
    "        <li><code>m.setParam('MIPGapAbs',1.0)</code>: Stop if <span class=\"blue bold\">proven</span> gap is under 1.0</li>\n",
    "        <li><code>m.setParam('Cutoff',maxval)</code>: Don't explore nodes whose LP value is above <code>maxval</code></li>\n",
    "        <li><code>m.setParam('BestObjStop',targetval)</code>: Stop whenever we find a solution with value under <code>targetval</code></li>\n",
    "        <li><code>m.setParam('BestBdStop',relaxval)</code>: Stop whenever the current bound value is above <code>relaxval</code></li>\n",
    "    </ul></li>\n",
    "</ul>"
   ]
  },
  {
   "cell_type": "markdown",
   "metadata": {
    "slideshow": {
     "slide_type": "fragment"
    }
   },
   "source": [
    "<ul>\n",
    "    <li>Limiting how much work to perform during a MIP solve:\n",
    "    <ul>\n",
    "        <li><code>m.setParam('SolutionLimit',5)</code>: Stop after finding <code>5</code> solutions. The larger the number, the better the quality... but longer to find</li>\n",
    "        <li><code>m.setParam('NodeLimit',500)</code>: Stop after exploring <code>500</code> nodes in Branch and Bound</li>\n",
    "        <li><code>m.setParam('IterationLimit',1000000)</code>: Stop after performing <code>1000000</code> simplex iterations</li>\n",
    "        <li><code>m.setParam('TimeLimit',3600)</code>: Stop after an hour of running time</li>\n",
    "    </ul></li>\n",
    "    \n",
    "</ul>"
   ]
  },
  {
   "cell_type": "markdown",
   "metadata": {
    "slideshow": {
     "slide_type": "slide"
    }
   },
   "source": [
    "# Loading Initial Solutions\n",
    "\n",
    "## A Simple Knapsack Example"
   ]
  },
  {
   "cell_type": "code",
   "execution_count": 2,
   "metadata": {
    "collapsed": false,
    "slideshow": {
     "slide_type": "fragment"
    }
   },
   "outputs": [
    {
     "name": "stdout",
     "output_type": "stream",
     "text": [
      "Changed value of parameter mipgap to 0.01\n",
      "   Prev: 0.0001  Min: 0.0  Max: 1e+100  Default: 0.0001\n",
      "Optimize a model with 1 rows, 5000 columns and 5000 nonzeros\n",
      "Variable types: 0 continuous, 5000 integer (5000 binary)\n",
      "Coefficient statistics:\n",
      "  Matrix range     [1e+00, 1e+02]\n",
      "  Objective range  [1e+00, 1e+02]\n",
      "  Bounds range     [1e+00, 1e+00]\n",
      "  RHS range        [6e+06, 6e+06]\n",
      "Found heuristic solution: objective 252895\n",
      "\n",
      "Explored 0 nodes (0 simplex iterations) in 0.01 seconds\n",
      "Thread count was 1 (of 4 available processors)\n",
      "\n",
      "Solution count 1: 252895 \n",
      "Pool objective bound 252895\n",
      "\n",
      "Optimal solution found (tolerance 1.00e-02)\n",
      "Best objective 2.528948415518e+05, best bound 2.528948415518e+05, gap 0.0000%\n"
     ]
    }
   ],
   "source": [
    "from gurobipy import *\n",
    "import numpy as np\n",
    "\n",
    "# Build Data\n",
    "n = 5000  # 50 ~ 50000 都是很好解的\n",
    "c = {}\n",
    "w = {}\n",
    "for i in range(n): # 创建均匀分布的随机变量向量 c (len=50), w\n",
    "    c[i] = np.random.uniform(low = 1, high = 100)\n",
    "    w[i] = np.random.uniform(low = 1, high = 100)\n",
    "b = sum(w)/2\n",
    "\n",
    "\n",
    "# Build Model\n",
    "m = Model()\n",
    "x = m.addVars(n, vtype=GRB.BINARY, name='x') # 添加变量组 gurobi.Var x[0] - x[49]\n",
    "\n",
    "m.setObjective(x.prod(c), GRB.MAXIMIZE) # 设置目标函数为向量相乘 x * c\n",
    "\n",
    "m.addConstr(x.prod(w) <= b) # 设置约束函数为向量相乘 x * w\n",
    "\n",
    "# https://www.gurobi.com/documentation/7.0/refman/mipgap2.html\n",
    "# mipgap 默认值 \t1e-4\n",
    "m.params.mipgap = 0.01  # 设置 mipgap m.setParam('MIPGap',0.1): Stop if proven gap is under 10%\n",
    "\n",
    "# https://www.gurobi.com/documentation/7.0/refman/py_var_setattr.html\n",
    "# 设置 Vars 属性\n",
    "# 属性清单 https://www.gurobi.com/documentation/7.0/refman/attributes.html#sec:Attributes\n",
    "# setAddr('Start') # 设置初始值\n",
    "\n",
    "# Build Dumb Initial Solution\n",
    "usedb = 0\n",
    "for i in x:\n",
    "    # 为何这样作就可以保证可行? (判断数值 小于 <= 均值, 赋值1 放入包中, 如果超过均值, 则不放入包中 0)\n",
    "    if usedb + w[i] <= b: #ensure feasibility \n",
    "        x[i].setAttr('Start',1)\n",
    "        usedb += w[i]\n",
    "    else:\n",
    "        x[i].setAttr('Start',0)\n",
    "\n",
    "#optimize\n",
    "m.optimize()"
   ]
  },
  {
   "cell_type": "markdown",
   "metadata": {
    "slideshow": {
     "slide_type": "subslide"
    }
   },
   "source": [
    "## When does it help?"
   ]
  },
  {
   "cell_type": "markdown",
   "metadata": {
    "slideshow": {
     "slide_type": "fragment"
    }
   },
   "source": [
    "<ul>\n",
    "    <li>When initial solution is hard to come by</li>\n",
    "    <li>Relaxation is hard to solve</li>\n",
    "    <li>A quick solution is needed\n",
    "    <ul>\n",
    "        <li>Gurobi (given some time) can improve on starting solution</li>\n",
    "        <li>Helps in pruning search tree</li>\n",
    "    </ul></li>\n",
    "</ul>"
   ]
  },
  {
   "cell_type": "markdown",
   "metadata": {
    "slideshow": {
     "slide_type": "slide"
    }
   },
   "source": [
    "# Two Example Problems\n",
    "\n",
    "两个问题 \n",
    "* TSP\n",
    "* Open it Mining"
   ]
  },
  {
   "cell_type": "markdown",
   "metadata": {
    "slideshow": {
     "slide_type": "subslide"
    }
   },
   "source": [
    "# The Traveling Salesman Problem:\n",
    "\n",
    "### George Dantzig 1954 42-city problem Optimal solution\n",
    "\n",
    "<img src=\"dantzig42.png\" width=\"640\">"
   ]
  },
  {
   "cell_type": "markdown",
   "metadata": {
    "slideshow": {
     "slide_type": "fragment"
    }
   },
   "source": [
    "Given a set of <span class=\"blue bold\">cities</span> $N$ to visit, and distances $d_{ij}$ among them, we want to visit them all exactly once, but traveling the smallest distance possible\n",
    "\n",
    "$$\n",
    "\\begin{array}{lll}\n",
    "\\min & \\sum\\limits_{i,j in N} d_{ij} x_{ij}\\\\\n",
    "s.t. & \\sum\\limits_{i in N\\setminus\\{j\\}}x_{ij} = 2 &\\forall j \\in N\\\\\n",
    "     & \\sum\\limits_{i \\in S, j\\notin S} x_{ij} \\geq 2 & \\forall \\emptyset\\neq S\\subsetneq N\n",
    "\\end{array}\n",
    "$$"
   ]
  },
  {
   "cell_type": "markdown",
   "metadata": {
    "slideshow": {
     "slide_type": "subslide"
    }
   },
   "source": [
    "# Open Pit Mining\n",
    "\n",
    "<img src=\"reko2.gif\">"
   ]
  },
  {
   "cell_type": "markdown",
   "metadata": {
    "slideshow": {
     "slide_type": "fragment"
    }
   },
   "source": [
    "## Problem Description and a Mathematical Model\n",
    "\n",
    "We are given a time-span $T_{max}$ for the mine, and a set of <span class=\"blue bold\">Blocks</span> $\\mathcal{B}$ (i.e. pieces) that we could mine.\n",
    "\n",
    "Our objective is to maximize NPV by scheduling <span class=\"blue bold\">when</span> to extract a given block, while ensuring that the pit don't collapse, and using a maximum processing plant capacity, and available truck capacity."
   ]
  },
  {
   "cell_type": "markdown",
   "metadata": {
    "slideshow": {
     "slide_type": "fragment"
    }
   },
   "source": [
    "$$\n",
    "\\begin{array}{lll}\n",
    "\\max & \\sum\\limits_{b\\in \\mathcal{B}, t\\in\\mathcal{T}} c_{b,t} (x_{b,t} - x_{b,t-1})\\\\\n",
    "s.t. & \\sum\\limits_{b\\in \\mathcal{B}} wp_{b}(x_{b,t}-x_{b,t-1}) \\leq Cp_t & \\forall t\\in\\mathcal{T}\\\\\n",
    "     & \\sum\\limits_{b\\in \\mathcal{B}} wt_{b}(x_{b,t}-x_{b,t-1}) \\leq Ct_t & \\forall t\\in\\mathcal{T}\\\\\n",
    "     & x_{b,t} \\leq x_{b,t+1} & \\forall b\\in\\mathcal{B}, t\\in\\mathcal{T}\\\\\n",
    "     & x_{b,t} \\leq x_{b',t} & \\forall b\\in\\mathcal{B}, b'\\in\\mathrm{above}(b), t\\in\\mathcal{T}\\\\\n",
    "     & x_{b,t} \\in \\{0,1\\} & \\forall b\\in\\mathcal{B}, t\\in\\mathcal{T}\n",
    "\\end{array}\n",
    "$$\n",
    "\n",
    "In this formulation $x_{b,t} = 1$ if block $b$ is extracted in time $t$ or before.\n",
    "Also, $\\mathcal{T} = \\{1,\\ldots,T_{max}\\}$, and $\\mathrm{above}(b)$ is the set of <span class=\"blue bold\">precedences</span> of $b$, i.e. those blocks that must be extracted before $b$ can be <span class=\"blue bold\">safely</span> extracted."
   ]
  },
  {
   "cell_type": "markdown",
   "metadata": {
    "slideshow": {
     "slide_type": "subslide"
    }
   },
   "source": [
    "# MIP Starts"
   ]
  },
  {
   "cell_type": "code",
   "execution_count": 3,
   "metadata": {
    "collapsed": false
   },
   "outputs": [
    {
     "name": "stdout",
     "output_type": "stream",
     "text": [
      "Using matplotlib backend: MacOSX\n"
     ]
    }
   ],
   "source": [
    "# 禁止 matplotlib inline , 避免嵌入在页面中, 增加冗余代码\n",
    "%matplotlib"
   ]
  },
  {
   "cell_type": "code",
   "execution_count": 4,
   "metadata": {
    "collapsed": false,
    "slideshow": {
     "slide_type": "fragment"
    }
   },
   "outputs": [
    {
     "name": "stdout",
     "output_type": "stream",
     "text": [
      "\n",
      "Solution cost: 348.198 gap 0.00%\n",
      "\n",
      "Total running time: 0.33\n"
     ]
    }
   ],
   "source": [
    "run tsp2.py 10 -D"
   ]
  },
  {
   "cell_type": "code",
   "execution_count": 5,
   "metadata": {
    "collapsed": false,
    "slideshow": {
     "slide_type": "fragment"
    }
   },
   "outputs": [
    {
     "name": "stdout",
     "output_type": "stream",
     "text": [
      "Changed value of parameter lazyConstraints to 1\n",
      "   Prev: 0  Min: 0  Max: 1  Default: 0\n",
      "Changed value of parameter timelimit to 9.57497596741\n",
      "   Prev: 1e+100  Min: 0.0  Max: 1e+100  Default: 1e+100\n",
      "Optimize a model with 200 rows, 19900 columns and 39800 nonzeros\n",
      "Variable types: 0 continuous, 19900 integer (19900 binary)\n",
      "Coefficient statistics:\n",
      "  Matrix range     [1e+00, 1e+00]\n",
      "  Objective range  [1e+00, 1e+02]\n",
      "  Bounds range     [1e+00, 1e+00]\n",
      "  RHS range        [2e+00, 2e+00]\n",
      "Presolve time: 0.03s\n",
      "Presolved: 200 rows, 19900 columns, 39800 nonzeros\n",
      "Variable types: 0 continuous, 19900 integer (19900 binary)\n",
      "Found heuristic solution: objective 10680.755769\n",
      "\n",
      "Root relaxation: objective 9.819618e+02, 309 iterations, 0.01 seconds\n",
      "\n",
      "    Nodes    |    Current Node    |     Objective Bounds      |     Work\n",
      " Expl Unexpl |  Obj  Depth IntInf | Incumbent    BestBd   Gap | It/Node Time\n",
      "\n",
      "     0     0  981.96181    0   58 10680.7558  981.96181  90.8%     -    0s\n",
      "     0     0 1001.16570    0   46 10680.7558 1001.16570  90.6%     -    1s\n",
      "     0     0 1005.39848    0   34 10680.7558 1005.39848  90.6%     -    1s\n",
      "     0     0 1005.65666    0   28 10680.7558 1005.65666  90.6%     -    1s\n",
      "     0     0 1005.86932    0   41 10680.7558 1005.86932  90.6%     -    1s\n",
      "     0     0 1006.30313    0   40 10680.7558 1006.30313  90.6%     -    1s\n",
      "     0     2 1010.34868    0   20 10680.7558 1010.34868  90.5%     -    4s\n",
      "    83    84 1016.47039   28   10 10680.7558 1010.80072  90.5%   2.5    5s\n",
      "\n",
      "Cutting planes:\n",
      "  MIR: 8\n",
      "  Zero half: 35\n",
      "  Lazy constraints: 30\n",
      "\n",
      "Explored 742 nodes (3228 simplex iterations) in 9.59 seconds\n",
      "Thread count was 4 (of 4 available processors)\n",
      "\n",
      "Solution count 1: 10680.8 \n",
      "Pool objective bound 1010.8\n",
      "\n",
      "Time limit reached\n",
      "Best objective 1.068075576950e+04, best bound 1.010802306367e+03, gap 90.5362%\n",
      "\n",
      "Solution cost: 10680.8 gap 956.66%\n",
      "\n",
      "Total running time: 10.17\n"
     ]
    }
   ],
   "source": [
    "run tsp2.py 200 -v -T 10"
   ]
  },
  {
   "cell_type": "markdown",
   "metadata": {
    "slideshow": {
     "slide_type": "subslide"
    }
   },
   "source": [
    "# Mip Starts\n",
    "\n",
    "A classical <span class=\"blue bold\">construction</span> heuristic for TSP is:\n",
    "<ul>\n",
    "    <li>Label all nodes as <span class=\"blue bold\">unvisited</span></li>\n",
    "    <li>Start from a given node</li>\n",
    "    <li>Mark node as visited</li>\n",
    "    <li>Select next node as closest node to current node</li>\n",
    "    <li>Set current node as new node, <code>repeat</code></li>\n",
    "</ul>\n",
    "\n",
    "-G 参数: 贪婪启发式算法\n",
    "run'-G','--greedy', help='Enable initial greedy heuristic'"
   ]
  },
  {
   "cell_type": "code",
   "execution_count": 6,
   "metadata": {
    "collapsed": false,
    "slideshow": {
     "slide_type": "fragment"
    }
   },
   "outputs": [
    {
     "name": "stdout",
     "output_type": "stream",
     "text": [
      "Changed value of parameter lazyConstraints to 1\n",
      "   Prev: 0  Min: 0  Max: 1  Default: 0\n",
      "\n",
      "----------------------------------------------------------------------\n",
      "Found feasible solution, value 1232.35 0.14 seconds\n",
      "----------------------------------------------------------------------\n",
      "\n",
      "Changed value of parameter timelimit to 9.62461185455\n",
      "   Prev: 1e+100  Min: 0.0  Max: 1e+100  Default: 1e+100\n",
      "Optimize a model with 150 rows, 11175 columns and 22350 nonzeros\n",
      "Variable types: 0 continuous, 11175 integer (11175 binary)\n",
      "Coefficient statistics:\n",
      "  Matrix range     [1e+00, 1e+00]\n",
      "  Objective range  [1e+00, 1e+02]\n",
      "  Bounds range     [1e+00, 1e+00]\n",
      "  RHS range        [2e+00, 2e+00]\n",
      "Presolve time: 0.03s\n",
      "Presolved: 150 rows, 11175 columns, 22350 nonzeros\n",
      "\n",
      "Loaded MIP start with objective 1232.35\n",
      "\n",
      "Variable types: 0 continuous, 11175 integer (11175 binary)\n",
      "\n",
      "Root relaxation: objective 8.534270e+02, 229 iterations, 0.01 seconds\n",
      "\n",
      "    Nodes    |    Current Node    |     Objective Bounds      |     Work\n",
      " Expl Unexpl |  Obj  Depth IntInf | Incumbent    BestBd   Gap | It/Node Time\n",
      "\n",
      "     0     0  853.42701    0   24 1232.35094  853.42701  30.7%     -    0s\n",
      "     0     0  864.18555    0   34 1232.35094  864.18555  29.9%     -    0s\n",
      "     0     0  868.01516    0   56 1232.35094  868.01516  29.6%     -    1s\n",
      "     0     0  870.85860    0   43 1232.35094  870.85860  29.3%     -    1s\n",
      "     0     0  871.49054    0   65 1232.35094  871.49054  29.3%     -    1s\n",
      "     0     2  879.77321    0   50 1232.35094  879.77321  28.6%     -    2s\n",
      "   272   261  939.43016   99    6 1232.35094  880.62108  28.5%   4.3    5s\n",
      "\n",
      "Cutting planes:\n",
      "  Gomory: 12\n",
      "  Flow cover: 7\n",
      "  Zero half: 22\n",
      "  Lazy constraints: 14\n",
      "\n",
      "Explored 742 nodes (4044 simplex iterations) in 9.69 seconds\n",
      "Thread count was 4 (of 4 available processors)\n",
      "\n",
      "Solution count 1: 1232.35 \n",
      "Pool objective bound 919.15\n",
      "\n",
      "Time limit reached\n",
      "Best objective 1.232350937159e+03, best bound 9.191498504672e+02, gap 25.4149%\n",
      "\n",
      "Solution cost: 1232.35 gap 34.08%\n",
      "\n",
      "Total running time: 11.11\n"
     ]
    }
   ],
   "source": [
    "run tsp2.py 150 -G -v -T 10 -D"
   ]
  },
  {
   "cell_type": "markdown",
   "metadata": {
    "slideshow": {
     "slide_type": "fragment"
    }
   },
   "source": [
    "Note that we went from no solution in 10 seconds, to an optimal solution in five seconds!"
   ]
  },
  {
   "cell_type": "markdown",
   "metadata": {
    "slideshow": {
     "slide_type": "subslide"
    }
   },
   "source": [
    "# MIP Starts\n",
    "\n",
    "For the case of Open Pit Mining... we can also think of a greedy heuristic\n",
    "<ul>\n",
    "    <li>Starting from time zero</li>\n",
    "    <li>Choose the <span class=\"blue bold\">best</span> block that can be mined and processed in the current period</li>\n",
    "    <li>Update remaining capacities</li>\n",
    "    <li>Repeat until no block can be fit</li>\n",
    "    <li>Move to next time period, and reset remaining capacities</li>\n",
    "    <li>Repeat until last time period</li>\n",
    "</ul>"
   ]
  },
  {
   "cell_type": "code",
   "execution_count": 7,
   "metadata": {
    "collapsed": false,
    "slideshow": {
     "slide_type": "fragment"
    }
   },
   "outputs": [
    {
     "name": "stdout",
     "output_type": "stream",
     "text": [
      "----------------------------------------------------------------------\n",
      "Building grid blocks ... \n",
      "done (2475 added)\n",
      "Add variables and objective function ... \n",
      "done (added 27225 vars obj range [-2.07482,4.13126])\n",
      "Adding precedences ... \n",
      "done (added 141900 precedences)\n",
      "Adding knapsack capacities ... \n",
      "done (added 22 knapsack)\n",
      "Changed value of parameter timelimit to 3.56007599831\n",
      "   Prev: 1e+100  Min: 0.0  Max: 1e+100  Default: 1e+100\n",
      "----------------------------------------------------------------------\n",
      "Model Stats:\n",
      "\n",
      "Statistics for model Unnamed :\n",
      "  Linear constraint matrix    : 141922 Constrs, 27225 Vars, 349236 NZs\n",
      "  Variable types              : 0 Continuous, 27225 Integer (27225 Binary)\n",
      "  Matrix coefficient range    : [ 0.900027, 1.09997 ]\n",
      "  Objective coefficient range : [ 4.04706e-05, 1.02118 ]\n",
      "  Variable bound range        : [ 1, 1 ]\n",
      "  RHS coefficient range       : [ 85.2273, 102.273 ]\n",
      "Model bound: 10000000000000000159028911097599180468360808563945281389781327557747838772170381060813469985856815104.000, Best Sol: 18.917 Gap 100.00%\n",
      "----------------------------------------------------------------------\n",
      "Solution Detail:\n",
      "           Obj       Obj%      Truck      Plant  Blocks\n",
      "Time                                                   \n",
      "0     0.000000   0.000000   0.000000   0.000000       0\n",
      "1     0.000000   0.000000   0.000000   0.000000       0\n",
      "2     0.000000   0.000000   0.000000   0.000000       0\n",
      "3     0.000000   0.000000   0.000000   0.000000       0\n",
      "4     0.000000   0.000000   0.000000   0.000000       0\n",
      "5     0.000000   0.000000   0.000000   0.000000       0\n",
      "6     0.000000   0.000000   0.000000   0.000000       0\n",
      "7     0.205148   1.084448   1.093644   1.093644       1\n",
      "8     0.664025   3.510157   4.096464   4.096464       4\n",
      "9     9.244106  48.866044  84.008923  84.008923      85\n",
      "10    8.803960  46.539351  83.949329  83.949329      84\n",
      "Capacities: 102.273 85.2273 Blocks: 2475 Time Periods: 11\n",
      "Total Running time: 8.30\n"
     ]
    }
   ],
   "source": [
    "run mining.py -Z15 -T8 -v"
   ]
  },
  {
   "cell_type": "markdown",
   "metadata": {
    "slideshow": {
     "slide_type": "subslide"
    }
   },
   "source": [
    "## Using Greedy\n",
    "\n",
    "What if we enable our greedy heuristic?\n",
    "\n",
    "-G 参数: 贪婪启发式算法 run'-G','--greedy', help='Enable initial greedy heuristic'"
   ]
  },
  {
   "cell_type": "code",
   "execution_count": 8,
   "metadata": {
    "collapsed": false,
    "slideshow": {
     "slide_type": "fragment"
    }
   },
   "outputs": [
    {
     "name": "stdout",
     "output_type": "stream",
     "text": [
      "----------------------------------------------------------------------\n",
      "Building grid blocks ... \n",
      "done (2475 added)\n",
      "Add variables and objective function ... \n",
      "done (added 27225 vars obj range [-2.07482,4.13126])\n",
      "Adding precedences ... \n",
      "done (added 141900 precedences)\n",
      "Adding knapsack capacities ... \n",
      "done (added 22 knapsack)\n",
      "Building solution ... \n",
      "\n",
      "----------------------------------------------------------------------\n",
      "Greedy Heuristic done, value 191.178\n",
      "----------------------------------------------------------------------\n",
      "\n",
      "Changed value of parameter timelimit to 3.59042596817\n",
      "   Prev: 1e+100  Min: 0.0  Max: 1e+100  Default: 1e+100\n",
      "----------------------------------------------------------------------\n",
      "Model Stats:\n",
      "\n",
      "Statistics for model Unnamed :\n",
      "  Linear constraint matrix    : 141922 Constrs, 27225 Vars, 349236 NZs\n",
      "  Variable types              : 0 Continuous, 27225 Integer (27225 Binary)\n",
      "  Matrix coefficient range    : [ 0.900027, 1.09997 ]\n",
      "  Objective coefficient range : [ 4.04706e-05, 1.02118 ]\n",
      "  Variable bound range        : [ 1, 1 ]\n",
      "  RHS coefficient range       : [ 85.2273, 102.273 ]\n",
      "Model bound: 10000000000000000159028911097599180468360808563945281389781327557747838772170381060813469985856815104.000, Best Sol: 18.917 Gap 100.00%\n",
      "----------------------------------------------------------------------\n",
      "Solution Detail:\n",
      "           Obj       Obj%      Truck      Plant  Blocks\n",
      "Time                                                   \n",
      "0     0.000000   0.000000   0.000000   0.000000       0\n",
      "1     0.000000   0.000000   0.000000   0.000000       0\n",
      "2     0.000000   0.000000   0.000000   0.000000       0\n",
      "3     0.000000   0.000000   0.000000   0.000000       0\n",
      "4     0.000000   0.000000   0.000000   0.000000       0\n",
      "5     0.000000   0.000000   0.000000   0.000000       0\n",
      "6     0.000000   0.000000   0.000000   0.000000       0\n",
      "7     0.205148   1.084448   1.093644   1.093644       1\n",
      "8     0.664025   3.510157   4.096464   4.096464       4\n",
      "9     9.244106  48.866044  84.008923  84.008923      85\n",
      "10    8.803960  46.539351  83.949329  83.949329      84\n",
      "Capacities: 102.273 85.2273 Blocks: 2475 Time Periods: 11\n",
      "Total Running time: 9.20\n"
     ]
    }
   ],
   "source": [
    "run mining.py -Z15 -T8 -Gv"
   ]
  },
  {
   "cell_type": "markdown",
   "metadata": {
    "slideshow": {
     "slide_type": "subslide"
    }
   },
   "source": [
    "\n",
    "# What happened?\n",
    "\n",
    "<ul>\n",
    "    <li>The first Gurobi solution is very weak for this problem... it starts at the last time period</li>\n",
    "    <li>Our greedy heuristic seems to be using <span class=\"blue bold\">useless</span> blocks</li>\n",
    "</ul>"
   ]
  },
  {
   "cell_type": "markdown",
   "metadata": {
    "slideshow": {
     "slide_type": "fragment"
    }
   },
   "source": [
    "<ul>\n",
    "    <li>Shouldn't Gurobi somehow handle that?\n",
    "    <ul>\n",
    "        <li>Pre-processing helps on that</li>\n",
    "        <li>Having an good LP-relaxation also helps</li>\n",
    "        <li>...But it's not magic</li>\n",
    "        <li>If you know something about your variables (and the problem is getting hard)... you should use it</li>\n",
    "    </ul></li>\n",
    "</ul>"
   ]
  },
  {
   "cell_type": "markdown",
   "metadata": {
    "slideshow": {
     "slide_type": "slide"
    }
   },
   "source": [
    "# Thinning out the set of variables"
   ]
  },
  {
   "cell_type": "markdown",
   "metadata": {
    "slideshow": {
     "slide_type": "fragment"
    }
   },
   "source": [
    "<ul>\n",
    "    <li>In the case of TSP:\n",
    "    <ul>\n",
    "        <li><span class=\"blue bold\">Probably</span> edges that are too long will not be part of any optimal solution</li>\n",
    "        <li><code>for x in vars.keys() if vars[x].getAttr('Obj') > max_dist:\n",
    "  vars[x].setAttr('Ub',0)</code>\n",
    "        <li>Must guess a reasonable value... (but LP can help, use reduced costs)</li>\n",
    "    </ul></li>\n",
    "</ul>\n"
   ]
  },
  {
   "cell_type": "markdown",
   "metadata": {
    "slideshow": {
     "slide_type": "fragment"
    }
   },
   "source": [
    "<ul>\n",
    "    <li>In the case of Open Pit Mining:\n",
    "    <ul>\n",
    "        <li>By the nature of the problem, many blocks are just filling in</li>\n",
    "        <li>e.g. If a block is at the <span class=\"blue bold\">bottom</span> of the mine, and has a negative value, you will <span class=\"blue bold\">never</span> mine it</li>\n",
    "        <li>The previous procedure can be done recursively</li>\n",
    "        <li>Use other knowledge:\n",
    "        <ul>\n",
    "            <li>By integrality, to mine a block, blocks above it must also be mined</li>\n",
    "            <li>This induces a minimum extraction time</li>\n",
    "        </ul></li>\n",
    "    </ul></li>\n",
    "</ul>"
   ]
  },
  {
   "cell_type": "markdown",
   "metadata": {
    "slideshow": {
     "slide_type": "fragment"
    }
   },
   "source": [
    "<ul>\n",
    "    <li>Gurobi does a lot... but</li>\n",
    "</ul>"
   ]
  },
  {
   "cell_type": "code",
   "execution_count": 9,
   "metadata": {
    "collapsed": false,
    "slideshow": {
     "slide_type": "fragment"
    }
   },
   "outputs": [
    {
     "name": "stdout",
     "output_type": "stream",
     "text": [
      "----------------------------------------------------------------------\n",
      "Building grid blocks ... \n",
      "done (2475 added)\n",
      "Add variables and objective function ... \n",
      "done (added 27225 vars obj range [-2.07482,4.13126])\n",
      "Adding precedences ... \n",
      "done (added 141900 precedences)\n",
      "Adding knapsack capacities ... \n",
      "done (added 22 knapsack)\n",
      "Changed value of parameter timelimit to 2.58489704132\n",
      "   Prev: 1e+100  Min: 0.0  Max: 1e+100  Default: 1e+100\n",
      "----------------------------------------------------------------------\n",
      "Model Stats:\n",
      "\n",
      "Statistics for model Unnamed :\n",
      "  Linear constraint matrix    : 141922 Constrs, 27225 Vars, 349236 NZs\n",
      "  Variable types              : 0 Continuous, 27225 Integer (27225 Binary)\n",
      "  Matrix coefficient range    : [ 0.900027, 1.09997 ]\n",
      "  Objective coefficient range : [ 4.04706e-05, 1.02118 ]\n",
      "  Variable bound range        : [ 1, 1 ]\n",
      "  RHS coefficient range       : [ 85.2273, 102.273 ]\n",
      "Problem not optimized\n",
      "Total Running time: 5.49\n"
     ]
    }
   ],
   "source": [
    "run mining.py -Z15 -T8 -O0"
   ]
  },
  {
   "cell_type": "code",
   "execution_count": null,
   "metadata": {
    "collapsed": true
   },
   "outputs": [],
   "source": []
  },
  {
   "cell_type": "code",
   "execution_count": 10,
   "metadata": {
    "collapsed": false,
    "slideshow": {
     "slide_type": "fragment"
    }
   },
   "outputs": [
    {
     "name": "stdout",
     "output_type": "stream",
     "text": [
      "----------------------------------------------------------------------\n",
      "Building grid blocks ... \n",
      "done (2475 added)\n",
      "Preprocessing removed 1556 blocks 17116 vars\n",
      "Remove 248 time-blocks\n",
      "Add variables and objective function ... \n",
      "done (added 9861 vars obj range [-0.574192,4.13126])\n",
      "Adding precedences ... \n",
      "done (added 46554 precedences)\n",
      "Adding knapsack capacities ... \n",
      "done (added 22 knapsack)\n",
      "Changed value of parameter timelimit to 5.77027392387\n",
      "   Prev: 1e+100  Min: 0.0  Max: 1e+100  Default: 1e+100\n",
      "----------------------------------------------------------------------\n",
      "Model Stats:\n",
      "\n",
      "Statistics for model Unnamed :\n",
      "  Linear constraint matrix    : 46576 Constrs, 9861 Vars, 125016 NZs\n",
      "  Variable types              : 0 Continuous, 9861 Integer (9861 Binary)\n",
      "  Matrix coefficient range    : [ 0.900027, 1.09997 ]\n",
      "  Objective coefficient range : [ 4.04706e-05, 1.02118 ]\n",
      "  Variable bound range        : [ 1, 1 ]\n",
      "  RHS coefficient range       : [ 85.2273, 102.273 ]\n",
      "Problem not optimized\n",
      "Total Running time: 2.50\n"
     ]
    }
   ],
   "source": [
    "run mining.py -Z15 -T8 -O0 -P"
   ]
  },
  {
   "cell_type": "markdown",
   "metadata": {
    "slideshow": {
     "slide_type": "fragment"
    }
   },
   "source": [
    "We went from <span class=\"red\">141,922</span> constraints and <span class=\"red\">27,225</span> variables to <span class=\"blue\">46,586</span> constraints and <span class=\"blue\">9,924</span> variables!"
   ]
  },
  {
   "cell_type": "markdown",
   "metadata": {
    "slideshow": {
     "slide_type": "fragment"
    }
   },
   "source": [
    "And what happen now with our greedy heuristic?"
   ]
  },
  {
   "cell_type": "code",
   "execution_count": 11,
   "metadata": {
    "collapsed": false,
    "slideshow": {
     "slide_type": "fragment"
    }
   },
   "outputs": [
    {
     "name": "stdout",
     "output_type": "stream",
     "text": [
      "----------------------------------------------------------------------\n",
      "Building grid blocks ... \n",
      "done (2475 added)\n",
      "Preprocessing removed 1556 blocks 17116 vars\n",
      "Remove 248 time-blocks\n",
      "Add variables and objective function ... \n",
      "done (added 9861 vars obj range [-0.574192,4.13126])\n",
      "Adding precedences ... \n",
      "done (added 46554 precedences)\n",
      "Adding knapsack capacities ... \n",
      "done (added 22 knapsack)\n",
      "Building solution ... \n",
      "\n",
      "----------------------------------------------------------------------\n",
      "Greedy Heuristic done, value 195.252\n",
      "----------------------------------------------------------------------\n",
      "\n",
      "Changed value of parameter timelimit to 5.71937298775\n",
      "   Prev: 1e+100  Min: 0.0  Max: 1e+100  Default: 1e+100\n",
      "----------------------------------------------------------------------\n",
      "Model Stats:\n",
      "\n",
      "Statistics for model Unnamed :\n",
      "  Linear constraint matrix    : 46576 Constrs, 9861 Vars, 125016 NZs\n",
      "  Variable types              : 0 Continuous, 9861 Integer (9861 Binary)\n",
      "  Matrix coefficient range    : [ 0.900027, 1.09997 ]\n",
      "  Objective coefficient range : [ 4.04706e-05, 1.02118 ]\n",
      "  Variable bound range        : [ 1, 1 ]\n",
      "  RHS coefficient range       : [ 85.2273, 102.273 ]\n",
      "Model bound: 212.756, Best Sol: 195.252 Gap 8.23%\n",
      "----------------------------------------------------------------------\n",
      "Solution Detail:\n"
     ]
    },
    {
     "ename": "TypeError",
     "evalue": "list indices must be integers, not float",
     "output_type": "error",
     "traceback": [
      "\u001b[0;31m---------------------------------------------------------------------------\u001b[0m",
      "\u001b[0;31mTypeError\u001b[0m                                 Traceback (most recent call last)",
      "\u001b[0;32m/Users/chen/PycharmProjects/ArsenalPython/gurobi/python-3-webinar-materials/mining.py\u001b[0m in \u001b[0;36m<module>\u001b[0;34m()\u001b[0m\n\u001b[1;32m    644\u001b[0m   \u001b[0mmodel\u001b[0m\u001b[0;34m.\u001b[0m\u001b[0msetParam\u001b[0m\u001b[0;34m(\u001b[0m\u001b[0;34m'MIPGap'\u001b[0m\u001b[0;34m,\u001b[0m\u001b[0;36m0.005\u001b[0m\u001b[0;34m)\u001b[0m\u001b[0;34m\u001b[0m\u001b[0m\n\u001b[1;32m    645\u001b[0m   \u001b[0mmodel\u001b[0m\u001b[0;34m.\u001b[0m\u001b[0moptimize\u001b[0m\u001b[0;34m(\u001b[0m\u001b[0mOpenPitCallback\u001b[0m\u001b[0;34m)\u001b[0m\u001b[0;34m\u001b[0m\u001b[0m\n\u001b[0;32m--> 646\u001b[0;31m \u001b[0mprint_stats\u001b[0m\u001b[0;34m(\u001b[0m\u001b[0mmodel\u001b[0m\u001b[0;34m)\u001b[0m\u001b[0;34m\u001b[0m\u001b[0m\n\u001b[0m",
      "\u001b[0;32m/Users/chen/PycharmProjects/ArsenalPython/gurobi/python-3-webinar-materials/mining.py\u001b[0m in \u001b[0;36mprint_stats\u001b[0;34m(model)\u001b[0m\n\u001b[1;32m    571\u001b[0m       \u001b[0;32mfor\u001b[0m \u001b[0mx\u001b[0m \u001b[0;32min\u001b[0m \u001b[0mmodel\u001b[0m\u001b[0;34m.\u001b[0m\u001b[0m_Vars\u001b[0m\u001b[0;34m:\u001b[0m\u001b[0;34m\u001b[0m\u001b[0m\n\u001b[1;32m    572\u001b[0m         \u001b[0;32mif\u001b[0m \u001b[0mX\u001b[0m\u001b[0;34m[\u001b[0m\u001b[0mx\u001b[0m\u001b[0;34m]\u001b[0m \u001b[0;34m>\u001b[0m \u001b[0;36m0.5\u001b[0m\u001b[0;34m:\u001b[0m\u001b[0;34m\u001b[0m\u001b[0m\n\u001b[0;32m--> 573\u001b[0;31m           \u001b[0mresults\u001b[0m\u001b[0;34m[\u001b[0m\u001b[0;34m'Obj'\u001b[0m\u001b[0;34m]\u001b[0m\u001b[0;34m[\u001b[0m\u001b[0mBt\u001b[0m\u001b[0;34m[\u001b[0m\u001b[0mx\u001b[0m\u001b[0;34m[\u001b[0m\u001b[0;36m0\u001b[0m\u001b[0;34m:\u001b[0m\u001b[0;34m-\u001b[0m\u001b[0;36m1\u001b[0m\u001b[0;34m]\u001b[0m\u001b[0;34m]\u001b[0m\u001b[0;34m]\u001b[0m \u001b[0;34m+=\u001b[0m \u001b[0mmodel\u001b[0m\u001b[0;34m.\u001b[0m\u001b[0m_Vars\u001b[0m\u001b[0;34m[\u001b[0m\u001b[0mx\u001b[0m\u001b[0;34m]\u001b[0m\u001b[0;34m.\u001b[0m\u001b[0mgetAttr\u001b[0m\u001b[0;34m(\u001b[0m\u001b[0;34m'Obj'\u001b[0m\u001b[0;34m)\u001b[0m\u001b[0;34m\u001b[0m\u001b[0m\n\u001b[0m\u001b[1;32m    574\u001b[0m           \u001b[0mresults\u001b[0m\u001b[0;34m[\u001b[0m\u001b[0;34m'Obj%'\u001b[0m\u001b[0;34m]\u001b[0m\u001b[0;34m[\u001b[0m\u001b[0mBt\u001b[0m\u001b[0;34m[\u001b[0m\u001b[0mx\u001b[0m\u001b[0;34m[\u001b[0m\u001b[0;36m0\u001b[0m\u001b[0;34m:\u001b[0m\u001b[0;34m-\u001b[0m\u001b[0;36m1\u001b[0m\u001b[0;34m]\u001b[0m\u001b[0;34m]\u001b[0m\u001b[0;34m]\u001b[0m \u001b[0;34m+=\u001b[0m \u001b[0;36m100\u001b[0m \u001b[0;34m*\u001b[0m \u001b[0mmodel\u001b[0m\u001b[0;34m.\u001b[0m\u001b[0m_Vars\u001b[0m\u001b[0;34m[\u001b[0m\u001b[0mx\u001b[0m\u001b[0;34m]\u001b[0m\u001b[0;34m.\u001b[0m\u001b[0mgetAttr\u001b[0m\u001b[0;34m(\u001b[0m\u001b[0;34m'Obj'\u001b[0m\u001b[0;34m)\u001b[0m \u001b[0;34m/\u001b[0m \u001b[0mmodel\u001b[0m\u001b[0;34m.\u001b[0m\u001b[0mObjVal\u001b[0m\u001b[0;34m\u001b[0m\u001b[0m\n\u001b[1;32m    575\u001b[0m           \u001b[0;32mif\u001b[0m \u001b[0mx\u001b[0m\u001b[0;34m[\u001b[0m\u001b[0;36m3\u001b[0m\u001b[0;34m]\u001b[0m \u001b[0;34m==\u001b[0m \u001b[0mBt\u001b[0m\u001b[0;34m[\u001b[0m\u001b[0mx\u001b[0m\u001b[0;34m[\u001b[0m\u001b[0;36m0\u001b[0m\u001b[0;34m:\u001b[0m\u001b[0;34m-\u001b[0m\u001b[0;36m1\u001b[0m\u001b[0;34m]\u001b[0m\u001b[0;34m]\u001b[0m\u001b[0;34m:\u001b[0m\u001b[0;34m\u001b[0m\u001b[0m\n",
      "\u001b[0;31mTypeError\u001b[0m: list indices must be integers, not float"
     ]
    }
   ],
   "source": [
    "run mining.py -Z15 -T8 -PGv"
   ]
  },
  {
   "cell_type": "markdown",
   "metadata": {
    "slideshow": {
     "slide_type": "slide"
    }
   },
   "source": [
    "# Divide and Conquer Strategies\n",
    "\n",
    "## AKA MIP in Local Search"
   ]
  },
  {
   "cell_type": "markdown",
   "metadata": {
    "slideshow": {
     "slide_type": "fragment"
    }
   },
   "source": [
    "Why would it make sense?\n",
    "<ul>\n",
    "    <li>Problems get harder as they grow, the reverse is also true</li>\n",
    "    <li>If problem has natural <span class=\"blue bold\">pieces</span> we can search in parallel!</li>\n",
    "</ul>"
   ]
  },
  {
   "cell_type": "markdown",
   "metadata": {
    "slideshow": {
     "slide_type": "fragment"
    }
   },
   "source": [
    "<ul>\n",
    "    <li>In the case of the TSP:<ul>\n",
    "        <li>Each tour segment, of any length, can be used as a partition</li>\n",
    "        <li>Can work on <span class=\"blue bold\">geometric</span> partitions of the points too</li>\n",
    "    </ul></li>\n",
    "</ul>"
   ]
  },
  {
   "cell_type": "markdown",
   "metadata": {
    "slideshow": {
     "slide_type": "fragment"
    }
   },
   "source": [
    "<ul>\n",
    "    <li>In the case of the Open Pit:<ul>\n",
    "        <li>Each time period is a natural partition</li>\n",
    "        <li>Can use groups of consecutive time periods</li>\n",
    "    </ul></li>\n",
    "</ul>"
   ]
  },
  {
   "cell_type": "markdown",
   "metadata": {
    "slideshow": {
     "slide_type": "fragment"
    }
   },
   "source": [
    "<ul>\n",
    "    <li>In unit commitment/machine scheduling you can partition by machine and/or time</li>\n",
    "    <li>We only need a feasible solution <code>Xo</code> and a <code>subset</code> of the variables:\n",
    "    <code>\n",
    "for x in vars.keys() if not in subset:\n",
    "    vars[x].setAttr('LB',Xo[x])\n",
    "    vars[x].setAttr('UB',Xo[x])\n",
    "    </code>\n",
    "    </li>\n",
    "    <li>And then, optimize resulting problem</li>\n",
    "</ul>"
   ]
  },
  {
   "cell_type": "markdown",
   "metadata": {
    "slideshow": {
     "slide_type": "subslide"
    }
   },
   "source": [
    "# Divide and Conquer Strategies\n",
    "\n",
    "## AKA MIP in Local Search"
   ]
  },
  {
   "cell_type": "code",
   "execution_count": 12,
   "metadata": {
    "collapsed": false,
    "slideshow": {
     "slide_type": "fragment"
    }
   },
   "outputs": [
    {
     "name": "stdout",
     "output_type": "stream",
     "text": [
      "\n",
      "----------------------------------------------------------------------\n",
      "Found feasible solution, value 1060.8 0.07 seconds\n",
      "----------------------------------------------------------------------\n",
      "\n",
      "Improve solution 1059.87 0.30 seconds\n",
      "Improve solution 1059.85 1.07 seconds\n",
      "Improve solution 1055.87 1.26 seconds\n",
      "Improve solution 1049.54 1.44 seconds\n",
      "Improve solution 1049.07 2.09 seconds\n",
      "Improve solution 1046.09 2.29 seconds\n",
      "Improve solution 1039.89 2.62 seconds\n",
      "Improve solution 1032.54 2.93 seconds\n",
      "Improve solution 1024.73 3.20 seconds\n",
      "Improve solution 1015.4 3.40 seconds\n",
      "Improve solution 1010.85 3.60 seconds\n",
      "Improve solution 1004.52 3.80 seconds\n",
      "Improve solution 1004.21 9.45 seconds\n",
      "Improve solution 1001.22 9.63 seconds\n",
      "Improve solution 1000.83 11.81 seconds\n",
      "\n",
      "----------------------------------------------------------------------\n",
      "Final solution 1000.83 subproblems 100 optimal 100 timelimit 0 12.54 seconds\n",
      "----------------------------------------------------------------------\n",
      "\n",
      "No solution found\n",
      "Total running time: 12.80\n"
     ]
    }
   ],
   "source": [
    "run tsp2.py 100 -GI -S5 -D -O0"
   ]
  },
  {
   "cell_type": "code",
   "execution_count": 13,
   "metadata": {
    "collapsed": false,
    "slideshow": {
     "slide_type": "fragment"
    }
   },
   "outputs": [
    {
     "name": "stdout",
     "output_type": "stream",
     "text": [
      "----------------------------------------------------------------------\n",
      "Building grid blocks ... \n",
      "done (2475 added)\n",
      "Preprocessing removed 1556 blocks 17116 vars\n",
      "Remove 248 time-blocks\n",
      "Add variables and objective function ... \n",
      "done (added 9861 vars obj range [-0.574192,4.13126])\n",
      "Adding precedences ... \n",
      "done (added 46554 precedences)\n",
      "Adding knapsack capacities ... \n",
      "done (added 22 knapsack)\n",
      "Building solution ... \n",
      "\n",
      "Moving to time 1 obj 69.1699 capacity 83.19% 99.83% \n",
      "Moving to time 2 obj 114.762 capacity 83.10% 99.71% \n",
      "Moving to time 3 obj 145.983 capacity 82.73% 99.28% \n",
      "Moving to time 4 obj 169.799 capacity 83.05% 99.66% \n",
      "Moving to time 5 obj 183.388 capacity 83.19% 99.82% \n",
      "Moving to time 6 obj 197.575 capacity 82.80% 99.36% \n",
      "Moving to time 7 obj 199.41 capacity 99.53% 56.11% \n",
      "Moving to time 8 obj 204.316 capacity 99.40% 45.01% \n",
      "Moving to time 9 obj 202.204 capacity 99.26% 28.41% \n",
      "Moving to time 10 obj 195.485 capacity 99.84% 24.07% \n",
      "\n",
      "----------------------------------------------------------------------\n",
      "Greedy Heuristic done, value 195.252\n",
      "----------------------------------------------------------------------\n",
      "\n",
      "Parameter Method unchanged\n",
      "   Value: -1  Min: -1  Max: 4  Default: -1\n",
      "Changed value of parameter BestBdStop to -1e+30\n",
      "   Prev: 1e+100  Min: -1e+100  Max: 1e+100  Default: 1e+100\n",
      "Changed value of parameter NodeLimit to 100.0\n",
      "   Prev: 1e+100  Min: 0.0  Max: 1e+100  Default: 1e+100\n",
      "Changed value of parameter MIPGap to 0.005\n",
      "   Prev: 0.0001  Min: 0.0  Max: 1e+100  Default: 0.0001\n",
      "----------------------------------------------------------------------\n",
      "Start Local Search Heuristic:\n",
      "Improved solution value 197.285, Period 1, 3.08 seconds\n",
      "Improved solution value 198.304, Period 2, 3.73 seconds\n",
      "Improved solution value 199.861, Period 4, 4.58 seconds\n",
      "Improved solution value 201.474, Period 7, 5.73 seconds\n",
      "Improved solution value 211.288, Period 8, 6.04 seconds\n",
      "\n",
      "----------------------------------------------------------------------\n",
      "Local Search Heuristic ended with value 211.288\n",
      "----------------------------------------------------------------------\n",
      "\n",
      "Parameter timelimit unchanged\n",
      "   Value: 1e+100  Min: 0.0  Max: 1e+100  Default: 1e+100\n",
      "----------------------------------------------------------------------\n",
      "Model Stats:\n",
      "\n",
      "Statistics for model Unnamed :\n",
      "  Linear constraint matrix    : 46576 Constrs, 9861 Vars, 125016 NZs\n",
      "  Variable types              : 0 Continuous, 9861 Integer (9861 Binary)\n",
      "  Matrix coefficient range    : [ 0.900027, 1.09997 ]\n",
      "  Objective coefficient range : [ 4.04706e-05, 1.02118 ]\n",
      "  Variable bound range        : [ 1, 1 ]\n",
      "  RHS coefficient range       : [ 85.2273, 102.273 ]\n",
      "Problem not optimized\n",
      "Total Running time: 9.81\n"
     ]
    }
   ],
   "source": [
    "run mining.py -Z15 -PGIvv -O0"
   ]
  },
  {
   "cell_type": "markdown",
   "metadata": {
    "collapsed": true,
    "slideshow": {
     "slide_type": "subslide"
    }
   },
   "source": [
    "# Divide and Conquer Strategies"
   ]
  },
  {
   "cell_type": "markdown",
   "metadata": {
    "slideshow": {
     "slide_type": "fragment"
    }
   },
   "source": [
    "Note that in any local search heuristic, we have a controlling parameter, which handles the size of the <span class=\"blue bold\">neighborhood</span> where we will loop for better solutions."
   ]
  },
  {
   "cell_type": "markdown",
   "metadata": {
    "slideshow": {
     "slide_type": "fragment"
    }
   },
   "source": [
    "<ul>\n",
    "    <li>In the case of the TSP: The length of the sub-segment to optimize</li>\n",
    "    <li>Or the number of cities in a region to consider</li>\n",
    "    <li>In the case of Open Pit Mining: The number of consecutive time periods to re-optimize</li>\n",
    "</ul>"
   ]
  },
  {
   "cell_type": "markdown",
   "metadata": {
    "slideshow": {
     "slide_type": "fragment"
    }
   },
   "source": [
    "### The Trade Off\n",
    "<ul>\n",
    "    <li>The larger the neighborhood, the better the final solution</li>\n",
    "    <li>The smaller the neighborhood, the faster the optimization process</li>\n",
    "</ul>"
   ]
  },
  {
   "cell_type": "markdown",
   "metadata": {
    "slideshow": {
     "slide_type": "subslide"
    }
   },
   "source": [
    "# Divide and Conquer Strategies"
   ]
  },
  {
   "cell_type": "markdown",
   "metadata": {
    "slideshow": {
     "slide_type": "fragment"
    }
   },
   "source": [
    "### In the TSP:"
   ]
  },
  {
   "cell_type": "code",
   "execution_count": 14,
   "metadata": {
    "collapsed": false,
    "slideshow": {
     "slide_type": "fragment"
    }
   },
   "outputs": [
    {
     "name": "stdout",
     "output_type": "stream",
     "text": [
      "\n",
      "----------------------------------------------------------------------\n",
      "Found feasible solution, value 1060.8 0.05 seconds\n",
      "----------------------------------------------------------------------\n",
      "\n",
      "Improve solution 1059.87 0.22 seconds\n",
      "Improve solution 1059.85 0.87 seconds\n",
      "Improve solution 1055.87 1.04 seconds\n",
      "Improve solution 1049.54 1.20 seconds\n",
      "Improve solution 1049.07 1.79 seconds\n",
      "Improve solution 1046.09 1.96 seconds\n",
      "Improve solution 1039.89 2.27 seconds\n",
      "Improve solution 1032.54 2.59 seconds\n",
      "Improve solution 1024.73 2.92 seconds\n",
      "Improve solution 1015.4 3.17 seconds\n",
      "Improve solution 1010.85 3.40 seconds\n",
      "Improve solution 1004.52 3.59 seconds\n",
      "Improve solution 1004.21 9.32 seconds\n",
      "Improve solution 1001.22 9.53 seconds\n",
      "Improve solution 1000.83 11.90 seconds\n",
      "\n",
      "----------------------------------------------------------------------\n",
      "Final solution 1000.83 subproblems 100 optimal 100 timelimit 0 12.68 seconds\n",
      "----------------------------------------------------------------------\n",
      "\n",
      "No solution found\n",
      "Total running time: 12.88\n"
     ]
    }
   ],
   "source": [
    "run tsp2.py 100 -GI -S5 -O0"
   ]
  },
  {
   "cell_type": "code",
   "execution_count": 15,
   "metadata": {
    "collapsed": false,
    "slideshow": {
     "slide_type": "fragment"
    }
   },
   "outputs": [
    {
     "name": "stdout",
     "output_type": "stream",
     "text": [
      "\n",
      "----------------------------------------------------------------------\n",
      "Found feasible solution, value 1060.8 0.06 seconds\n",
      "----------------------------------------------------------------------\n",
      "\n",
      "Improve solution 1050.44 0.15 seconds\n",
      "Improve solution 1048.05 0.40 seconds\n",
      "Improve solution 1021.28 1.00 seconds\n",
      "Improve solution 1019.92 1.17 seconds\n",
      "Improve solution 1012.56 1.62 seconds\n",
      "Improve solution 1010.71 1.82 seconds\n",
      "Improve solution 1010.54 2.14 seconds\n",
      "Improve solution 995.614 2.32 seconds\n",
      "Improve solution 993.228 2.49 seconds\n",
      "Improve solution 984.927 2.71 seconds\n",
      "Improve solution 981.427 2.94 seconds\n",
      "Improve solution 961.286 3.27 seconds\n",
      "Improve solution 958.964 3.45 seconds\n",
      "Improve solution 927.89 3.64 seconds\n",
      "Improve solution 925.953 3.82 seconds\n",
      "Improve solution 924.205 4.02 seconds\n",
      "Improve solution 914.534 4.24 seconds\n",
      "Improve solution 911.236 6.40 seconds\n",
      "Improve solution 910.188 12.84 seconds\n",
      "Improve solution 903.894 13.46 seconds\n",
      "Improve solution 889.488 13.63 seconds\n",
      "\n",
      "----------------------------------------------------------------------\n",
      "Final solution 889.488 subproblems 100 optimal 100 timelimit 0 14.32 seconds\n",
      "----------------------------------------------------------------------\n",
      "\n",
      "No solution found\n",
      "Total running time: 14.55\n"
     ]
    }
   ],
   "source": [
    "run tsp2.py 100 -GI -S10 -O0"
   ]
  },
  {
   "cell_type": "markdown",
   "metadata": {
    "slideshow": {
     "slide_type": "subslide"
    }
   },
   "source": [
    "### Something similar in the Open Pit Problem"
   ]
  },
  {
   "cell_type": "code",
   "execution_count": 16,
   "metadata": {
    "collapsed": false,
    "slideshow": {
     "slide_type": "fragment"
    }
   },
   "outputs": [
    {
     "name": "stdout",
     "output_type": "stream",
     "text": [
      "----------------------------------------------------------------------\n",
      "Building grid blocks ... \n",
      "done (6000 added)\n",
      "Preprocessing removed 3621 blocks 54315 vars\n",
      "Remove 1008 time-blocks\n",
      "Add variables and objective function ... \n",
      "done (added 34677 vars obj range [-0.534185,4.17165])\n",
      "Adding precedences ... \n",
      "done (added 174408 precedences)\n",
      "Adding knapsack capacities ... \n",
      "done (added 30 knapsack)\n",
      "Building solution ... \n",
      "\n",
      "Moving to time 1 obj 137.805 capacity 83.31% 99.97% \n",
      "Moving to time 2 obj 231.252 capacity 83.16% 99.79% \n",
      "Moving to time 3 obj 306.817 capacity 83.31% 99.97% \n",
      "Moving to time 4 obj 365.266 capacity 82.93% 99.52% \n",
      "Moving to time 5 obj 413.569 capacity 82.99% 99.59% \n",
      "Moving to time 6 obj 440.345 capacity 82.94% 99.53% \n",
      "Moving to time 7 obj 470.045 capacity 83.14% 99.77% \n",
      "Moving to time 8 obj 487.355 capacity 83.08% 99.69% \n",
      "Moving to time 9 obj 498.644 capacity 82.90% 99.48% \n",
      "Moving to time 10 obj 506.472 capacity 85.26% 99.66% \n",
      "Moving to time 11 obj 512.113 capacity 99.74% 47.46% \n",
      "Moving to time 12 obj 516.817 capacity 99.69% 42.28% \n",
      "Moving to time 13 obj 516.204 capacity 99.98% 31.52% \n",
      "Moving to time 14 obj 513.123 capacity 99.59% 33.59% \n",
      "\n",
      "----------------------------------------------------------------------\n",
      "Greedy Heuristic done, value 507.76\n",
      "----------------------------------------------------------------------\n",
      "\n",
      "Parameter Method unchanged\n",
      "   Value: -1  Min: -1  Max: 4  Default: -1\n",
      "Changed value of parameter BestBdStop to -1e+30\n",
      "   Prev: 1e+100  Min: -1e+100  Max: 1e+100  Default: 1e+100\n",
      "Changed value of parameter NodeLimit to 100.0\n",
      "   Prev: 1e+100  Min: 0.0  Max: 1e+100  Default: 1e+100\n",
      "Changed value of parameter MIPGap to 0.005\n",
      "   Prev: 0.0001  Min: 0.0  Max: 1e+100  Default: 0.0001\n",
      "----------------------------------------------------------------------\n",
      "Start Local Search Heuristic:\n",
      "Improved solution value 511.051, Period 1, 11.18 seconds\n",
      "Improved solution value 515.409, Period 4, 13.99 seconds\n",
      "Improved solution value 518.161, Period 6, 15.72 seconds\n",
      "Improved solution value 521.37, Period 8, 17.53 seconds\n",
      "Improved solution value 532.614, Period 13, 23.12 seconds\n",
      "\n",
      "----------------------------------------------------------------------\n",
      "Local Search Heuristic ended with value 532.614\n",
      "----------------------------------------------------------------------\n",
      "\n",
      "Parameter timelimit unchanged\n",
      "   Value: 1e+100  Min: 0.0  Max: 1e+100  Default: 1e+100\n",
      "----------------------------------------------------------------------\n",
      "Model Stats:\n",
      "\n",
      "Statistics for model Unnamed :\n",
      "  Linear constraint matrix    : 174438 Constrs, 34677 Vars, 465627 NZs\n",
      "  Variable types              : 0 Continuous, 34677 Integer (34677 Binary)\n",
      "  Matrix coefficient range    : [ 0.900033, 1.09984 ]\n",
      "  Objective coefficient range : [ 2.15533e-06, 0.589574 ]\n",
      "  Variable bound range        : [ 1, 1 ]\n",
      "  RHS coefficient range       : [ 151.515, 181.818 ]\n",
      "Problem not optimized\n",
      "Total Running time: 36.45\n"
     ]
    }
   ],
   "source": [
    "run mining.py -PGIvv -O0 -S2 -Z20"
   ]
  },
  {
   "cell_type": "code",
   "execution_count": 17,
   "metadata": {
    "collapsed": false,
    "slideshow": {
     "slide_type": "fragment"
    }
   },
   "outputs": [
    {
     "name": "stdout",
     "output_type": "stream",
     "text": [
      "----------------------------------------------------------------------\n",
      "Building grid blocks ... \n",
      "done (6000 added)\n",
      "Preprocessing removed 3621 blocks 54315 vars\n",
      "Remove 1008 time-blocks\n",
      "Add variables and objective function ... \n",
      "done (added 34677 vars obj range [-0.534185,4.17165])\n",
      "Adding precedences ... \n",
      "done (added 174408 precedences)\n",
      "Adding knapsack capacities ... \n",
      "done (added 30 knapsack)\n",
      "Building solution ... \n",
      "\n",
      "Moving to time 1 obj 137.805 capacity 83.31% 99.97% \n",
      "Moving to time 2 obj 231.252 capacity 83.16% 99.79% \n",
      "Moving to time 3 obj 306.817 capacity 83.31% 99.97% \n",
      "Moving to time 4 obj 365.266 capacity 82.93% 99.52% \n",
      "Moving to time 5 obj 413.569 capacity 82.99% 99.59% \n",
      "Moving to time 6 obj 440.345 capacity 82.94% 99.53% \n",
      "Moving to time 7 obj 470.045 capacity 83.14% 99.77% \n",
      "Moving to time 8 obj 487.355 capacity 83.08% 99.69% \n",
      "Moving to time 9 obj 498.644 capacity 82.90% 99.48% \n",
      "Moving to time 10 obj 506.472 capacity 85.26% 99.66% \n",
      "Moving to time 11 obj 512.113 capacity 99.74% 47.46% \n",
      "Moving to time 12 obj 516.817 capacity 99.69% 42.28% \n",
      "Moving to time 13 obj 516.204 capacity 99.98% 31.52% \n",
      "Moving to time 14 obj 513.123 capacity 99.59% 33.59% \n",
      "\n",
      "----------------------------------------------------------------------\n",
      "Greedy Heuristic done, value 507.76\n",
      "----------------------------------------------------------------------\n",
      "\n",
      "Parameter Method unchanged\n",
      "   Value: -1  Min: -1  Max: 4  Default: -1\n",
      "Changed value of parameter BestBdStop to -1e+30\n",
      "   Prev: 1e+100  Min: -1e+100  Max: 1e+100  Default: 1e+100\n",
      "Changed value of parameter NodeLimit to 100.0\n",
      "   Prev: 1e+100  Min: 0.0  Max: 1e+100  Default: 1e+100\n",
      "Changed value of parameter MIPGap to 0.005\n",
      "   Prev: 0.0001  Min: 0.0  Max: 1e+100  Default: 0.0001\n",
      "----------------------------------------------------------------------\n",
      "Start Local Search Heuristic:\n",
      "Improved solution value 513.007, Period 1, 11.82 seconds\n",
      "Improved solution value 515.96, Period 2, 14.33 seconds\n",
      "Improved solution value 517.594, Period 4, 18.78 seconds\n",
      "Improved solution value 520.954, Period 6, 23.31 seconds\n",
      "Improved solution value 523.246, Period 8, 27.89 seconds\n",
      "Improved solution value 535.679, Period 11, 34.40 seconds\n",
      "\n",
      "----------------------------------------------------------------------\n",
      "Local Search Heuristic ended with value 535.679\n",
      "----------------------------------------------------------------------\n",
      "\n",
      "Parameter timelimit unchanged\n",
      "   Value: 1e+100  Min: 0.0  Max: 1e+100  Default: 1e+100\n",
      "----------------------------------------------------------------------\n",
      "Model Stats:\n",
      "\n",
      "Statistics for model Unnamed :\n",
      "  Linear constraint matrix    : 174438 Constrs, 34677 Vars, 465627 NZs\n",
      "  Variable types              : 0 Continuous, 34677 Integer (34677 Binary)\n",
      "  Matrix coefficient range    : [ 0.900033, 1.09984 ]\n",
      "  Objective coefficient range : [ 2.15533e-06, 0.589574 ]\n",
      "  Variable bound range        : [ 1, 1 ]\n",
      "  RHS coefficient range       : [ 151.515, 181.818 ]\n",
      "Problem not optimized\n",
      "Total Running time: 59.32\n"
     ]
    }
   ],
   "source": [
    "run mining.py -PGIvv -Z20 -S4 -O0"
   ]
  },
  {
   "cell_type": "markdown",
   "metadata": {
    "slideshow": {
     "slide_type": "slide"
    }
   },
   "source": [
    "# Using LP as a guide"
   ]
  },
  {
   "cell_type": "markdown",
   "metadata": {
    "slideshow": {
     "slide_type": "fragment"
    }
   },
   "source": [
    "Using LP to guide a MIP search:\n",
    "<ul>\n",
    "    <li>Complexity in solving MIP mainly comes from binary/integer variables</li>\n",
    "    <li>Before we tried <span class=\"blue bold\">fixing</span> part of the problem and optimizing the remainder</li>\n",
    "    <li>We can also <span class=\"blue bold\">relax</span> the integrality requirements for part of the problem</li>\n",
    "</ul>"
   ]
  },
  {
   "cell_type": "markdown",
   "metadata": {
    "slideshow": {
     "slide_type": "fragment"
    }
   },
   "source": [
    "<ul>\n",
    "    <li>The hope is that the continuous relaxation conveys some information when deciding integer variables</li>\n",
    "    <li>How to do it?\n",
    "<code>\n",
    "for x in vars.keys() if x in relaxset:\n",
    "    vars[x].setAttr('VType',GRB.CONTINUOUS)\n",
    "</code></li>\n",
    "</ul>"
   ]
  },
  {
   "cell_type": "markdown",
   "metadata": {
    "slideshow": {
     "slide_type": "fragment"
    }
   },
   "source": [
    "<ul>\n",
    "    <li>In the Open Pit Problem:<ul>\n",
    "        <li>We can relax integrality of variables with $T\\geq1$, and optimize</li>\n",
    "        <li>Fix solution for $T=0$, add integrality requirements for $T=1$, and optimize</li>\n",
    "        <li>... Repeat until $T_{max}$</li>\n",
    "        </ul></li>\n",
    "</ul>"
   ]
  },
  {
   "cell_type": "markdown",
   "metadata": {
    "slideshow": {
     "slide_type": "fragment"
    }
   },
   "source": [
    "<ul>\n",
    "    <li>We can use fractional solution to perform a <span class=\"blue bold\">guided</span> rounding</li>\n",
    "    <li>In this form, we can use the heuristic as a <span class=\"blue bold\">MIP-node callback</span></li>\n",
    "    <li>Gurobi will call your code in some nodes, and accept any user-provided solution</li>\n",
    "</ul>"
   ]
  },
  {
   "cell_type": "markdown",
   "metadata": {
    "slideshow": {
     "slide_type": "fragment"
    }
   },
   "source": [
    "<ul>\n",
    "     <li>The previous scheme is known as <span class=\"blue bold\">Rolling Horizon</span> heuristic</li>\n",
    "     <li>We can keep integrality requirements for $k_1$ periods, and fix only $k_2\\leq k_1$ periods</li>\n",
    "     <li>We can <span class=\"blue bold\">disregards</span> periods over $k_2$\n",
    "<code>\n",
    "for x in Vars.keys():\n",
    "    if time[x] > k_2:\n",
    "        Vars[x].lb = 0\n",
    "        Vars[x].ub = 0\n",
    "</code>\n",
    "     </li>\n",
    "     <li>It can bee seen as construction heuristic</li>\n",
    "     <li>It can also be used as a (expensive) callback heuristic</li>\n",
    "</ul>"
   ]
  },
  {
   "cell_type": "markdown",
   "metadata": {
    "slideshow": {
     "slide_type": "fragment"
    }
   },
   "source": [
    "<ul>\n",
    "    <li>When it helps?\n",
    "    <ul>\n",
    "        <li>When the LP relaxation bound is <span class=\"blue bold\">close</span> to the optimal integer solution</li>\n",
    "        <li>i.e. A tighter formulation will produce better results</li>\n",
    "        <li>The Open Pit Problem is one such example</li>\n",
    "        <li>TSP can be an example.... requires sub-tour as callback cut, not lazy cut</li>\n",
    "    </ul></li>\n",
    "</ul>"
   ]
  },
  {
   "cell_type": "markdown",
   "metadata": {
    "slideshow": {
     "slide_type": "subslide"
    }
   },
   "source": [
    "# Using LP as a guide\n",
    "\n",
    "### In the Open Pit problem:"
   ]
  },
  {
   "cell_type": "code",
   "execution_count": 18,
   "metadata": {
    "collapsed": false,
    "slideshow": {
     "slide_type": "fragment"
    }
   },
   "outputs": [
    {
     "name": "stdout",
     "output_type": "stream",
     "text": [
      "----------------------------------------------------------------------\n",
      "Building grid blocks ... \n",
      "done (6000 added)\n",
      "Preprocessing removed 3621 blocks 54315 vars\n",
      "Remove 1008 time-blocks\n",
      "Add variables and objective function ... \n",
      "done (added 34677 vars obj range [-0.534185,4.17165])\n",
      "Adding precedences ... \n",
      "done (added 174408 precedences)\n",
      "Adding knapsack capacities ... \n",
      "done (added 30 knapsack)\n",
      "Changed value of parameter presolve to 1\n",
      "   Prev: -1  Min: -1  Max: 2  Default: -1\n",
      "Changed value of parameter method to 2\n",
      "   Prev: -1  Min: -1  Max: 4  Default: -1\n",
      "Changed value of parameter mipgap to 0.01\n",
      "   Prev: 0.0001  Min: 0.0  Max: 1e+100  Default: 0.0001\n"
     ]
    },
    {
     "ename": "TypeError",
     "evalue": "range() integer start argument expected, got float.",
     "output_type": "error",
     "traceback": [
      "\u001b[0;31m---------------------------------------------------------------------------\u001b[0m",
      "\u001b[0;31mTypeError\u001b[0m                                 Traceback (most recent call last)",
      "\u001b[0;32m/Users/chen/PycharmProjects/ArsenalPython/gurobi/python-3-webinar-materials/mining.py\u001b[0m in \u001b[0;36m<module>\u001b[0;34m()\u001b[0m\n\u001b[1;32m    636\u001b[0m                  \u001b[0mUseImprove\u001b[0m\u001b[0;34m=\u001b[0m\u001b[0museimprove\u001b[0m\u001b[0;34m,\u001b[0m\u001b[0;34m\u001b[0m\u001b[0m\n\u001b[1;32m    637\u001b[0m                  \u001b[0mUseCallback\u001b[0m\u001b[0;34m=\u001b[0m\u001b[0musecallback\u001b[0m\u001b[0;34m,\u001b[0m\u001b[0;34m\u001b[0m\u001b[0m\n\u001b[0;32m--> 638\u001b[0;31m                  display=verbose+1)\n\u001b[0m\u001b[1;32m    639\u001b[0m \u001b[0;32mif\u001b[0m \u001b[0moptimize\u001b[0m\u001b[0;34m:\u001b[0m\u001b[0;34m\u001b[0m\u001b[0m\n\u001b[1;32m    640\u001b[0m   \u001b[0mmodel\u001b[0m\u001b[0;34m.\u001b[0m\u001b[0mparams\u001b[0m\u001b[0;34m.\u001b[0m\u001b[0moutputflag\u001b[0m\u001b[0;34m=\u001b[0m\u001b[0;36m0\u001b[0m\u001b[0;34m\u001b[0m\u001b[0m\n",
      "\u001b[0;32m/Users/chen/PycharmProjects/ArsenalPython/gurobi/python-3-webinar-materials/mining.py\u001b[0m in \u001b[0;36mFormulateOpenPit\u001b[0;34m(model, UsePreprocess, UseGreedy, UseImprove, UseCallback, UseRolling, Xmax, Ymax, Zmax, Tmax, La, Lb, Lc, DiscountRate, deltaT, display)\u001b[0m\n\u001b[1;32m    501\u001b[0m   \u001b[0;31m# Call rolling horizon\u001b[0m\u001b[0;34m\u001b[0m\u001b[0;34m\u001b[0m\u001b[0m\n\u001b[1;32m    502\u001b[0m   \u001b[0;32mif\u001b[0m \u001b[0mUseRolling\u001b[0m\u001b[0;34m:\u001b[0m\u001b[0;34m\u001b[0m\u001b[0m\n\u001b[0;32m--> 503\u001b[0;31m     \u001b[0mrolling_heur\u001b[0m\u001b[0;34m(\u001b[0m\u001b[0mmodel\u001b[0m\u001b[0;34m,\u001b[0m \u001b[0mdisplay\u001b[0m\u001b[0;34m-\u001b[0m\u001b[0;36m1\u001b[0m\u001b[0;34m,\u001b[0m \u001b[0mdeltaT\u001b[0m\u001b[0;34m=\u001b[0m\u001b[0mdeltaT\u001b[0m\u001b[0;34m)\u001b[0m\u001b[0;34m\u001b[0m\u001b[0m\n\u001b[0m\u001b[1;32m    504\u001b[0m \u001b[0;34m\u001b[0m\u001b[0m\n\u001b[1;32m    505\u001b[0m   \u001b[0;31m# enable/disable callback use\u001b[0m\u001b[0;34m\u001b[0m\u001b[0;34m\u001b[0m\u001b[0m\n",
      "\u001b[0;32m/Users/chen/PycharmProjects/ArsenalPython/gurobi/python-3-webinar-materials/mining.py\u001b[0m in \u001b[0;36mrolling_heur\u001b[0;34m(model, display, deltaT)\u001b[0m\n\u001b[1;32m    243\u001b[0m                               for t in range(max(curt + deltaT,model._Tlo[x]),\n\u001b[1;32m    244\u001b[0m                                              model._Tmax-1)),\n\u001b[0;32m--> 245\u001b[0;31m                             name='shrink')\n\u001b[0m\u001b[1;32m    246\u001b[0m     \u001b[0;31m# solve model\u001b[0m\u001b[0;34m\u001b[0m\u001b[0;34m\u001b[0m\u001b[0m\n\u001b[1;32m    247\u001b[0m     \u001b[0mmodel\u001b[0m\u001b[0;34m.\u001b[0m\u001b[0moptimize\u001b[0m\u001b[0;34m(\u001b[0m\u001b[0;34m)\u001b[0m\u001b[0;34m\u001b[0m\u001b[0m\n",
      "\u001b[0;32mmodel.pxi\u001b[0m in \u001b[0;36mgurobipy.Model.addConstrs (../../src/python/gurobipy.c:78451)\u001b[0;34m()\u001b[0m\n",
      "\u001b[0;32m/Users/chen/PycharmProjects/ArsenalPython/gurobi/python-3-webinar-materials/mining.py\u001b[0m in \u001b[0;36m<genexpr>\u001b[0;34m((x,))\u001b[0m\n\u001b[1;32m    242\u001b[0m                               \u001b[0;32mfor\u001b[0m \u001b[0mx\u001b[0m \u001b[0;32min\u001b[0m \u001b[0mmodel\u001b[0m\u001b[0;34m.\u001b[0m\u001b[0m_Blocks\u001b[0m\u001b[0;34m\u001b[0m\u001b[0m\n\u001b[1;32m    243\u001b[0m                               for t in range(max(curt + deltaT,model._Tlo[x]),\n\u001b[0;32m--> 244\u001b[0;31m                                              model._Tmax-1)),\n\u001b[0m\u001b[1;32m    245\u001b[0m                             name='shrink')\n\u001b[1;32m    246\u001b[0m     \u001b[0;31m# solve model\u001b[0m\u001b[0;34m\u001b[0m\u001b[0;34m\u001b[0m\u001b[0m\n",
      "\u001b[0;31mTypeError\u001b[0m: range() integer start argument expected, got float."
     ]
    }
   ],
   "source": [
    "run mining.py -PRvv -O0 -Z20 -S1"
   ]
  },
  {
   "cell_type": "markdown",
   "metadata": {
    "slideshow": {
     "slide_type": "subslide"
    }
   },
   "source": [
    "# More on the scripts:\n",
    "\n",
    "### Will be available for download soon"
   ]
  },
  {
   "cell_type": "code",
   "execution_count": 19,
   "metadata": {
    "collapsed": false,
    "slideshow": {
     "slide_type": "fragment"
    }
   },
   "outputs": [
    {
     "name": "stdout",
     "output_type": "stream",
     "text": [
      "usage: tsp2.py [-h] [-G] [-I] [-D] [-v] [-S SUBMIPSIZE] [-O OPTIMIZE]\n",
      "               [-T TIMELIMIT]\n",
      "               cities\n",
      "\n",
      "positional arguments:\n",
      "  cities                Number of cities in TSP\n",
      "\n",
      "optional arguments:\n",
      "  -h, --help            show this help message and exit\n",
      "  -G, --greedy          Enable initial greedy heuristic (default: 0)\n",
      "  -I, --improve         Improve initial greedy heuristic with sub-mips\n",
      "                        (default: 0)\n",
      "  -D, --drawsolution    Draw final mip solution (default: 0)\n",
      "  -v, --verbose         verbose output (default: 0)\n",
      "  -S SUBMIPSIZE, --submipsize SUBMIPSIZE\n",
      "                        Number of cities to consider in sub-mip (default: 10)\n",
      "  -O OPTIMIZE, --optimize OPTIMIZE\n",
      "                        Perform full problem optimization (default: 1)\n",
      "  -T TIMELIMIT, --timelimit TIMELIMIT\n",
      "                        Time limit for optimization (default: 1e+100)\n"
     ]
    }
   ],
   "source": [
    "run tsp2.py -h"
   ]
  },
  {
   "cell_type": "code",
   "execution_count": 20,
   "metadata": {
    "collapsed": false,
    "slideshow": {
     "slide_type": "fragment"
    }
   },
   "outputs": [
    {
     "name": "stdout",
     "output_type": "stream",
     "text": [
      "usage: mining.py [-h] [-C] [-G] [-I] [-O OPTIMIZE] [-P] [-R] [-S SUBMIPSIZE]\n",
      "                 [-T TIMELIMIT] [-v] [-Z MINESIZE]\n",
      "\n",
      "optional arguments:\n",
      "  -h, --help            show this help message and exit\n",
      "  -C, --callback        Use Heuristic as Callbacks (default: 0)\n",
      "  -G, --greedy          Enable initial greedy heuristic (default: 0)\n",
      "  -I, --improve         Improve initial greedy heuristic with sub-mips\n",
      "                        (default: 0)\n",
      "  -O OPTIMIZE, --optimize OPTIMIZE\n",
      "                        Perform full problem optimization (default: 1)\n",
      "  -P, --preprocess      Preprocess variables (default: 0)\n",
      "  -R, --rollinghorizon  Enable initial rolling horizon heuristic (default: 0)\n",
      "  -S SUBMIPSIZE, --submipsize SUBMIPSIZE\n",
      "                        Periods in Time-Window heuristic (default: 3)\n",
      "  -T TIMELIMIT, --timelimit TIMELIMIT\n",
      "                        Time limit for optimization (default: 1e+100)\n",
      "  -v, --verbose         verbose output (default: 0)\n",
      "  -Z MINESIZE, --minesize MINESIZE\n",
      "                        Periods in Time-Window heuristic (default: 10)\n"
     ]
    }
   ],
   "source": [
    "run mining.py -h"
   ]
  },
  {
   "cell_type": "markdown",
   "metadata": {
    "slideshow": {
     "slide_type": "slide"
    }
   },
   "source": [
    "# Questions?\n",
    "\n",
    "#### Please submit your questions using the questions area on the right of your screen"
   ]
  },
  {
   "cell_type": "markdown",
   "metadata": {
    "slideshow": {
     "slide_type": "subslide"
    }
   },
   "source": [
    "# Thank you for joining us\n",
    "\n",
    "<ul>\n",
    "<li>If you haven’t already done so, please register at http://www.gurobi.com, and then visit http://www.gurobi.com/get-anaconda to try Gurobi and Python for yourself.</li>\n",
    "\n",
    "<li>Look for information on our next Python webinar, Machine Learning and Optimization.</li>\n",
    "\n",
    "<li>For questions about pricing, please contact <span class=\"blue bold\">sales@gurobi.com</span> or <span class=\"blue bold\">sales@gurobi.de</span>.</li>\n",
    "\n",
    "<li>A recording of the webinar, including the slides, will be available in roughly one week.</li>\n",
    "</ul>"
   ]
  }
 ],
 "metadata": {
  "celltoolbar": "Slideshow",
  "kernelspec": {
   "display_name": "Python 2",
   "language": "python",
   "name": "python2"
  },
  "language_info": {
   "codemirror_mode": {
    "name": "ipython",
    "version": 2
   },
   "file_extension": ".py",
   "mimetype": "text/x-python",
   "name": "python",
   "nbconvert_exporter": "python",
   "pygments_lexer": "ipython2",
   "version": "2.7.13"
  }
 },
 "nbformat": 4,
 "nbformat_minor": 2
}
