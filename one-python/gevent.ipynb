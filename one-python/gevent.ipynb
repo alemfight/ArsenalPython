{
 "cells": [
  {
   "cell_type": "markdown",
   "metadata": {},
   "source": [
    "# gevent\n",
    "\n",
    "Source: http://www.gevent.org/contents.html\n",
    "\n",
    "## Examples"
   ]
  },
  {
   "cell_type": "code",
   "execution_count": 1,
   "metadata": {
    "collapsed": false
   },
   "outputs": [
    {
     "data": {
      "text/plain": [
       "['93.46.8.89', '93.184.216.34', '151.101.88.223']"
      ]
     },
     "execution_count": 1,
     "metadata": {},
     "output_type": "execute_result"
    }
   ],
   "source": [
    "import gevent\n",
    "from gevent import socket\n",
    "urls = ['www.google.com', 'www.example.com', 'www.python.org']\n",
    "# 使用 gevent.socket 获取域名解析信息\n",
    "jobs = [gevent.spawn(socket.gethostbyname, url) for url in urls]\n",
    "gevent.joinall(jobs, timeout=2)\n",
    "[job.value for job in jobs]"
   ]
  },
  {
   "cell_type": "markdown",
   "metadata": {},
   "source": [
    "## Monkey patching\n",
    "\n",
    "加速原有的 urllib2 模块"
   ]
  },
  {
   "cell_type": "code",
   "execution_count": 2,
   "metadata": {
    "collapsed": true
   },
   "outputs": [],
   "source": [
    "from gevent import monkey; monkey.patch_socket()\n",
    "import urllib2 # it's usable from multiple greenlets now"
   ]
  },
  {
   "cell_type": "markdown",
   "metadata": {},
   "source": [
    "## Beyond sockets\n",
    "\n",
    "此功能未执行成功"
   ]
  },
  {
   "cell_type": "code",
   "execution_count": null,
   "metadata": {
    "collapsed": false
   },
   "outputs": [],
   "source": [
    "# from gevent import monkey; monkey.patch_all()\n",
    "# import subprocess # it's usable from multiple greenlets now"
   ]
  },
  {
   "cell_type": "markdown",
   "metadata": {
    "collapsed": true
   },
   "source": [
    "## Timeout && Pool\n",
    "\n",
    "解析多站点的例子; 组合 TimeOut(2秒钟) 和 Pool (10) 的例子. \n",
    "\n",
    "(see example: dns_mass_resolve.py)."
   ]
  },
  {
   "cell_type": "code",
   "execution_count": null,
   "metadata": {
    "collapsed": false
   },
   "outputs": [],
   "source": [
    "from __future__ import print_function\n",
    "import gevent\n",
    "from gevent import socket\n",
    "from gevent.pool import Pool\n",
    "\n",
    "# 解析 N 个站点\n",
    "N = 1000\n",
    "\n",
    "# 限制请求数 limit ourselves to max 10 simultaneous outstanding requests\n",
    "pool = Pool(10)\n",
    "finished = 0\n",
    "\n",
    "\n",
    "def job(url):\n",
    "    global finished\n",
    "    try:\n",
    "        try:\n",
    "            ip = socket.gethostbyname(url)\n",
    "            print('%s = %s' % (url, ip))\n",
    "        except socket.gaierror as ex:\n",
    "            print('%s failed with %s' % (url, ex))\n",
    "    finally:\n",
    "        finished += 1\n",
    "\n",
    "# 看2秒钟内可以完成多少任务\n",
    "with gevent.Timeout(2, False):\n",
    "    for x in range(10, 10 + N):\n",
    "        pool.spawn(job, '%s.com' % x)\n",
    "    pool.join()\n",
    "    \n",
    "print('finished within 2 seconds: %s/%s' % (finished, N))"
   ]
  }
 ],
 "metadata": {
  "kernelspec": {
   "display_name": "Python 2",
   "language": "python",
   "name": "python2"
  },
  "language_info": {
   "codemirror_mode": {
    "name": "ipython",
    "version": 2
   },
   "file_extension": ".py",
   "mimetype": "text/x-python",
   "name": "python",
   "nbconvert_exporter": "python",
   "pygments_lexer": "ipython2",
   "version": "2.7.13"
  }
 },
 "nbformat": 4,
 "nbformat_minor": 2
}
