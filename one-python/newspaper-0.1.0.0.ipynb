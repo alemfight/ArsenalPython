{
 "cells": [
  {
   "cell_type": "markdown",
   "metadata": {},
   "source": [
    "## newspaper 库使用\n",
    "\n",
    "newspaper (0.1.0.0)\n",
    "\n",
    "python2 上安装失败. \n",
    "\n",
    "应该要升级到 python3 才能使用.\n",
    "\n",
    "### 安装 \n",
    "\n",
    "Source: https://github.com/codelucas/newspaper\n",
    "```\n",
    "pip install newspapaer\n",
    "\n",
    "### 注意 newspaper 依赖的一些类版本较低, 会卸载较高版本的一些类\n",
    "Installing collected packages: beautifulsoup4, Pillow, PyYAML, cssselect, lxml, nltk, requests, six, jieba, feedparser, tldextract, feedfinder2, python-dateutil, newspaper\n",
    "  Found existing installation: beautifulsoup4 4.5.3\n",
    "    Uninstalling beautifulsoup4-4.5.3:\n",
    "      Successfully uninstalled beautifulsoup4-4.5.3 (4.3.2)\n",
    "  Found existing installation: Pillow 4.0.0\n",
    "    Uninstalling Pillow-4.0.0:\n",
    "      Successfully uninstalled Pillow-4.0.0 (2.5.1)\n",
    "  Found existing installation: PyYAML 3.12\n",
    "    Uninstalling PyYAML-3.12:\n",
    "      Successfully uninstalled PyYAML-3.12 (3.11)\n",
    "  Found existing installation: lxml 3.7.2\n",
    "    Uninstalling lxml-3.7.2:\n",
    "      Successfully uninstalled lxml-3.7.2 (3.3.5)\n",
    "  Found existing installation: nltk 3.2.2\n",
    "    Uninstalling nltk-3.2.2:\n",
    "      Successfully uninstalled nltk-3.2.2 (2.0.5)\n",
    "  Found existing installation: requests 2.12.4\n",
    "    Uninstalling requests-2.12.4:\n",
    "      Successfully uninstalled requests-2.12.4 (2.6.0)\n",
    "  Found existing installation: six 1.10.0\n",
    "    Uninstalling six-1.10.0:\n",
    "      Successfully uninstalled six-1.10.0 (1.7.3)\n",
    "  Found existing installation: jieba 0.38\n",
    "    Uninstalling jieba-0.38:\n",
    "      Successfully uninstalled jieba-0.38 (0.35) \n",
    "  Found existing installation: python-dateutil 2.6.0\n",
    "    Uninstalling python-dateutil-2.6.0:\n",
    "      Successfully uninstalled python-dateutil-2.6.0 (2.4.0)\n",
    "Successfully installed Pillow-2.5.1 PyYAML-3.11 beautifulsoup4-4.3.2 cssselect-0.9.1 feedfinder2-0.0.1 feedparser-5.1.3 jieba-0.35 lxml-3.3.5 newspaper-0.1.0.0 nltk-2.0.5 python-dateutil-2.4.0 requests-2.6.0 six-1.7.3 tldextract-1.5.1\n",
    "\n",
    "# 不完全的卸载\n",
    " DEPRECATION: Uninstalling a distutils installed project (PyYAML) has been deprecated and will be removed in a future version. This is due to the fact that uninstalling a distutils project will only partially uninstall the project.\n",
    "    DEPRECATION: Uninstalling a distutils installed project (lxml) has been deprecated and will be removed in a future version. This is due to the fact that uninstalling a distutils project will only partially uninstall the project.\n",
    "    DEPRECATION: Uninstalling a distutils installed project (six) has been deprecated and will be removed in a future version. This is due to the fact that uninstalling a distutils project will only partially uninstall the project.\n",
    "```"
   ]
  },
  {
   "cell_type": "code",
   "execution_count": 1,
   "metadata": {
    "collapsed": false
   },
   "outputs": [
    {
     "ename": "IOError",
     "evalue": "[Errno 2] No such file or directory: '/Users/chen/.pyenv/versions/anaconda2-4.3.1/lib/python2.7/site-packages/newspaper/resources/misc/stopwords-nlp-en.txt'",
     "output_type": "error",
     "traceback": [
      "\u001b[0;31m---------------------------------------------------------------------------\u001b[0m",
      "\u001b[0;31mIOError\u001b[0m                                   Traceback (most recent call last)",
      "\u001b[0;32m<ipython-input-1-ad226aa63ddc>\u001b[0m in \u001b[0;36m<module>\u001b[0;34m()\u001b[0m\n\u001b[0;32m----> 1\u001b[0;31m \u001b[0;32mimport\u001b[0m \u001b[0mnewspaper\u001b[0m\u001b[0;34m\u001b[0m\u001b[0m\n\u001b[0m\u001b[1;32m      2\u001b[0m \u001b[0msina_paper\u001b[0m \u001b[0;34m=\u001b[0m \u001b[0mnewspaper\u001b[0m\u001b[0;34m.\u001b[0m\u001b[0mbuild\u001b[0m\u001b[0;34m(\u001b[0m\u001b[0;34m'http://www.sina.com.cn/'\u001b[0m\u001b[0;34m,\u001b[0m \u001b[0mlanguage\u001b[0m\u001b[0;34m=\u001b[0m\u001b[0;34m'zh'\u001b[0m\u001b[0;34m)\u001b[0m\u001b[0;34m\u001b[0m\u001b[0m\n",
      "\u001b[0;32m/Users/chen/.pyenv/versions/anaconda2-4.3.1/lib/python2.7/site-packages/newspaper/__init__.py\u001b[0m in \u001b[0;36m<module>\u001b[0;34m()\u001b[0m\n\u001b[1;32m      8\u001b[0m \u001b[0m__copyright__\u001b[0m \u001b[0;34m=\u001b[0m \u001b[0;34m'Copyright 2014, Lucas Ou-Yang'\u001b[0m\u001b[0;34m\u001b[0m\u001b[0m\n\u001b[1;32m      9\u001b[0m \u001b[0;34m\u001b[0m\u001b[0m\n\u001b[0;32m---> 10\u001b[0;31m \u001b[0;32mfrom\u001b[0m \u001b[0;34m.\u001b[0m\u001b[0marticle\u001b[0m \u001b[0;32mimport\u001b[0m \u001b[0mArticle\u001b[0m\u001b[0;34m,\u001b[0m \u001b[0mArticleException\u001b[0m\u001b[0;34m\u001b[0m\u001b[0m\n\u001b[0m\u001b[1;32m     11\u001b[0m from .api import (build, build_article, fulltext, hot, languages,\n\u001b[1;32m     12\u001b[0m                   popular_urls, NewsPool, Configuration as Config)\n",
      "\u001b[0;32m/Users/chen/.pyenv/versions/anaconda2-4.3.1/lib/python2.7/site-packages/newspaper/article.py\u001b[0m in \u001b[0;36m<module>\u001b[0;34m()\u001b[0m\n\u001b[1;32m     12\u001b[0m \u001b[0;32mfrom\u001b[0m \u001b[0;34m.\u001b[0m \u001b[0;32mimport\u001b[0m \u001b[0mimages\u001b[0m\u001b[0;34m\u001b[0m\u001b[0m\n\u001b[1;32m     13\u001b[0m \u001b[0;32mfrom\u001b[0m \u001b[0;34m.\u001b[0m \u001b[0;32mimport\u001b[0m \u001b[0mnetwork\u001b[0m\u001b[0;34m\u001b[0m\u001b[0m\n\u001b[0;32m---> 14\u001b[0;31m \u001b[0;32mfrom\u001b[0m \u001b[0;34m.\u001b[0m \u001b[0;32mimport\u001b[0m \u001b[0mnlp\u001b[0m\u001b[0;34m\u001b[0m\u001b[0m\n\u001b[0m\u001b[1;32m     15\u001b[0m \u001b[0;32mfrom\u001b[0m \u001b[0;34m.\u001b[0m \u001b[0;32mimport\u001b[0m \u001b[0msettings\u001b[0m\u001b[0;34m\u001b[0m\u001b[0m\n\u001b[1;32m     16\u001b[0m \u001b[0;32mfrom\u001b[0m \u001b[0;34m.\u001b[0m \u001b[0;32mimport\u001b[0m \u001b[0murls\u001b[0m\u001b[0;34m\u001b[0m\u001b[0m\n",
      "\u001b[0;32m/Users/chen/.pyenv/versions/anaconda2-4.3.1/lib/python2.7/site-packages/newspaper/nlp.py\u001b[0m in \u001b[0;36m<module>\u001b[0;34m()\u001b[0m\n\u001b[1;32m     15\u001b[0m \u001b[0;32mfrom\u001b[0m \u001b[0;34m.\u001b[0m \u001b[0;32mimport\u001b[0m \u001b[0msettings\u001b[0m\u001b[0;34m\u001b[0m\u001b[0m\n\u001b[1;32m     16\u001b[0m \u001b[0;34m\u001b[0m\u001b[0m\n\u001b[0;32m---> 17\u001b[0;31m \u001b[0;32mwith\u001b[0m \u001b[0mopen\u001b[0m\u001b[0;34m(\u001b[0m\u001b[0msettings\u001b[0m\u001b[0;34m.\u001b[0m\u001b[0mNLP_STOPWORDS_EN\u001b[0m\u001b[0;34m,\u001b[0m \u001b[0;34m'r'\u001b[0m\u001b[0;34m)\u001b[0m \u001b[0;32mas\u001b[0m \u001b[0mf\u001b[0m\u001b[0;34m:\u001b[0m\u001b[0;34m\u001b[0m\u001b[0m\n\u001b[0m\u001b[1;32m     18\u001b[0m     \u001b[0mstopwords\u001b[0m \u001b[0;34m=\u001b[0m \u001b[0mset\u001b[0m\u001b[0;34m(\u001b[0m\u001b[0;34m[\u001b[0m\u001b[0mw\u001b[0m\u001b[0;34m.\u001b[0m\u001b[0mstrip\u001b[0m\u001b[0;34m(\u001b[0m\u001b[0;34m)\u001b[0m \u001b[0;32mfor\u001b[0m \u001b[0mw\u001b[0m \u001b[0;32min\u001b[0m \u001b[0mf\u001b[0m\u001b[0;34m.\u001b[0m\u001b[0mreadlines\u001b[0m\u001b[0;34m(\u001b[0m\u001b[0;34m)\u001b[0m\u001b[0;34m]\u001b[0m\u001b[0;34m)\u001b[0m\u001b[0;34m\u001b[0m\u001b[0m\n\u001b[1;32m     19\u001b[0m \u001b[0;34m\u001b[0m\u001b[0m\n",
      "\u001b[0;31mIOError\u001b[0m: [Errno 2] No such file or directory: '/Users/chen/.pyenv/versions/anaconda2-4.3.1/lib/python2.7/site-packages/newspaper/resources/misc/stopwords-nlp-en.txt'"
     ]
    }
   ],
   "source": [
    "import newspaper\n",
    "sina_paper = newspaper.build('http://www.sina.com.cn/', language='zh')"
   ]
  }
 ],
 "metadata": {
  "kernelspec": {
   "display_name": "Python 2",
   "language": "python",
   "name": "python2"
  },
  "language_info": {
   "codemirror_mode": {
    "name": "ipython",
    "version": 2
   },
   "file_extension": ".py",
   "mimetype": "text/x-python",
   "name": "python",
   "nbconvert_exporter": "python",
   "pygments_lexer": "ipython2",
   "version": "2.7.13"
  }
 },
 "nbformat": 4,
 "nbformat_minor": 2
}
