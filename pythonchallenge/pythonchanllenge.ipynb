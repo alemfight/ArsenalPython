{
 "metadata": {
  "name": "",
  "signature": "sha256:de4e6727baa2688163e8e9cfd65255240bd93e51cb74b6ab00400aee5288de97"
 },
 "nbformat": 3,
 "nbformat_minor": 0,
 "worksheets": [
  {
   "cells": [
    {
     "cell_type": "markdown",
     "metadata": {},
     "source": [
      "Python Chanllenge\n",
      "-----------------\n",
      "\n",
      "http://www.pythonchallenge.com/\n",
      "\n",
      "\u7528Python\u5b8c\u6210\u4e00\u7cfb\u5217\u6311\u6218\uff0c \u603b\u8ba1\u6709 33 \u5173\u3002\n",
      "\n",
      "\u53c2\u8003\uff1ahttp://garethrees.org/2007/05/07/python-challenge/\n",
      "\n",
      "\u7b2c00\u5173\n",
      "============"
     ]
    },
    {
     "cell_type": "code",
     "collapsed": false,
     "input": [
      "pow(2,38)"
     ],
     "language": "python",
     "metadata": {},
     "outputs": [
      {
       "metadata": {},
       "output_type": "pyout",
       "prompt_number": 2,
       "text": [
        "274877906944"
       ]
      }
     ],
     "prompt_number": 2
    },
    {
     "cell_type": "markdown",
     "metadata": {},
     "source": [
      "\u7b2c01\u5173: <font color=red>274877906944</font>\n",
      "=========\n",
      "simple text"
     ]
    },
    {
     "cell_type": "markdown",
     "metadata": {},
     "source": [
      "\u7b2c04\u5173: <font color=red>linkedlist</font>\n",
      "=========\n",
      "\u6311\u6218\uff1a <\u5faa\u73af\u6293\u53d6\u9875\u9762\uff0c\u83b7\u5f97\u6700\u540e\u4e00\u4e2a\u9875\u9762\u9690\u85cf\u7684\u4fe1\u606f\u3002>\n",
      "\n",
      "\u96be\u70b9\uff1a  !!\n",
      "\n",
      "\u6280\u80fd\u70b9\uff1a *\u4f7f\u7528 requests \u83b7\u53d6\u6570\u636e (\u636e\u8bf4\u6ca1\u6709urllib\u597d)*"
     ]
    },
    {
     "cell_type": "code",
     "collapsed": false,
     "input": [
      "\"\"\"\n",
      "\u5faa\u73af\u6293\u53d6\uff0c\u76f4\u5230\u6700\u540e\u4e00\u4e2a\u9875\u9762\n",
      "\"\"\"\n",
      "urlprefix = \"http://www.pythonchallenge.com/pc/def/linkedlist.php?nothing=\"\n",
      "url = urlprefix+\"12345\"\n",
      "response = requests.get(url)\n",
      "while response.status_code == 200:\n",
      "    content = response.text\n",
      "    print \"content: \", content\n",
      "    if (len(content.split(\" \"))>=6):\n",
      "        newid = content.split(\" \")[-1] #\u53d6\u51fa\u540e\u7f00id\n",
      "        print \"newid\", newid\n",
      "        url = urlprefix + newid\n",
      "        print \"get url: \", url\n",
      "        response = requests.get(url) #\u6293\u53d6\u65b0id\u9875\u9762\n",
      "    else:  #\u5982\u679c\u7f3a\u5c11id\uff0c \u505c\u6b62\n",
      "        break"
     ],
     "language": "python",
     "metadata": {},
     "outputs": []
    },
    {
     "cell_type": "markdown",
     "metadata": {},
     "source": [
      "\u7b2c05\u5173: <font color=red>peak</font>\n",
      "=========\n",
      "\u6311\u6218\uff1a <\u4f7f\u7528pickle\u6062\u590d\u9690\u85cf\u7684banner\u4fe1\u606f\u3002>\n",
      "\n",
      "\u96be\u70b9\uff1a  !\u6e90\u4ee3\u7801\u4e2d\u7684 pickle hell, \u4e0d\u5bb9\u6613\u60f3\u5230 pickle\u3002 \u8981\u6709\u70b9\u7ec8\u7aef\u610f\u8bc6\uff0c\u624d\u80fd\u60f3\u5230\u5b57\u7b26banner\u7684\u7279\u70b9\uff08\u5b9a\u957f\uff09!\n",
      "\n",
      "\u6280\u80fd\u70b9\uff1a *\u4f7f\u7528 urllib.urlopen \u83b7\u53d6\u6570\u636e\uff0cpickle \u6062\u590d*"
     ]
    },
    {
     "cell_type": "code",
     "collapsed": false,
     "input": [
      "import pickle, urllib\n",
      "URLPATH = \"http://www.pythonchallenge.com/pc/def/\"\n",
      "\n",
      "url = URLPATH + \"banner.p\"\n",
      "content = urllib.urlopen(url).read()\n",
      "data = pickle.loads(content)"
     ],
     "language": "python",
     "metadata": {},
     "outputs": [],
     "prompt_number": 12
    },
    {
     "cell_type": "code",
     "collapsed": false,
     "input": [
      "for array in data:\n",
      "    #print len(array), array\n",
      "    line=\"\"\n",
      "    count=0\n",
      "    for c in array:\n",
      "        line+=c[0]*c[1]\n",
      "        count+=c[1]\n",
      "    print line, count"
     ],
     "language": "python",
     "metadata": {},
     "outputs": [
      {
       "output_type": "stream",
       "stream": "stdout",
       "text": [
        "                                                                                                95\n",
        "              #####                                                                      #####  95\n",
        "               ####                                                                       ####  95\n",
        "               ####                                                                       ####  95\n",
        "               ####                                                                       ####  95\n",
        "               ####                                                                       ####  95\n",
        "               ####                                                                       ####  95\n",
        "               ####                                                                       ####  95\n",
        "               ####                                                                       ####  95\n",
        "      ###      ####   ###         ###       #####   ###    #####   ###          ###       ####  95\n",
        "   ###   ##    #### #######     ##  ###      #### #######   #### #######     ###  ###     ####  95\n",
        "  ###     ###  #####    ####   ###   ####    #####    ####  #####    ####   ###     ###   ####  95\n",
        " ###           ####     ####   ###    ###    ####     ####  ####     ####  ###      ####  ####  95\n",
        " ###           ####     ####          ###    ####     ####  ####     ####  ###       ###  ####  95\n",
        "####           ####     ####     ##   ###    ####     ####  ####     #### ####       ###  ####  95\n",
        "####           ####     ####   ##########    ####     ####  ####     #### ##############  ####  95\n",
        "####           ####     ####  ###    ####    ####     ####  ####     #### ####            ####  95\n",
        "####           ####     #### ####     ###    ####     ####  ####     #### ####            ####  95\n",
        " ###           ####     #### ####     ###    ####     ####  ####     ####  ###            ####  95\n",
        "  ###      ##  ####     ####  ###    ####    ####     ####  ####     ####   ###      ##   ####  95\n",
        "   ###    ##   ####     ####   ###########   ####     ####  ####     ####    ###    ##    ####  95\n",
        "      ###     ######    #####    ##    #### ######    ###########    #####      ###      ###### 95\n",
        "                                                                                                95\n"
       ]
      }
     ],
     "prompt_number": 20
    },
    {
     "cell_type": "markdown",
     "metadata": {},
     "source": [
      "\u7b2c06\u5173: <font color=red>channel</font>\n",
      "=========\n",
      "\u6311\u6218\uff1a \u4ece\u538b\u7f29\u5305\u4e2d\uff0c\u627e\u51fa\u6700\u540e\u4e00\u4e2a\u6587\u4ef6\u4fe1\u606f\u3002 \n",
      "\n",
      "\u96be\u70b9\uff1a  ! \u4ecezip\u731c\u5230\u4e0b\u8f7d channel.zip \u6587\u4ef6\uff1b \u4e0d\u77e5\u9053 zip \u5f53\u4e2d\u8fd8\u6709 comments \u4fe1\u606f, \u6253\u51faBANNER\u540e\uff0c\u8fd8\u8981\u770b\u5230\u80cc\u540e\u7684\u5b57\u6bcd\u4fe1\u606f !\n",
      "\n",
      "\u6280\u80fd\u70b9\uff1a * \u7f51\u9875zip\u6587\u4ef6\u8bfb\u53d6\u5230\u5185\u5b58\u4e2d ZipFile(StringoIO(urlopen)), \u8bfb\u53d6zip\u6587\u4ef6\u5185\u5bb9\u4e0e\u5907\u6ce8, zipfile.read(filename), .getinfo(filename)"
     ]
    },
    {
     "cell_type": "code",
     "collapsed": false,
     "input": [
      "# DON'T WORK \u8fd9\u91cc\u6211\u4eec\u5c06zipfile\u89e3\u5f00\u8bfb\u53d6\uff0c \u7ed3\u679c\u4e22\u5931\u4e86\u91cc\u9762\u7684comment\u4fe1\u606f\n",
      "pathprefix = \"channel/\"\n",
      "filepath = pathprefix+\"90052\"+\".txt\"\n",
      "with open(filepath) as f:\n",
      "    content = \"\".join(f.readlines())\n",
      "#content\n",
      "while True:\n",
      "    #print \"content: \", content\n",
      "    if (len(content.split(\" \"))>=4):\n",
      "        newid = content.split(\" \")[-1] #\u53d6\u51fa\u540e\u7f00id\n",
      "        #print \"newid\", newid\n",
      "        filepath = pathprefix+newid+\".txt\" \n",
      "        #print \"get url: \", url\n",
      "        with open(filepath) as f:\n",
      "            content = \"\".join(f.readlines())\n",
      "    else:  #\u5982\u679c\u7f3a\u5c11id\uff0c \u505c\u6b62\n",
      "        print content, filepath,\n",
      "        break"
     ],
     "language": "python",
     "metadata": {},
     "outputs": [
      {
       "output_type": "stream",
       "stream": "stdout",
       "text": [
        "Collect the comments. channel/46145.txt\n"
       ]
      }
     ],
     "prompt_number": 32
    },
    {
     "cell_type": "code",
     "collapsed": false,
     "input": [
      "# \u6362\u4e00\u79cd\u65b9\u6cd5\uff0c \u4e0d\u89e3\u5f00\u76f4\u63a5\u8bfb\u53d6zip\u6587\u4ef6\n",
      "import urllib2, zipfile, StringIO\n",
      "zip_file_url = \"http://www.pythonchallenge.com/pc/def/channel.zip\"\n",
      "\n",
      "from StringIO import StringIO\n",
      "from zipfile import ZipFile\n",
      "from urllib import urlopen\n",
      "\n",
      "url = urlopen(zip_file_url)\n",
      "myzipfile = ZipFile(StringIO(url.read()))"
     ],
     "language": "python",
     "metadata": {},
     "outputs": [],
     "prompt_number": 76
    },
    {
     "cell_type": "code",
     "collapsed": false,
     "input": [
      "import re\n",
      "insidefiles = [filename for filename in myzipfile.namelist()]\n",
      "print \"channel.zip \u5305\u542b\u7684\u6587\u4ef6\", insidefiles[0:5], '...'\n",
      "\n",
      "start_file = \"90052\"+\".txt\"\n",
      "content = myzipfile.read(start_file)\n",
      "usefulfiles=[start_file]\n",
      "while True:\n",
      "    #print \"content: \", content\n",
      "    if (len(content.split(\" \"))>=4):\n",
      "        newid = content.split(\" \")[-1] #\u53d6\u51fa\u540e\u7f00id\n",
      "        #print \"newid\", newid\n",
      "        filepath = newid +\".txt\"\n",
      "        usefulfiles.append(filepath)\n",
      "        #print \"get url: \", url\n",
      "        content = myzipfile.read(newid + \".txt\")\n",
      "    else:  #\u5982\u679c\u7f3a\u5c11id\uff0c \u505c\u6b62\n",
      "        print \"%s [from %s]\" % (content, filepath)\n",
      "        break\n",
      "print \"channel.zip \u6709\u7528\u7684\u6587\u4ef6\", usefulfiles[0:5], '...'    "
     ],
     "language": "python",
     "metadata": {},
     "outputs": [
      {
       "output_type": "stream",
       "stream": "stdout",
       "text": [
        "channel.zip \u5305\u542b\u7684\u6587\u4ef6 ['29.txt', '100.txt', '109.txt', '176.txt', '226.txt'] ...\n",
        "Collect the comments. [from 46145.txt]\n",
        "channel.zip \u6709\u7528\u7684\u6587\u4ef6 ['90052.txt', '94191.txt', '85503.txt', '70877.txt', '15409.txt'] ...\n"
       ]
      }
     ],
     "prompt_number": 98
    },
    {
     "cell_type": "code",
     "collapsed": false,
     "input": [
      "for f in usefulfiles[0:5]:  #\u591a\u4e86\u89e3\u4e00\u4e0b ZipInfo\u5f53\u4e2d\u7684\u4fe1\u606f\n",
      "    info = myzipfile.getinfo(f)\n",
      "    print type(info), info.CRC, info.compress_type, info.date_time, info.filename, info.comment"
     ],
     "language": "python",
     "metadata": {},
     "outputs": [
      {
       "output_type": "stream",
       "stream": "stdout",
       "text": [
        "<class 'zipfile.ZipInfo'> 3984463051 8 (2006, 6, 6, 6, 6, 6) 90052.txt *\n",
        "<class 'zipfile.ZipInfo'> 1348937895 8 (2006, 6, 6, 6, 6, 6) 94191.txt *\n",
        "<class 'zipfile.ZipInfo'> 2770177737 8 (2006, 6, 6, 6, 6, 6) 85503.txt *\n",
        "<class 'zipfile.ZipInfo'> 3160459775 8 (2006, 6, 6, 6, 6, 6) 70877.txt *\n",
        "<class 'zipfile.ZipInfo'> 1823375340 8 (2006, 6, 6, 6, 6, 6) 15409.txt *\n"
       ]
      }
     ],
     "prompt_number": 99
    },
    {
     "cell_type": "code",
     "collapsed": false,
     "input": [
      "for f in usefulfiles:\n",
      "    print myzipfile.getinfo(f).comment,"
     ],
     "language": "python",
     "metadata": {},
     "outputs": [
      {
       "output_type": "stream",
       "stream": "stdout",
       "text": [
        "* * * * * * * * * * * * * * * * * * * * * * * * * * * * * * * * * * * * * * * * * * * * * * * * * * * * * * * * * * * * * * * * \n",
        "* * * * * * * * * * * * * * * * * * * * * * * * * * * * * * * * * * * * * * * * * * * * * * * * * * * * * * * * * * * * * * * * \n",
        "* *                                                                                                                         * * \n",
        "* *       O O         O O         X X             Y Y Y Y         G G         G G     E E E E E E   N N             N N     * * \n",
        "* *       O O         O O     X X X X X X       Y Y Y Y Y Y       G G       G G       E E E E E E     N N         N N       * * \n",
        "* *       O O         O O   X X X     X X X   Y Y Y       Y Y     G G   G G           E E               N N     N N         * * \n",
        "* *       O O O O O O O O   X X         X X   Y Y                 G G G               E E E E E           N N N N           * * \n",
        "* *       O O O O O O O O   X X         X X   Y Y                 G G G               E E E E E             N N             * * \n",
        "* *       O O         O O   X X X     X X X   Y Y Y       Y Y     G G   G G           E E                   N N             * * \n",
        "* *       O O         O O     X X X X X X       Y Y Y Y Y Y       G G       G G       E E E E E E           N N             * * \n",
        "* *       O O         O O         X X             Y Y Y Y         G G         G G     E E E E E E           N N             * * \n",
        "* *                                                                                                                         * * \n",
        "* * * * * * * * * * * * * * * * * * * * * * * * * * * * * * * * * * * * * * * * * * * * * * * * * * * * * * * * * * * * * * * * \n",
        "  * * * * * * * * * * * * * * * * * * * * * * * * * * * * * * * * * * * * * * * * * * * * * * * * * * * * * * * * * * * * * * \n"
       ]
      }
     ],
     "prompt_number": 100
    },
    {
     "cell_type": "markdown",
     "metadata": {},
     "source": [
      "\u7b2c07\u5173: <font color=red>oxygen</font>\n",
      "=========\n",
      "\u6311\u6218\uff1a <\u6350\u94b1>\n",
      "\n",
      "\u96be\u70b9\uff1a  !  \n",
      "\n",
      "\u6280\u80fd\u70b9\uff1a * *"
     ]
    },
    {
     "cell_type": "code",
     "collapsed": false,
     "input": [],
     "language": "python",
     "metadata": {},
     "outputs": []
    }
   ],
   "metadata": {}
  }
 ]
}