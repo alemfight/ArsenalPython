{
 "metadata": {
  "name": ""
 },
 "nbformat": 3,
 "nbformat_minor": 0,
 "worksheets": [
  {
   "cells": [
    {
     "cell_type": "code",
     "collapsed": false,
     "input": [
      "import numpy\n",
      "\n",
      "import scipy\n",
      "\n",
      "import matplotlib\n",
      "\n",
      "import sklearn\n",
      "\n"
     ],
     "language": "python",
     "metadata": {},
     "outputs": [],
     "prompt_number": 2
    },
    {
     "cell_type": "code",
     "collapsed": false,
     "input": [
      "print(numpy.version)\n",
      "\n",
      "print(scipy.version)\n",
      "\n",
      "#print(matplotlib.version)\n",
      "\n",
      "#print(sklearn.version)"
     ],
     "language": "python",
     "metadata": {},
     "outputs": [
      {
       "output_type": "stream",
       "stream": "stdout",
       "text": [
        "<module 'numpy.version' from '//anaconda/lib/python2.7/site-packages/numpy/version.pyc'>\n",
        "<module 'scipy.version' from '//anaconda/lib/python2.7/site-packages/scipy/version.pyc'>\n"
       ]
      }
     ],
     "prompt_number": 7
    },
    {
     "cell_type": "code",
     "collapsed": false,
     "input": [],
     "language": "python",
     "metadata": {},
     "outputs": []
    }
   ],
   "metadata": {}
  }
 ]
}